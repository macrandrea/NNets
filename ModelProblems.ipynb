{
 "cells": [
  {
   "cell_type": "code",
   "execution_count": 1,
   "metadata": {},
   "outputs": [
    {
     "name": "stdout",
     "output_type": "stream",
     "text": [
      "WARNING:tensorflow:Please fix your imports. Module tensorflow.python.training.tracking.autotrackable has been moved to tensorflow.python.trackable.autotrackable. The old module will be deleted in version 2.11.\n",
      "WARNING:tensorflow:Please fix your imports. Module tensorflow.python.training.tracking.base has been moved to tensorflow.python.trackable.base. The old module will be deleted in version 2.11.\n",
      "WARNING:tensorflow:Please fix your imports. Module tensorflow.python.training.tracking.base_delegate has been moved to tensorflow.python.trackable.base_delegate. The old module will be deleted in version 2.11.\n",
      "WARNING:tensorflow:Please fix your imports. Module tensorflow.python.training.tracking.data_structures has been moved to tensorflow.python.trackable.data_structures. The old module will be deleted in version 2.11.\n",
      "WARNING:tensorflow:Please fix your imports. Module tensorflow.python.training.tracking.graph_view has been moved to tensorflow.python.checkpoint.graph_view. The old module will be deleted in version 2.11.\n",
      "WARNING:tensorflow:Please fix your imports. Module tensorflow.python.training.tracking.util has been moved to tensorflow.python.checkpoint.checkpoint. The old module will be deleted in version 2.11.\n",
      "WARNING:tensorflow:Please fix your imports. Module tensorflow.python.training.checkpoint_management has been moved to tensorflow.python.checkpoint.checkpoint_management. The old module will be deleted in version 2.9.\n",
      "WARNING:tensorflow:Please fix your imports. Module tensorflow.python.training.tracking.resource has been moved to tensorflow.python.trackable.resource. The old module will be deleted in version 2.11.\n",
      "WARNING:tensorflow:Please fix your imports. Module tensorflow.python.training.tracking.asset has been moved to tensorflow.python.trackable.asset. The old module will be deleted in version 2.11.\n",
      "WARNING:tensorflow:Please fix your imports. Module tensorflow.python.training.tracking.python_state has been moved to tensorflow.python.trackable.python_state. The old module will be deleted in version 2.11.\n",
      "WARNING:tensorflow:Please fix your imports. Module tensorflow.python.training.saving.checkpoint_options has been moved to tensorflow.python.checkpoint.checkpoint_options. The old module will be deleted in version 2.11.\n",
      "WARNING:tensorflow:From C:\\Users\\macri\\AppData\\Local\\Temp\\ipykernel_25168\\1576098148.py:62: The name tf.keras.backend.set_session is deprecated. Please use tf.compat.v1.keras.backend.set_session instead.\n",
      "\n"
     ]
    }
   ],
   "source": [
    "import os; import pandas as pd; import numpy  as np\n",
    "from pandas.tseries.offsets import *\n",
    "import statsmodels.formula.api as smf\n",
    "from glob import glob\n",
    "from datetime import datetime\n",
    "import matplotlib.pyplot as plt\n",
    "\n",
    "import tensorflow\n",
    "from tensorflow.keras import Sequential\n",
    "from tensorflow.keras.layers import Dense, Dropout\n",
    "from tensorflow.keras.layers import LeakyReLU\n",
    "from tensorflow.keras import backend as K\n",
    "from tensorflow.keras.utils import to_categorical\n",
    "from tensorflow.keras.callbacks import EarlyStopping, ModelCheckpoint, ReduceLROnPlateau\n",
    "\n",
    "from IPython.display import IFrame\n",
    "def swish(x): return (K.sigmoid(x) * x)\n",
    "\n",
    "import seaborn as sns\n",
    "sns.set(style='white', font_scale=1.3, rc={\n",
    "    'lines.linewidth': 4,\n",
    "    'axes.grid': True, 'grid.linestyle': ':',\n",
    "    'axes.spines.left': True,\n",
    "    'axes.spines.bottom': True,\n",
    "    'axes.spines.right': True,\n",
    "    'axes.spines.top': True,\n",
    "    'axes.edgecolor': '.5',\n",
    "})\n",
    "# load packages\n",
    "import pandas as pd\n",
    "import pickle\n",
    "import numpy as np\n",
    "import keras\n",
    "from keras import backend as K\n",
    "from keras.models import load_model, Model\n",
    "from keras.layers import Flatten, Dense, Dropout, Activation, Input, LSTM, Reshape, Conv2D, MaxPooling2D\n",
    "from keras.optimizers import Adam\n",
    "from keras import Input, layers\n",
    "from keras.layers import LeakyReLU\n",
    "#from keras.layers.advanced_activations import LeakyReLU\n",
    "from keras.utils import np_utils\n",
    "\n",
    "from sklearn.metrics import classification_report, accuracy_score\n",
    "import matplotlib.pyplot as plt\n",
    "\n",
    "# set random seeds\n",
    "np.random.seed(1)\n",
    "tensorflow.random.set_seed(2)\n",
    "# Set the Random Seed\n",
    "import random\n",
    "\n",
    "\n",
    "seed_value = 2020\n",
    "\n",
    "os.environ['PYTHONHASHSEED']=str(seed_value)\n",
    "random.seed(seed_value)\n",
    "np.random.seed(seed_value)\n",
    "tensorflow.random.set_seed(seed_value)\n",
    "\n",
    "session_conf = tensorflow.compat.v1.ConfigProto(intra_op_parallelism_threads=1, inter_op_parallelism_threads=1)\n",
    "sess = tensorflow.compat.v1.Session(graph=tensorflow.compat.v1.get_default_graph(), config=session_conf)\n",
    "tensorflow.compat.v1.keras.backend.set_session(sess)\n",
    "from keras.utils import np_utils\n"
   ]
  },
  {
   "cell_type": "code",
   "execution_count": 2,
   "metadata": {},
   "outputs": [],
   "source": [
    "#utils functions\n",
    "def midPrice(lob_data):\n",
    "    a=lob_data['AP1'].values.tolist()\n",
    "    b=lob_data['BP1'].values.tolist()\n",
    "    m=np.zeros(len(a))\n",
    "    for i in range(len(a)):\n",
    "        m[i]=(a[i]+b[i])/2\n",
    "    return m\n",
    "def upDown(m):\n",
    "    u_d=np.zeros(len(a))\n",
    "    for i in range(1,len(a)):\n",
    "        if m[i-1]>m[i]:#scende il prezzo\n",
    "            u_d[i-1]=-1\n",
    "        elif m[i-1]<m[i]:#sale il prezzo\n",
    "            u_d[i-1]=1\n",
    "        else:\n",
    "            u_d[i-1]=0\n",
    "    return u_d\n",
    "\n",
    "def ret(m):\n",
    "    r=np.zeros(len(m))\n",
    "    for i in range(1,len(m)):\n",
    "        r[i]=m[i-1]-m[i]\n",
    "    return r\n",
    "\n",
    "def deltaT(m):\n",
    "    N=0\n",
    "    d=np.zeros(len(m))\n",
    "    for i in range(1,len(m)):\n",
    "        d[i]=m[i-1]-m[i]\n",
    "        if [i]!=0:\n",
    "            N+=1\n",
    "    return int((2.34*10**7)/N)\n",
    "\n",
    "def doHk(deltT,k):\n",
    "    hk=np.zeros(k)\n",
    "    for i in range(k):\n",
    "        hk[i]=np.int16((1/5)*i*deltT)\n",
    "    return hk\n",
    "\n",
    "def retHk(m,hk):\n",
    "    ret=np.zeros(100)\n",
    "    for i,k in zip(range(len(m)),hk):\n",
    "        ret[i]=m[i+k]-m[i]\n",
    "    return ret\n",
    "\n",
    "def OF_1(ld):\n",
    "    of=np.zeros((len(ld),6))\n",
    "    for i,ii in zip(range(1,12,2),range(0,6,2)): #giro sui prezzi ask e volumi ask di conseguenza\n",
    "        for j in range(1,len(ld)): #giro sulle righe\n",
    "            #ask\n",
    "            if ld[j][i-1]>ld[j-1][i-1]: #p_t>p_t-1\n",
    "                of[j-1][ii]=-1*ld[j][i]\n",
    "            elif ld[j][i-1]<ld[j-1][i-1]: #p_t<p_t-1\n",
    "                of[j-1][ii]=ld[j][i]\n",
    "            elif ld[j][i-1]==ld[j-1][i-1]: #p_t=p_t-1\n",
    "                of[j-1][ii]=ld[j][i]-ld[j-1][i]\n",
    "    for w,ww in zip(range(3,12,4),range(1,7,2)):\n",
    "        for jj in range(1,len(ld)):    \n",
    "            #bid\n",
    "            if ld[jj][w-1]>ld[jj-1][w-1]: #p_t>p_t-1\n",
    "                of[jj-1][ww]=ld[jj][w]\n",
    "            elif ld[jj][w-1]<ld[jj-1][w-1]: #p_t<p_t-1\n",
    "                of[jj-1][ww]=-1*ld[jj][w]\n",
    "            elif ld[jj][w-1]==ld[jj-1][w-1]: #p_t=p_t-1\n",
    "                of[jj-1][ww]=ld[jj][w]-ld[jj-1][w]\n",
    "    return of"
   ]
  },
  {
   "cell_type": "code",
   "execution_count": 3,
   "metadata": {},
   "outputs": [
    {
     "data": {
      "text/html": [
       "<div>\n",
       "<style scoped>\n",
       "    .dataframe tbody tr th:only-of-type {\n",
       "        vertical-align: middle;\n",
       "    }\n",
       "\n",
       "    .dataframe tbody tr th {\n",
       "        vertical-align: top;\n",
       "    }\n",
       "\n",
       "    .dataframe thead th {\n",
       "        text-align: right;\n",
       "    }\n",
       "</style>\n",
       "<table border=\"1\" class=\"dataframe\">\n",
       "  <thead>\n",
       "    <tr style=\"text-align: right;\">\n",
       "      <th></th>\n",
       "      <th>AP1</th>\n",
       "      <th>AV1</th>\n",
       "      <th>BP1</th>\n",
       "      <th>BV1</th>\n",
       "      <th>AP2</th>\n",
       "      <th>AV2</th>\n",
       "      <th>BP2</th>\n",
       "      <th>BV2</th>\n",
       "      <th>AP3</th>\n",
       "      <th>AV3</th>\n",
       "      <th>BP3</th>\n",
       "      <th>BV3</th>\n",
       "    </tr>\n",
       "  </thead>\n",
       "  <tbody>\n",
       "    <tr>\n",
       "      <th>0</th>\n",
       "      <td>90.48</td>\n",
       "      <td>4315</td>\n",
       "      <td>90.44</td>\n",
       "      <td>374</td>\n",
       "      <td>90.52</td>\n",
       "      <td>100</td>\n",
       "      <td>90.40</td>\n",
       "      <td>50</td>\n",
       "      <td>90.53</td>\n",
       "      <td>1730</td>\n",
       "      <td>90.35</td>\n",
       "      <td>100</td>\n",
       "    </tr>\n",
       "    <tr>\n",
       "      <th>1</th>\n",
       "      <td>90.48</td>\n",
       "      <td>4004</td>\n",
       "      <td>90.44</td>\n",
       "      <td>374</td>\n",
       "      <td>90.52</td>\n",
       "      <td>100</td>\n",
       "      <td>90.40</td>\n",
       "      <td>50</td>\n",
       "      <td>90.53</td>\n",
       "      <td>1730</td>\n",
       "      <td>90.35</td>\n",
       "      <td>100</td>\n",
       "    </tr>\n",
       "    <tr>\n",
       "      <th>2</th>\n",
       "      <td>90.48</td>\n",
       "      <td>4004</td>\n",
       "      <td>90.44</td>\n",
       "      <td>374</td>\n",
       "      <td>90.52</td>\n",
       "      <td>100</td>\n",
       "      <td>90.40</td>\n",
       "      <td>50</td>\n",
       "      <td>90.53</td>\n",
       "      <td>1730</td>\n",
       "      <td>90.35</td>\n",
       "      <td>100</td>\n",
       "    </tr>\n",
       "    <tr>\n",
       "      <th>3</th>\n",
       "      <td>90.48</td>\n",
       "      <td>4004</td>\n",
       "      <td>90.44</td>\n",
       "      <td>374</td>\n",
       "      <td>90.52</td>\n",
       "      <td>100</td>\n",
       "      <td>90.40</td>\n",
       "      <td>50</td>\n",
       "      <td>90.53</td>\n",
       "      <td>1730</td>\n",
       "      <td>90.35</td>\n",
       "      <td>100</td>\n",
       "    </tr>\n",
       "    <tr>\n",
       "      <th>4</th>\n",
       "      <td>90.48</td>\n",
       "      <td>4004</td>\n",
       "      <td>90.44</td>\n",
       "      <td>374</td>\n",
       "      <td>90.52</td>\n",
       "      <td>100</td>\n",
       "      <td>90.40</td>\n",
       "      <td>50</td>\n",
       "      <td>90.53</td>\n",
       "      <td>2825</td>\n",
       "      <td>90.35</td>\n",
       "      <td>100</td>\n",
       "    </tr>\n",
       "    <tr>\n",
       "      <th>...</th>\n",
       "      <td>...</td>\n",
       "      <td>...</td>\n",
       "      <td>...</td>\n",
       "      <td>...</td>\n",
       "      <td>...</td>\n",
       "      <td>...</td>\n",
       "      <td>...</td>\n",
       "      <td>...</td>\n",
       "      <td>...</td>\n",
       "      <td>...</td>\n",
       "      <td>...</td>\n",
       "      <td>...</td>\n",
       "    </tr>\n",
       "    <tr>\n",
       "      <th>104852</th>\n",
       "      <td>89.56</td>\n",
       "      <td>137</td>\n",
       "      <td>89.53</td>\n",
       "      <td>434</td>\n",
       "      <td>89.57</td>\n",
       "      <td>105</td>\n",
       "      <td>89.52</td>\n",
       "      <td>234</td>\n",
       "      <td>89.58</td>\n",
       "      <td>137</td>\n",
       "      <td>89.51</td>\n",
       "      <td>344</td>\n",
       "    </tr>\n",
       "    <tr>\n",
       "      <th>104853</th>\n",
       "      <td>89.56</td>\n",
       "      <td>126</td>\n",
       "      <td>89.54</td>\n",
       "      <td>244</td>\n",
       "      <td>89.57</td>\n",
       "      <td>105</td>\n",
       "      <td>89.53</td>\n",
       "      <td>334</td>\n",
       "      <td>89.58</td>\n",
       "      <td>137</td>\n",
       "      <td>89.52</td>\n",
       "      <td>234</td>\n",
       "    </tr>\n",
       "    <tr>\n",
       "      <th>104854</th>\n",
       "      <td>89.56</td>\n",
       "      <td>105</td>\n",
       "      <td>89.54</td>\n",
       "      <td>244</td>\n",
       "      <td>89.57</td>\n",
       "      <td>105</td>\n",
       "      <td>89.53</td>\n",
       "      <td>334</td>\n",
       "      <td>89.58</td>\n",
       "      <td>137</td>\n",
       "      <td>89.52</td>\n",
       "      <td>234</td>\n",
       "    </tr>\n",
       "    <tr>\n",
       "      <th>104855</th>\n",
       "      <td>89.56</td>\n",
       "      <td>5</td>\n",
       "      <td>89.54</td>\n",
       "      <td>244</td>\n",
       "      <td>89.57</td>\n",
       "      <td>105</td>\n",
       "      <td>89.53</td>\n",
       "      <td>334</td>\n",
       "      <td>89.58</td>\n",
       "      <td>137</td>\n",
       "      <td>89.52</td>\n",
       "      <td>234</td>\n",
       "    </tr>\n",
       "    <tr>\n",
       "      <th>104856</th>\n",
       "      <td>89.57</td>\n",
       "      <td>105</td>\n",
       "      <td>89.54</td>\n",
       "      <td>244</td>\n",
       "      <td>89.58</td>\n",
       "      <td>137</td>\n",
       "      <td>89.53</td>\n",
       "      <td>334</td>\n",
       "      <td>89.59</td>\n",
       "      <td>223</td>\n",
       "      <td>89.52</td>\n",
       "      <td>234</td>\n",
       "    </tr>\n",
       "  </tbody>\n",
       "</table>\n",
       "<p>104857 rows × 12 columns</p>\n",
       "</div>"
      ],
      "text/plain": [
       "          AP1   AV1    BP1  BV1    AP2  AV2    BP2  BV2    AP3   AV3    BP3  \\\n",
       "0       90.48  4315  90.44  374  90.52  100  90.40   50  90.53  1730  90.35   \n",
       "1       90.48  4004  90.44  374  90.52  100  90.40   50  90.53  1730  90.35   \n",
       "2       90.48  4004  90.44  374  90.52  100  90.40   50  90.53  1730  90.35   \n",
       "3       90.48  4004  90.44  374  90.52  100  90.40   50  90.53  1730  90.35   \n",
       "4       90.48  4004  90.44  374  90.52  100  90.40   50  90.53  2825  90.35   \n",
       "...       ...   ...    ...  ...    ...  ...    ...  ...    ...   ...    ...   \n",
       "104852  89.56   137  89.53  434  89.57  105  89.52  234  89.58   137  89.51   \n",
       "104853  89.56   126  89.54  244  89.57  105  89.53  334  89.58   137  89.52   \n",
       "104854  89.56   105  89.54  244  89.57  105  89.53  334  89.58   137  89.52   \n",
       "104855  89.56     5  89.54  244  89.57  105  89.53  334  89.58   137  89.52   \n",
       "104856  89.57   105  89.54  244  89.58  137  89.53  334  89.59   223  89.52   \n",
       "\n",
       "        BV3  \n",
       "0       100  \n",
       "1       100  \n",
       "2       100  \n",
       "3       100  \n",
       "4       100  \n",
       "...     ...  \n",
       "104852  344  \n",
       "104853  234  \n",
       "104854  234  \n",
       "104855  234  \n",
       "104856  234  \n",
       "\n",
       "[104857 rows x 12 columns]"
      ]
     },
     "execution_count": 3,
     "metadata": {},
     "output_type": "execute_result"
    }
   ],
   "source": [
    "lob_data=pd.read_csv('/Users/macri/Desktop/out_1.csv')#legge il LOB\n",
    "lob_data.reset_index(drop=True,inplace=True)\n",
    "lob_data.drop(['index'], axis=1,inplace=True)\n",
    "C= int(len(lob_data)*0.1) #per ragioni di spazio/efficienza nei test ne prende solo il 10%\n",
    "b=lob_data.iloc[ :C].copy()\n",
    "ld=b.values.tolist()\n",
    "lob_data=b\n",
    "b"
   ]
  },
  {
   "cell_type": "code",
   "execution_count": 4,
   "metadata": {},
   "outputs": [
    {
     "data": {
      "text/html": [
       "<div>\n",
       "<style scoped>\n",
       "    .dataframe tbody tr th:only-of-type {\n",
       "        vertical-align: middle;\n",
       "    }\n",
       "\n",
       "    .dataframe tbody tr th {\n",
       "        vertical-align: top;\n",
       "    }\n",
       "\n",
       "    .dataframe thead th {\n",
       "        text-align: right;\n",
       "    }\n",
       "</style>\n",
       "<table border=\"1\" class=\"dataframe\">\n",
       "  <thead>\n",
       "    <tr style=\"text-align: right;\">\n",
       "      <th></th>\n",
       "      <th>aOF_1</th>\n",
       "      <th>bOF_1</th>\n",
       "      <th>aOF_2</th>\n",
       "      <th>bOF_2</th>\n",
       "      <th>aOF_3</th>\n",
       "      <th>bOF_3</th>\n",
       "    </tr>\n",
       "  </thead>\n",
       "  <tbody>\n",
       "    <tr>\n",
       "      <th>0</th>\n",
       "      <td>-311.0</td>\n",
       "      <td>0.0</td>\n",
       "      <td>0.0</td>\n",
       "      <td>0.0</td>\n",
       "      <td>0.0</td>\n",
       "      <td>0.0</td>\n",
       "    </tr>\n",
       "    <tr>\n",
       "      <th>1</th>\n",
       "      <td>0.0</td>\n",
       "      <td>0.0</td>\n",
       "      <td>0.0</td>\n",
       "      <td>0.0</td>\n",
       "      <td>0.0</td>\n",
       "      <td>0.0</td>\n",
       "    </tr>\n",
       "    <tr>\n",
       "      <th>2</th>\n",
       "      <td>0.0</td>\n",
       "      <td>0.0</td>\n",
       "      <td>0.0</td>\n",
       "      <td>0.0</td>\n",
       "      <td>0.0</td>\n",
       "      <td>0.0</td>\n",
       "    </tr>\n",
       "    <tr>\n",
       "      <th>3</th>\n",
       "      <td>0.0</td>\n",
       "      <td>0.0</td>\n",
       "      <td>0.0</td>\n",
       "      <td>0.0</td>\n",
       "      <td>0.0</td>\n",
       "      <td>0.0</td>\n",
       "    </tr>\n",
       "    <tr>\n",
       "      <th>4</th>\n",
       "      <td>-100.0</td>\n",
       "      <td>0.0</td>\n",
       "      <td>0.0</td>\n",
       "      <td>0.0</td>\n",
       "      <td>0.0</td>\n",
       "      <td>0.0</td>\n",
       "    </tr>\n",
       "    <tr>\n",
       "      <th>...</th>\n",
       "      <td>...</td>\n",
       "      <td>...</td>\n",
       "      <td>...</td>\n",
       "      <td>...</td>\n",
       "      <td>...</td>\n",
       "      <td>...</td>\n",
       "    </tr>\n",
       "    <tr>\n",
       "      <th>104852</th>\n",
       "      <td>-11.0</td>\n",
       "      <td>244.0</td>\n",
       "      <td>-244.0</td>\n",
       "      <td>334.0</td>\n",
       "      <td>0.0</td>\n",
       "      <td>234.0</td>\n",
       "    </tr>\n",
       "    <tr>\n",
       "      <th>104853</th>\n",
       "      <td>-21.0</td>\n",
       "      <td>0.0</td>\n",
       "      <td>0.0</td>\n",
       "      <td>0.0</td>\n",
       "      <td>0.0</td>\n",
       "      <td>0.0</td>\n",
       "    </tr>\n",
       "    <tr>\n",
       "      <th>104854</th>\n",
       "      <td>-100.0</td>\n",
       "      <td>0.0</td>\n",
       "      <td>0.0</td>\n",
       "      <td>0.0</td>\n",
       "      <td>0.0</td>\n",
       "      <td>0.0</td>\n",
       "    </tr>\n",
       "    <tr>\n",
       "      <th>104855</th>\n",
       "      <td>-105.0</td>\n",
       "      <td>0.0</td>\n",
       "      <td>0.0</td>\n",
       "      <td>0.0</td>\n",
       "      <td>-137.0</td>\n",
       "      <td>0.0</td>\n",
       "    </tr>\n",
       "    <tr>\n",
       "      <th>104856</th>\n",
       "      <td>0.0</td>\n",
       "      <td>0.0</td>\n",
       "      <td>0.0</td>\n",
       "      <td>0.0</td>\n",
       "      <td>0.0</td>\n",
       "      <td>0.0</td>\n",
       "    </tr>\n",
       "  </tbody>\n",
       "</table>\n",
       "<p>104857 rows × 6 columns</p>\n",
       "</div>"
      ],
      "text/plain": [
       "        aOF_1  bOF_1  aOF_2  bOF_2  aOF_3  bOF_3\n",
       "0      -311.0    0.0    0.0    0.0    0.0    0.0\n",
       "1         0.0    0.0    0.0    0.0    0.0    0.0\n",
       "2         0.0    0.0    0.0    0.0    0.0    0.0\n",
       "3         0.0    0.0    0.0    0.0    0.0    0.0\n",
       "4      -100.0    0.0    0.0    0.0    0.0    0.0\n",
       "...       ...    ...    ...    ...    ...    ...\n",
       "104852  -11.0  244.0 -244.0  334.0    0.0  234.0\n",
       "104853  -21.0    0.0    0.0    0.0    0.0    0.0\n",
       "104854 -100.0    0.0    0.0    0.0    0.0    0.0\n",
       "104855 -105.0    0.0    0.0    0.0 -137.0    0.0\n",
       "104856    0.0    0.0    0.0    0.0    0.0    0.0\n",
       "\n",
       "[104857 rows x 6 columns]"
      ]
     },
     "execution_count": 4,
     "metadata": {},
     "output_type": "execute_result"
    }
   ],
   "source": [
    "ld=lob_data.values.tolist()\n",
    "aa=OF_1(ld) #fa Order Flow\n",
    "bCols=np.ravel([['aOF_%d'%level, 'bOF_%d'%level] for level in [1,2,3]])\n",
    "of_data=pd.DataFrame(aa, columns=bCols)\n",
    "of_data"
   ]
  },
  {
   "cell_type": "code",
   "execution_count": 39,
   "metadata": {},
   "outputs": [],
   "source": [
    "m=pd.DataFrame(midPrice(lob_data),columns=['m'])#.pct_change()\n",
    "m['d']=m['m'].diff()\n",
    "#m.dropna(inplace=True)\n",
    "of_data['d']=m['m'].pct_change()\n",
    "of_data.dropna(inplace=True)"
   ]
  },
  {
   "cell_type": "code",
   "execution_count": 40,
   "metadata": {},
   "outputs": [
    {
     "data": {
      "text/plain": [
       "<AxesSubplot:>"
      ]
     },
     "execution_count": 40,
     "metadata": {},
     "output_type": "execute_result"
    },
    {
     "data": {
      "image/png": "[encoded data removed]",
      "text/plain": [
       "<Figure size 432x288 with 1 Axes>"
      ]
     },
     "metadata": {},
     "output_type": "display_data"
    }
   ],
   "source": [
    "of_data['d'].plot()"
   ]
  },
  {
   "cell_type": "code",
   "execution_count": 41,
   "metadata": {},
   "outputs": [
    {
     "data": {
      "text/plain": [
       "array([[<AxesSubplot:title={'center':'aOF_1'}>,\n",
       "        <AxesSubplot:title={'center':'bOF_1'}>,\n",
       "        <AxesSubplot:title={'center':'aOF_2'}>],\n",
       "       [<AxesSubplot:title={'center':'bOF_2'}>,\n",
       "        <AxesSubplot:title={'center':'aOF_3'}>,\n",
       "        <AxesSubplot:title={'center':'bOF_3'}>],\n",
       "       [<AxesSubplot:title={'center':'d'}>, <AxesSubplot:>,\n",
       "        <AxesSubplot:>]], dtype=object)"
      ]
     },
     "execution_count": 41,
     "metadata": {},
     "output_type": "execute_result"
    },
    {
     "data": {
      "image/png": "[encoded data removed]",
      "text/plain": [
       "<Figure size 432x288 with 9 Axes>"
      ]
     },
     "metadata": {},
     "output_type": "display_data"
    }
   ],
   "source": [
    "x = of_data\n",
    "UPPERBOUND, LOWERBOUND = np.percentile(x, [1,99])\n",
    "y = np.clip(x, UPPERBOUND, LOWERBOUND)\n",
    "pd.DataFrame(y).hist()"
   ]
  },
  {
   "cell_type": "code",
   "execution_count": 42,
   "metadata": {},
   "outputs": [
    {
     "data": {
      "text/plain": [
       "array([[<AxesSubplot:title={'center':'bOF1'}>,\n",
       "        <AxesSubplot:title={'center':'aOF1'}>,\n",
       "        <AxesSubplot:title={'center':'bOF2'}>],\n",
       "       [<AxesSubplot:title={'center':'aOF2'}>,\n",
       "        <AxesSubplot:title={'center':'bOF3'}>,\n",
       "        <AxesSubplot:title={'center':'aOF3'}>],\n",
       "       [<AxesSubplot:title={'center':'r'}>, <AxesSubplot:>,\n",
       "        <AxesSubplot:>]], dtype=object)"
      ]
     },
     "execution_count": 42,
     "metadata": {},
     "output_type": "execute_result"
    },
    {
     "data": {
      "image/png": "[encoded data removed]",
      "text/plain": [
       "<Figure size 432x288 with 9 Axes>"
      ]
     },
     "metadata": {},
     "output_type": "display_data"
    }
   ],
   "source": [
    "from sklearn.preprocessing import MinMaxScaler\n",
    "from sklearn.preprocessing import QuantileTransformer \n",
    "normalizer = QuantileTransformer(output_distribution='normal')\n",
    "scaled = normalizer.fit_transform(x)\n",
    "oflo=pd.DataFrame(scaled,columns=['bOF1','aOF1','bOF2','aOF2','bOF3','aOF3','r'])\n",
    "oflo.hist()"
   ]
  },
  {
   "cell_type": "code",
   "execution_count": 43,
   "metadata": {},
   "outputs": [
    {
     "data": {
      "text/plain": [
       "array([[0.02132929],\n",
       "       [0.02132929],\n",
       "       [0.02132929],\n",
       "       ...,\n",
       "       [0.02132929],\n",
       "       [0.02132929],\n",
       "       [0.85845596]])"
      ]
     },
     "execution_count": 43,
     "metadata": {},
     "output_type": "execute_result"
    }
   ],
   "source": [
    "norm=QuantileTransformer(output_distribution='normal')\n",
    "sc = norm.fit_transform(of_data['d'].values.reshape(-1,1))"
   ]
  },
  {
   "cell_type": "code",
   "execution_count": 44,
   "metadata": {},
   "outputs": [],
   "source": [
    "def format_data(data, lag=100, dimension=6):\n",
    "    data = data.values\n",
    "    shape = data.shape\n",
    "    X = np.zeros((shape[0]-lag, lag, dimension))\n",
    "    Y = np.zeros((shape[0]-lag, 10)) # 10 for the number of forecasting horizons\n",
    "    for i in range(shape[0]-lag):\n",
    "        X[i] = data[i:i+lag, :dimension] # take the variables' columns as features x\n",
    "        Y[i] = data[i+lag-1, -1:] # take the last column as y\n",
    "    X = X.reshape(X.shape[0], lag, dimension, 1)\n",
    "    Y = Y.reshape(Y.shape[0],10)\n",
    "    return X,Y"
   ]
  },
  {
   "cell_type": "code",
   "execution_count": 45,
   "metadata": {},
   "outputs": [
    {
     "name": "stdout",
     "output_type": "stream",
     "text": [
      "(10485, 100, 6, 1) (10485, 10)\n",
      "(31457, 100, 6, 1) (31457, 10)\n",
      "(62814, 100, 6, 1) (62814, 10)\n"
     ]
    }
   ],
   "source": [
    "data=format_data(oflo)\n",
    "X,Y=data\n",
    "n_hiddens=64\n",
    "V = int(len(oflo)*0.1)\n",
    "Z = int(len(oflo)*0.4)\n",
    "trainX_CNN, trainY_CNN = X[:V], Y[:V]\n",
    "valX_CNN, valY_CNN     = X[V:Z], Y[V:Z]\n",
    "testX_CNN,testY_CNN    = X[Z:], Y[Z:]\n",
    "print(trainX_CNN.shape, trainY_CNN.shape)\n",
    "print(valX_CNN.shape, valY_CNN.shape)\n",
    "print(testX_CNN.shape, testY_CNN.shape)"
   ]
  },
  {
   "cell_type": "code",
   "execution_count": 46,
   "metadata": {},
   "outputs": [
    {
     "name": "stdout",
     "output_type": "stream",
     "text": [
      "Model: \"model_1\"\n",
      "__________________________________________________________________________________________________\n",
      " Layer (type)                   Output Shape         Param #     Connected to                     \n",
      "==================================================================================================\n",
      " input_2 (InputLayer)           [(None, 100, 6, 1)]  0           []                               \n",
      "                                                                                                  \n",
      " conv2d_9 (Conv2D)              (None, 100, 3, 32)   96          ['input_2[0][0]']                \n",
      "                                                                                                  \n",
      " leaky_re_lu_9 (LeakyReLU)      (None, 100, 3, 32)   0           ['conv2d_9[0][0]']               \n",
      "                                                                                                  \n",
      " conv2d_10 (Conv2D)             (None, 100, 3, 32)   4128        ['leaky_re_lu_9[0][0]']          \n",
      "                                                                                                  \n",
      " leaky_re_lu_10 (LeakyReLU)     (None, 100, 3, 32)   0           ['conv2d_10[0][0]']              \n",
      "                                                                                                  \n",
      " conv2d_11 (Conv2D)             (None, 100, 3, 32)   4128        ['leaky_re_lu_10[0][0]']         \n",
      "                                                                                                  \n",
      " leaky_re_lu_11 (LeakyReLU)     (None, 100, 3, 32)   0           ['conv2d_11[0][0]']              \n",
      "                                                                                                  \n",
      " conv2d_12 (Conv2D)             (None, 100, 1, 32)   10272       ['leaky_re_lu_11[0][0]']         \n",
      "                                                                                                  \n",
      " leaky_re_lu_12 (LeakyReLU)     (None, 100, 1, 32)   0           ['conv2d_12[0][0]']              \n",
      "                                                                                                  \n",
      " conv2d_13 (Conv2D)             (None, 100, 1, 64)   2112        ['leaky_re_lu_12[0][0]']         \n",
      "                                                                                                  \n",
      " conv2d_15 (Conv2D)             (None, 100, 1, 64)   2112        ['leaky_re_lu_12[0][0]']         \n",
      "                                                                                                  \n",
      " leaky_re_lu_13 (LeakyReLU)     (None, 100, 1, 64)   0           ['conv2d_13[0][0]']              \n",
      "                                                                                                  \n",
      " leaky_re_lu_15 (LeakyReLU)     (None, 100, 1, 64)   0           ['conv2d_15[0][0]']              \n",
      "                                                                                                  \n",
      " max_pooling2d_1 (MaxPooling2D)  (None, 100, 1, 32)  0           ['leaky_re_lu_12[0][0]']         \n",
      "                                                                                                  \n",
      " conv2d_14 (Conv2D)             (None, 100, 1, 64)   12352       ['leaky_re_lu_13[0][0]']         \n",
      "                                                                                                  \n",
      " conv2d_16 (Conv2D)             (None, 100, 1, 64)   20544       ['leaky_re_lu_15[0][0]']         \n",
      "                                                                                                  \n",
      " conv2d_17 (Conv2D)             (None, 100, 1, 64)   2112        ['max_pooling2d_1[0][0]']        \n",
      "                                                                                                  \n",
      " leaky_re_lu_14 (LeakyReLU)     (None, 100, 1, 64)   0           ['conv2d_14[0][0]']              \n",
      "                                                                                                  \n",
      " leaky_re_lu_16 (LeakyReLU)     (None, 100, 1, 64)   0           ['conv2d_16[0][0]']              \n",
      "                                                                                                  \n",
      " leaky_re_lu_17 (LeakyReLU)     (None, 100, 1, 64)   0           ['conv2d_17[0][0]']              \n",
      "                                                                                                  \n",
      " concatenate_1 (Concatenate)    (None, 100, 1, 192)  0           ['leaky_re_lu_14[0][0]',         \n",
      "                                                                  'leaky_re_lu_16[0][0]',         \n",
      "                                                                  'leaky_re_lu_17[0][0]']         \n",
      "                                                                                                  \n",
      " reshape_1 (Reshape)            (None, 100, 192)     0           ['concatenate_1[0][0]']          \n",
      "                                                                                                  \n",
      " dropout_1 (Dropout)            (None, 100, 192)     0           ['reshape_1[0][0]']              \n",
      "                                                                                                  \n",
      " lstm_1 (LSTM)                  (None, 64)           65792       ['dropout_1[0][0]']              \n",
      "                                                                                                  \n",
      " dense_1 (Dense)                (None, 1)            65          ['lstm_1[0][0]']                 \n",
      "                                                                                                  \n",
      "==================================================================================================\n",
      "Total params: 123,713\n",
      "Trainable params: 123,713\n",
      "Non-trainable params: 0\n",
      "__________________________________________________________________________________________________\n"
     ]
    }
   ],
   "source": [
    "def create_nn(T, NF,number_of_lstm):\n",
    "\n",
    "    input_lmd = tensorflow.keras.Input(shape=(T, NF, 1))\n",
    "\n",
    "    conv_first1 = Conv2D(32, kernel_size=(1, 2), strides=(1, 2))(input_lmd)\n",
    "    conv_first1 = keras.layers.LeakyReLU(alpha=0.01)(conv_first1)\n",
    "    conv_first1 = Conv2D(32, (4, 1), padding='same')(conv_first1)\n",
    "    conv_first1 = keras.layers.LeakyReLU(alpha=0.01)(conv_first1)\n",
    "    conv_first1 = Conv2D(32, (4, 1), padding='same')(conv_first1)\n",
    "    conv_first1 = keras.layers.LeakyReLU(alpha=0.01)(conv_first1)\n",
    "    #\n",
    "    layer_x = layers.Conv2D(filters=32, kernel_size=(10,1),strides=(1,10), padding='same')(conv_first1)\n",
    "    layer_x = layers.LeakyReLU(alpha=0.01)(layer_x)\n",
    "    # inception\n",
    "    convsecond_1 = Conv2D(64, (1, 1), padding='same', strides=(1,1))(layer_x)\n",
    "    convsecond_1 = keras.layers.LeakyReLU(alpha=0.01)(convsecond_1)\n",
    "    convsecond_1 = Conv2D(64, (3, 1), padding='same', strides=(1,1))(convsecond_1)\n",
    "    convsecond_1 = keras.layers.LeakyReLU(alpha=0.01)(convsecond_1)\n",
    "\n",
    "    convsecond_2 = Conv2D(64, (1, 1), padding='same', strides=(1,1))(layer_x)\n",
    "    convsecond_2 = keras.layers.LeakyReLU(alpha=0.01)(convsecond_2)\n",
    "    convsecond_2 = Conv2D(64, (5, 1), padding='same', strides=(1,1))(convsecond_2)\n",
    "    convsecond_2 = keras.layers.LeakyReLU(alpha=0.01)(convsecond_2)\n",
    "\n",
    "    convsecond_3 = MaxPooling2D((3, 1), strides=(1, 1), padding='same')(layer_x)\n",
    "    convsecond_3 = Conv2D(64, (1, 1), padding='same', strides=(1,1))(convsecond_3)\n",
    "    convsecond_3 = keras.layers.LeakyReLU(alpha=0.01)(convsecond_3)\n",
    "    \n",
    "    convsecond_output = keras.layers.concatenate([convsecond_1, convsecond_2, convsecond_3], axis=3)\n",
    "    conv_reshape = Reshape((int(convsecond_output.shape[1]), int(convsecond_output.shape[3])))(convsecond_output)\n",
    "    conv_reshape = keras.layers.Dropout(0.3, noise_shape=(None, 1, int(conv_reshape.shape[2])))(conv_reshape, training=True)\n",
    "\n",
    "    #  LSTM layer\n",
    "    conv_lstm = LSTM(number_of_lstm)(conv_reshape)\n",
    "\n",
    "    # output layer\n",
    "    out = Dense(1, activation='leaky_relu')(conv_lstm)\n",
    "    model = Model(inputs=input_lmd, outputs=out)\n",
    "    adam = keras.optimizers.Adam(learning_rate=0.01)\n",
    "    model.compile(optimizer=adam, loss='mse')#, metrics=['accuracy']\n",
    "\n",
    "    return model\n",
    "  \n",
    "deeplob = create_nn(trainX_CNN.shape[1], trainX_CNN.shape[2],n_hiddens)\n",
    "\n",
    "deeplob.summary()\n",
    "checkpoint_filepath = './model_tensorflow2/weights'\n"
   ]
  },
  {
   "cell_type": "code",
   "execution_count": 47,
   "metadata": {},
   "outputs": [
    {
     "name": "stdout",
     "output_type": "stream",
     "text": [
      "Epoch 1/25\n",
      "6/6 [==============================] - 24s 4s/step - loss: 0.7639 - val_loss: 0.6816\n",
      "Epoch 2/25\n",
      "6/6 [==============================] - 22s 4s/step - loss: 0.6235 - val_loss: 0.5263\n",
      "Epoch 3/25\n",
      "6/6 [==============================] - 21s 4s/step - loss: 0.5076 - val_loss: 0.4193\n",
      "Epoch 4/25\n",
      "6/6 [==============================] - 22s 4s/step - loss: 0.3922 - val_loss: 0.3107\n",
      "Epoch 5/25\n",
      "6/6 [==============================] - 22s 4s/step - loss: 0.3289 - val_loss: 0.2955\n",
      "Epoch 6/25\n",
      "6/6 [==============================] - 22s 4s/step - loss: 0.3022 - val_loss: 0.2657\n",
      "Epoch 7/25\n",
      "6/6 [==============================] - 23s 4s/step - loss: 0.2899 - val_loss: 0.2654\n",
      "Epoch 8/25\n",
      "6/6 [==============================] - 21s 4s/step - loss: 0.2850 - val_loss: 0.2627\n",
      "Epoch 9/25\n",
      "6/6 [==============================] - 21s 4s/step - loss: 0.2800 - val_loss: 0.2574\n",
      "Epoch 10/25\n",
      "6/6 [==============================] - 21s 4s/step - loss: 0.2807 - val_loss: 0.2521\n",
      "Epoch 11/25\n",
      "6/6 [==============================] - 21s 4s/step - loss: 0.2745 - val_loss: 0.2602\n",
      "Epoch 12/25\n",
      "6/6 [==============================] - 21s 4s/step - loss: 0.2718 - val_loss: 0.2640\n",
      "Epoch 13/25\n",
      "6/6 [==============================] - 22s 4s/step - loss: 0.2691 - val_loss: 0.2547\n",
      "Epoch 14/25\n",
      "6/6 [==============================] - 22s 4s/step - loss: 0.2655 - val_loss: 0.2476\n",
      "Epoch 15/25\n",
      "6/6 [==============================] - 21s 4s/step - loss: 0.2586 - val_loss: 0.2534\n",
      "Epoch 16/25\n",
      "6/6 [==============================] - 21s 4s/step - loss: 0.2602 - val_loss: 0.2646\n",
      "Epoch 17/25\n",
      "6/6 [==============================] - 21s 4s/step - loss: 0.2594 - val_loss: 0.2461\n",
      "Epoch 18/25\n",
      "6/6 [==============================] - 21s 4s/step - loss: 0.2576 - val_loss: 0.2504\n",
      "Epoch 19/25\n",
      "6/6 [==============================] - 21s 4s/step - loss: 0.2566 - val_loss: 0.2526\n",
      "Epoch 20/25\n",
      "6/6 [==============================] - 21s 4s/step - loss: 0.2588 - val_loss: 0.2484\n",
      "Epoch 21/25\n",
      "6/6 [==============================] - 21s 4s/step - loss: 0.2492 - val_loss: 0.2433\n",
      "Epoch 22/25\n",
      "6/6 [==============================] - 22s 4s/step - loss: 0.2468 - val_loss: 0.2403\n",
      "Epoch 23/25\n",
      "6/6 [==============================] - 26s 5s/step - loss: 0.2438 - val_loss: 0.2464\n",
      "Epoch 24/25\n",
      "6/6 [==============================] - 35s 6s/step - loss: 0.2442 - val_loss: 0.2471\n",
      "Epoch 25/25\n",
      "6/6 [==============================] - 28s 5s/step - loss: 0.2382 - val_loss: 0.2413\n"
     ]
    }
   ],
   "source": [
    "r=deeplob.fit(trainX_CNN, trainY_CNN, validation_data=(valX_CNN, valY_CNN), \n",
    "            epochs=25, batch_size=2**11)"
   ]
  },
  {
   "cell_type": "code",
   "execution_count": 48,
   "metadata": {},
   "outputs": [
    {
     "data": {
      "image/png": "[encoded data removed]",
      "text/plain": [
       "<Figure size 432x288 with 1 Axes>"
      ]
     },
     "metadata": {},
     "output_type": "display_data"
    }
   ],
   "source": [
    "plt.plot(r.history['loss'], label='train loss')\n",
    "plt.plot(r.history['val_loss'], label='test loss')\n",
    "plt.legend();"
   ]
  },
  {
   "cell_type": "code",
   "execution_count": 49,
   "metadata": {},
   "outputs": [
    {
     "name": "stdout",
     "output_type": "stream",
     "text": [
      "328/328 [==============================] - 6s 16ms/step\n"
     ]
    }
   ],
   "source": [
    "pred = deeplob.predict(trainX_CNN)"
   ]
  },
  {
   "cell_type": "code",
   "execution_count": 107,
   "metadata": {},
   "outputs": [
    {
     "name": "stdout",
     "output_type": "stream",
     "text": [
      "328/328 [==============================] - 6s 17ms/step\n",
      "1963/1963 [==============================] - 32s 16ms/step\n"
     ]
    },
    {
     "data": {
      "text/plain": [
       "((10485, 1), (62814, 1))"
      ]
     },
     "execution_count": 107,
     "metadata": {},
     "output_type": "execute_result"
    }
   ],
   "source": [
    "Ptrain = deeplob.predict(trainX_CNN)\n",
    "Ptest =  deeplob.predict(testX_CNN)\n",
    "Ptrain.shape, Ptest.shape"
   ]
  },
  {
   "cell_type": "code",
   "execution_count": 52,
   "metadata": {},
   "outputs": [],
   "source": [
    "pTrain=norm.inverse_transform(Ptrain)\n",
    "pTest=norm.inverse_transform(Ptest)"
   ]
  },
  {
   "cell_type": "code",
   "execution_count": 109,
   "metadata": {},
   "outputs": [
    {
     "data": {
      "text/plain": [
       "array([0.78853123, 0.80288276, 0.77721415, 0.85747757, 0.80426325,\n",
       "       0.76988658, 0.73431434, 0.6934584 , 0.65152887, 0.65302579,\n",
       "       0.66110014, 0.64678179])"
      ]
     },
     "execution_count": 109,
     "metadata": {},
     "output_type": "execute_result"
    }
   ],
   "source": [
    "from sklearn.metrics import mean_squared_error as mse\n",
    "a=[11,22, 44,  89, 133, 178, 223, 267, 312, 356, 401,446]\n",
    "rQuad=np.zeros(len(a))\n",
    "for i,j in zip(range(len(a)),a):\n",
    "    #for j in a:\n",
    "    rQuad[i]=1-(mse(testY_CNN[:j,0],Ptest[:j])/mse(trainY_CNN[:j,0],Ptrain[:j]))\n",
    "rQuad"
   ]
  },
  {
   "cell_type": "code",
   "execution_count": 119,
   "metadata": {},
   "outputs": [
    {
     "data": {
      "image/png": "[encoded data removed]",
      "text/plain": [
       "<Figure size 432x288 with 1 Axes>"
      ]
     },
     "metadata": {},
     "output_type": "display_data"
    }
   ],
   "source": [
    "plt.plot(rQuad)\n",
    "plt.show()"
   ]
  },
  {
   "cell_type": "code",
   "execution_count": 112,
   "metadata": {},
   "outputs": [
    {
     "data": {
      "text/plain": [
       "(array([ 0.00000000e+00,  5.66987801e-05, -5.62636160e-05,  0.00000000e+00,\n",
       "        -5.57413987e-05, -5.68417709e-05,  0.00000000e+00,  0.00000000e+00,\n",
       "         0.00000000e+00,  0.00000000e+00,  0.00000000e+00,  0.00000000e+00]),\n",
       " array([ 0.00000000e+00,  0.00000000e+00,  0.00000000e+00,  0.00000000e+00,\n",
       "         0.00000000e+00,  0.00000000e+00,  0.00000000e+00, -5.57451494e-05,\n",
       "        -5.58163156e-05,  0.00000000e+00,  5.62747991e-05,  0.00000000e+00]))"
      ]
     },
     "execution_count": 112,
     "metadata": {},
     "output_type": "execute_result"
    }
   ],
   "source": [
    "xx=[11,22, 44,  89, 133, 178, 223, 267, 312, 356, 401,446]\n",
    "pred_test=np.zeros(len(xx))\n",
    "pred_train=np.zeros(len(xx))\n",
    "for i,j in zip(xx,range(len(pred))):\n",
    "    pred_test[j]=pTest[i]\n",
    "    pred_train[j]=pTrain[i]\n",
    "pred_test,pred_train"
   ]
  },
  {
   "cell_type": "code",
   "execution_count": 113,
   "metadata": {},
   "outputs": [
    {
     "data": {
      "image/png": "[encoded data removed]",
      "text/plain": [
       "<Figure size 432x288 with 1 Axes>"
      ]
     },
     "metadata": {},
     "output_type": "display_data"
    }
   ],
   "source": [
    "plt.plot(pred_test)\n",
    "plt.show()"
   ]
  },
  {
   "cell_type": "code",
   "execution_count": 118,
   "metadata": {},
   "outputs": [
    {
     "data": {
      "image/png": "[encoded data removed]",
      "text/plain": [
       "<Figure size 432x288 with 1 Axes>"
      ]
     },
     "metadata": {},
     "output_type": "display_data"
    }
   ],
   "source": [
    "plt.plot(pred_train)\n",
    "plt.show()"
   ]
  }
 ],
 "metadata": {
  "kernelspec": {
   "display_name": "Python 3.9.12 ('base')",
   "language": "python",
   "name": "python3"
  },
  "language_info": {
   "codemirror_mode": {
    "name": "ipython",
    "version": 3
   },
   "file_extension": ".py",
   "mimetype": "text/x-python",
   "name": "python",
   "nbconvert_exporter": "python",
   "pygments_lexer": "ipython3",
   "version": "3.9.12"
  },
  "orig_nbformat": 4,
  "vscode": {
   "interpreter": {
    "hash": "597e2b791014bf3f975e304e1e72922cb6b9245e0453d34e2c818a7120fc527f"
   }
  }
 },
 "nbformat": 4,
 "nbformat_minor": 2
}
