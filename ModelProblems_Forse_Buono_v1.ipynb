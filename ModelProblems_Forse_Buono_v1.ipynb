{
 "cells": [
  {
   "cell_type": "code",
   "execution_count": 1,
   "metadata": {},
   "outputs": [
    {
     "name": "stdout",
     "output_type": "stream",
     "text": [
      "WARNING:tensorflow:Please fix your imports. Module tensorflow.python.training.tracking.autotrackable has been moved to tensorflow.python.trackable.autotrackable. The old module will be deleted in version 2.11.\n",
      "WARNING:tensorflow:Please fix your imports. Module tensorflow.python.training.tracking.base has been moved to tensorflow.python.trackable.base. The old module will be deleted in version 2.11.\n",
      "WARNING:tensorflow:Please fix your imports. Module tensorflow.python.training.tracking.base_delegate has been moved to tensorflow.python.trackable.base_delegate. The old module will be deleted in version 2.11.\n",
      "WARNING:tensorflow:Please fix your imports. Module tensorflow.python.training.tracking.data_structures has been moved to tensorflow.python.trackable.data_structures. The old module will be deleted in version 2.11.\n",
      "WARNING:tensorflow:Please fix your imports. Module tensorflow.python.training.tracking.graph_view has been moved to tensorflow.python.checkpoint.graph_view. The old module will be deleted in version 2.11.\n",
      "WARNING:tensorflow:Please fix your imports. Module tensorflow.python.training.tracking.util has been moved to tensorflow.python.checkpoint.checkpoint. The old module will be deleted in version 2.11.\n",
      "WARNING:tensorflow:Please fix your imports. Module tensorflow.python.training.checkpoint_management has been moved to tensorflow.python.checkpoint.checkpoint_management. The old module will be deleted in version 2.9.\n",
      "WARNING:tensorflow:Please fix your imports. Module tensorflow.python.training.tracking.resource has been moved to tensorflow.python.trackable.resource. The old module will be deleted in version 2.11.\n",
      "WARNING:tensorflow:Please fix your imports. Module tensorflow.python.training.tracking.asset has been moved to tensorflow.python.trackable.asset. The old module will be deleted in version 2.11.\n",
      "WARNING:tensorflow:Please fix your imports. Module tensorflow.python.training.tracking.python_state has been moved to tensorflow.python.trackable.python_state. The old module will be deleted in version 2.11.\n",
      "WARNING:tensorflow:Please fix your imports. Module tensorflow.python.training.saving.checkpoint_options has been moved to tensorflow.python.checkpoint.checkpoint_options. The old module will be deleted in version 2.11.\n",
      "WARNING:tensorflow:From C:\\Users\\macri\\AppData\\Local\\Temp\\ipykernel_7908\\1576098148.py:62: The name tf.keras.backend.set_session is deprecated. Please use tf.compat.v1.keras.backend.set_session instead.\n",
      "\n"
     ]
    }
   ],
   "source": [
    "import os; import pandas as pd; import numpy  as np\n",
    "from pandas.tseries.offsets import *\n",
    "import statsmodels.formula.api as smf\n",
    "from glob import glob\n",
    "from datetime import datetime\n",
    "import matplotlib.pyplot as plt\n",
    "\n",
    "import tensorflow\n",
    "from tensorflow.keras import Sequential\n",
    "from tensorflow.keras.layers import Dense, Dropout\n",
    "from tensorflow.keras.layers import LeakyReLU\n",
    "from tensorflow.keras import backend as K\n",
    "from tensorflow.keras.utils import to_categorical\n",
    "from tensorflow.keras.callbacks import EarlyStopping, ModelCheckpoint, ReduceLROnPlateau\n",
    "\n",
    "from IPython.display import IFrame\n",
    "def swish(x): return (K.sigmoid(x) * x)\n",
    "\n",
    "import seaborn as sns\n",
    "sns.set(style='white', font_scale=1.3, rc={\n",
    "    'lines.linewidth': 4,\n",
    "    'axes.grid': True, 'grid.linestyle': ':',\n",
    "    'axes.spines.left': True,\n",
    "    'axes.spines.bottom': True,\n",
    "    'axes.spines.right': True,\n",
    "    'axes.spines.top': True,\n",
    "    'axes.edgecolor': '.5',\n",
    "})\n",
    "# load packages\n",
    "import pandas as pd\n",
    "import pickle\n",
    "import numpy as np\n",
    "import keras\n",
    "from keras import backend as K\n",
    "from keras.models import load_model, Model\n",
    "from keras.layers import Flatten, Dense, Dropout, Activation, Input, LSTM, Reshape, Conv2D, MaxPooling2D\n",
    "from keras.optimizers import Adam\n",
    "from keras import Input, layers\n",
    "from keras.layers import LeakyReLU\n",
    "#from keras.layers.advanced_activations import LeakyReLU\n",
    "from keras.utils import np_utils\n",
    "\n",
    "from sklearn.metrics import classification_report, accuracy_score\n",
    "import matplotlib.pyplot as plt\n",
    "\n",
    "# set random seeds\n",
    "np.random.seed(1)\n",
    "tensorflow.random.set_seed(2)\n",
    "# Set the Random Seed\n",
    "import random\n",
    "\n",
    "\n",
    "seed_value = 2020\n",
    "\n",
    "os.environ['PYTHONHASHSEED']=str(seed_value)\n",
    "random.seed(seed_value)\n",
    "np.random.seed(seed_value)\n",
    "tensorflow.random.set_seed(seed_value)\n",
    "\n",
    "session_conf = tensorflow.compat.v1.ConfigProto(intra_op_parallelism_threads=1, inter_op_parallelism_threads=1)\n",
    "sess = tensorflow.compat.v1.Session(graph=tensorflow.compat.v1.get_default_graph(), config=session_conf)\n",
    "tensorflow.compat.v1.keras.backend.set_session(sess)\n",
    "from keras.utils import np_utils\n"
   ]
  },
  {
   "cell_type": "code",
   "execution_count": 2,
   "metadata": {},
   "outputs": [],
   "source": [
    "#utils functions\n",
    "def midPrice(lob_data):\n",
    "    a=lob_data['AP1'].values.tolist()\n",
    "    b=lob_data['BP1'].values.tolist()\n",
    "    m=np.zeros(len(a))\n",
    "    for i in range(len(a)):\n",
    "        m[i]=(a[i]+b[i])/2\n",
    "    return m\n",
    "def upDown(m):\n",
    "    u_d=np.zeros(len(a))\n",
    "    for i in range(1,len(a)):\n",
    "        if m[i-1]>m[i]:#scende il prezzo\n",
    "            u_d[i-1]=-1\n",
    "        elif m[i-1]<m[i]:#sale il prezzo\n",
    "            u_d[i-1]=1\n",
    "        else:\n",
    "            u_d[i-1]=0\n",
    "    return u_d\n",
    "\n",
    "def ret(m):\n",
    "    r=np.zeros(len(m))\n",
    "    for i in range(1,len(m)):\n",
    "        r[i]=m[i-1]-m[i]\n",
    "    return r\n",
    "\n",
    "def deltaT(m):\n",
    "    N=0\n",
    "    d=np.zeros(len(m))\n",
    "    for i in range(1,len(m)):\n",
    "        d[i]=m[i-1]-m[i]\n",
    "        if [i]!=0:\n",
    "            N+=1\n",
    "    return int((2.34*10**7)/N)\n",
    "\n",
    "def doHk(deltT,k):\n",
    "    hk=np.zeros(k)\n",
    "    for i in range(k):\n",
    "        hk[i]=np.int16((1/5)*i*deltT)\n",
    "    return hk\n",
    "\n",
    "def retHk(m,hk):\n",
    "    ret=np.zeros(100)\n",
    "    for i,k in zip(range(len(m)),hk):\n",
    "        ret[i]=m[i+k]-m[i]\n",
    "    return ret\n",
    "\n",
    "def OF_1(ld):\n",
    "    of=np.zeros((len(ld),6))\n",
    "    for i,ii in zip(range(1,12,2),range(0,6,2)): #giro sui prezzi ask e volumi ask di conseguenza\n",
    "        for j in range(1,len(ld)): #giro sulle righe\n",
    "            #ask\n",
    "            if ld[j][i-1]>ld[j-1][i-1]: #p_t>p_t-1\n",
    "                of[j-1][ii]=-1*ld[j][i]\n",
    "            elif ld[j][i-1]<ld[j-1][i-1]: #p_t<p_t-1\n",
    "                of[j-1][ii]=ld[j][i]\n",
    "            elif ld[j][i-1]==ld[j-1][i-1]: #p_t=p_t-1\n",
    "                of[j-1][ii]=ld[j][i]-ld[j-1][i]\n",
    "    for w,ww in zip(range(3,12,4),range(1,7,2)):\n",
    "        for jj in range(1,len(ld)):    \n",
    "            #bid\n",
    "            if ld[jj][w-1]>ld[jj-1][w-1]: #p_t>p_t-1\n",
    "                of[jj-1][ww]=ld[jj][w]\n",
    "            elif ld[jj][w-1]<ld[jj-1][w-1]: #p_t<p_t-1\n",
    "                of[jj-1][ww]=-1*ld[jj][w]\n",
    "            elif ld[jj][w-1]==ld[jj-1][w-1]: #p_t=p_t-1\n",
    "                of[jj-1][ww]=ld[jj][w]-ld[jj-1][w]\n",
    "    return of"
   ]
  },
  {
   "cell_type": "code",
   "execution_count": 3,
   "metadata": {},
   "outputs": [
    {
     "data": {
      "text/html": [
       "<div>\n",
       "<style scoped>\n",
       "    .dataframe tbody tr th:only-of-type {\n",
       "        vertical-align: middle;\n",
       "    }\n",
       "\n",
       "    .dataframe tbody tr th {\n",
       "        vertical-align: top;\n",
       "    }\n",
       "\n",
       "    .dataframe thead th {\n",
       "        text-align: right;\n",
       "    }\n",
       "</style>\n",
       "<table border=\"1\" class=\"dataframe\">\n",
       "  <thead>\n",
       "    <tr style=\"text-align: right;\">\n",
       "      <th></th>\n",
       "      <th>AP1</th>\n",
       "      <th>AV1</th>\n",
       "      <th>BP1</th>\n",
       "      <th>BV1</th>\n",
       "      <th>AP2</th>\n",
       "      <th>AV2</th>\n",
       "      <th>BP2</th>\n",
       "      <th>BV2</th>\n",
       "      <th>AP3</th>\n",
       "      <th>AV3</th>\n",
       "      <th>BP3</th>\n",
       "      <th>BV3</th>\n",
       "    </tr>\n",
       "  </thead>\n",
       "  <tbody>\n",
       "    <tr>\n",
       "      <th>0</th>\n",
       "      <td>90.48</td>\n",
       "      <td>4315</td>\n",
       "      <td>90.44</td>\n",
       "      <td>374</td>\n",
       "      <td>90.52</td>\n",
       "      <td>100</td>\n",
       "      <td>90.40</td>\n",
       "      <td>50</td>\n",
       "      <td>90.53</td>\n",
       "      <td>1730</td>\n",
       "      <td>90.35</td>\n",
       "      <td>100</td>\n",
       "    </tr>\n",
       "    <tr>\n",
       "      <th>1</th>\n",
       "      <td>90.48</td>\n",
       "      <td>4004</td>\n",
       "      <td>90.44</td>\n",
       "      <td>374</td>\n",
       "      <td>90.52</td>\n",
       "      <td>100</td>\n",
       "      <td>90.40</td>\n",
       "      <td>50</td>\n",
       "      <td>90.53</td>\n",
       "      <td>1730</td>\n",
       "      <td>90.35</td>\n",
       "      <td>100</td>\n",
       "    </tr>\n",
       "    <tr>\n",
       "      <th>2</th>\n",
       "      <td>90.48</td>\n",
       "      <td>4004</td>\n",
       "      <td>90.44</td>\n",
       "      <td>374</td>\n",
       "      <td>90.52</td>\n",
       "      <td>100</td>\n",
       "      <td>90.40</td>\n",
       "      <td>50</td>\n",
       "      <td>90.53</td>\n",
       "      <td>1730</td>\n",
       "      <td>90.35</td>\n",
       "      <td>100</td>\n",
       "    </tr>\n",
       "    <tr>\n",
       "      <th>3</th>\n",
       "      <td>90.48</td>\n",
       "      <td>4004</td>\n",
       "      <td>90.44</td>\n",
       "      <td>374</td>\n",
       "      <td>90.52</td>\n",
       "      <td>100</td>\n",
       "      <td>90.40</td>\n",
       "      <td>50</td>\n",
       "      <td>90.53</td>\n",
       "      <td>1730</td>\n",
       "      <td>90.35</td>\n",
       "      <td>100</td>\n",
       "    </tr>\n",
       "    <tr>\n",
       "      <th>4</th>\n",
       "      <td>90.48</td>\n",
       "      <td>4004</td>\n",
       "      <td>90.44</td>\n",
       "      <td>374</td>\n",
       "      <td>90.52</td>\n",
       "      <td>100</td>\n",
       "      <td>90.40</td>\n",
       "      <td>50</td>\n",
       "      <td>90.53</td>\n",
       "      <td>2825</td>\n",
       "      <td>90.35</td>\n",
       "      <td>100</td>\n",
       "    </tr>\n",
       "    <tr>\n",
       "      <th>...</th>\n",
       "      <td>...</td>\n",
       "      <td>...</td>\n",
       "      <td>...</td>\n",
       "      <td>...</td>\n",
       "      <td>...</td>\n",
       "      <td>...</td>\n",
       "      <td>...</td>\n",
       "      <td>...</td>\n",
       "      <td>...</td>\n",
       "      <td>...</td>\n",
       "      <td>...</td>\n",
       "      <td>...</td>\n",
       "    </tr>\n",
       "    <tr>\n",
       "      <th>104852</th>\n",
       "      <td>89.56</td>\n",
       "      <td>137</td>\n",
       "      <td>89.53</td>\n",
       "      <td>434</td>\n",
       "      <td>89.57</td>\n",
       "      <td>105</td>\n",
       "      <td>89.52</td>\n",
       "      <td>234</td>\n",
       "      <td>89.58</td>\n",
       "      <td>137</td>\n",
       "      <td>89.51</td>\n",
       "      <td>344</td>\n",
       "    </tr>\n",
       "    <tr>\n",
       "      <th>104853</th>\n",
       "      <td>89.56</td>\n",
       "      <td>126</td>\n",
       "      <td>89.54</td>\n",
       "      <td>244</td>\n",
       "      <td>89.57</td>\n",
       "      <td>105</td>\n",
       "      <td>89.53</td>\n",
       "      <td>334</td>\n",
       "      <td>89.58</td>\n",
       "      <td>137</td>\n",
       "      <td>89.52</td>\n",
       "      <td>234</td>\n",
       "    </tr>\n",
       "    <tr>\n",
       "      <th>104854</th>\n",
       "      <td>89.56</td>\n",
       "      <td>105</td>\n",
       "      <td>89.54</td>\n",
       "      <td>244</td>\n",
       "      <td>89.57</td>\n",
       "      <td>105</td>\n",
       "      <td>89.53</td>\n",
       "      <td>334</td>\n",
       "      <td>89.58</td>\n",
       "      <td>137</td>\n",
       "      <td>89.52</td>\n",
       "      <td>234</td>\n",
       "    </tr>\n",
       "    <tr>\n",
       "      <th>104855</th>\n",
       "      <td>89.56</td>\n",
       "      <td>5</td>\n",
       "      <td>89.54</td>\n",
       "      <td>244</td>\n",
       "      <td>89.57</td>\n",
       "      <td>105</td>\n",
       "      <td>89.53</td>\n",
       "      <td>334</td>\n",
       "      <td>89.58</td>\n",
       "      <td>137</td>\n",
       "      <td>89.52</td>\n",
       "      <td>234</td>\n",
       "    </tr>\n",
       "    <tr>\n",
       "      <th>104856</th>\n",
       "      <td>89.57</td>\n",
       "      <td>105</td>\n",
       "      <td>89.54</td>\n",
       "      <td>244</td>\n",
       "      <td>89.58</td>\n",
       "      <td>137</td>\n",
       "      <td>89.53</td>\n",
       "      <td>334</td>\n",
       "      <td>89.59</td>\n",
       "      <td>223</td>\n",
       "      <td>89.52</td>\n",
       "      <td>234</td>\n",
       "    </tr>\n",
       "  </tbody>\n",
       "</table>\n",
       "<p>104857 rows × 12 columns</p>\n",
       "</div>"
      ],
      "text/plain": [
       "          AP1   AV1    BP1  BV1    AP2  AV2    BP2  BV2    AP3   AV3    BP3  \\\n",
       "0       90.48  4315  90.44  374  90.52  100  90.40   50  90.53  1730  90.35   \n",
       "1       90.48  4004  90.44  374  90.52  100  90.40   50  90.53  1730  90.35   \n",
       "2       90.48  4004  90.44  374  90.52  100  90.40   50  90.53  1730  90.35   \n",
       "3       90.48  4004  90.44  374  90.52  100  90.40   50  90.53  1730  90.35   \n",
       "4       90.48  4004  90.44  374  90.52  100  90.40   50  90.53  2825  90.35   \n",
       "...       ...   ...    ...  ...    ...  ...    ...  ...    ...   ...    ...   \n",
       "104852  89.56   137  89.53  434  89.57  105  89.52  234  89.58   137  89.51   \n",
       "104853  89.56   126  89.54  244  89.57  105  89.53  334  89.58   137  89.52   \n",
       "104854  89.56   105  89.54  244  89.57  105  89.53  334  89.58   137  89.52   \n",
       "104855  89.56     5  89.54  244  89.57  105  89.53  334  89.58   137  89.52   \n",
       "104856  89.57   105  89.54  244  89.58  137  89.53  334  89.59   223  89.52   \n",
       "\n",
       "        BV3  \n",
       "0       100  \n",
       "1       100  \n",
       "2       100  \n",
       "3       100  \n",
       "4       100  \n",
       "...     ...  \n",
       "104852  344  \n",
       "104853  234  \n",
       "104854  234  \n",
       "104855  234  \n",
       "104856  234  \n",
       "\n",
       "[104857 rows x 12 columns]"
      ]
     },
     "execution_count": 3,
     "metadata": {},
     "output_type": "execute_result"
    }
   ],
   "source": [
    "lob_data=pd.read_csv('/Users/macri/Desktop/out_1.csv')#legge il LOB\n",
    "lob_data.reset_index(drop=True,inplace=True)\n",
    "lob_data.drop(['index'], axis=1,inplace=True)\n",
    "C= int(len(lob_data)*0.1) #per ragioni di spazio/efficienza nei test ne prende solo il 10%\n",
    "b=lob_data.iloc[ :C].copy()\n",
    "ld=b.values.tolist()\n",
    "lob_data=b\n",
    "b"
   ]
  },
  {
   "cell_type": "code",
   "execution_count": 4,
   "metadata": {},
   "outputs": [
    {
     "data": {
      "text/html": [
       "<div>\n",
       "<style scoped>\n",
       "    .dataframe tbody tr th:only-of-type {\n",
       "        vertical-align: middle;\n",
       "    }\n",
       "\n",
       "    .dataframe tbody tr th {\n",
       "        vertical-align: top;\n",
       "    }\n",
       "\n",
       "    .dataframe thead th {\n",
       "        text-align: right;\n",
       "    }\n",
       "</style>\n",
       "<table border=\"1\" class=\"dataframe\">\n",
       "  <thead>\n",
       "    <tr style=\"text-align: right;\">\n",
       "      <th></th>\n",
       "      <th>aOF_1</th>\n",
       "      <th>bOF_1</th>\n",
       "      <th>aOF_2</th>\n",
       "      <th>bOF_2</th>\n",
       "      <th>aOF_3</th>\n",
       "      <th>bOF_3</th>\n",
       "    </tr>\n",
       "  </thead>\n",
       "  <tbody>\n",
       "    <tr>\n",
       "      <th>0</th>\n",
       "      <td>-311.0</td>\n",
       "      <td>0.0</td>\n",
       "      <td>0.0</td>\n",
       "      <td>0.0</td>\n",
       "      <td>0.0</td>\n",
       "      <td>0.0</td>\n",
       "    </tr>\n",
       "    <tr>\n",
       "      <th>1</th>\n",
       "      <td>0.0</td>\n",
       "      <td>0.0</td>\n",
       "      <td>0.0</td>\n",
       "      <td>0.0</td>\n",
       "      <td>0.0</td>\n",
       "      <td>0.0</td>\n",
       "    </tr>\n",
       "    <tr>\n",
       "      <th>2</th>\n",
       "      <td>0.0</td>\n",
       "      <td>0.0</td>\n",
       "      <td>0.0</td>\n",
       "      <td>0.0</td>\n",
       "      <td>0.0</td>\n",
       "      <td>0.0</td>\n",
       "    </tr>\n",
       "    <tr>\n",
       "      <th>3</th>\n",
       "      <td>0.0</td>\n",
       "      <td>0.0</td>\n",
       "      <td>0.0</td>\n",
       "      <td>0.0</td>\n",
       "      <td>0.0</td>\n",
       "      <td>0.0</td>\n",
       "    </tr>\n",
       "    <tr>\n",
       "      <th>4</th>\n",
       "      <td>-100.0</td>\n",
       "      <td>0.0</td>\n",
       "      <td>0.0</td>\n",
       "      <td>0.0</td>\n",
       "      <td>0.0</td>\n",
       "      <td>0.0</td>\n",
       "    </tr>\n",
       "    <tr>\n",
       "      <th>...</th>\n",
       "      <td>...</td>\n",
       "      <td>...</td>\n",
       "      <td>...</td>\n",
       "      <td>...</td>\n",
       "      <td>...</td>\n",
       "      <td>...</td>\n",
       "    </tr>\n",
       "    <tr>\n",
       "      <th>104852</th>\n",
       "      <td>-11.0</td>\n",
       "      <td>244.0</td>\n",
       "      <td>-244.0</td>\n",
       "      <td>334.0</td>\n",
       "      <td>0.0</td>\n",
       "      <td>234.0</td>\n",
       "    </tr>\n",
       "    <tr>\n",
       "      <th>104853</th>\n",
       "      <td>-21.0</td>\n",
       "      <td>0.0</td>\n",
       "      <td>0.0</td>\n",
       "      <td>0.0</td>\n",
       "      <td>0.0</td>\n",
       "      <td>0.0</td>\n",
       "    </tr>\n",
       "    <tr>\n",
       "      <th>104854</th>\n",
       "      <td>-100.0</td>\n",
       "      <td>0.0</td>\n",
       "      <td>0.0</td>\n",
       "      <td>0.0</td>\n",
       "      <td>0.0</td>\n",
       "      <td>0.0</td>\n",
       "    </tr>\n",
       "    <tr>\n",
       "      <th>104855</th>\n",
       "      <td>-105.0</td>\n",
       "      <td>0.0</td>\n",
       "      <td>0.0</td>\n",
       "      <td>0.0</td>\n",
       "      <td>-137.0</td>\n",
       "      <td>0.0</td>\n",
       "    </tr>\n",
       "    <tr>\n",
       "      <th>104856</th>\n",
       "      <td>0.0</td>\n",
       "      <td>0.0</td>\n",
       "      <td>0.0</td>\n",
       "      <td>0.0</td>\n",
       "      <td>0.0</td>\n",
       "      <td>0.0</td>\n",
       "    </tr>\n",
       "  </tbody>\n",
       "</table>\n",
       "<p>104857 rows × 6 columns</p>\n",
       "</div>"
      ],
      "text/plain": [
       "        aOF_1  bOF_1  aOF_2  bOF_2  aOF_3  bOF_3\n",
       "0      -311.0    0.0    0.0    0.0    0.0    0.0\n",
       "1         0.0    0.0    0.0    0.0    0.0    0.0\n",
       "2         0.0    0.0    0.0    0.0    0.0    0.0\n",
       "3         0.0    0.0    0.0    0.0    0.0    0.0\n",
       "4      -100.0    0.0    0.0    0.0    0.0    0.0\n",
       "...       ...    ...    ...    ...    ...    ...\n",
       "104852  -11.0  244.0 -244.0  334.0    0.0  234.0\n",
       "104853  -21.0    0.0    0.0    0.0    0.0    0.0\n",
       "104854 -100.0    0.0    0.0    0.0    0.0    0.0\n",
       "104855 -105.0    0.0    0.0    0.0 -137.0    0.0\n",
       "104856    0.0    0.0    0.0    0.0    0.0    0.0\n",
       "\n",
       "[104857 rows x 6 columns]"
      ]
     },
     "execution_count": 4,
     "metadata": {},
     "output_type": "execute_result"
    }
   ],
   "source": [
    "ld=lob_data.values.tolist()\n",
    "aa=OF_1(ld) #fa Order Flow\n",
    "bCols=np.ravel([['aOF_%d'%level, 'bOF_%d'%level] for level in [1,2,3]])\n",
    "of_data=pd.DataFrame(aa, columns=bCols)\n",
    "of_data"
   ]
  },
  {
   "cell_type": "code",
   "execution_count": 5,
   "metadata": {},
   "outputs": [],
   "source": [
    "m=pd.DataFrame(midPrice(lob_data),columns=['m'])#.pct_change()\n",
    "m['d']=m['m'].diff()\n",
    "#m.dropna(inplace=True)\n",
    "of_data['d']=m['m'].pct_change()\n",
    "of_data.dropna(inplace=True)"
   ]
  },
  {
   "cell_type": "code",
   "execution_count": 6,
   "metadata": {},
   "outputs": [
    {
     "data": {
      "text/plain": [
       "<AxesSubplot:>"
      ]
     },
     "execution_count": 6,
     "metadata": {},
     "output_type": "execute_result"
    },
    {
     "data": {
      "image/png": "[encoded data removed]",
      "text/plain": [
       "<Figure size 432x288 with 1 Axes>"
      ]
     },
     "metadata": {},
     "output_type": "display_data"
    }
   ],
   "source": [
    "of_data['d'].plot()"
   ]
  },
  {
   "cell_type": "code",
   "execution_count": 7,
   "metadata": {},
   "outputs": [
    {
     "data": {
      "text/plain": [
       "array([[<AxesSubplot:title={'center':'aOF_1'}>,\n",
       "        <AxesSubplot:title={'center':'bOF_1'}>,\n",
       "        <AxesSubplot:title={'center':'aOF_2'}>],\n",
       "       [<AxesSubplot:title={'center':'bOF_2'}>,\n",
       "        <AxesSubplot:title={'center':'aOF_3'}>,\n",
       "        <AxesSubplot:title={'center':'bOF_3'}>],\n",
       "       [<AxesSubplot:title={'center':'d'}>, <AxesSubplot:>,\n",
       "        <AxesSubplot:>]], dtype=object)"
      ]
     },
     "execution_count": 7,
     "metadata": {},
     "output_type": "execute_result"
    },
    {
     "data": {
      "image/png": "[encoded data removed]",
      "text/plain": [
       "<Figure size 432x288 with 9 Axes>"
      ]
     },
     "metadata": {},
     "output_type": "display_data"
    }
   ],
   "source": [
    "x = of_data\n",
    "UPPERBOUND, LOWERBOUND = np.percentile(x, [1,99])\n",
    "y = np.clip(x, UPPERBOUND, LOWERBOUND)\n",
    "pd.DataFrame(y).hist()"
   ]
  },
  {
   "cell_type": "code",
   "execution_count": 8,
   "metadata": {},
   "outputs": [
    {
     "data": {
      "text/plain": [
       "array([[<AxesSubplot:title={'center':'bOF1'}>,\n",
       "        <AxesSubplot:title={'center':'aOF1'}>,\n",
       "        <AxesSubplot:title={'center':'bOF2'}>],\n",
       "       [<AxesSubplot:title={'center':'aOF2'}>,\n",
       "        <AxesSubplot:title={'center':'bOF3'}>,\n",
       "        <AxesSubplot:title={'center':'aOF3'}>],\n",
       "       [<AxesSubplot:title={'center':'r'}>, <AxesSubplot:>,\n",
       "        <AxesSubplot:>]], dtype=object)"
      ]
     },
     "execution_count": 8,
     "metadata": {},
     "output_type": "execute_result"
    },
    {
     "data": {
      "image/png": "[encoded data removed]",
      "text/plain": [
       "<Figure size 432x288 with 9 Axes>"
      ]
     },
     "metadata": {},
     "output_type": "display_data"
    }
   ],
   "source": [
    "from sklearn.preprocessing import MinMaxScaler\n",
    "from sklearn.preprocessing import QuantileTransformer \n",
    "normalizer = QuantileTransformer(output_distribution='normal')\n",
    "scaled = normalizer.fit_transform(x)\n",
    "oflo=pd.DataFrame(scaled,columns=['bOF1','aOF1','bOF2','aOF2','bOF3','aOF3','r'])\n",
    "oflo.hist()"
   ]
  },
  {
   "cell_type": "code",
   "execution_count": 9,
   "metadata": {},
   "outputs": [],
   "source": [
    "norm=QuantileTransformer(output_distribution='normal')\n",
    "sc = norm.fit_transform(of_data['d'].values.reshape(-1,1))"
   ]
  },
  {
   "cell_type": "code",
   "execution_count": 10,
   "metadata": {},
   "outputs": [],
   "source": [
    "def format_data(data, lag=100, dimension=6):\n",
    "    data = data.values\n",
    "    shape = data.shape\n",
    "    X = np.zeros((shape[0]-lag, lag, dimension))\n",
    "    Y = np.zeros((shape[0]-lag, 1)) # 1 for the number of forecasting horizons\n",
    "    for i in range(shape[0]-lag):\n",
    "        X[i] = data[i:i+lag, :dimension] # take the variables' columns as features x\n",
    "        Y[i] = data[i+lag-1, -1:] # take the last column as y\n",
    "    X = X.reshape(X.shape[0], lag, dimension, 1)\n",
    "    Y = Y.reshape(Y.shape[0],1)\n",
    "    return X,Y"
   ]
  },
  {
   "cell_type": "code",
   "execution_count": 11,
   "metadata": {},
   "outputs": [
    {
     "name": "stdout",
     "output_type": "stream",
     "text": [
      "(10485, 100, 6, 1) (10485, 1)\n",
      "(31457, 100, 6, 1) (31457, 1)\n",
      "(62814, 100, 6, 1) (62814, 1)\n"
     ]
    }
   ],
   "source": [
    "data=format_data(oflo)\n",
    "X,Y=data\n",
    "n_hiddens=64\n",
    "V = int(len(oflo)*0.1)\n",
    "Z = int(len(oflo)*0.4)\n",
    "trainX_CNN, trainY_CNN = X[:V], Y[:V]\n",
    "valX_CNN, valY_CNN     = X[V:Z], Y[V:Z]\n",
    "testX_CNN,testY_CNN    = X[Z:], Y[Z:]\n",
    "print(trainX_CNN.shape, trainY_CNN.shape)\n",
    "print(valX_CNN.shape, valY_CNN.shape)\n",
    "print(testX_CNN.shape, testY_CNN.shape)"
   ]
  },
  {
   "cell_type": "code",
   "execution_count": 12,
   "metadata": {},
   "outputs": [
    {
     "name": "stdout",
     "output_type": "stream",
     "text": [
      "Model: \"model\"\n",
      "__________________________________________________________________________________________________\n",
      " Layer (type)                   Output Shape         Param #     Connected to                     \n",
      "==================================================================================================\n",
      " input_1 (InputLayer)           [(None, 100, 6, 1)]  0           []                               \n",
      "                                                                                                  \n",
      " conv2d (Conv2D)                (None, 100, 3, 32)   96          ['input_1[0][0]']                \n",
      "                                                                                                  \n",
      " leaky_re_lu (LeakyReLU)        (None, 100, 3, 32)   0           ['conv2d[0][0]']                 \n",
      "                                                                                                  \n",
      " conv2d_1 (Conv2D)              (None, 100, 3, 32)   4128        ['leaky_re_lu[0][0]']            \n",
      "                                                                                                  \n",
      " leaky_re_lu_1 (LeakyReLU)      (None, 100, 3, 32)   0           ['conv2d_1[0][0]']               \n",
      "                                                                                                  \n",
      " conv2d_2 (Conv2D)              (None, 100, 3, 32)   4128        ['leaky_re_lu_1[0][0]']          \n",
      "                                                                                                  \n",
      " leaky_re_lu_2 (LeakyReLU)      (None, 100, 3, 32)   0           ['conv2d_2[0][0]']               \n",
      "                                                                                                  \n",
      " conv2d_3 (Conv2D)              (None, 100, 1, 32)   10272       ['leaky_re_lu_2[0][0]']          \n",
      "                                                                                                  \n",
      " leaky_re_lu_3 (LeakyReLU)      (None, 100, 1, 32)   0           ['conv2d_3[0][0]']               \n",
      "                                                                                                  \n",
      " conv2d_4 (Conv2D)              (None, 100, 1, 64)   2112        ['leaky_re_lu_3[0][0]']          \n",
      "                                                                                                  \n",
      " conv2d_6 (Conv2D)              (None, 100, 1, 64)   2112        ['leaky_re_lu_3[0][0]']          \n",
      "                                                                                                  \n",
      " leaky_re_lu_4 (LeakyReLU)      (None, 100, 1, 64)   0           ['conv2d_4[0][0]']               \n",
      "                                                                                                  \n",
      " leaky_re_lu_6 (LeakyReLU)      (None, 100, 1, 64)   0           ['conv2d_6[0][0]']               \n",
      "                                                                                                  \n",
      " max_pooling2d (MaxPooling2D)   (None, 100, 1, 32)   0           ['leaky_re_lu_3[0][0]']          \n",
      "                                                                                                  \n",
      " conv2d_5 (Conv2D)              (None, 100, 1, 64)   12352       ['leaky_re_lu_4[0][0]']          \n",
      "                                                                                                  \n",
      " conv2d_7 (Conv2D)              (None, 100, 1, 64)   20544       ['leaky_re_lu_6[0][0]']          \n",
      "                                                                                                  \n",
      " conv2d_8 (Conv2D)              (None, 100, 1, 64)   2112        ['max_pooling2d[0][0]']          \n",
      "                                                                                                  \n",
      " leaky_re_lu_5 (LeakyReLU)      (None, 100, 1, 64)   0           ['conv2d_5[0][0]']               \n",
      "                                                                                                  \n",
      " leaky_re_lu_7 (LeakyReLU)      (None, 100, 1, 64)   0           ['conv2d_7[0][0]']               \n",
      "                                                                                                  \n",
      " leaky_re_lu_8 (LeakyReLU)      (None, 100, 1, 64)   0           ['conv2d_8[0][0]']               \n",
      "                                                                                                  \n",
      " concatenate (Concatenate)      (None, 100, 1, 192)  0           ['leaky_re_lu_5[0][0]',          \n",
      "                                                                  'leaky_re_lu_7[0][0]',          \n",
      "                                                                  'leaky_re_lu_8[0][0]']          \n",
      "                                                                                                  \n",
      " reshape (Reshape)              (None, 100, 192)     0           ['concatenate[0][0]']            \n",
      "                                                                                                  \n",
      " dropout (Dropout)              (None, 100, 192)     0           ['reshape[0][0]']                \n",
      "                                                                                                  \n",
      " lstm (LSTM)                    (None, 64)           65792       ['dropout[0][0]']                \n",
      "                                                                                                  \n",
      " dense (Dense)                  (None, 1)            65          ['lstm[0][0]']                   \n",
      "                                                                                                  \n",
      "==================================================================================================\n",
      "Total params: 123,713\n",
      "Trainable params: 123,713\n",
      "Non-trainable params: 0\n",
      "__________________________________________________________________________________________________\n"
     ]
    }
   ],
   "source": [
    "def create_nn(T, NF,number_of_lstm):\n",
    "\n",
    "    input_lmd = tensorflow.keras.Input(shape=(T, NF, 1))\n",
    "\n",
    "    conv_first1 = Conv2D(32, kernel_size=(1, 2), strides=(1, 2))(input_lmd)\n",
    "    conv_first1 = keras.layers.LeakyReLU(alpha=0.01)(conv_first1)\n",
    "    conv_first1 = Conv2D(32, (4, 1), padding='same')(conv_first1)\n",
    "    conv_first1 = keras.layers.LeakyReLU(alpha=0.01)(conv_first1)\n",
    "    conv_first1 = Conv2D(32, (4, 1), padding='same')(conv_first1)\n",
    "    conv_first1 = keras.layers.LeakyReLU(alpha=0.01)(conv_first1)\n",
    "    #\n",
    "    layer_x = layers.Conv2D(filters=32, kernel_size=(10,1),strides=(1,10), padding='same')(conv_first1)\n",
    "    layer_x = layers.LeakyReLU(alpha=0.01)(layer_x)\n",
    "    # inception\n",
    "    convsecond_1 = Conv2D(64, (1, 1), padding='same', strides=(1,1))(layer_x)\n",
    "    convsecond_1 = keras.layers.LeakyReLU(alpha=0.01)(convsecond_1)\n",
    "    convsecond_1 = Conv2D(64, (3, 1), padding='same', strides=(1,1))(convsecond_1)\n",
    "    convsecond_1 = keras.layers.LeakyReLU(alpha=0.01)(convsecond_1)\n",
    "\n",
    "    convsecond_2 = Conv2D(64, (1, 1), padding='same', strides=(1,1))(layer_x)\n",
    "    convsecond_2 = keras.layers.LeakyReLU(alpha=0.01)(convsecond_2)\n",
    "    convsecond_2 = Conv2D(64, (5, 1), padding='same', strides=(1,1))(convsecond_2)\n",
    "    convsecond_2 = keras.layers.LeakyReLU(alpha=0.01)(convsecond_2)\n",
    "\n",
    "    convsecond_3 = MaxPooling2D((3, 1), strides=(1, 1), padding='same')(layer_x)\n",
    "    convsecond_3 = Conv2D(64, (1, 1), padding='same', strides=(1,1))(convsecond_3)\n",
    "    convsecond_3 = keras.layers.LeakyReLU(alpha=0.01)(convsecond_3)\n",
    "    \n",
    "    convsecond_output = keras.layers.concatenate([convsecond_1, convsecond_2, convsecond_3], axis=3)\n",
    "    conv_reshape = Reshape((int(convsecond_output.shape[1]), int(convsecond_output.shape[3])))(convsecond_output)\n",
    "    conv_reshape = keras.layers.Dropout(0.3, noise_shape=(None, 1, int(conv_reshape.shape[2])))(conv_reshape, training=True)\n",
    "\n",
    "    #  LSTM layer\n",
    "    conv_lstm = LSTM(number_of_lstm)(conv_reshape)\n",
    "\n",
    "    # output layer\n",
    "    out = Dense(1, activation='leaky_relu')(conv_lstm)\n",
    "    model = Model(inputs=input_lmd, outputs=out)\n",
    "    adam = keras.optimizers.Adam(learning_rate=0.0001)\n",
    "    model.compile(optimizer=adam, loss='mse')#, metrics=['accuracy']\n",
    "\n",
    "    return model\n",
    "  \n",
    "deeplob = create_nn(trainX_CNN.shape[1], trainX_CNN.shape[2],n_hiddens)\n",
    "\n",
    "deeplob.summary()\n",
    "checkpoint_filepath = './model_tensorflow2/weights'\n"
   ]
  },
  {
   "cell_type": "code",
   "execution_count": 13,
   "metadata": {},
   "outputs": [
    {
     "name": "stdout",
     "output_type": "stream",
     "text": [
      "Epoch 1/50\n",
      "41/41 [==============================] - 22s 515ms/step - loss: 0.7403 - val_loss: 0.7129\n",
      "Epoch 2/50\n",
      "41/41 [==============================] - 20s 496ms/step - loss: 0.6644 - val_loss: 0.6183\n",
      "Epoch 3/50\n",
      "41/41 [==============================] - 20s 494ms/step - loss: 0.5850 - val_loss: 0.5344\n",
      "Epoch 4/50\n",
      "41/41 [==============================] - 20s 495ms/step - loss: 0.5093 - val_loss: 0.4620\n",
      "Epoch 5/50\n",
      "41/41 [==============================] - 21s 512ms/step - loss: 0.4437 - val_loss: 0.4026\n",
      "Epoch 6/50\n",
      "41/41 [==============================] - 20s 505ms/step - loss: 0.3961 - val_loss: 0.3636\n",
      "Epoch 7/50\n",
      "41/41 [==============================] - 20s 506ms/step - loss: 0.3578 - val_loss: 0.3273\n",
      "Epoch 8/50\n",
      "41/41 [==============================] - 20s 505ms/step - loss: 0.3283 - val_loss: 0.3016\n",
      "Epoch 9/50\n",
      "41/41 [==============================] - 27s 663ms/step - loss: 0.3096 - val_loss: 0.2870\n",
      "Epoch 10/50\n",
      "41/41 [==============================] - 30s 735ms/step - loss: 0.2987 - val_loss: 0.2771\n",
      "Epoch 11/50\n",
      "41/41 [==============================] - 30s 753ms/step - loss: 0.2902 - val_loss: 0.2727\n",
      "Epoch 12/50\n",
      "41/41 [==============================] - 30s 733ms/step - loss: 0.2860 - val_loss: 0.2686\n",
      "Epoch 13/50\n",
      "41/41 [==============================] - 30s 732ms/step - loss: 0.2811 - val_loss: 0.2683\n",
      "Epoch 14/50\n",
      "41/41 [==============================] - 30s 744ms/step - loss: 0.2808 - val_loss: 0.2622\n",
      "Epoch 15/50\n",
      "41/41 [==============================] - 30s 739ms/step - loss: 0.2773 - val_loss: 0.2613\n",
      "Epoch 16/50\n",
      "41/41 [==============================] - 20s 501ms/step - loss: 0.2750 - val_loss: 0.2599\n",
      "Epoch 17/50\n",
      "41/41 [==============================] - 21s 506ms/step - loss: 0.2733 - val_loss: 0.2578\n",
      "Epoch 18/50\n",
      "41/41 [==============================] - 21s 521ms/step - loss: 0.2731 - val_loss: 0.2571\n",
      "Epoch 19/50\n",
      "41/41 [==============================] - 21s 516ms/step - loss: 0.2693 - val_loss: 0.2572\n",
      "Epoch 20/50\n",
      "41/41 [==============================] - 22s 532ms/step - loss: 0.2704 - val_loss: 0.2563\n",
      "Epoch 21/50\n",
      "41/41 [==============================] - 21s 522ms/step - loss: 0.2679 - val_loss: 0.2567\n",
      "Epoch 22/50\n",
      "41/41 [==============================] - 21s 519ms/step - loss: 0.2675 - val_loss: 0.2539\n",
      "Epoch 23/50\n",
      "41/41 [==============================] - 22s 533ms/step - loss: 0.2658 - val_loss: 0.2537\n",
      "Epoch 24/50\n",
      "41/41 [==============================] - 22s 537ms/step - loss: 0.2669 - val_loss: 0.2532\n",
      "Epoch 25/50\n",
      "41/41 [==============================] - 21s 527ms/step - loss: 0.2663 - val_loss: 0.2547\n",
      "Epoch 26/50\n",
      "41/41 [==============================] - 21s 523ms/step - loss: 0.2611 - val_loss: 0.2529\n",
      "Epoch 27/50\n",
      "41/41 [==============================] - 22s 533ms/step - loss: 0.2607 - val_loss: 0.2520\n",
      "Epoch 28/50\n",
      "41/41 [==============================] - 21s 526ms/step - loss: 0.2626 - val_loss: 0.2516\n",
      "Epoch 29/50\n",
      "41/41 [==============================] - 22s 534ms/step - loss: 0.2620 - val_loss: 0.2524\n",
      "Epoch 30/50\n",
      "41/41 [==============================] - 21s 527ms/step - loss: 0.2603 - val_loss: 0.2523\n",
      "Epoch 31/50\n",
      "41/41 [==============================] - 21s 526ms/step - loss: 0.2592 - val_loss: 0.2502\n",
      "Epoch 32/50\n",
      "41/41 [==============================] - 22s 532ms/step - loss: 0.2572 - val_loss: 0.2533\n",
      "Epoch 33/50\n",
      "41/41 [==============================] - 21s 527ms/step - loss: 0.2566 - val_loss: 0.2506\n",
      "Epoch 34/50\n",
      "41/41 [==============================] - 20s 502ms/step - loss: 0.2570 - val_loss: 0.2502\n",
      "Epoch 35/50\n",
      "41/41 [==============================] - 20s 499ms/step - loss: 0.2544 - val_loss: 0.2491\n",
      "Epoch 36/50\n",
      "41/41 [==============================] - 20s 502ms/step - loss: 0.2556 - val_loss: 0.2487\n",
      "Epoch 37/50\n",
      "41/41 [==============================] - 20s 502ms/step - loss: 0.2535 - val_loss: 0.2493\n",
      "Epoch 38/50\n",
      "41/41 [==============================] - 21s 508ms/step - loss: 0.2534 - val_loss: 0.2477\n",
      "Epoch 39/50\n",
      "41/41 [==============================] - 20s 500ms/step - loss: 0.2514 - val_loss: 0.2485\n",
      "Epoch 40/50\n",
      "41/41 [==============================] - 20s 501ms/step - loss: 0.2504 - val_loss: 0.2489\n",
      "Epoch 41/50\n",
      "41/41 [==============================] - 20s 501ms/step - loss: 0.2503 - val_loss: 0.2466\n",
      "Epoch 42/50\n",
      "41/41 [==============================] - 20s 503ms/step - loss: 0.2478 - val_loss: 0.2467\n",
      "Epoch 43/50\n",
      "41/41 [==============================] - 20s 501ms/step - loss: 0.2455 - val_loss: 0.2479\n",
      "Epoch 44/50\n",
      "41/41 [==============================] - 20s 504ms/step - loss: 0.2464 - val_loss: 0.2479\n",
      "Epoch 45/50\n",
      "41/41 [==============================] - 20s 501ms/step - loss: 0.2432 - val_loss: 0.2484\n",
      "Epoch 46/50\n",
      "41/41 [==============================] - 20s 500ms/step - loss: 0.2443 - val_loss: 0.2503\n",
      "Epoch 47/50\n",
      "41/41 [==============================] - 20s 505ms/step - loss: 0.2437 - val_loss: 0.2483\n",
      "Epoch 48/50\n",
      "41/41 [==============================] - 20s 501ms/step - loss: 0.2417 - val_loss: 0.2470\n",
      "Epoch 49/50\n",
      "41/41 [==============================] - 20s 497ms/step - loss: 0.2393 - val_loss: 0.2455\n",
      "Epoch 50/50\n",
      "41/41 [==============================] - 20s 502ms/step - loss: 0.2402 - val_loss: 0.2539\n"
     ]
    }
   ],
   "source": [
    "r=deeplob.fit(trainX_CNN, trainY_CNN, validation_data=(valX_CNN, valY_CNN), \n",
    "            epochs=50, batch_size=256)"
   ]
  },
  {
   "cell_type": "code",
   "execution_count": 14,
   "metadata": {},
   "outputs": [
    {
     "data": {
      "image/png": "[encoded data removed]",
      "text/plain": [
       "<Figure size 432x288 with 1 Axes>"
      ]
     },
     "metadata": {},
     "output_type": "display_data"
    }
   ],
   "source": [
    "plt.plot(r.history['loss'], label='train loss')\n",
    "plt.plot(r.history['val_loss'], label='test loss')\n",
    "plt.legend();"
   ]
  },
  {
   "cell_type": "code",
   "execution_count": 15,
   "metadata": {},
   "outputs": [
    {
     "name": "stdout",
     "output_type": "stream",
     "text": [
      "328/328 [==============================] - 5s 14ms/step\n"
     ]
    }
   ],
   "source": [
    "pred = deeplob.predict(trainX_CNN)"
   ]
  },
  {
   "cell_type": "code",
   "execution_count": 16,
   "metadata": {},
   "outputs": [
    {
     "name": "stdout",
     "output_type": "stream",
     "text": [
      "328/328 [==============================] - 5s 14ms/step\n",
      "1963/1963 [==============================] - 28s 14ms/step\n"
     ]
    },
    {
     "data": {
      "text/plain": [
       "((10485, 1), (62814, 1))"
      ]
     },
     "execution_count": 16,
     "metadata": {},
     "output_type": "execute_result"
    }
   ],
   "source": [
    "Ptrain = deeplob.predict(trainX_CNN)\n",
    "Ptest =  deeplob.predict(testX_CNN)\n",
    "Ptrain.shape, Ptest.shape"
   ]
  },
  {
   "cell_type": "code",
   "execution_count": 17,
   "metadata": {},
   "outputs": [],
   "source": [
    "pTrain=norm.inverse_transform(Ptrain)\n",
    "pTest=norm.inverse_transform(Ptest)"
   ]
  },
  {
   "cell_type": "code",
   "execution_count": 18,
   "metadata": {},
   "outputs": [
    {
     "data": {
      "text/plain": [
       "array([0.65812374, 0.71700678, 0.7338423 , 0.7798209 , 0.74658873,\n",
       "       0.70900804, 0.66544445, 0.60626783, 0.57182015, 0.55291671,\n",
       "       0.5704794 , 0.55287833])"
      ]
     },
     "execution_count": 18,
     "metadata": {},
     "output_type": "execute_result"
    }
   ],
   "source": [
    "from sklearn.metrics import mean_squared_error as mse\n",
    "a=[11,22, 44,  89, 133, 178, 223, 267, 312, 356, 401,446]\n",
    "rQuad=np.zeros(len(a))\n",
    "for i,j in zip(range(len(a)),a):\n",
    "    #for j in a:\n",
    "    rQuad[i]=1-(mse(testY_CNN[:j,0],Ptest[:j])/mse(trainY_CNN[:j,0],Ptrain[:j]))\n",
    "rQuad"
   ]
  },
  {
   "cell_type": "code",
   "execution_count": 19,
   "metadata": {},
   "outputs": [
    {
     "data": {
      "image/png": "[encoded data removed]",
      "text/plain": [
       "<Figure size 432x288 with 1 Axes>"
      ]
     },
     "metadata": {},
     "output_type": "display_data"
    }
   ],
   "source": [
    "plt.plot(rQuad)\n",
    "plt.show()"
   ]
  },
  {
   "cell_type": "code",
   "execution_count": 29,
   "metadata": {},
   "outputs": [
    {
     "data": {
      "text/plain": [
       "(array([ 0.00000000e+00,  5.67025709e-05, -5.53822720e-05,  0.00000000e+00,\n",
       "         0.00000000e+00, -5.66844974e-05,  0.00000000e+00,  0.00000000e+00,\n",
       "         0.00000000e+00,  0.00000000e+00,  0.00000000e+00,  0.00000000e+00]),\n",
       " array([ 0.00000000e+00,  0.00000000e+00,  0.00000000e+00,  0.00000000e+00,\n",
       "         0.00000000e+00, -5.65687333e-05,  5.59615146e-05, -5.51728554e-05,\n",
       "        -5.62660935e-05,  0.00000000e+00,  5.65962728e-05,  0.00000000e+00]))"
      ]
     },
     "execution_count": 29,
     "metadata": {},
     "output_type": "execute_result"
    }
   ],
   "source": [
    "xx=[11,22, 44,  89, 133, 178, 223, 267, 312, 356, 401,446]\n",
    "pred_test=np.zeros(len(xx))\n",
    "pred_train=np.zeros(len(xx))\n",
    "for i,j in zip(xx,range(len(pred))):\n",
    "    pred_test[j]=pTest[i]\n",
    "    pred_train[j]=pTrain[i]\n",
    "pred_test,pred_train"
   ]
  },
  {
   "cell_type": "code",
   "execution_count": 39,
   "metadata": {},
   "outputs": [],
   "source": [
    "pdz=pd.DataFrame(pred_train+pred_test).diff(-1).fillna(0).apply(lambda x: x*100)"
   ]
  },
  {
   "cell_type": "code",
   "execution_count": 40,
   "metadata": {},
   "outputs": [
    {
     "data": {
      "text/html": [
       "<div>\n",
       "<style scoped>\n",
       "    .dataframe tbody tr th:only-of-type {\n",
       "        vertical-align: middle;\n",
       "    }\n",
       "\n",
       "    .dataframe tbody tr th {\n",
       "        vertical-align: top;\n",
       "    }\n",
       "\n",
       "    .dataframe thead th {\n",
       "        text-align: right;\n",
       "    }\n",
       "</style>\n",
       "<table border=\"1\" class=\"dataframe\">\n",
       "  <thead>\n",
       "    <tr style=\"text-align: right;\">\n",
       "      <th></th>\n",
       "      <th>0</th>\n",
       "    </tr>\n",
       "  </thead>\n",
       "  <tbody>\n",
       "    <tr>\n",
       "      <th>0</th>\n",
       "      <td>-0.005670</td>\n",
       "    </tr>\n",
       "    <tr>\n",
       "      <th>1</th>\n",
       "      <td>0.011208</td>\n",
       "    </tr>\n",
       "    <tr>\n",
       "      <th>2</th>\n",
       "      <td>-0.005538</td>\n",
       "    </tr>\n",
       "    <tr>\n",
       "      <th>3</th>\n",
       "      <td>0.000000</td>\n",
       "    </tr>\n",
       "    <tr>\n",
       "      <th>4</th>\n",
       "      <td>0.011325</td>\n",
       "    </tr>\n",
       "    <tr>\n",
       "      <th>5</th>\n",
       "      <td>-0.016921</td>\n",
       "    </tr>\n",
       "    <tr>\n",
       "      <th>6</th>\n",
       "      <td>0.011113</td>\n",
       "    </tr>\n",
       "    <tr>\n",
       "      <th>7</th>\n",
       "      <td>0.000109</td>\n",
       "    </tr>\n",
       "    <tr>\n",
       "      <th>8</th>\n",
       "      <td>-0.005627</td>\n",
       "    </tr>\n",
       "    <tr>\n",
       "      <th>9</th>\n",
       "      <td>-0.005660</td>\n",
       "    </tr>\n",
       "    <tr>\n",
       "      <th>10</th>\n",
       "      <td>0.005660</td>\n",
       "    </tr>\n",
       "    <tr>\n",
       "      <th>11</th>\n",
       "      <td>0.000000</td>\n",
       "    </tr>\n",
       "  </tbody>\n",
       "</table>\n",
       "</div>"
      ],
      "text/plain": [
       "           0\n",
       "0  -0.005670\n",
       "1   0.011208\n",
       "2  -0.005538\n",
       "3   0.000000\n",
       "4   0.011325\n",
       "5  -0.016921\n",
       "6   0.011113\n",
       "7   0.000109\n",
       "8  -0.005627\n",
       "9  -0.005660\n",
       "10  0.005660\n",
       "11  0.000000"
      ]
     },
     "execution_count": 40,
     "metadata": {},
     "output_type": "execute_result"
    }
   ],
   "source": [
    "pdz"
   ]
  },
  {
   "cell_type": "code",
   "execution_count": 41,
   "metadata": {},
   "outputs": [
    {
     "data": {
      "image/png": "[encoded data removed]",
      "text/plain": [
       "<Figure size 432x288 with 1 Axes>"
      ]
     },
     "metadata": {},
     "output_type": "display_data"
    }
   ],
   "source": [
    "plt.plot(pdz)\n",
    "plt.show()"
   ]
  },
  {
   "cell_type": "code",
   "execution_count": 26,
   "metadata": {},
   "outputs": [
    {
     "data": {
      "image/png": "[encoded data removed]",
      "text/plain": [
       "<Figure size 432x288 with 1 Axes>"
      ]
     },
     "metadata": {},
     "output_type": "display_data"
    }
   ],
   "source": [
    "plt.plot(pred_train+pred_test)\n",
    "plt.show()"
   ]
  }
 ],
 "metadata": {
  "kernelspec": {
   "display_name": "Python 3.9.12 ('base')",
   "language": "python",
   "name": "python3"
  },
  "language_info": {
   "codemirror_mode": {
    "name": "ipython",
    "version": 3
   },
   "file_extension": ".py",
   "mimetype": "text/x-python",
   "name": "python",
   "nbconvert_exporter": "python",
   "pygments_lexer": "ipython3",
   "version": "3.9.12"
  },
  "orig_nbformat": 4,
  "vscode": {
   "interpreter": {
    "hash": "597e2b791014bf3f975e304e1e72922cb6b9245e0453d34e2c818a7120fc527f"
   }
  }
 },
 "nbformat": 4,
 "nbformat_minor": 2
}
