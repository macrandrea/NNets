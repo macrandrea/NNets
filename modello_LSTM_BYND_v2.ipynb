{
 "cells": [
  {
   "cell_type": "code",
   "execution_count": 1,
   "metadata": {},
   "outputs": [],
   "source": [
    "#imports\n",
    "import pandas as pd\n",
    "import numpy  as np\n",
    "import matplotlib.pyplot as plt\n",
    "import tensorflow as tf\n",
    "import keras\n",
    "from keras import Sequential\n",
    "from keras import Input, layers\n",
    "from keras.models import Model\n",
    "from keras.layers import Flatten, Dense, Dropout, Activation, Input, LSTM, Reshape, Conv2D, MaxPooling2D, LeakyReLU, GlobalMaxPooling1D\n",
    "from keras.optimizers import Adam\n",
    "from keras.utils import np_utils\n",
    "import random\n",
    "from sklearn.metrics import mean_squared_error as mse\n",
    "seed_value = 2020\n",
    "random.seed(seed_value)\n",
    "np.random.seed(seed_value)\n",
    "tf.random.set_seed(seed_value)\n",
    "from sklearn.preprocessing import QuantileTransformer \n",
    "normalizer = QuantileTransformer(output_distribution='normal')"
   ]
  },
  {
   "cell_type": "code",
   "execution_count": 2,
   "metadata": {},
   "outputs": [],
   "source": [
    "#utils functions\n",
    "def midPrice(lob_data):\n",
    "    a=lob_data['AP1'].values.tolist()\n",
    "    b=lob_data['BP1'].values.tolist()\n",
    "    m=np.zeros(len(a))\n",
    "    for i in range(len(a)):\n",
    "        m[i]=(a[i]+b[i])/2\n",
    "    return m\n",
    "def upDown(m):\n",
    "    u_d=np.zeros(len(a))\n",
    "    for i in range(1,len(a)):\n",
    "        if m[i-1]>m[i]:#scende il prezzo\n",
    "            u_d[i-1]=-1\n",
    "        elif m[i-1]<m[i]:#sale il prezzo\n",
    "            u_d[i-1]=1\n",
    "        else:\n",
    "            u_d[i-1]=0\n",
    "    return u_d\n",
    "\n",
    "def ret(m):\n",
    "    r=np.zeros(len(m))\n",
    "    for i in range(1,len(m)):\n",
    "        r[i]=m[i-1]-m[i]\n",
    "    return r\n",
    "\n",
    "def deltaT(m):\n",
    "    N=0\n",
    "    d=np.zeros(len(m))\n",
    "    for i in range(1,len(m)):\n",
    "        d[i]=m[i-1]-m[i]\n",
    "        if [i]!=0:\n",
    "            N+=1\n",
    "    return int((2.34*10**7)/N)\n",
    "\n",
    "def doHk(deltT,k):\n",
    "    hk=np.zeros(k)\n",
    "    for i in range(k):\n",
    "        hk[i]=np.int16((1/5)*i*deltT)\n",
    "    return hk\n",
    "\n",
    "def retHk(m,hk):\n",
    "    ret=np.zeros(100)\n",
    "    for i,k in zip(range(len(m)),hk):\n",
    "        ret[i]=m[i+k]-m[i]\n",
    "    return ret\n",
    "\n",
    "def OF_1(ld):\n",
    "    of=np.zeros((len(ld),6))\n",
    "    for i,ii in zip(range(1,12,2),range(0,6,2)): #giro sui prezzi ask e volumi ask di conseguenza\n",
    "        for j in range(1,len(ld)): #giro sulle righe\n",
    "            #ask\n",
    "            if ld[j][i-1]>ld[j-1][i-1]: #p_t>p_t-1\n",
    "                of[j-1][ii]=-1*ld[j][i]\n",
    "            elif ld[j][i-1]<ld[j-1][i-1]: #p_t<p_t-1\n",
    "                of[j-1][ii]=ld[j][i]\n",
    "            elif ld[j][i-1]==ld[j-1][i-1]: #p_t=p_t-1\n",
    "                of[j-1][ii]=ld[j][i]-ld[j-1][i]\n",
    "    for w,ww in zip(range(3,12,4),range(1,7,2)):\n",
    "        for jj in range(1,len(ld)):    \n",
    "            #bid\n",
    "            if ld[jj][w-1]>ld[jj-1][w-1]: #p_t>p_t-1\n",
    "                of[jj-1][ww]=ld[jj][w]\n",
    "            elif ld[jj][w-1]<ld[jj-1][w-1]: #p_t<p_t-1\n",
    "                of[jj-1][ww]=-1*ld[jj][w]\n",
    "            elif ld[jj][w-1]==ld[jj-1][w-1]: #p_t=p_t-1\n",
    "                of[jj-1][ww]=ld[jj][w]-ld[jj-1][w]\n",
    "    return of\n",
    "\n",
    "def taglia_e_cuci(v):\n",
    "    hi=np.quantile(v,0.005)\n",
    "    lo=np.quantile(v, 0.995)\n",
    "    b=np.clip(v, hi,lo)\n",
    "    return b"
   ]
  },
  {
   "cell_type": "code",
   "execution_count": 3,
   "metadata": {},
   "outputs": [
    {
     "data": {
      "image/png": "[encoded data removed]",
      "text/plain": [
       "<Figure size 432x288 with 1 Axes>"
      ]
     },
     "metadata": {
      "needs_background": "light"
     },
     "output_type": "display_data"
    }
   ],
   "source": [
    "#load data e fa midprice/diff cum\n",
    "lob_data=pd.read_csv('/Users/macri/Desktop/PROJECT/out_Nuovo.csv') #out_1 out_Nuovo\n",
    "lob_data.reset_index(drop=True,inplace=True)\n",
    "lob_data.drop(['Unnamed: 0'], axis=1,inplace=True)\n",
    "C= int(len(lob_data)*1/4)\n",
    "b=lob_data.iloc[ :1000006].copy()\n",
    "ld=b.values.tolist()\n",
    "lob_data=b\n",
    "ld=lob_data.values.tolist()\n",
    "aa=OF_1(ld) #fa Order Flow\n",
    "bCols=np.ravel([['aOF_%d'%level, 'bOF_%d'%level] for level in [1,2,3]])\n",
    "of_data=pd.DataFrame(aa, columns=bCols)\n",
    "m=pd.DataFrame(midPrice(lob_data),columns=['m'])#.plot()\n",
    "m['r']=m['m'].pct_change()#()#calcola le differenze di midprice ogni 10 eventi ->differenze secondo il vettore h_K\n",
    "m['rCum']=m['r'].cumsum()\n",
    "of_data['r']=m['rCum']#*100\n",
    "of_data.dropna(inplace=True)\n",
    "of_data['r'].plot()\n",
    "plt.title('cumRets')\n",
    "plt.show()"
   ]
  },
  {
   "cell_type": "code",
   "execution_count": 4,
   "metadata": {},
   "outputs": [],
   "source": [
    "offlo=of_data.apply(lambda x: taglia_e_cuci(x))"
   ]
  },
  {
   "cell_type": "code",
   "execution_count": 13,
   "metadata": {},
   "outputs": [
    {
     "data": {
      "text/plain": [
       "((10000, 1), (10000, 100, 6), (10000, 1))"
      ]
     },
     "execution_count": 13,
     "metadata": {},
     "output_type": "execute_result"
    }
   ],
   "source": [
    "#fa dataset\n",
    "y=offlo['r'].to_numpy()\n",
    "idx=10000\n",
    "horiz=1\n",
    "r=np.empty((idx,horiz))\n",
    "med=np.empty((idx,horiz))\n",
    "h=[ 22]#, 44, 89, 133, 178, 223, 267, 312, 356, 401]\n",
    "\n",
    "for i in range(idx): #righe\n",
    "    for ii,iii in zip(range(horiz),h): #colonne, steps\n",
    "        r[i,ii]=y[i+iii]-y[i]\n",
    "        med[i][ii]=np.mean(y[:i+iii])\n",
    "\n",
    "x_vec=offlo[['aOF_1','bOF_1','aOF_2','bOF_2','aOF_3','bOF_3']][:1000000]\n",
    "x=x_vec.to_numpy()\n",
    "x_vecc=x.reshape(-1,100, 6)\n",
    "erre=r\n",
    "\n",
    "r.shape, x_vecc.shape, med.shape"
   ]
  },
  {
   "cell_type": "code",
   "execution_count": 14,
   "metadata": {},
   "outputs": [
    {
     "name": "stdout",
     "output_type": "stream",
     "text": [
      "(9000, 100, 6) (9000, 1)\n",
      "(999, 100, 6) (999, 1)\n",
      "(1, 100, 6) (1, 1)\n"
     ]
    }
   ],
   "source": [
    "##fa supervised dataset: train, val e test\n",
    "#l=len(x_vecc)\n",
    "#a=int(9000)\n",
    "#b=int(999)\n",
    "#x_vecc_train=x_vecc[:a]\n",
    "#r_train     =r[:a]\n",
    "#x_vecc_val  =x_vecc[a:a+b]\n",
    "#r_val       =r[a:a+b]\n",
    "#x_vecc_test =x_vecc[a+b:a+b+1]\n",
    "#r_test      =r[a+b:a+b+1]\n",
    "#print(x_vecc_train.shape, r_train.shape)\n",
    "#print(x_vecc_val.shape,   r_val.shape)\n",
    "#print(x_vecc_test.shape,  r_test.shape)\n",
    "#\n",
    "#fa supervised dataset: train, val e test\n",
    "l=len(x_vecc)\n",
    "a=int(9000)\n",
    "b=int(999)\n",
    "x_vecc_train=x_vecc[:a]\n",
    "\n",
    "mu=x_vecc_train.mean()\n",
    "sd=x_vecc_train.std()\n",
    "stdize=lambda x: x/sd\n",
    "\n",
    "\n",
    "x_vecc_train=x_vecc[:a]/sd\n",
    "r_train     =r[:a]\n",
    "x_vecc_val  =x_vecc[a:a+b]/sd\n",
    "r_val       =r[a:a+b]\n",
    "x_vecc_test =x_vecc[a+b:a+b+1]/sd\n",
    "r_test      =r[a+b:a+b+1]\n",
    "\n",
    "\n",
    "#fflo=of_data.apply(lambda x: (x-x.mean())/x.std())\n",
    "print(x_vecc_train.shape, r_train.shape)\n",
    "print(x_vecc_val.shape,   r_val.shape)\n",
    "print(x_vecc_test.shape,  r_test.shape)\n"
   ]
  },
  {
   "cell_type": "code",
   "execution_count": 15,
   "metadata": {},
   "outputs": [
    {
     "name": "stdout",
     "output_type": "stream",
     "text": [
      "Epoch 1/50\n",
      "36/36 [==============================] - 10s 245ms/step - loss: 3.1694e-04 - val_loss: 1.5208e-04\n",
      "Epoch 2/50\n",
      "36/36 [==============================] - 9s 242ms/step - loss: 1.0778e-04 - val_loss: 8.8791e-05\n",
      "Epoch 3/50\n",
      "36/36 [==============================] - 9s 243ms/step - loss: 7.2776e-05 - val_loss: 6.5061e-05\n",
      "Epoch 4/50\n",
      "36/36 [==============================] - 9s 251ms/step - loss: 5.6637e-05 - val_loss: 5.2466e-05\n",
      "Epoch 5/50\n",
      "36/36 [==============================] - 9s 239ms/step - loss: 4.8579e-05 - val_loss: 4.7914e-05\n",
      "Epoch 6/50\n",
      "36/36 [==============================] - 10s 289ms/step - loss: 4.1944e-05 - val_loss: 4.5926e-05\n",
      "Epoch 7/50\n",
      "36/36 [==============================] - 10s 285ms/step - loss: 3.9518e-05 - val_loss: 3.9021e-05\n",
      "Epoch 8/50\n",
      "36/36 [==============================] - 10s 284ms/step - loss: 3.5427e-05 - val_loss: 3.6286e-05\n",
      "Epoch 9/50\n",
      "36/36 [==============================] - 10s 287ms/step - loss: 3.2808e-05 - val_loss: 3.3802e-05\n",
      "Epoch 10/50\n",
      "36/36 [==============================] - 10s 271ms/step - loss: 2.9286e-05 - val_loss: 3.4744e-05\n",
      "Epoch 11/50\n",
      "36/36 [==============================] - 10s 279ms/step - loss: 2.8128e-05 - val_loss: 3.0216e-05\n",
      "Epoch 12/50\n",
      "36/36 [==============================] - 10s 277ms/step - loss: 2.5932e-05 - val_loss: 3.0851e-05\n",
      "Epoch 13/50\n",
      "36/36 [==============================] - 10s 275ms/step - loss: 2.5402e-05 - val_loss: 2.8433e-05\n",
      "Epoch 14/50\n",
      "36/36 [==============================] - 10s 276ms/step - loss: 2.4350e-05 - val_loss: 2.8108e-05\n",
      "Epoch 15/50\n",
      "36/36 [==============================] - 10s 271ms/step - loss: 2.2993e-05 - val_loss: 3.0568e-05\n",
      "Epoch 16/50\n",
      "36/36 [==============================] - 10s 274ms/step - loss: 2.1200e-05 - val_loss: 2.1658e-05\n",
      "Epoch 17/50\n",
      "36/36 [==============================] - 10s 283ms/step - loss: 2.0441e-05 - val_loss: 2.6580e-05\n",
      "Epoch 18/50\n",
      "36/36 [==============================] - 10s 276ms/step - loss: 1.9755e-05 - val_loss: 2.3261e-05\n",
      "Epoch 19/50\n",
      "36/36 [==============================] - 10s 281ms/step - loss: 1.9322e-05 - val_loss: 2.1854e-05\n",
      "Epoch 19: early stopping\n"
     ]
    }
   ],
   "source": [
    "#architettura della rete\n",
    "num_units = 64\n",
    "activation_function = 'leaky_relu'\n",
    "adam = keras.optimizers.Adam(learning_rate=0.0001)\n",
    "loss_function = 'mse'\n",
    "batch_size = 250\n",
    "num_epochs = 50\n",
    "i = Input(shape=(100, 6))\n",
    "x = LSTM(64, return_sequences=True)(i)\n",
    "x = keras.layers.LeakyReLU(alpha=0.01)(x)\n",
    "x = LSTM(64, return_sequences=True)(x)\n",
    "x = keras.layers.LeakyReLU(alpha=0.01)(x)\n",
    "x = keras.layers.Dropout(0.5)(x, training=True)\n",
    "#x = LSTM(64, return_sequences=True)(x)\n",
    "x = GlobalMaxPooling1D()(x)\n",
    "x = Dense(1, activation='leaky_relu')(x)\n",
    "\n",
    "\n",
    "model = Model(i, x)\n",
    "\n",
    "\n",
    "callback=tf.keras.callbacks.EarlyStopping(\n",
    "    monitor='val_loss',\n",
    "    min_delta=0,\n",
    "    patience=3,\n",
    "    verbose=1,\n",
    "    mode='auto',\n",
    "    baseline=None,\n",
    "    restore_best_weights=False\n",
    ")\n",
    "\n",
    "model.compile(optimizer = adam, loss = loss_function)\n",
    "\n",
    "r=model.fit(x_vecc_train, r_train, batch_size = batch_size, epochs = num_epochs,validation_data=(x_vecc_val, r_val),callbacks=[callback])"
   ]
  },
  {
   "cell_type": "code",
   "execution_count": 19,
   "metadata": {},
   "outputs": [
    {
     "data": {
      "image/png": "[encoded data removed]",
      "text/plain": [
       "<Figure size 432x288 with 1 Axes>"
      ]
     },
     "metadata": {
      "needs_background": "light"
     },
     "output_type": "display_data"
    }
   ],
   "source": [
    "plt.plot(r.history['loss'], label='train loss')\n",
    "plt.plot(r.history['val_loss'], label='test loss')\n",
    "plt.legend()\n",
    "plt.show()"
   ]
  },
  {
   "cell_type": "code",
   "execution_count": 20,
   "metadata": {},
   "outputs": [
    {
     "name": "stdout",
     "output_type": "stream",
     "text": [
      "282/282 [==============================] - 4s 13ms/step\n",
      "1/1 [==============================] - 0s 16ms/step\n"
     ]
    }
   ],
   "source": [
    "Ptrain= model.predict(x_vecc_train)\n",
    "Ptest = model.predict(x_vecc_test)\n"
   ]
  },
  {
   "cell_type": "code",
   "execution_count": 26,
   "metadata": {},
   "outputs": [
    {
     "data": {
      "text/plain": [
       "array([[0.93058332]])"
      ]
     },
     "execution_count": 26,
     "metadata": {},
     "output_type": "execute_result"
    }
   ],
   "source": [
    "true=r_test#normalizer.inverse_transform(r_test.reshape(-1,1)).flatten()\n",
    "fcst=Ptest#normalizer.inverse_transform(Ptest.reshape(-1,1)).flatten()\n",
    "u=np.array([np.mean(true)]*10).flatten()\n",
    "num=(true-fcst)**2\n",
    "den=(erre[0][-1:].flatten()-med[0])**2\n",
    "r2OutS=((den-num)/den)#/100\n",
    "r2OutS\n",
    "#plt.plot(r2OutS[0])\n",
    "#plt.ylabel('R2OS(%)')\n",
    "#plt.xlabel('time');"
   ]
  },
  {
   "cell_type": "code",
   "execution_count": 27,
   "metadata": {},
   "outputs": [
    {
     "data": {
      "text/plain": [
       "array([[0.93058332]])"
      ]
     },
     "execution_count": 27,
     "metadata": {},
     "output_type": "execute_result"
    }
   ],
   "source": [
    "r2OutS"
   ]
  },
  {
   "cell_type": "code",
   "execution_count": 12,
   "metadata": {},
   "outputs": [],
   "source": [
    "#from sklearn.metrics import mean_squared_error as me\n",
    "#def calcola_mse(y_true,y_pred):\n",
    "#    ms=np.zeros(10)\n",
    "#    for i in range(10):\n",
    "#        ms[i]=me(y_true[0][:i+1],y_pred[0][:i+1])\n",
    "#    return ms\n",
    "#num=calcola_mse(r_test,Ptest)\n",
    "#den=calcola_mse(r_train,Ptrain)\n",
    "#r2LSTM=1-(num/den)\n",
    "#r2LSTM.flatten()\n",
    "#plt.plot(r2LSTM);"
   ]
  }
 ],
 "metadata": {
  "kernelspec": {
   "display_name": "Python 3.9.12 ('base')",
   "language": "python",
   "name": "python3"
  },
  "language_info": {
   "codemirror_mode": {
    "name": "ipython",
    "version": 3
   },
   "file_extension": ".py",
   "mimetype": "text/x-python",
   "name": "python",
   "nbconvert_exporter": "python",
   "pygments_lexer": "ipython3",
   "version": "3.9.12"
  },
  "orig_nbformat": 4,
  "vscode": {
   "interpreter": {
    "hash": "597e2b791014bf3f975e304e1e72922cb6b9245e0453d34e2c818a7120fc527f"
   }
  }
 },
 "nbformat": 4,
 "nbformat_minor": 2
}
