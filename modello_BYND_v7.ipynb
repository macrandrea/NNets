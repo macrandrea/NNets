{
 "cells": [
  {
   "cell_type": "code",
   "execution_count": 1,
   "metadata": {},
   "outputs": [],
   "source": [
    "#imports\n",
    "import pandas as pd\n",
    "import numpy  as np\n",
    "import matplotlib.pyplot as plt\n",
    "import tensorflow as tf\n",
    "import keras\n",
    "from keras import Input, layers\n",
    "from keras.models import Model\n",
    "from keras.layers import Flatten, Dense, Dropout, Activation, Input, LSTM, Reshape, Conv2D, MaxPooling2D, LeakyReLU\n",
    "from keras.optimizers import Adam\n",
    "from keras.utils import np_utils\n",
    "import random\n",
    "from sklearn.metrics import mean_squared_error as mse\n",
    "seed_value = 2020\n",
    "random.seed(seed_value)\n",
    "np.random.seed(seed_value)\n",
    "tf.random.set_seed(seed_value)\n",
    "from sklearn.preprocessing import QuantileTransformer \n",
    "normalizer = QuantileTransformer(output_distribution='normal')"
   ]
  },
  {
   "cell_type": "code",
   "execution_count": 2,
   "metadata": {},
   "outputs": [],
   "source": [
    "#utils functions\n",
    "def midPrice(lob_data):\n",
    "    a=lob_data['AP1'].values.tolist()\n",
    "    b=lob_data['BP1'].values.tolist()\n",
    "    m=np.zeros(len(a))\n",
    "    for i in range(len(a)):\n",
    "        m[i]=(a[i]+b[i])/2\n",
    "    return m\n",
    "def upDown(m):\n",
    "    u_d=np.zeros(len(a))\n",
    "    for i in range(1,len(a)):\n",
    "        if m[i-1]>m[i]:#scende il prezzo\n",
    "            u_d[i-1]=-1\n",
    "        elif m[i-1]<m[i]:#sale il prezzo\n",
    "            u_d[i-1]=1\n",
    "        else:\n",
    "            u_d[i-1]=0\n",
    "    return u_d\n",
    "\n",
    "def ret(m):\n",
    "    r=np.zeros(len(m))\n",
    "    for i in range(1,len(m)):\n",
    "        r[i]=m[i-1]-m[i]\n",
    "    return r\n",
    "\n",
    "def deltaT(m):\n",
    "    N=0\n",
    "    d=np.zeros(len(m))\n",
    "    for i in range(1,len(m)):\n",
    "        d[i]=m[i-1]-m[i]\n",
    "        if [i]!=0:\n",
    "            N+=1\n",
    "    return int((2.34*10**7)/N)\n",
    "\n",
    "def doHk(deltT,k):\n",
    "    hk=np.zeros(k)\n",
    "    for i in range(k):\n",
    "        hk[i]=np.int16((1/5)*i*deltT)\n",
    "    return hk\n",
    "\n",
    "def retHk(m,hk):\n",
    "    ret=np.zeros(100)\n",
    "    for i,k in zip(range(len(m)),hk):\n",
    "        ret[i]=m[i+k]-m[i]\n",
    "    return ret\n",
    "\n",
    "def OF_1(ld):\n",
    "    of=np.zeros((len(ld),6))\n",
    "    for i,ii in zip(range(1,12,2),range(0,6,2)): #giro sui prezzi ask e volumi ask di conseguenza\n",
    "        for j in range(1,len(ld)): #giro sulle righe\n",
    "            #ask\n",
    "            if ld[j][i-1]>ld[j-1][i-1]: #p_t>p_t-1\n",
    "                of[j-1][ii]=-1*ld[j][i]\n",
    "            elif ld[j][i-1]<ld[j-1][i-1]: #p_t<p_t-1\n",
    "                of[j-1][ii]=ld[j][i]\n",
    "            elif ld[j][i-1]==ld[j-1][i-1]: #p_t=p_t-1\n",
    "                of[j-1][ii]=ld[j][i]-ld[j-1][i]\n",
    "    for w,ww in zip(range(3,12,4),range(1,7,2)):\n",
    "        for jj in range(1,len(ld)):    \n",
    "            #bid\n",
    "            if ld[jj][w-1]>ld[jj-1][w-1]: #p_t>p_t-1\n",
    "                of[jj-1][ww]=ld[jj][w]\n",
    "            elif ld[jj][w-1]<ld[jj-1][w-1]: #p_t<p_t-1\n",
    "                of[jj-1][ww]=-1*ld[jj][w]\n",
    "            elif ld[jj][w-1]==ld[jj-1][w-1]: #p_t=p_t-1\n",
    "                of[jj-1][ww]=ld[jj][w]-ld[jj-1][w]\n",
    "    return of\n",
    "    \n",
    "from scipy import stats\n",
    "def taglia_e_cuci(v):\n",
    "    hi=np.quantile(v,0.0005)\n",
    "    lo=np.quantile(v, 0.9995)\n",
    "    b=np.clip(v, hi,lo)\n",
    "    z=normalizer.fit_transform((b.values.reshape(-1,1))).flatten().tolist()\n",
    "    return b\n",
    "\n",
    "def MSEbmk(r):\n",
    "    rBar=np.mean(r)\n",
    "    h=[ 22, 44, 89, 133, 178, 223, 267, 312, 356, 401]\n",
    "    emq=np.empty(len(h))\n",
    "    for i,ii in zip(range(1,len(r)),h):\n",
    "        emq[i]=((rBar-r[0,ii])/rBar)**2#*(1/(len(r)-1))\n",
    "    return emq"
   ]
  },
  {
   "cell_type": "code",
   "execution_count": 3,
   "metadata": {},
   "outputs": [
    {
     "data": {
      "image/png": "[encoded data removed]",
      "text/plain": [
       "<Figure size 432x288 with 1 Axes>"
      ]
     },
     "metadata": {
      "needs_background": "light"
     },
     "output_type": "display_data"
    }
   ],
   "source": [
    "#load data e fa midprice/diff cum\n",
    "lob_data=pd.read_csv('/Users/macri/Desktop/PROJECT/out_Nuovo.csv') #out_1 out_Nuovo\n",
    "lob_data.reset_index(drop=True,inplace=True)\n",
    "lob_data.drop(['Unnamed: 0'], axis=1,inplace=True)\n",
    "C= int(len(lob_data))\n",
    "b=lob_data.iloc[ :C].copy()\n",
    "ld=b.values.tolist()\n",
    "lob_data=b\n",
    "ld=lob_data.values.tolist()\n",
    "aa=OF_1(ld) #fa Order Flow\n",
    "bCols=np.ravel([['aOF_%d'%level, 'bOF_%d'%level] for level in [1,2,3]])\n",
    "of_data=pd.DataFrame(aa, columns=bCols)\n",
    "m=pd.DataFrame(midPrice(lob_data),columns=['m'])#.plot()\n",
    "m['r']=m['m'].pct_change()#diff()#calcola le differenze di midprice ogni 10 eventi ->differenze secondo il vettore h_K\n",
    "m['rCum']=m['r'].cumsum()\n",
    "of_data['r']=m['rCum']#*100\n",
    "of_data.dropna(inplace=True)\n",
    "of_data.plot()\n",
    "plt.title('cumRets')\n",
    "plt.show()"
   ]
  },
  {
   "cell_type": "code",
   "execution_count": 4,
   "metadata": {},
   "outputs": [
    {
     "data": {
      "image/png": "[encoded data removed]",
      "text/plain": [
       "<Figure size 432x288 with 1 Axes>"
      ]
     },
     "metadata": {
      "needs_background": "light"
     },
     "output_type": "display_data"
    }
   ],
   "source": [
    "offlo=of_data.apply(lambda x: taglia_e_cuci(x))\n",
    "offlo.plot();"
   ]
  },
  {
   "cell_type": "code",
   "execution_count": 5,
   "metadata": {},
   "outputs": [
    {
     "data": {
      "text/plain": [
       "((10000, 1), (10000, 100, 6, 1), (10000, 1))"
      ]
     },
     "execution_count": 5,
     "metadata": {},
     "output_type": "execute_result"
    }
   ],
   "source": [
    "#fa dataset\n",
    "y=offlo['r'].to_numpy()\n",
    "idx=10000\n",
    "horiz=1\n",
    "r=np.empty((idx,horiz))\n",
    "med=np.empty((idx,horiz))\n",
    "h=[ 22]#, 44, 89, 133, 178, 223, 267, 312, 356, 401]\n",
    "\n",
    "for i in range(idx): #righe\n",
    "    for ii,iii in zip(range(horiz),h): #colonne, steps\n",
    "        r[i,ii]=y[i+iii]-y[i]\n",
    "        med[i][ii]=np.mean(y[:i+iii])\n",
    "\n",
    "x_vec=offlo[['aOF_1','bOF_1','aOF_2','bOF_2','aOF_3','bOF_3']][:1000000]\n",
    "x=x_vec.to_numpy()\n",
    "x_vecc=x.reshape(-1,100, 6, 1)\n",
    "erre=r\n",
    "\n",
    "r.shape, x_vecc.shape, med.shape"
   ]
  },
  {
   "cell_type": "code",
   "execution_count": 6,
   "metadata": {},
   "outputs": [
    {
     "name": "stdout",
     "output_type": "stream",
     "text": [
      "(9000, 100, 6, 1) (9000, 1)\n",
      "(999, 100, 6, 1) (999, 1)\n",
      "(1, 100, 6, 1) (1, 1)\n"
     ]
    }
   ],
   "source": [
    "##fa supervised dataset: train, val e test\n",
    "#l=len(x_vecc)\n",
    "#a=int(9900)\n",
    "#b=int(99)\n",
    "#sd= np.std(x_vecc[:a])\n",
    "#x_vecc_train=x_vecc[:a]\n",
    "#r_train     =r[:a]\n",
    "#x_vecc_val  =x_vecc[a:a+b]\n",
    "#r_val       =r[a:a+b]\n",
    "#x_vecc_test =x_vecc[a+b:a+b+1]\n",
    "#r_test      =r[a+b:a+b+1]\n",
    "#print(x_vecc_train.shape, r_train.shape)\n",
    "#print(x_vecc_val.shape,   r_val.shape)\n",
    "#print(x_vecc_test.shape,  r_test.shape)\n",
    "#\n",
    "#fa supervised dataset: train, val e test\n",
    "l=len(x_vecc)\n",
    "a=int(9000)\n",
    "b=int(999)\n",
    "x_vecc_train=x_vecc[:a]\n",
    "\n",
    "mu=x_vecc_train.mean()\n",
    "sd=x_vecc_train.std()\n",
    "stdize=lambda x: x/sd\n",
    "\n",
    "\n",
    "x_vecc_train=x_vecc[:a]/sd\n",
    "r_train     =r[:a]\n",
    "x_vecc_val  =x_vecc[a:a+b]/sd\n",
    "r_val       =r[a:a+b]\n",
    "x_vecc_test =x_vecc[a+b:a+b+1]/sd\n",
    "r_test      =r[a+b:a+b+1]\n",
    "\n",
    "\n",
    "#fflo=of_data.apply(lambda x: (x-x.mean())/x.std())\n",
    "print(x_vecc_train.shape, r_train.shape)\n",
    "print(x_vecc_val.shape,   r_val.shape)\n",
    "print(x_vecc_test.shape,  r_test.shape)\n"
   ]
  },
  {
   "cell_type": "code",
   "execution_count": 7,
   "metadata": {},
   "outputs": [
    {
     "name": "stdout",
     "output_type": "stream",
     "text": [
      "Model: \"model\"\n",
      "__________________________________________________________________________________________________\n",
      " Layer (type)                   Output Shape         Param #     Connected to                     \n",
      "==================================================================================================\n",
      " input_1 (InputLayer)           [(None, 100, 6, 1)]  0           []                               \n",
      "                                                                                                  \n",
      " conv2d (Conv2D)                (None, 100, 3, 32)   96          ['input_1[0][0]']                \n",
      "                                                                                                  \n",
      " leaky_re_lu (LeakyReLU)        (None, 100, 3, 32)   0           ['conv2d[0][0]']                 \n",
      "                                                                                                  \n",
      " conv2d_1 (Conv2D)              (None, 100, 3, 32)   4128        ['leaky_re_lu[0][0]']            \n",
      "                                                                                                  \n",
      " leaky_re_lu_1 (LeakyReLU)      (None, 100, 3, 32)   0           ['conv2d_1[0][0]']               \n",
      "                                                                                                  \n",
      " conv2d_2 (Conv2D)              (None, 100, 3, 32)   4128        ['leaky_re_lu_1[0][0]']          \n",
      "                                                                                                  \n",
      " leaky_re_lu_2 (LeakyReLU)      (None, 100, 3, 32)   0           ['conv2d_2[0][0]']               \n",
      "                                                                                                  \n",
      " conv2d_3 (Conv2D)              (None, 100, 1, 16)   5136        ['leaky_re_lu_2[0][0]']          \n",
      "                                                                                                  \n",
      " leaky_re_lu_3 (LeakyReLU)      (None, 100, 1, 16)   0           ['conv2d_3[0][0]']               \n",
      "                                                                                                  \n",
      " conv2d_4 (Conv2D)              (None, 100, 1, 64)   1088        ['leaky_re_lu_3[0][0]']          \n",
      "                                                                                                  \n",
      " conv2d_6 (Conv2D)              (None, 100, 1, 64)   1088        ['leaky_re_lu_3[0][0]']          \n",
      "                                                                                                  \n",
      " leaky_re_lu_4 (LeakyReLU)      (None, 100, 1, 64)   0           ['conv2d_4[0][0]']               \n",
      "                                                                                                  \n",
      " leaky_re_lu_6 (LeakyReLU)      (None, 100, 1, 64)   0           ['conv2d_6[0][0]']               \n",
      "                                                                                                  \n",
      " max_pooling2d (MaxPooling2D)   (None, 100, 1, 16)   0           ['leaky_re_lu_3[0][0]']          \n",
      "                                                                                                  \n",
      " conv2d_5 (Conv2D)              (None, 100, 1, 64)   12352       ['leaky_re_lu_4[0][0]']          \n",
      "                                                                                                  \n",
      " conv2d_7 (Conv2D)              (None, 100, 1, 64)   20544       ['leaky_re_lu_6[0][0]']          \n",
      "                                                                                                  \n",
      " conv2d_8 (Conv2D)              (None, 100, 1, 64)   1088        ['max_pooling2d[0][0]']          \n",
      "                                                                                                  \n",
      " leaky_re_lu_5 (LeakyReLU)      (None, 100, 1, 64)   0           ['conv2d_5[0][0]']               \n",
      "                                                                                                  \n",
      " leaky_re_lu_7 (LeakyReLU)      (None, 100, 1, 64)   0           ['conv2d_7[0][0]']               \n",
      "                                                                                                  \n",
      " leaky_re_lu_8 (LeakyReLU)      (None, 100, 1, 64)   0           ['conv2d_8[0][0]']               \n",
      "                                                                                                  \n",
      " concatenate (Concatenate)      (None, 100, 1, 192)  0           ['leaky_re_lu_5[0][0]',          \n",
      "                                                                  'leaky_re_lu_7[0][0]',          \n",
      "                                                                  'leaky_re_lu_8[0][0]']          \n",
      "                                                                                                  \n",
      " reshape (Reshape)              (None, 100, 192)     0           ['concatenate[0][0]']            \n",
      "                                                                                                  \n",
      " dropout (Dropout)              (None, 100, 192)     0           ['reshape[0][0]']                \n",
      "                                                                                                  \n",
      " lstm (LSTM)                    (None, 64)           65792       ['dropout[0][0]']                \n",
      "                                                                                                  \n",
      " dense (Dense)                  (None, 1)            65          ['lstm[0][0]']                   \n",
      "                                                                                                  \n",
      "==================================================================================================\n",
      "Total params: 115,505\n",
      "Trainable params: 115,505\n",
      "Non-trainable params: 0\n",
      "__________________________________________________________________________________________________\n"
     ]
    }
   ],
   "source": [
    "#architettura della rete\n",
    "def create_nn(T, NF,number_of_lstm):\n",
    "\n",
    "    input_lmd = tf.keras.Input(shape=(T, NF, 1))\n",
    "\n",
    "    conv_first1 = Conv2D(32, kernel_size=(1, 2), strides=(1, 2))(input_lmd)\n",
    "    conv_first1 = keras.layers.LeakyReLU(alpha=0.01)(conv_first1)\n",
    "    conv_first1 = Conv2D(32, (4, 1), padding='same')(conv_first1)\n",
    "    conv_first1 = keras.layers.LeakyReLU(alpha=0.01)(conv_first1)\n",
    "    conv_first1 = Conv2D(32, (4, 1), padding='same')(conv_first1)\n",
    "    conv_first1 = keras.layers.LeakyReLU(alpha=0.01)(conv_first1)\n",
    "    #\n",
    "    layer_x = layers.Conv2D(filters=16, kernel_size=(10,1),strides=(1,10), padding='same')(conv_first1)\n",
    "    layer_x = layers.LeakyReLU(alpha=0.01)(layer_x)\n",
    "    # inception\n",
    "    convsecond_1 = Conv2D(64, (1, 1), padding='same', strides=(1,1))(layer_x)\n",
    "    convsecond_1 = keras.layers.LeakyReLU(alpha=0.01)(convsecond_1)\n",
    "    convsecond_1 = Conv2D(64, (3, 1), padding='same', strides=(1,1))(convsecond_1)\n",
    "    convsecond_1 = keras.layers.LeakyReLU(alpha=0.01)(convsecond_1)\n",
    "\n",
    "    convsecond_2 = Conv2D(64, (1, 1), padding='same', strides=(1,1))(layer_x)\n",
    "    convsecond_2 = keras.layers.LeakyReLU(alpha=0.01)(convsecond_2)\n",
    "    convsecond_2 = Conv2D(64, (5, 1), padding='same', strides=(1,1))(convsecond_2)\n",
    "    convsecond_2 = keras.layers.LeakyReLU(alpha=0.01)(convsecond_2)\n",
    "\n",
    "    convsecond_3 = MaxPooling2D((3, 1), strides=(1, 1), padding='same')(layer_x)\n",
    "    convsecond_3 = Conv2D(64, (1, 1), padding='same', strides=(1,1))(convsecond_3)\n",
    "    convsecond_3 = keras.layers.LeakyReLU(alpha=0.01)(convsecond_3)\n",
    "    \n",
    "    convsecond_output = keras.layers.concatenate([convsecond_1, convsecond_2, convsecond_3], axis=3)\n",
    "    conv_reshape = Reshape((int(convsecond_output.shape[1]), int(convsecond_output.shape[3])))(convsecond_output)\n",
    "    conv_reshape = keras.layers.Dropout(0.7, noise_shape=(None, 1, int(conv_reshape.shape[2])))(conv_reshape, training=True)\n",
    "\n",
    "    #  LSTM layer\n",
    "    conv_lstm = LSTM(number_of_lstm)(conv_reshape)\n",
    "    # output layer\n",
    "    out = Dense(1, activation='leaky_relu')(conv_lstm)\n",
    "    model = Model(inputs=input_lmd, outputs=out)\n",
    "    adam = keras.optimizers.Adam(learning_rate=0.0001)\n",
    "    model.compile(optimizer=adam, loss='mse')#, metrics=['accuracy']\n",
    "\n",
    "    return model\n",
    "  \n",
    "deeplob = create_nn(100, 6,64)\n",
    "\n",
    "deeplob.summary()\n",
    "checkpoint_filepath = './model_tensorflow2/weights'\n"
   ]
  },
  {
   "cell_type": "code",
   "execution_count": 8,
   "metadata": {},
   "outputs": [],
   "source": [
    "#early stopping: pazienza=3 e check val_loss\n",
    "callback=tf.keras.callbacks.EarlyStopping(\n",
    "    monitor='val_loss',\n",
    "    min_delta=0,\n",
    "    patience=3,\n",
    "    verbose=1,\n",
    "    mode='auto',\n",
    "    baseline=None,\n",
    "    restore_best_weights=False\n",
    ")"
   ]
  },
  {
   "cell_type": "code",
   "execution_count": 9,
   "metadata": {},
   "outputs": [
    {
     "name": "stdout",
     "output_type": "stream",
     "text": [
      "Epoch 1/50\n",
      "36/36 [==============================] - 13s 303ms/step - loss: 2.0840e-04 - val_loss: 1.4588e-04\n",
      "Epoch 2/50\n",
      "36/36 [==============================] - 11s 294ms/step - loss: 4.6812e-05 - val_loss: 6.2891e-05\n",
      "Epoch 3/50\n",
      "36/36 [==============================] - 10s 291ms/step - loss: 3.9378e-05 - val_loss: 4.2228e-05\n",
      "Epoch 4/50\n",
      "36/36 [==============================] - 11s 294ms/step - loss: 2.4101e-05 - val_loss: 2.7934e-05\n",
      "Epoch 5/50\n",
      "36/36 [==============================] - 10s 286ms/step - loss: 1.7464e-05 - val_loss: 2.9028e-05\n",
      "Epoch 6/50\n",
      "36/36 [==============================] - 11s 304ms/step - loss: 1.2991e-05 - val_loss: 1.9790e-05\n",
      "Epoch 7/50\n",
      "36/36 [==============================] - 10s 285ms/step - loss: 1.0891e-05 - val_loss: 1.5985e-05\n",
      "Epoch 8/50\n",
      "36/36 [==============================] - 10s 279ms/step - loss: 8.9671e-06 - val_loss: 1.2938e-05\n",
      "Epoch 9/50\n",
      "36/36 [==============================] - 10s 280ms/step - loss: 8.4134e-06 - val_loss: 1.4207e-05\n",
      "Epoch 10/50\n",
      "36/36 [==============================] - 10s 282ms/step - loss: 8.4286e-06 - val_loss: 8.0608e-06\n",
      "Epoch 11/50\n",
      "36/36 [==============================] - 10s 288ms/step - loss: 5.8751e-06 - val_loss: 8.5464e-06\n",
      "Epoch 12/50\n",
      "36/36 [==============================] - 10s 281ms/step - loss: 5.9405e-06 - val_loss: 6.1744e-06\n",
      "Epoch 13/50\n",
      "36/36 [==============================] - 11s 294ms/step - loss: 5.0533e-06 - val_loss: 6.9487e-06\n",
      "Epoch 14/50\n",
      "36/36 [==============================] - 11s 302ms/step - loss: 4.3300e-06 - val_loss: 5.0169e-06\n",
      "Epoch 15/50\n",
      "36/36 [==============================] - 11s 294ms/step - loss: 4.2870e-06 - val_loss: 5.0213e-06\n",
      "Epoch 16/50\n",
      "36/36 [==============================] - 10s 282ms/step - loss: 3.7408e-06 - val_loss: 4.9800e-06\n",
      "Epoch 17/50\n",
      "36/36 [==============================] - 10s 286ms/step - loss: 3.7284e-06 - val_loss: 4.1986e-06\n",
      "Epoch 18/50\n",
      "36/36 [==============================] - 10s 291ms/step - loss: 4.4298e-06 - val_loss: 4.9679e-06\n",
      "Epoch 19/50\n",
      "36/36 [==============================] - 10s 287ms/step - loss: 3.3570e-06 - val_loss: 4.6845e-06\n",
      "Epoch 20/50\n",
      "36/36 [==============================] - 10s 283ms/step - loss: 2.8576e-06 - val_loss: 4.3348e-06\n",
      "Epoch 20: early stopping\n"
     ]
    }
   ],
   "source": [
    "#fitta il modello\n",
    "simple=deeplob.fit(x_vecc_train, r_train, validation_data=(x_vecc_val, r_val),  epochs=50, batch_size=250,callbacks=[callback])#"
   ]
  },
  {
   "cell_type": "code",
   "execution_count": 10,
   "metadata": {},
   "outputs": [
    {
     "data": {
      "image/png": "[encoded data removed]",
      "text/plain": [
       "<Figure size 432x288 with 1 Axes>"
      ]
     },
     "metadata": {
      "needs_background": "light"
     },
     "output_type": "display_data"
    }
   ],
   "source": [
    "#plotta le loss\n",
    "plt.plot(simple.history['loss'], label='train loss')\n",
    "plt.plot(simple.history['val_loss'], label='val loss')\n",
    "plt.legend()\n",
    "plt.title('Losses');"
   ]
  },
  {
   "cell_type": "code",
   "execution_count": 11,
   "metadata": {},
   "outputs": [
    {
     "name": "stdout",
     "output_type": "stream",
     "text": [
      "282/282 [==============================] - 6s 18ms/step\n",
      "1/1 [==============================] - 0s 15ms/step\n"
     ]
    }
   ],
   "source": [
    "Ptrain= deeplob.predict(x_vecc_train)\n",
    "Ptest = deeplob.predict(x_vecc_test)"
   ]
  },
  {
   "cell_type": "code",
   "execution_count": 12,
   "metadata": {},
   "outputs": [],
   "source": [
    "true=r_test#normalizer.inverse_transform(r_test.reshape(-1,1)).flatten()\n",
    "fcst=Ptest#normalizer.inverse_transform(Ptest.reshape(-1,1)).flatten()\n",
    "u=np.array([np.mean(true)]*10).flatten()\n",
    "num=(true-fcst)**2\n",
    "den=(r[0][-1:].flatten()-med[0])**2\n",
    "r2OutS=((den-num)/den)#/100\n",
    "#plt.plot(r2OutS[0][:3])\n",
    "#plt.ylabel('R2OS(%)')\n",
    "#plt.xlabel('time');"
   ]
  },
  {
   "cell_type": "code",
   "execution_count": 13,
   "metadata": {},
   "outputs": [
    {
     "data": {
      "text/plain": [
       "array([[-41.7719468]])"
      ]
     },
     "execution_count": 13,
     "metadata": {},
     "output_type": "execute_result"
    }
   ],
   "source": [
    "r2OutS#[ 0.0098595 ,  0.00823161,  0.00815754,  0.00929568,  0.00314167, 0.01577701,  0.00574935, -0.00066972,  0.00438371,  0.00244725]"
   ]
  },
  {
   "cell_type": "code",
   "execution_count": 14,
   "metadata": {},
   "outputs": [],
   "source": [
    "\n",
    "#def calcola_mse(y_true,y_pred):\n",
    "#    ms=np.zeros(10)\n",
    "#    for i in range(1,10):\n",
    "#        ms[i]=mse(y_true[:i+1],y_pred[:i+1])\n",
    "#    return ms\n",
    "#def calcola_mse1(y_true,y_pred):\n",
    "#    ms=np.zeros(10)\n",
    "#    for i in range(1,10):\n",
    "#        ms[i]=((y_true[i]-y_pred[i])/y_pred[i])**2\n",
    "#    return ms\n",
    "##calcola_mse1(true,u)[0]=0\n",
    "#r2os=1-calcola_mse(true,fcst)[1:]/calcola_mse1(true,u)[1:]\n",
    "#r2osVero=pd.DataFrame(r2os.flatten(),columns=['r2'])\n",
    "#r2osVero.plot();\n",
    "#"
   ]
  },
  {
   "cell_type": "code",
   "execution_count": 15,
   "metadata": {},
   "outputs": [
    {
     "data": {
      "text/plain": [
       "0.0003504454799903377"
      ]
     },
     "execution_count": 15,
     "metadata": {},
     "output_type": "execute_result"
    }
   ],
   "source": [
    "((0.46756288-0.4674387)*100)**2/((0.00663348)*100)**2"
   ]
  },
  {
   "cell_type": "code",
   "execution_count": 16,
   "metadata": {},
   "outputs": [
    {
     "data": {
      "text/plain": [
       "0.6631155326917393"
      ]
     },
     "execution_count": 16,
     "metadata": {},
     "output_type": "execute_result"
    }
   ],
   "source": [
    "(((0.00663348))**2-((0.46756288-0.4674387))**2)/((0.00663348))*100"
   ]
  },
  {
   "cell_type": "code",
   "execution_count": 17,
   "metadata": {},
   "outputs": [],
   "source": [
    "#np.mean(offlo['r'][:22*10])\n"
   ]
  },
  {
   "cell_type": "code",
   "execution_count": 18,
   "metadata": {},
   "outputs": [],
   "source": [
    "#num=true-fcst"
   ]
  },
  {
   "cell_type": "code",
   "execution_count": 19,
   "metadata": {},
   "outputs": [],
   "source": [
    "#den=r[0][-1:].flatten()-med[0]#np.mean(offlo['r'][:22*10])"
   ]
  },
  {
   "cell_type": "code",
   "execution_count": null,
   "metadata": {},
   "outputs": [],
   "source": []
  },
  {
   "cell_type": "code",
   "execution_count": 20,
   "metadata": {},
   "outputs": [],
   "source": [
    "#true-np.mean(r_test)"
   ]
  },
  {
   "cell_type": "code",
   "execution_count": 21,
   "metadata": {},
   "outputs": [
    {
     "data": {
      "image/png": "[encoded data removed]",
      "text/plain": [
       "<Figure size 432x288 with 1 Axes>"
      ]
     },
     "metadata": {
      "needs_background": "light"
     },
     "output_type": "display_data"
    },
    {
     "data": {
      "image/png": "[encoded data removed]",
      "text/plain": [
       "<Figure size 432x288 with 1 Axes>"
      ]
     },
     "metadata": {
      "needs_background": "light"
     },
     "output_type": "display_data"
    }
   ],
   "source": [
    "plt.plot(true)\n",
    "plt.plot(fcst)\n",
    "plt.show()\n",
    "plt.plot(np.abs(true-fcst));"
   ]
  },
  {
   "cell_type": "code",
   "execution_count": null,
   "metadata": {},
   "outputs": [
    {
     "ename": "NameError",
     "evalue": "name 'calcola_mse1' is not defined",
     "output_type": "error",
     "traceback": [
      "\u001b[1;31m---------------------------------------------------------------------------\u001b[0m",
      "\u001b[1;31mNameError\u001b[0m                                 Traceback (most recent call last)",
      "\u001b[1;32mc:\\Users\\macri\\Desktop\\PROJECT\\modello_BYND_v7.ipynb Cella 23\u001b[0m in \u001b[0;36m<cell line: 1>\u001b[1;34m()\u001b[0m\n\u001b[1;32m----> <a href='vscode-notebook-cell:/c%3A/Users/macri/Desktop/PROJECT/modello_BYND_v7.ipynb#X31sZmlsZQ%3D%3D?line=0'>1</a>\u001b[0m calcola_mse1(true,u),calcola_mse(true,fcst)\n",
      "\u001b[1;31mNameError\u001b[0m: name 'calcola_mse1' is not defined"
     ]
    }
   ],
   "source": [
    "calcola_mse1(true,u),calcola_mse(true,fcst)"
   ]
  },
  {
   "cell_type": "code",
   "execution_count": null,
   "metadata": {},
   "outputs": [],
   "source": [
    "true[]-u"
   ]
  },
  {
   "cell_type": "code",
   "execution_count": null,
   "metadata": {},
   "outputs": [
    {
     "data": {
      "text/plain": [
       "array([1.84865109e-01, 1.51112922e-03, 4.95174832e-04, 3.01143362e-01,\n",
       "       2.73755168e-04, 1.51237513e-03, 6.97705809e-04, 1.80564546e-03,\n",
       "       5.61644064e-05, 1.05073229e-03])"
      ]
     },
     "execution_count": 88,
     "metadata": {},
     "output_type": "execute_result"
    }
   ],
   "source": [
    "((np.abs((true-u)/true)**2)/(np.abs((true-fcst)/true)**2))"
   ]
  },
  {
   "cell_type": "code",
   "execution_count": null,
   "metadata": {},
   "outputs": [
    {
     "data": {
      "text/plain": [
       "(array([0.46756288, 0.46745092, 0.46747339, 0.46717042, 0.46759684,\n",
       "        0.46736218, 0.46757467, 0.46775381, 0.46753005, 0.46761972]),\n",
       " array([0.4674387 , 0.4659443 , 0.46585113, 0.46655256, 0.46231714,\n",
       "        0.47115013, 0.46510702, 0.4620041 , 0.46478632, 0.4642192 ],\n",
       "       dtype=float32),\n",
       " array([0.46750949, 0.46750949, 0.46750949, 0.46750949, 0.46750949,\n",
       "        0.46750949, 0.46750949, 0.46750949, 0.46750949, 0.46750949]))"
      ]
     },
     "execution_count": 58,
     "metadata": {},
     "output_type": "execute_result"
    }
   ],
   "source": [
    "true,fcst,u"
   ]
  },
  {
   "cell_type": "code",
   "execution_count": null,
   "metadata": {},
   "outputs": [
    {
     "data": {
      "text/plain": [
       "array([5.33943548e-05, 5.85676105e-05, 3.60993932e-05, 3.39064527e-04,\n",
       "       8.73556107e-05, 1.47310704e-04, 6.51806761e-05, 2.44321980e-04,\n",
       "       2.05623088e-05, 1.10227304e-04])"
      ]
     },
     "execution_count": 14,
     "metadata": {},
     "output_type": "execute_result"
    }
   ],
   "source": [
    "np.abs((true-u))"
   ]
  },
  {
   "cell_type": "code",
   "execution_count": null,
   "metadata": {},
   "outputs": [],
   "source": [
    "#Ptrain= deeplob.predict(x_vecc_train)\n",
    "#Ptest = deeplob.predict(x_vecc_test)\n",
    "#from sklearn.metrics import mean_squared_error as me\n",
    "#def calcola_mse(y_true,y_pred):\n",
    "#    ms=np.zeros(10)\n",
    "#    for i in range(10):\n",
    "#        ms[i]=me(y_true[0][:i+1],y_pred[0][:i+1])\n",
    "#    return ms\n",
    "#num=calcola_mse(r_test,Ptest)\n",
    "#den=calcola_mse(r_train,Ptrain)\n",
    "#r2=1-(num/den)\n",
    "#r2.flatten()\n",
    "#plt.plot(r2);"
   ]
  },
  {
   "cell_type": "code",
   "execution_count": null,
   "metadata": {},
   "outputs": [
    {
     "ename": "NameError",
     "evalue": "name 'r2' is not defined",
     "output_type": "error",
     "traceback": [
      "\u001b[1;31m---------------------------------------------------------------------------\u001b[0m",
      "\u001b[1;31mNameError\u001b[0m                                 Traceback (most recent call last)",
      "\u001b[1;32mc:\\Users\\macri\\Desktop\\PROJECT\\modello_BYND_v7.ipynb Cella 16\u001b[0m in \u001b[0;36m<cell line: 1>\u001b[1;34m()\u001b[0m\n\u001b[1;32m----> <a href='vscode-notebook-cell:/c%3A/Users/macri/Desktop/PROJECT/modello_BYND_v7.ipynb#X14sZmlsZQ%3D%3D?line=0'>1</a>\u001b[0m r2\n",
      "\u001b[1;31mNameError\u001b[0m: name 'r2' is not defined"
     ]
    }
   ],
   "source": [
    "r2"
   ]
  },
  {
   "cell_type": "code",
   "execution_count": null,
   "metadata": {},
   "outputs": [
    {
     "data": {
      "text/plain": [
       "0.004611162169076948"
      ]
     },
     "execution_count": 100,
     "metadata": {},
     "output_type": "execute_result"
    }
   ],
   "source": [
    "np.mean(offlo['r'][:401])"
   ]
  }
 ],
 "metadata": {
  "kernelspec": {
   "display_name": "Python 3.9.12 ('base')",
   "language": "python",
   "name": "python3"
  },
  "language_info": {
   "codemirror_mode": {
    "name": "ipython",
    "version": 3
   },
   "file_extension": ".py",
   "mimetype": "text/x-python",
   "name": "python",
   "nbconvert_exporter": "python",
   "pygments_lexer": "ipython3",
   "version": "3.9.12"
  },
  "orig_nbformat": 4,
  "vscode": {
   "interpreter": {
    "hash": "597e2b791014bf3f975e304e1e72922cb6b9245e0453d34e2c818a7120fc527f"
   }
  }
 },
 "nbformat": 4,
 "nbformat_minor": 2
}
