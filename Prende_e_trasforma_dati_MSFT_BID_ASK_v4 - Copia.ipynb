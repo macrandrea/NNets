{
 "cells": [
  {
   "cell_type": "markdown",
   "metadata": {},
   "source": [
    "Extracting returns signals from Microsoft's LOB for OB data for April 2018\n",
    "==="
   ]
  },
  {
   "cell_type": "code",
   "execution_count": 1,
   "metadata": {},
   "outputs": [],
   "source": [
    "import os\n",
    "import pandas as pd\n",
    "import numpy  as np\n",
    "import matplotlib.pyplot as plt\n",
    "from pandas.tseries.offsets import *\n",
    "import statsmodels.formula.api as smf\n",
    "from glob import glob\n",
    "from datetime import datetime\n",
    "import tensorflow as tf\n",
    "import keras\n",
    "from keras import Input, layers\n",
    "from keras.models import Model\n",
    "from keras.layers import Flatten, Dense, Dropout, Activation, Input, LSTM, Reshape, Conv2D, MaxPooling2D, LeakyReLU, GlobalMaxPooling1D\n",
    "from keras.optimizers import Adam\n",
    "from keras.utils import np_utils\n",
    "import random\n",
    "from sklearn.metrics import mean_squared_error as mse\n",
    "from scipy import stats\n",
    "from sklearn.linear_model import LinearRegression\n",
    "from fireTS.models import NARX\n",
    "from sklearn.metrics import classification_report, accuracy_score\n",
    "seed_value = 2020\n",
    "random.seed(seed_value)\n",
    "np.random.seed(seed_value)\n",
    "tf.random.set_seed(seed_value)\n",
    "from sklearn.preprocessing import QuantileTransformer \n",
    "normalizer = QuantileTransformer(output_distribution='normal')"
   ]
  },
  {
   "cell_type": "markdown",
   "metadata": {},
   "source": [
    "Initialising some utility functions, extracting data from LOBster data, calculation of cumulative returns over the month\n",
    "==="
   ]
  },
  {
   "cell_type": "code",
   "execution_count": 2,
   "metadata": {},
   "outputs": [],
   "source": [
    "#utils functions\n",
    "def midPrice(lob_data):\n",
    "    a=lob_data['AP1'].values.tolist()\n",
    "    b=lob_data['BP1'].values.tolist()\n",
    "    m=np.zeros(len(a))\n",
    "    for i in range(len(a)):\n",
    "        m[i]=(a[i]+b[i])/2\n",
    "    return m\n",
    "def upDown(m):\n",
    "    u_d=np.zeros(len(a))\n",
    "    for i in range(1,len(a)):\n",
    "        if m[i-1]>m[i]:#scende il prezzo\n",
    "            u_d[i-1]=-1\n",
    "        elif m[i-1]<m[i]:#sale il prezzo\n",
    "            u_d[i-1]=1\n",
    "        else:\n",
    "            u_d[i-1]=0\n",
    "    return u_d\n",
    "\n",
    "def ret(m):\n",
    "    r=np.zeros(len(m))\n",
    "    for i in range(1,len(m)):\n",
    "        r[i]=m[i-1]-m[i]\n",
    "    return r\n",
    "\n",
    "def deltaT(m):\n",
    "    N=0\n",
    "    d=np.zeros(len(m))\n",
    "    for i in range(1,len(m)):\n",
    "        d[i]=m[i-1]-m[i]\n",
    "        if [i]!=0:\n",
    "            N+=1\n",
    "    return int((2.34*10**7)/N)\n",
    "\n",
    "def doHk(deltT,k):\n",
    "    hk=np.zeros(k)\n",
    "    for i in range(k):\n",
    "        hk[i]=np.int16((1/5)*i*deltT)\n",
    "    return hk\n",
    "\n",
    "def retHk(m,hk):\n",
    "    ret=np.zeros(100)\n",
    "    for i,k in zip(range(len(m)),hk):\n",
    "        ret[i]=m[i+k]-m[i]\n",
    "    return ret\n",
    "\n",
    "def OF_1(ld):\n",
    "    of=np.zeros((len(ld),6))\n",
    "    for i,ii in zip(range(1,12,2),range(0,6,2)): #giro sui prezzi ask e volumi ask di conseguenza\n",
    "        for j in range(1,len(ld)): #giro sulle righe\n",
    "            #ask\n",
    "            if ld[j][i-1]>ld[j-1][i-1]: #p_t>p_t-1\n",
    "                of[j-1][ii]=-1*ld[j][i]\n",
    "            elif ld[j][i-1]<ld[j-1][i-1]: #p_t<p_t-1\n",
    "                of[j-1][ii]=ld[j][i]\n",
    "            elif ld[j][i-1]==ld[j-1][i-1]: #p_t=p_t-1\n",
    "                of[j-1][ii]=ld[j][i]-ld[j-1][i]\n",
    "    for w,ww in zip(range(3,12,4),range(1,7,2)):\n",
    "        for jj in range(1,len(ld)):    \n",
    "            #bid\n",
    "            if ld[jj][w-1]>ld[jj-1][w-1]: #p_t>p_t-1\n",
    "                of[jj-1][ww]=ld[jj][w]\n",
    "            elif ld[jj][w-1]<ld[jj-1][w-1]: #p_t<p_t-1\n",
    "                of[jj-1][ww]=-1*ld[jj][w]\n",
    "            elif ld[jj][w-1]==ld[jj-1][w-1]: #p_t=p_t-1\n",
    "                of[jj-1][ww]=ld[jj][w]-ld[jj-1][w]\n",
    "    return of\n",
    "    \n",
    "from scipy import stats\n",
    "def taglia_e_cuci(v):\n",
    "    hi=np.quantile(v,0.005)\n",
    "    lo=np.quantile(v, 0.995)\n",
    "    b=np.clip(v, hi,lo)\n",
    "    return b\n",
    "    \n",
    "def baSpread(x):\n",
    "    a=x['AP1'].values.tolist()\n",
    "    b=x['BP1'].values.tolist()\n",
    "    bas=np.empty(len(x))\n",
    "    for i in range(len(a)):\n",
    "       bas[i]=(a[i]-b[i])#/(a[i]+b[i])*10**4\n",
    "    return bas"
   ]
  },
  {
   "cell_type": "code",
   "execution_count": 3,
   "metadata": {},
   "outputs": [],
   "source": [
    "msg_files = glob(\"MSFT_NUOVO/*message*.csv\")\n",
    "lob_files = glob(\"MSFT_NUOVO/*order*.csv\")\n",
    "d0 = datetime(2018,4,2)"
   ]
  },
  {
   "cell_type": "code",
   "execution_count": 4,
   "metadata": {},
   "outputs": [
    {
     "name": "stdout",
     "output_type": "stream",
     "text": [
      "28.98 million observations\n"
     ]
    }
   ],
   "source": [
    "dfs = []\n",
    "for day, file in enumerate(np.sort(msg_files)[:]):\n",
    "    te = pd.read_csv(file, header=None, low_memory=False)\n",
    "    te['Day'] = d0 + BDay(day)\n",
    "    dfs.append(te)\n",
    "df_msg = pd.concat(dfs)\n",
    "\n",
    "print(\"{0:0.2f} million observations\".format(len(df_msg)/10**6))\n",
    "df_msg.columns = ['Time', 'Event', 'ID', 'Size', 'Price', 'Direction', '?', 'Day']\n",
    "df_msg = df_msg.drop(['?'], axis=1)\n",
    "df_msg['Execution'] = np.where(df_msg['Event'].isin([4,5]), 1, 0)\n",
    "# 4: Execution of a visible limit order\n",
    "# 5: Execution of a hidden limit order"
   ]
  },
  {
   "cell_type": "code",
   "execution_count": 5,
   "metadata": {},
   "outputs": [
    {
     "name": "stdout",
     "output_type": "stream",
     "text": [
      "1.25 million observations\n"
     ]
    }
   ],
   "source": [
    "df_msg_exe=df_msg[df_msg['Execution']==1]\n",
    "print(\"{0:0.2f} million observations\".format(len(df_msg_exe)/10**6))"
   ]
  },
  {
   "cell_type": "code",
   "execution_count": 6,
   "metadata": {},
   "outputs": [
    {
     "name": "stdout",
     "output_type": "stream",
     "text": [
      "28.98 million observations\n"
     ]
    }
   ],
   "source": [
    "\n",
    "dfs = []\n",
    "for file in np.sort(lob_files)[:]:\n",
    "    te = pd.read_csv(file, header=None)\n",
    "    dfs.append(te)\n",
    "df_lob  = pd.concat(dfs)\n",
    "cols = np.ravel([['AP%d'%level, 'AS%d'%level, 'BP%d'%level, 'BS%d'%level] for level in [1,2,3,4,5]])\n",
    "df_lob.columns = cols\n",
    "print(\"{0:0.2f} million observations\".format(len(df_lob)/10**6))"
   ]
  },
  {
   "cell_type": "code",
   "execution_count": 7,
   "metadata": {},
   "outputs": [
    {
     "data": {
      "text/html": [
       "<div>\n",
       "<style scoped>\n",
       "    .dataframe tbody tr th:only-of-type {\n",
       "        vertical-align: middle;\n",
       "    }\n",
       "\n",
       "    .dataframe tbody tr th {\n",
       "        vertical-align: top;\n",
       "    }\n",
       "\n",
       "    .dataframe thead th {\n",
       "        text-align: right;\n",
       "    }\n",
       "</style>\n",
       "<table border=\"1\" class=\"dataframe\">\n",
       "  <thead>\n",
       "    <tr style=\"text-align: right;\">\n",
       "      <th></th>\n",
       "      <th>AP1</th>\n",
       "      <th>AS1</th>\n",
       "      <th>BP1</th>\n",
       "      <th>BS1</th>\n",
       "      <th>AP2</th>\n",
       "      <th>AS2</th>\n",
       "      <th>BP2</th>\n",
       "      <th>BS2</th>\n",
       "      <th>AP3</th>\n",
       "      <th>AS3</th>\n",
       "      <th>BP3</th>\n",
       "      <th>BS3</th>\n",
       "      <th>AP4</th>\n",
       "      <th>AS4</th>\n",
       "      <th>BP4</th>\n",
       "      <th>BS4</th>\n",
       "      <th>AP5</th>\n",
       "      <th>AS5</th>\n",
       "      <th>BP5</th>\n",
       "      <th>BS5</th>\n",
       "    </tr>\n",
       "  </thead>\n",
       "  <tbody>\n",
       "    <tr>\n",
       "      <th>0</th>\n",
       "      <td>904800</td>\n",
       "      <td>4315</td>\n",
       "      <td>904400</td>\n",
       "      <td>374</td>\n",
       "      <td>905200</td>\n",
       "      <td>100</td>\n",
       "      <td>904000</td>\n",
       "      <td>50</td>\n",
       "      <td>905300</td>\n",
       "      <td>1730</td>\n",
       "      <td>903500</td>\n",
       "      <td>100</td>\n",
       "      <td>905600</td>\n",
       "      <td>100</td>\n",
       "      <td>903000</td>\n",
       "      <td>200</td>\n",
       "      <td>907000</td>\n",
       "      <td>100</td>\n",
       "      <td>902500</td>\n",
       "      <td>200</td>\n",
       "    </tr>\n",
       "    <tr>\n",
       "      <th>1</th>\n",
       "      <td>904800</td>\n",
       "      <td>4004</td>\n",
       "      <td>904400</td>\n",
       "      <td>374</td>\n",
       "      <td>905200</td>\n",
       "      <td>100</td>\n",
       "      <td>904000</td>\n",
       "      <td>50</td>\n",
       "      <td>905300</td>\n",
       "      <td>1730</td>\n",
       "      <td>903500</td>\n",
       "      <td>100</td>\n",
       "      <td>905600</td>\n",
       "      <td>100</td>\n",
       "      <td>903000</td>\n",
       "      <td>200</td>\n",
       "      <td>907000</td>\n",
       "      <td>100</td>\n",
       "      <td>902500</td>\n",
       "      <td>200</td>\n",
       "    </tr>\n",
       "    <tr>\n",
       "      <th>2</th>\n",
       "      <td>904800</td>\n",
       "      <td>4004</td>\n",
       "      <td>904400</td>\n",
       "      <td>374</td>\n",
       "      <td>905200</td>\n",
       "      <td>100</td>\n",
       "      <td>904000</td>\n",
       "      <td>50</td>\n",
       "      <td>905300</td>\n",
       "      <td>1730</td>\n",
       "      <td>903500</td>\n",
       "      <td>100</td>\n",
       "      <td>905600</td>\n",
       "      <td>100</td>\n",
       "      <td>903000</td>\n",
       "      <td>200</td>\n",
       "      <td>907000</td>\n",
       "      <td>100</td>\n",
       "      <td>902500</td>\n",
       "      <td>200</td>\n",
       "    </tr>\n",
       "    <tr>\n",
       "      <th>3</th>\n",
       "      <td>904800</td>\n",
       "      <td>4004</td>\n",
       "      <td>904400</td>\n",
       "      <td>374</td>\n",
       "      <td>905200</td>\n",
       "      <td>100</td>\n",
       "      <td>904000</td>\n",
       "      <td>50</td>\n",
       "      <td>905300</td>\n",
       "      <td>1730</td>\n",
       "      <td>903500</td>\n",
       "      <td>100</td>\n",
       "      <td>905600</td>\n",
       "      <td>100</td>\n",
       "      <td>903000</td>\n",
       "      <td>200</td>\n",
       "      <td>907000</td>\n",
       "      <td>100</td>\n",
       "      <td>902500</td>\n",
       "      <td>200</td>\n",
       "    </tr>\n",
       "    <tr>\n",
       "      <th>5</th>\n",
       "      <td>904800</td>\n",
       "      <td>4004</td>\n",
       "      <td>904400</td>\n",
       "      <td>374</td>\n",
       "      <td>905200</td>\n",
       "      <td>100</td>\n",
       "      <td>904000</td>\n",
       "      <td>50</td>\n",
       "      <td>905300</td>\n",
       "      <td>2825</td>\n",
       "      <td>903500</td>\n",
       "      <td>100</td>\n",
       "      <td>905600</td>\n",
       "      <td>100</td>\n",
       "      <td>903000</td>\n",
       "      <td>200</td>\n",
       "      <td>907000</td>\n",
       "      <td>100</td>\n",
       "      <td>902500</td>\n",
       "      <td>200</td>\n",
       "    </tr>\n",
       "  </tbody>\n",
       "</table>\n",
       "</div>"
      ],
      "text/plain": [
       "      AP1   AS1     BP1  BS1     AP2  AS2     BP2  BS2     AP3   AS3     BP3  \\\n",
       "0  904800  4315  904400  374  905200  100  904000   50  905300  1730  903500   \n",
       "1  904800  4004  904400  374  905200  100  904000   50  905300  1730  903500   \n",
       "2  904800  4004  904400  374  905200  100  904000   50  905300  1730  903500   \n",
       "3  904800  4004  904400  374  905200  100  904000   50  905300  1730  903500   \n",
       "5  904800  4004  904400  374  905200  100  904000   50  905300  2825  903500   \n",
       "\n",
       "   BS3     AP4  AS4     BP4  BS4     AP5  AS5     BP5  BS5  \n",
       "0  100  905600  100  903000  200  907000  100  902500  200  \n",
       "1  100  905600  100  903000  200  907000  100  902500  200  \n",
       "2  100  905600  100  903000  200  907000  100  902500  200  \n",
       "3  100  905600  100  903000  200  907000  100  902500  200  \n",
       "5  100  905600  100  903000  200  907000  100  902500  200  "
      ]
     },
     "execution_count": 7,
     "metadata": {},
     "output_type": "execute_result"
    }
   ],
   "source": [
    "df_lob.reset_index(inplace=True)\n",
    "df_msg.reset_index(inplace=True)\n",
    "df = pd.concat([df_msg, df_lob], axis=1)\n",
    "df = df[df['Execution']==1]\n",
    "df.dropna(inplace=True)\n",
    "lob_data=df[cols]\n",
    "lob_data.head()"
   ]
  },
  {
   "cell_type": "code",
   "execution_count": 8,
   "metadata": {},
   "outputs": [
    {
     "data": {
      "text/plain": [
       "(624034, 20)"
      ]
     },
     "execution_count": 8,
     "metadata": {},
     "output_type": "execute_result"
    }
   ],
   "source": [
    "lob_data=lob_data.iloc[:int(len(lob_data)*0.5)]\n",
    "lob_data.shape"
   ]
  },
  {
   "cell_type": "code",
   "execution_count": 9,
   "metadata": {},
   "outputs": [],
   "source": [
    "ld=lob_data.values.tolist()\n",
    "aa=OF_1(ld) #fa Order Flow\n",
    "bCols=np.ravel([['aOF_%d'%level, 'bOF_%d'%level] for level in [1,2,3]])\n",
    "of_data=pd.DataFrame(aa, columns=bCols)\n",
    "bas=pd.DataFrame(baSpread(lob_data),columns=['bas'])\n",
    "bas['diff']=bas.pct_change()\n",
    "of_data.dropna(inplace=True)\n",
    "bas.dropna(inplace=True)\n",
    "bas.reset_index(inplace=True)\n",
    "ba=bas['diff'].to_numpy()\n",
    "ba=taglia_e_cuci(ba)\n",
    "lo=0.05#np.quantile(ba, 0.05)\n",
    "hi=0.95#np.quantile(ba, 0.95)\n",
    "vec = np.zeros(len(of_data))\n",
    "for i in range(len(bas)-1):\n",
    "    if (bas.loc[i+1,'diff']) > (1+hi)*(bas.loc[i,'diff']):#\n",
    "        vec[i] = 1\n",
    "    elif  (bas.loc[i+1,'diff']) < (1+lo)*(bas.loc[i,'diff']):#\n",
    "        vec[i] = -1\n"
   ]
  },
  {
   "cell_type": "markdown",
   "metadata": {},
   "source": [
    "Prepares the dataset: cuts at 0.5% the tails, and splits data in the requested formats\n",
    "==="
   ]
  },
  {
   "cell_type": "code",
   "execution_count": 10,
   "metadata": {},
   "outputs": [],
   "source": [
    "def prepare_x_y(data, lag, dimension):\n",
    "    '''\n",
    "    lag: the order of the VAR process, or the lookback window in the sequential model\n",
    "    dimension: number of variables in the time series\n",
    "    '''\n",
    "    data = data\n",
    "    shape = data.shape\n",
    "    X = np.zeros((shape[0]-lag, lag, dimension))\n",
    "    Y = np.zeros((shape[0]-lag, 1)) # 1 for the number of forecasting horizons\n",
    "    for i in range(shape[0]-lag):\n",
    "        X[i] = data[i:i+lag, :dimension] # take the variables' columns as features\n",
    "        Y[i] = data[i+lag-1, -1:] # take the last column as labels\n",
    "    X = X.reshape(X.shape[0], lag, dimension, 1)\n",
    "    \n",
    "    Y += 1 # relabel as 0, 1, 2\n",
    "    \n",
    "    Y = np_utils.to_categorical(Y.astype(int),3) # format channel as binary vector where 1 is in the position of the true mid price change\n",
    "    \n",
    "    return X,Y\n"
   ]
  },
  {
   "cell_type": "code",
   "execution_count": 11,
   "metadata": {},
   "outputs": [
    {
     "data": {
      "text/plain": [
       "(      aOF_1     bOF_1     aOF_2     bOF_2     aOF_3     bOF_3  spread\n",
       " 0 -0.366383  0.037126  0.037126  0.037126  0.037126  0.037126     0.0\n",
       " 1  0.037126  0.037126  0.037126  0.037126  0.037126  0.037126     0.0\n",
       " 2  0.037126  0.037126  0.037126  0.037126  0.037126  0.037126     0.0\n",
       " 3  0.037126  0.037126  0.037126  0.037126  0.037126  0.037126     0.0\n",
       " 4 -0.092620  0.037126  0.037126  0.037126  0.037126  0.037126     0.0,\n",
       "            aOF_1     bOF_1     aOF_2     bOF_2     aOF_3     bOF_3  spread\n",
       " 561630  0.037126 -0.092620 -0.092620  0.037126  0.037126  0.037126     0.0\n",
       " 561631  0.037126 -0.092620 -0.092620  0.037126  0.037126  0.037126     0.0\n",
       " 561632  0.037126  0.008582  0.008582  0.037126  0.037126  0.037126     0.0\n",
       " 561633  0.037126 -0.092620 -0.092620  0.037126  0.037126  0.037126     0.0\n",
       " 561634  0.037126 -0.092620 -0.092620  0.037126  0.037126  0.037126     0.0,\n",
       "            aOF_1     bOF_1     aOF_2     bOF_2     aOF_3     bOF_3  spread\n",
       " 592831  0.301807  0.296617  0.296617 -0.222365  0.815599  0.037126     1.0\n",
       " 592832  0.037126 -0.092620 -0.092620  0.037126  0.037126  0.037126     0.0\n",
       " 592833  0.037126 -0.092620 -0.092620  0.037126  0.037126  0.037126     0.0\n",
       " 592834  0.037126 -0.092620 -0.092620  0.037126  0.037126  0.037126     0.0\n",
       " 592835  0.037126 -0.092620 -0.092620  0.037126  0.037126  0.037126     0.0)"
      ]
     },
     "execution_count": 11,
     "metadata": {},
     "output_type": "execute_result"
    }
   ],
   "source": [
    "train_weight=0.9\n",
    "vali_weight=0.05\n",
    "\n",
    "\n",
    "train=of_data.iloc[:int(len(of_data)*train_weight)]\n",
    "validation=of_data.iloc[int(len(of_data)*train_weight):int(len(of_data)*train_weight)+int(len(of_data)*vali_weight)]\n",
    "test=of_data.iloc[int(len(of_data)*train_weight)+int(len(of_data)*vali_weight):]\n",
    "n_train=taglia_e_cuci(train)\n",
    "n_vali =taglia_e_cuci(validation)\n",
    "n_test =taglia_e_cuci(test)\n",
    "\n",
    "for col in train.columns:#'aOF_1',\t'bOF_1',\t'aOF_2',\t'bOF_2',\t'aOF_3',\t'bOF_3']:\n",
    "    mu = float(train.loc[:,col].mean())\n",
    "    sigma = float(train.loc[:,col].std())\n",
    "    stdize_input = lambda x: (x-mu)/sigma#normalizer.fit_transform((x.values.reshape(-1,1)))##n_train: stats.zscore(n_train)\n",
    "\n",
    "std_train=n_train.apply(stdize_input)\n",
    "std_vali =n_vali .apply(stdize_input)\n",
    "std_test =n_test .apply(stdize_input)\n",
    "\n",
    "std_train['spread']=vec[:int(len(of_data)*train_weight)]\n",
    "std_vali ['spread']=vec[int(len(of_data)*train_weight):int(len(of_data)*train_weight)+int(len(of_data)*vali_weight)]\n",
    "std_test ['spread']=vec[int(len(of_data)*train_weight)+int(len(of_data)*vali_weight):]\n",
    "\n",
    "\n",
    "\n",
    "std_train.head(),std_vali .head(),std_test .head()"
   ]
  },
  {
   "cell_type": "code",
   "execution_count": 12,
   "metadata": {},
   "outputs": [],
   "source": [
    "#to_db=1\n",
    "#train_weight=0.9\n",
    "#vali_weight=0.05\n",
    "#\n",
    "#of_data=of_data.apply(lambda x: )\n",
    "#\n",
    "#of_data_to_db =taglia_e_cuci(of_data.iloc[:int(len(of_data)*to_db)])\n",
    "#vec_to_db     =taglia_e_cuci(vec[:int(len(vec)*to_db)])\n",
    "#train         =of_data_to_db.iloc[:int(len(of_data_to_db)*train_weight)]\n",
    "#validation    =of_data_to_db.iloc[ int(len(of_data_to_db)*train_weight):int(len(of_data_to_db)*train_weight)+int(len(of_data_to_db)*vali_weight)]\n",
    "#test          =of_data_to_db.iloc[ int(len(of_data_to_db)*train_weight)+int(len(of_data_to_db)*vali_weight):]\n",
    "#n_train=taglia_e_cuci(train)\n",
    "#n_vali =taglia_e_cuci(validation)\n",
    "#n_test =taglia_e_cuci(test)\n",
    "#\n",
    "#sd=n_train.std()\n",
    "#stdize=lambda n_train: stats.zscore(n_train)\n",
    "#\n",
    "#for col in train.columns: #'aOF_1',\t'bOF_1',\t'aOF_2',\t'bOF_2',\t'aOF_3',\t'bOF_3'\n",
    "#    mu = float(train.loc[:,col].mean())\n",
    "#    sigma = float(train.loc[:,col].std())\n",
    "#    stdize_input = lambda x: (x - mu) / sigma\n",
    "#\n",
    "#std_train['spread']=vec_to_db[:int(len(vec_to_db)*train_weight)]\n",
    "#std_vali ['spread']=vec_to_db[ int(len(vec_to_db)*train_weight):int(len(vec_to_db)*train_weight)+int(len(vec_to_db)*vali_weight)]\n",
    "#std_test ['spread']=vec_to_db[ int(len(vec_to_db)*train_weight)+int(len(vec_to_db)*vali_weight):]\n",
    "#\n",
    "#std_train=normalizer.fit_transform((n_train[:-1].values.reshape(-1,1))).flatten()#.tolist()#n_train.apply(stdize_input)\n",
    "#std_vali =normalizer.fit_transform((n_vali [:-1].values.reshape(-1,1))).flatten() #.tolist()#n_vali .apply(stdize_input)\n",
    "#std_test =normalizer.fit_transform((n_test [:-1].values.reshape(-1,1))).flatten() #.tolist()#n_test .apply(stdize_input)\n",
    "\n"
   ]
  },
  {
   "cell_type": "code",
   "execution_count": 13,
   "metadata": {},
   "outputs": [
    {
     "name": "stdout",
     "output_type": "stream",
     "text": [
      "(561530, 100, 6, 1) (561530, 3)\n",
      "(31101, 100, 6, 1) (31101, 3)\n",
      "(31103, 100, 6, 1) (31103, 3)\n"
     ]
    }
   ],
   "source": [
    "trainX, trainY = prepare_x_y(std_train.to_numpy(),100,6)    #, 1   ,  100)\n",
    "valiX, valiY   = prepare_x_y(std_vali .to_numpy(),100,6)    #, 1   ,  100)\n",
    "testX, testY   = prepare_x_y(std_test .to_numpy(),100,6)    #, 1   ,  100)\n",
    "print(trainX.shape, trainY.shape)\n",
    "print(valiX.shape, valiY.shape )\n",
    "print(testX.shape, testY.shape )"
   ]
  },
  {
   "cell_type": "markdown",
   "metadata": {},
   "source": [
    "CNN/LSTM\n",
    "==="
   ]
  },
  {
   "cell_type": "code",
   "execution_count": 14,
   "metadata": {},
   "outputs": [
    {
     "name": "stdout",
     "output_type": "stream",
     "text": [
      "Model: \"model\"\n",
      "__________________________________________________________________________________________________\n",
      " Layer (type)                   Output Shape         Param #     Connected to                     \n",
      "==================================================================================================\n",
      " input_1 (InputLayer)           [(None, 100, 6, 1)]  0           []                               \n",
      "                                                                                                  \n",
      " conv2d (Conv2D)                (None, 100, 3, 32)   96          ['input_1[0][0]']                \n",
      "                                                                                                  \n",
      " leaky_re_lu (LeakyReLU)        (None, 100, 3, 32)   0           ['conv2d[0][0]']                 \n",
      "                                                                                                  \n",
      " conv2d_1 (Conv2D)              (None, 100, 3, 32)   4128        ['leaky_re_lu[0][0]']            \n",
      "                                                                                                  \n",
      " leaky_re_lu_1 (LeakyReLU)      (None, 100, 3, 32)   0           ['conv2d_1[0][0]']               \n",
      "                                                                                                  \n",
      " conv2d_2 (Conv2D)              (None, 100, 3, 32)   4128        ['leaky_re_lu_1[0][0]']          \n",
      "                                                                                                  \n",
      " leaky_re_lu_2 (LeakyReLU)      (None, 100, 3, 32)   0           ['conv2d_2[0][0]']               \n",
      "                                                                                                  \n",
      " conv2d_3 (Conv2D)              (None, 100, 1, 16)   5136        ['leaky_re_lu_2[0][0]']          \n",
      "                                                                                                  \n",
      " leaky_re_lu_3 (LeakyReLU)      (None, 100, 1, 16)   0           ['conv2d_3[0][0]']               \n",
      "                                                                                                  \n",
      " conv2d_4 (Conv2D)              (None, 100, 1, 64)   1088        ['leaky_re_lu_3[0][0]']          \n",
      "                                                                                                  \n",
      " conv2d_6 (Conv2D)              (None, 100, 1, 64)   1088        ['leaky_re_lu_3[0][0]']          \n",
      "                                                                                                  \n",
      " leaky_re_lu_4 (LeakyReLU)      (None, 100, 1, 64)   0           ['conv2d_4[0][0]']               \n",
      "                                                                                                  \n",
      " leaky_re_lu_6 (LeakyReLU)      (None, 100, 1, 64)   0           ['conv2d_6[0][0]']               \n",
      "                                                                                                  \n",
      " max_pooling2d (MaxPooling2D)   (None, 100, 1, 16)   0           ['leaky_re_lu_3[0][0]']          \n",
      "                                                                                                  \n",
      " conv2d_5 (Conv2D)              (None, 100, 1, 64)   12352       ['leaky_re_lu_4[0][0]']          \n",
      "                                                                                                  \n",
      " conv2d_7 (Conv2D)              (None, 100, 1, 64)   20544       ['leaky_re_lu_6[0][0]']          \n",
      "                                                                                                  \n",
      " conv2d_8 (Conv2D)              (None, 100, 1, 64)   1088        ['max_pooling2d[0][0]']          \n",
      "                                                                                                  \n",
      " leaky_re_lu_5 (LeakyReLU)      (None, 100, 1, 64)   0           ['conv2d_5[0][0]']               \n",
      "                                                                                                  \n",
      " leaky_re_lu_7 (LeakyReLU)      (None, 100, 1, 64)   0           ['conv2d_7[0][0]']               \n",
      "                                                                                                  \n",
      " leaky_re_lu_8 (LeakyReLU)      (None, 100, 1, 64)   0           ['conv2d_8[0][0]']               \n",
      "                                                                                                  \n",
      " concatenate (Concatenate)      (None, 100, 1, 192)  0           ['leaky_re_lu_5[0][0]',          \n",
      "                                                                  'leaky_re_lu_7[0][0]',          \n",
      "                                                                  'leaky_re_lu_8[0][0]']          \n",
      "                                                                                                  \n",
      " reshape (Reshape)              (None, 100, 192)     0           ['concatenate[0][0]']            \n",
      "                                                                                                  \n",
      " dropout (Dropout)              (None, 100, 192)     0           ['reshape[0][0]']                \n",
      "                                                                                                  \n",
      " lstm (LSTM)                    (None, 64)           65792       ['dropout[0][0]']                \n",
      "                                                                                                  \n",
      " dense (Dense)                  (None, 3)            195         ['lstm[0][0]']                   \n",
      "                                                                                                  \n",
      "==================================================================================================\n",
      "Total params: 115,635\n",
      "Trainable params: 115,635\n",
      "Non-trainable params: 0\n",
      "__________________________________________________________________________________________________\n"
     ]
    }
   ],
   "source": [
    "\n",
    "def create_nn(T, NF,number_of_lstm):\n",
    "\n",
    "    input_lmd = tf.keras.Input(shape=(T, NF, 1))\n",
    "\n",
    "    conv_first1 = Conv2D(32, kernel_size=(1, 2), strides=(1, 2))(input_lmd)\n",
    "    conv_first1 = keras.layers.LeakyReLU(alpha=0.01)(conv_first1)\n",
    "    conv_first1 = Conv2D(32, (4, 1), padding='same')(conv_first1)\n",
    "    conv_first1 = keras.layers.LeakyReLU(alpha=0.01)(conv_first1)\n",
    "    conv_first1 = Conv2D(32, (4, 1), padding='same')(conv_first1)\n",
    "    conv_first1 = keras.layers.LeakyReLU(alpha=0.01)(conv_first1)\n",
    "    #\n",
    "    layer_x = layers.Conv2D(filters=16, kernel_size=(10,1),strides=(1,10), padding='same')(conv_first1)\n",
    "    layer_x = layers.LeakyReLU(alpha=0.01)(layer_x)\n",
    "    # inception\n",
    "    convsecond_1 = Conv2D(64, (1, 1), padding='same', strides=(1,1))(layer_x)\n",
    "    convsecond_1 = keras.layers.LeakyReLU(alpha=0.01)(convsecond_1)\n",
    "    convsecond_1 = Conv2D(64, (3, 1), padding='same', strides=(1,1))(convsecond_1)\n",
    "    convsecond_1 = keras.layers.LeakyReLU(alpha=0.01)(convsecond_1)\n",
    "\n",
    "    convsecond_2 = Conv2D(64, (1, 1), padding='same', strides=(1,1))(layer_x)\n",
    "    convsecond_2 = keras.layers.LeakyReLU(alpha=0.01)(convsecond_2)\n",
    "    convsecond_2 = Conv2D(64, (5, 1), padding='same', strides=(1,1))(convsecond_2)\n",
    "    convsecond_2 = keras.layers.LeakyReLU(alpha=0.01)(convsecond_2)\n",
    "\n",
    "    convsecond_3 = MaxPooling2D((3, 1), strides=(1, 1), padding='same')(layer_x)\n",
    "    convsecond_3 = Conv2D(64, (1, 1), padding='same', strides=(1,1))(convsecond_3)\n",
    "    convsecond_3 = keras.layers.LeakyReLU(alpha=0.01)(convsecond_3)\n",
    "    \n",
    "    convsecond_output = keras.layers.concatenate([convsecond_1, convsecond_2, convsecond_3], axis=3)\n",
    "    conv_reshape = Reshape((int(convsecond_output.shape[1]), int(convsecond_output.shape[3])))(convsecond_output)\n",
    "    conv_reshape = keras.layers.Dropout(0.7, noise_shape=(None, 1, int(conv_reshape.shape[2])))(conv_reshape, training=True)\n",
    "\n",
    "    # build the last LSTM layer\n",
    "    conv_lstm = LSTM(number_of_lstm)(conv_reshape)\n",
    "\n",
    "    # build the output layer\n",
    "    out = Dense(3, activation='softmax')(conv_lstm)\n",
    "    model = Model(inputs=input_lmd, outputs=out)\n",
    "    adam = keras.optimizers.Adam(learning_rate=0.0001)\n",
    "    model.compile(optimizer=adam, loss='categorical_crossentropy', metrics=['accuracy'])#\n",
    "\n",
    "    return model\n",
    "checkpoint_filepath = './model_tensorflow2/weights_class'\n",
    "deeplob = create_nn(100, 6, 64)\n",
    "deeplob.summary()"
   ]
  },
  {
   "cell_type": "code",
   "execution_count": 15,
   "metadata": {},
   "outputs": [],
   "source": [
    "callback=tf.keras.callbacks.EarlyStopping(\n",
    "    monitor='val_loss',\n",
    "    min_delta=0,\n",
    "    patience=5,\n",
    "    verbose=1,\n",
    "    mode='auto',\n",
    "    baseline=None,\n",
    "    restore_best_weights=False\n",
    ")\n",
    "saving = tf.keras.callbacks.ModelCheckpoint(\n",
    "    filepath=checkpoint_filepath,\n",
    "    save_weights_only=True,\n",
    "    monitor='val_loss',\n",
    "    mode='auto',\n",
    "    save_best_only=True)"
   ]
  },
  {
   "cell_type": "code",
   "execution_count": 16,
   "metadata": {},
   "outputs": [
    {
     "name": "stdout",
     "output_type": "stream",
     "text": [
      "Epoch 1/50\n",
      "2247/2247 [==============================] - 634s 281ms/step - loss: 0.8633 - accuracy: 0.5992 - val_loss: 0.7708 - val_accuracy: 0.6697\n",
      "Epoch 2/50\n",
      "2247/2247 [==============================] - 651s 290ms/step - loss: 0.7879 - accuracy: 0.6547 - val_loss: 0.7459 - val_accuracy: 0.6816\n",
      "Epoch 3/50\n",
      "2247/2247 [==============================] - 519s 231ms/step - loss: 0.7684 - accuracy: 0.6610 - val_loss: 0.7254 - val_accuracy: 0.6889\n",
      "Epoch 4/50\n",
      "2247/2247 [==============================] - 472s 210ms/step - loss: 0.7571 - accuracy: 0.6649 - val_loss: 0.7229 - val_accuracy: 0.6866\n",
      "Epoch 5/50\n",
      "2247/2247 [==============================] - 471s 210ms/step - loss: 0.7508 - accuracy: 0.6669 - val_loss: 0.7072 - val_accuracy: 0.6939\n",
      "Epoch 6/50\n",
      "2247/2247 [==============================] - 580s 258ms/step - loss: 0.7457 - accuracy: 0.6691 - val_loss: 0.7037 - val_accuracy: 0.6957\n",
      "Epoch 7/50\n",
      "2247/2247 [==============================] - 659s 293ms/step - loss: 0.7417 - accuracy: 0.6708 - val_loss: 0.6997 - val_accuracy: 0.6981\n",
      "Epoch 8/50\n",
      "2247/2247 [==============================] - 638s 284ms/step - loss: 0.7381 - accuracy: 0.6727 - val_loss: 0.6973 - val_accuracy: 0.6976\n",
      "Epoch 9/50\n",
      "2247/2247 [==============================] - 575s 256ms/step - loss: 0.7349 - accuracy: 0.6740 - val_loss: 0.6941 - val_accuracy: 0.6994\n",
      "Epoch 10/50\n",
      "2247/2247 [==============================] - 683s 304ms/step - loss: 0.7320 - accuracy: 0.6757 - val_loss: 0.6901 - val_accuracy: 0.7014\n",
      "Epoch 11/50\n",
      "2247/2247 [==============================] - 700s 312ms/step - loss: 0.7292 - accuracy: 0.6768 - val_loss: 0.6880 - val_accuracy: 0.7030\n",
      "Epoch 12/50\n",
      "2247/2247 [==============================] - 701s 312ms/step - loss: 0.7266 - accuracy: 0.6783 - val_loss: 0.6868 - val_accuracy: 0.7030\n",
      "Epoch 13/50\n",
      "2247/2247 [==============================] - 708s 315ms/step - loss: 0.7241 - accuracy: 0.6798 - val_loss: 0.6858 - val_accuracy: 0.7023\n",
      "Epoch 14/50\n",
      "2247/2247 [==============================] - 713s 317ms/step - loss: 0.7220 - accuracy: 0.6811 - val_loss: 0.6812 - val_accuracy: 0.7045\n",
      "Epoch 15/50\n",
      "2247/2247 [==============================] - 716s 319ms/step - loss: 0.7195 - accuracy: 0.6826 - val_loss: 0.6805 - val_accuracy: 0.7060\n",
      "Epoch 16/50\n",
      "2247/2247 [==============================] - 735s 327ms/step - loss: 0.7171 - accuracy: 0.6837 - val_loss: 0.6799 - val_accuracy: 0.7072\n",
      "Epoch 17/50\n",
      "2247/2247 [==============================] - 727s 323ms/step - loss: 0.7151 - accuracy: 0.6846 - val_loss: 0.6749 - val_accuracy: 0.7066\n",
      "Epoch 18/50\n",
      "2247/2247 [==============================] - 745s 332ms/step - loss: 0.7131 - accuracy: 0.6858 - val_loss: 0.6720 - val_accuracy: 0.7089\n",
      "Epoch 19/50\n",
      "2247/2247 [==============================] - 747s 332ms/step - loss: 0.7109 - accuracy: 0.6869 - val_loss: 0.6680 - val_accuracy: 0.7137\n",
      "Epoch 20/50\n",
      "2247/2247 [==============================] - 555s 247ms/step - loss: 0.7091 - accuracy: 0.6877 - val_loss: 0.6678 - val_accuracy: 0.7107\n",
      "Epoch 21/50\n",
      "2247/2247 [==============================] - 562s 250ms/step - loss: 0.7074 - accuracy: 0.6886 - val_loss: 0.6671 - val_accuracy: 0.7123\n",
      "Epoch 22/50\n",
      "2247/2247 [==============================] - 563s 250ms/step - loss: 0.7056 - accuracy: 0.6893 - val_loss: 0.6661 - val_accuracy: 0.7131\n",
      "Epoch 23/50\n",
      "2247/2247 [==============================] - 566s 252ms/step - loss: 0.7039 - accuracy: 0.6908 - val_loss: 0.6655 - val_accuracy: 0.7124\n",
      "Epoch 24/50\n",
      "2247/2247 [==============================] - 568s 253ms/step - loss: 0.7024 - accuracy: 0.6909 - val_loss: 0.6627 - val_accuracy: 0.7155\n",
      "Epoch 25/50\n",
      "2247/2247 [==============================] - 565s 251ms/step - loss: 0.7011 - accuracy: 0.6920 - val_loss: 0.6613 - val_accuracy: 0.7141\n",
      "Epoch 26/50\n",
      "2247/2247 [==============================] - 568s 253ms/step - loss: 0.6999 - accuracy: 0.6925 - val_loss: 0.6600 - val_accuracy: 0.7146\n",
      "Epoch 27/50\n",
      "2247/2247 [==============================] - 575s 256ms/step - loss: 0.6983 - accuracy: 0.6934 - val_loss: 0.6612 - val_accuracy: 0.7134\n",
      "Epoch 28/50\n",
      "2247/2247 [==============================] - 738s 328ms/step - loss: 0.6973 - accuracy: 0.6940 - val_loss: 0.6548 - val_accuracy: 0.7181\n",
      "Epoch 29/50\n",
      "2247/2247 [==============================] - 832s 370ms/step - loss: 0.6961 - accuracy: 0.6945 - val_loss: 0.6552 - val_accuracy: 0.7182\n",
      "Epoch 30/50\n",
      "2247/2247 [==============================] - 799s 356ms/step - loss: 0.6949 - accuracy: 0.6953 - val_loss: 0.6547 - val_accuracy: 0.7179\n",
      "Epoch 31/50\n",
      "2247/2247 [==============================] - 596s 265ms/step - loss: 0.6936 - accuracy: 0.6958 - val_loss: 0.6509 - val_accuracy: 0.7190\n",
      "Epoch 32/50\n",
      "2247/2247 [==============================] - 728s 324ms/step - loss: 0.6928 - accuracy: 0.6961 - val_loss: 0.6526 - val_accuracy: 0.7183\n",
      "Epoch 33/50\n",
      "2247/2247 [==============================] - 635s 283ms/step - loss: 0.6921 - accuracy: 0.6966 - val_loss: 0.6500 - val_accuracy: 0.7186\n",
      "Epoch 34/50\n",
      "2247/2247 [==============================] - 602s 268ms/step - loss: 0.6907 - accuracy: 0.6976 - val_loss: 0.6506 - val_accuracy: 0.7201\n",
      "Epoch 35/50\n",
      "2247/2247 [==============================] - 620s 276ms/step - loss: 0.6899 - accuracy: 0.6979 - val_loss: 0.6522 - val_accuracy: 0.7180\n",
      "Epoch 36/50\n",
      "2247/2247 [==============================] - 630s 280ms/step - loss: 0.6890 - accuracy: 0.6979 - val_loss: 0.6498 - val_accuracy: 0.7188\n",
      "Epoch 37/50\n",
      "2247/2247 [==============================] - 638s 284ms/step - loss: 0.6880 - accuracy: 0.6984 - val_loss: 0.6475 - val_accuracy: 0.7193\n",
      "Epoch 38/50\n",
      "2247/2247 [==============================] - 640s 285ms/step - loss: 0.6874 - accuracy: 0.6987 - val_loss: 0.6472 - val_accuracy: 0.7216\n",
      "Epoch 39/50\n",
      "2247/2247 [==============================] - 635s 283ms/step - loss: 0.6863 - accuracy: 0.6990 - val_loss: 0.6461 - val_accuracy: 0.7214\n",
      "Epoch 40/50\n",
      "2247/2247 [==============================] - 640s 285ms/step - loss: 0.6856 - accuracy: 0.6994 - val_loss: 0.6482 - val_accuracy: 0.7186\n",
      "Epoch 41/50\n",
      "2247/2247 [==============================] - 646s 287ms/step - loss: 0.6847 - accuracy: 0.6999 - val_loss: 0.6430 - val_accuracy: 0.7224\n",
      "Epoch 42/50\n",
      "2247/2247 [==============================] - 818s 364ms/step - loss: 0.6837 - accuracy: 0.7007 - val_loss: 0.6484 - val_accuracy: 0.7197\n",
      "Epoch 43/50\n",
      "2247/2247 [==============================] - 648s 288ms/step - loss: 0.6830 - accuracy: 0.7009 - val_loss: 0.6420 - val_accuracy: 0.7222\n",
      "Epoch 44/50\n",
      "2247/2247 [==============================] - 650s 289ms/step - loss: 0.6826 - accuracy: 0.7013 - val_loss: 0.6439 - val_accuracy: 0.7229\n",
      "Epoch 45/50\n",
      "2247/2247 [==============================] - 680s 303ms/step - loss: 0.6817 - accuracy: 0.7017 - val_loss: 0.6433 - val_accuracy: 0.7218\n",
      "Epoch 46/50\n",
      "2247/2247 [==============================] - 659s 293ms/step - loss: 0.6810 - accuracy: 0.7023 - val_loss: 0.6424 - val_accuracy: 0.7220\n",
      "Epoch 47/50\n",
      "2247/2247 [==============================] - 667s 297ms/step - loss: 0.6800 - accuracy: 0.7028 - val_loss: 0.6437 - val_accuracy: 0.7227\n",
      "Epoch 48/50\n",
      "2247/2247 [==============================] - 664s 295ms/step - loss: 0.6798 - accuracy: 0.7027 - val_loss: 0.6424 - val_accuracy: 0.7233\n",
      "Epoch 48: early stopping\n"
     ]
    }
   ],
   "source": [
    "simple_class=deeplob.fit(trainX, trainY, validation_data=(valiX, valiY), epochs=50, batch_size=250,  callbacks=[callback])"
   ]
  },
  {
   "cell_type": "code",
   "execution_count": 17,
   "metadata": {},
   "outputs": [
    {
     "data": {
      "image/png": "[encoded data removed]",
      "text/plain": [
       "<Figure size 432x288 with 1 Axes>"
      ]
     },
     "metadata": {
      "needs_background": "light"
     },
     "output_type": "display_data"
    }
   ],
   "source": [
    "plt.plot(simple_class.history['loss'], label='train loss')\n",
    "plt.plot(simple_class.history['val_loss'], label='val loss')\n",
    "plt.legend()\n",
    "plt.title('Losses'); "
   ]
  },
  {
   "cell_type": "code",
   "execution_count": 18,
   "metadata": {},
   "outputs": [
    {
     "data": {
      "image/png": "[encoded data removed]",
      "text/plain": [
       "<Figure size 432x288 with 1 Axes>"
      ]
     },
     "metadata": {
      "needs_background": "light"
     },
     "output_type": "display_data"
    }
   ],
   "source": [
    "plt.hist(simple_class.history['loss'], label='train loss',bins=10)\n",
    "plt.hist(simple_class.history['val_loss'], label='val loss',bins=10)\n",
    "plt.legend()\n",
    "plt.title('Losses');"
   ]
  },
  {
   "cell_type": "code",
   "execution_count": 19,
   "metadata": {},
   "outputs": [
    {
     "data": {
      "image/png": "[encoded data removed]",
      "text/plain": [
       "<Figure size 432x288 with 1 Axes>"
      ]
     },
     "metadata": {
      "needs_background": "light"
     },
     "output_type": "display_data"
    }
   ],
   "source": [
    "plt.plot(simple_class.history['accuracy'], label='train accuracy')\n",
    "plt.plot(simple_class.history['val_accuracy'], label='val accuracy')\n",
    "plt.legend()\n",
    "plt.title('Accuracies');"
   ]
  },
  {
   "cell_type": "code",
   "execution_count": 20,
   "metadata": {},
   "outputs": [
    {
     "name": "stdout",
     "output_type": "stream",
     "text": [
      "972/972 [==============================] - 18s 18ms/step\n"
     ]
    }
   ],
   "source": [
    "pred = deeplob.predict(testX)\n",
    "predictions=np.round(pred)"
   ]
  },
  {
   "cell_type": "code",
   "execution_count": 21,
   "metadata": {},
   "outputs": [
    {
     "name": "stdout",
     "output_type": "stream",
     "text": [
      "accuracy_score: 0.7121821046201331\n",
      "              precision    recall  f1-score   support\n",
      "\n",
      "           0     0.7151    0.8152    0.7619      8810\n",
      "           1     0.7037    0.6935    0.6985     10971\n",
      "           2     0.7184    0.6502    0.6826     11322\n",
      "\n",
      "    accuracy                         0.7122     31103\n",
      "   macro avg     0.7124    0.7196    0.7143     31103\n",
      "weighted avg     0.7122    0.7122    0.7106     31103\n",
      "\n"
     ]
    }
   ],
   "source": [
    "print('accuracy_score:', accuracy_score(np.argmax(testY, axis=1), np.argmax(predictions, axis=1)))\n",
    "print(classification_report(np.argmax(testY, axis=1), np.argmax(predictions, axis=1), digits=4))"
   ]
  },
  {
   "cell_type": "code",
   "execution_count": 22,
   "metadata": {},
   "outputs": [
    {
     "data": {
      "image/png": "[encoded data removed]",
      "text/plain": [
       "<Figure size 432x288 with 2 Axes>"
      ]
     },
     "metadata": {
      "needs_background": "light"
     },
     "output_type": "display_data"
    }
   ],
   "source": [
    "from sklearn.metrics import confusion_matrix, ConfusionMatrixDisplay\n",
    "cm = confusion_matrix(testY.argmax(axis=1), predictions.argmax(axis=1),normalize='all')\n",
    "disp = ConfusionMatrixDisplay(confusion_matrix=cm,display_labels=['lower','stationary','higher'])\n",
    "disp.plot()\n",
    "disp.ax_.set_title(\"Confusion Matrix CNN/LSTM\");"
   ]
  },
  {
   "cell_type": "code",
   "execution_count": null,
   "metadata": {},
   "outputs": [],
   "source": []
  },
  {
   "cell_type": "code",
   "execution_count": 23,
   "metadata": {},
   "outputs": [
    {
     "ename": "NameError",
     "evalue": "name 'STOP' is not defined",
     "output_type": "error",
     "traceback": [
      "\u001b[1;31m---------------------------------------------------------------------------\u001b[0m",
      "\u001b[1;31mNameError\u001b[0m                                 Traceback (most recent call last)",
      "\u001b[1;32mc:\\Users\\macri\\Desktop\\PROJECT\\Prende_e_trasforma_dati_MSFT_BID_ASK_v4 - Copia.ipynb Cella 28\u001b[0m in \u001b[0;36m<cell line: 1>\u001b[1;34m()\u001b[0m\n\u001b[1;32m----> <a href='vscode-notebook-cell:/c%3A/Users/macri/Desktop/PROJECT/Prende_e_trasforma_dati_MSFT_BID_ASK_v4%20-%20Copia.ipynb#X36sZmlsZQ%3D%3D?line=0'>1</a>\u001b[0m STOP\n",
      "\u001b[1;31mNameError\u001b[0m: name 'STOP' is not defined"
     ]
    }
   ],
   "source": [
    "STOP"
   ]
  },
  {
   "cell_type": "markdown",
   "metadata": {},
   "source": [
    "LSTM\n",
    "==="
   ]
  },
  {
   "cell_type": "code",
   "execution_count": null,
   "metadata": {},
   "outputs": [
    {
     "name": "stdout",
     "output_type": "stream",
     "text": [
      "Epoch 1/50\n",
      "36/36 [==============================] - 18s 426ms/step - loss: 7.8491e-05 - val_loss: 2.2011e-05\n",
      "Epoch 2/50\n",
      "36/36 [==============================] - 18s 489ms/step - loss: 2.1164e-05 - val_loss: 1.4983e-05\n",
      "Epoch 3/50\n",
      "36/36 [==============================] - 18s 490ms/step - loss: 1.6387e-05 - val_loss: 1.2784e-05\n",
      "Epoch 4/50\n",
      "36/36 [==============================] - 18s 488ms/step - loss: 1.4273e-05 - val_loss: 1.0684e-05\n",
      "Epoch 5/50\n",
      "36/36 [==============================] - 18s 493ms/step - loss: 1.2437e-05 - val_loss: 1.0096e-05\n",
      "Epoch 6/50\n",
      "36/36 [==============================] - 18s 494ms/step - loss: 1.1690e-05 - val_loss: 1.0571e-05\n",
      "Epoch 7/50\n",
      "36/36 [==============================] - 18s 491ms/step - loss: 1.0791e-05 - val_loss: 8.6366e-06\n",
      "Epoch 8/50\n",
      "36/36 [==============================] - 18s 493ms/step - loss: 9.3221e-06 - val_loss: 7.0731e-06\n",
      "Epoch 9/50\n",
      "36/36 [==============================] - 18s 497ms/step - loss: 8.5391e-06 - val_loss: 6.8713e-06\n",
      "Epoch 10/50\n",
      "36/36 [==============================] - 18s 491ms/step - loss: 8.2284e-06 - val_loss: 6.8626e-06\n",
      "Epoch 11/50\n",
      "36/36 [==============================] - 23s 652ms/step - loss: 7.5345e-06 - val_loss: 6.6404e-06\n",
      "Epoch 12/50\n",
      "36/36 [==============================] - 23s 643ms/step - loss: 6.8333e-06 - val_loss: 5.8311e-06\n",
      "Epoch 13/50\n",
      "36/36 [==============================] - 22s 617ms/step - loss: 6.6869e-06 - val_loss: 5.3508e-06\n",
      "Epoch 14/50\n",
      "36/36 [==============================] - 22s 609ms/step - loss: 5.8058e-06 - val_loss: 4.5493e-06\n",
      "Epoch 15/50\n",
      "36/36 [==============================] - 21s 592ms/step - loss: 5.9878e-06 - val_loss: 4.4101e-06\n",
      "Epoch 16/50\n",
      "36/36 [==============================] - 21s 572ms/step - loss: 5.3245e-06 - val_loss: 4.0716e-06\n",
      "Epoch 17/50\n",
      "36/36 [==============================] - 20s 562ms/step - loss: 5.3187e-06 - val_loss: 4.2723e-06\n",
      "Epoch 18/50\n",
      "36/36 [==============================] - 20s 554ms/step - loss: 5.1896e-06 - val_loss: 3.7500e-06\n",
      "Epoch 19/50\n",
      "36/36 [==============================] - 20s 548ms/step - loss: 4.5320e-06 - val_loss: 3.6495e-06\n",
      "Epoch 20/50\n",
      "36/36 [==============================] - 19s 536ms/step - loss: 4.2478e-06 - val_loss: 3.0902e-06\n",
      "Epoch 21/50\n",
      "36/36 [==============================] - 19s 528ms/step - loss: 4.0540e-06 - val_loss: 3.1319e-06\n",
      "Epoch 22/50\n",
      "36/36 [==============================] - 17s 483ms/step - loss: 3.8071e-06 - val_loss: 3.1842e-06\n",
      "Epoch 23/50\n",
      "36/36 [==============================] - 18s 502ms/step - loss: 3.6541e-06 - val_loss: 2.8495e-06\n",
      "Epoch 24/50\n",
      "36/36 [==============================] - 15s 407ms/step - loss: 3.4606e-06 - val_loss: 2.7516e-06\n",
      "Epoch 25/50\n",
      "36/36 [==============================] - 15s 409ms/step - loss: 3.2699e-06 - val_loss: 2.6198e-06\n",
      "Epoch 26/50\n",
      "36/36 [==============================] - 15s 409ms/step - loss: 3.1968e-06 - val_loss: 2.3952e-06\n",
      "Epoch 27/50\n",
      "36/36 [==============================] - 15s 411ms/step - loss: 2.9705e-06 - val_loss: 2.4174e-06\n",
      "Epoch 28/50\n",
      "36/36 [==============================] - 15s 403ms/step - loss: 2.8522e-06 - val_loss: 2.2678e-06\n",
      "Epoch 29/50\n",
      "36/36 [==============================] - 15s 406ms/step - loss: 2.7263e-06 - val_loss: 2.0477e-06\n",
      "Epoch 30/50\n",
      "36/36 [==============================] - 15s 406ms/step - loss: 2.6288e-06 - val_loss: 1.9639e-06\n",
      "Epoch 31/50\n",
      "36/36 [==============================] - 15s 407ms/step - loss: 2.5838e-06 - val_loss: 1.8856e-06\n",
      "Epoch 32/50\n",
      "36/36 [==============================] - 14s 402ms/step - loss: 2.4733e-06 - val_loss: 1.6811e-06\n",
      "Epoch 33/50\n",
      "36/36 [==============================] - 15s 408ms/step - loss: 2.3055e-06 - val_loss: 1.5932e-06\n",
      "Epoch 34/50\n",
      "36/36 [==============================] - 14s 403ms/step - loss: 2.2111e-06 - val_loss: 1.7107e-06\n",
      "Epoch 35/50\n",
      "36/36 [==============================] - 14s 402ms/step - loss: 2.1843e-06 - val_loss: 1.7555e-06\n",
      "Epoch 36/50\n",
      "36/36 [==============================] - 14s 403ms/step - loss: 2.0978e-06 - val_loss: 1.4764e-06\n",
      "Epoch 37/50\n",
      "36/36 [==============================] - 14s 398ms/step - loss: 2.0368e-06 - val_loss: 1.3924e-06\n",
      "Epoch 38/50\n",
      "36/36 [==============================] - 15s 404ms/step - loss: 1.9116e-06 - val_loss: 1.5334e-06\n",
      "Epoch 39/50\n",
      "36/36 [==============================] - 14s 399ms/step - loss: 1.8090e-06 - val_loss: 1.4391e-06\n",
      "Epoch 40/50\n",
      "36/36 [==============================] - 14s 398ms/step - loss: 1.8381e-06 - val_loss: 1.2765e-06\n",
      "Epoch 41/50\n",
      "36/36 [==============================] - 14s 396ms/step - loss: 1.7681e-06 - val_loss: 1.4411e-06\n",
      "Epoch 42/50\n",
      "36/36 [==============================] - 14s 399ms/step - loss: 1.6805e-06 - val_loss: 1.2560e-06\n",
      "Epoch 43/50\n",
      "36/36 [==============================] - 14s 401ms/step - loss: 1.5671e-06 - val_loss: 1.2049e-06\n",
      "Epoch 44/50\n",
      "36/36 [==============================] - 14s 402ms/step - loss: 1.5056e-06 - val_loss: 1.2514e-06\n",
      "Epoch 45/50\n",
      "36/36 [==============================] - 14s 402ms/step - loss: 1.4621e-06 - val_loss: 1.0570e-06\n",
      "Epoch 46/50\n",
      "36/36 [==============================] - 14s 400ms/step - loss: 1.4157e-06 - val_loss: 1.2069e-06\n",
      "Epoch 47/50\n",
      "36/36 [==============================] - 14s 395ms/step - loss: 1.3961e-06 - val_loss: 1.0514e-06\n",
      "Epoch 48/50\n",
      "36/36 [==============================] - 14s 395ms/step - loss: 1.3056e-06 - val_loss: 1.1500e-06\n",
      "Epoch 49/50\n",
      "36/36 [==============================] - 14s 398ms/step - loss: 1.2924e-06 - val_loss: 1.0385e-06\n",
      "Epoch 50/50\n",
      "36/36 [==============================] - 15s 407ms/step - loss: 1.2506e-06 - val_loss: 9.1744e-07\n"
     ]
    }
   ],
   "source": [
    "#architettura della rete\n",
    "num_units = 64\n",
    "activation_function = 'leaky_relu'\n",
    "adam = keras.optimizers.Adam(learning_rate=0.0001)\n",
    "loss_function = 'mse'\n",
    "batch_size = 250\n",
    "num_epochs = 50\n",
    "i = Input(shape=(100, 6))\n",
    "x = LSTM(64, return_sequences=True)(i)\n",
    "x = keras.layers.LeakyReLU(alpha=0.01)(x)\n",
    "x = LSTM(64, return_sequences=True)(x)\n",
    "x = keras.layers.LeakyReLU(alpha=0.01)(x)\n",
    "x = LSTM(64, return_sequences=True)(x)\n",
    "x = keras.layers.LeakyReLU(alpha=0.01)(x)\n",
    "x = keras.layers.Dropout(0.7)(x, training=True)\n",
    "#x = LSTM(64, return_sequences=True)(x)\n",
    "x = GlobalMaxPooling1D()(x)\n",
    "x = Dense(horiz, activation='leaky_relu')(x)\n",
    "\n",
    "\n",
    "model = Model(i, x)\n",
    "\n",
    "\n",
    "callback=tf.keras.callbacks.EarlyStopping(\n",
    "    monitor='val_loss',\n",
    "    min_delta=0,\n",
    "    patience=5,\n",
    "    verbose=1,\n",
    "    mode='auto',\n",
    "    baseline=None,\n",
    "    restore_best_weights=False\n",
    ")\n",
    "\n",
    "model.compile(optimizer = adam, loss = loss_function)\n",
    "\n",
    "lstmMSFT=model.fit(x_vecc_train, r_train, batch_size = batch_size, epochs = num_epochs,validation_data=(x_vecc_val, r_val),callbacks=[callback])"
   ]
  },
  {
   "cell_type": "code",
   "execution_count": null,
   "metadata": {},
   "outputs": [
    {
     "data": {
      "image/png": "[encoded data removed]",
      "text/plain": [
       "<Figure size 432x288 with 1 Axes>"
      ]
     },
     "metadata": {
      "needs_background": "light"
     },
     "output_type": "display_data"
    }
   ],
   "source": [
    "plt.plot(lstmMSFT.history['loss'], label='train loss')\n",
    "plt.plot(lstmMSFT.history['val_loss'], label='test loss')\n",
    "plt.legend()\n",
    "plt.show()"
   ]
  },
  {
   "cell_type": "code",
   "execution_count": null,
   "metadata": {},
   "outputs": [
    {
     "name": "stdout",
     "output_type": "stream",
     "text": [
      "1/1 [==============================] - 1s 673ms/step\n"
     ]
    }
   ],
   "source": [
    "PtestLSTM = model.predict(x_vecc_test)"
   ]
  },
  {
   "cell_type": "code",
   "execution_count": null,
   "metadata": {},
   "outputs": [
    {
     "data": {
      "text/plain": [
       "array([[0.74508996]])"
      ]
     },
     "execution_count": 49,
     "metadata": {},
     "output_type": "execute_result"
    }
   ],
   "source": [
    "trueLSTM=r_test\n",
    "fcstLSTM=PtestLSTM\n",
    "u=np.array([np.mean(r[-22:])]).flatten()\n",
    "num=(true-fcstLSTM)**2\n",
    "den=(true-np.mean(med[-1:]))**2#trueLSTM-umed[0]erre[0][-22:].flatten()\n",
    "r2OutSLSTM=((den-num)/den)\n",
    "r2OutSLSTM"
   ]
  },
  {
   "cell_type": "markdown",
   "metadata": {},
   "source": [
    "ARX-REGRESSION\n",
    "==="
   ]
  },
  {
   "cell_type": "code",
   "execution_count": null,
   "metadata": {},
   "outputs": [],
   "source": [
    "y=                                                  offlo['r'][:-22].to_numpy()\n",
    "x=    offlo[['aOF_1','bOF_1','aOF_2','bOF_2','aOF_3','bOF_3']][:-22].to_numpy()\n",
    "xFcst=offlo[['aOF_1','bOF_1','aOF_2','bOF_2','aOF_3','bOF_3']][-22:].to_numpy()\n",
    "yFcst=                                              offlo['r'][-23:].to_numpy()\n",
    "\n",
    "mdl = NARX(LinearRegression(), auto_order=1, exog_order=[100,100,100,100,100,100])\n",
    "mdl.fit(x,y)\n",
    "\n",
    "y_forecast = mdl.forecast(x, y, step=23, X_future=xFcst)\n",
    "y_forecast,yFcst"
   ]
  },
  {
   "cell_type": "code",
   "execution_count": null,
   "metadata": {},
   "outputs": [
    {
     "data": {
      "text/plain": [
       "0.9996518254692212"
      ]
     },
     "execution_count": 47,
     "metadata": {},
     "output_type": "execute_result"
    }
   ],
   "source": [
    "fore22=y_forecast[0]-y_forecast[-1]\n",
    "vero22=yFcst[0]-yFcst[-1]\n",
    "veroBar=np.mean(yFcst)\n",
    "num=(vero22-fore22)**2\n",
    "den=(vero22-veroBar)**2\n",
    "r2OutSARX=((den-num)/den)\n",
    "r2OutSARX"
   ]
  },
  {
   "cell_type": "code",
   "execution_count": null,
   "metadata": {},
   "outputs": [
    {
     "data": {
      "image/png": "[encoded data removed]",
      "text/plain": [
       "<Figure size 720x360 with 1 Axes>"
      ]
     },
     "metadata": {
      "needs_background": "light"
     },
     "output_type": "display_data"
    }
   ],
   "source": [
    "dict={'ARX':0.9996518254692212,'LSTM':0.74508996,'CNN/LSTM':0.80939784}\n",
    "topl=pd.DataFrame([dict])\n",
    "dd=np.zeros(3)\n",
    "toplot=[r2OutSARX,\n",
    "r2OutSLSTM,\n",
    "r2OutS_modello]\n",
    "for i in range(1,3):\n",
    "    dd[i]=1/(toplot[i-1]-toplot[i])\n",
    "plt.figure(figsize=(10,5))\n",
    "plt.plot(toplot,'o-',label='estim. performance')\n",
    "plt.annotate('ARX'     , (0.07,0.99))\n",
    "plt.annotate('LSTM'    ,(.95,0.76))\n",
    "plt.annotate('CNN/LSTM',(1.75,0.82))\n",
    "plt.ylabel('$R^2_{OS}(\\%)=1- (MSE_{estim} / MSE_{bench})$')\n",
    "plt.xlabel('models')\n",
    "plt.grid(True)\n",
    "plt.legend()\n",
    "plt.savefig(\"MSFT_res.pdf\")\n",
    "plt.show()"
   ]
  }
 ],
 "metadata": {
  "kernelspec": {
   "display_name": "Python 3.9.12 ('base')",
   "language": "python",
   "name": "python3"
  },
  "language_info": {
   "codemirror_mode": {
    "name": "ipython",
    "version": 3
   },
   "file_extension": ".py",
   "mimetype": "text/x-python",
   "name": "python",
   "nbconvert_exporter": "python",
   "pygments_lexer": "ipython3",
   "version": "3.9.12"
  },
  "orig_nbformat": 4,
  "vscode": {
   "interpreter": {
    "hash": "597e2b791014bf3f975e304e1e72922cb6b9245e0453d34e2c818a7120fc527f"
   }
  }
 },
 "nbformat": 4,
 "nbformat_minor": 2
}
