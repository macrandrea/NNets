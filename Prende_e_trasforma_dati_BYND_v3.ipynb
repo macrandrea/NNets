{
 "cells": [
  {
   "cell_type": "markdown",
   "metadata": {},
   "source": [
    "Extracting returns signals from Beyond Meat's LOB for OB data for April 2018\n",
    "==="
   ]
  },
  {
   "cell_type": "code",
   "execution_count": 2,
   "metadata": {},
   "outputs": [],
   "source": [
    "import os\n",
    "import pandas as pd\n",
    "import numpy  as np\n",
    "import matplotlib.pyplot as plt\n",
    "from pandas.tseries.offsets import *\n",
    "import statsmodels.formula.api as smf\n",
    "from glob import glob\n",
    "from datetime import datetime\n",
    "import tensorflow as tf\n",
    "import keras\n",
    "from keras import Input, layers\n",
    "from keras.models import Model\n",
    "from keras.layers import Flatten, Dense, Dropout, Activation, Input, LSTM, Reshape, Conv2D, MaxPooling2D, LeakyReLU, GlobalMaxPooling1D\n",
    "from keras.optimizers import Adam\n",
    "from keras.utils import np_utils\n",
    "import random\n",
    "from sklearn.metrics import mean_squared_error as mse\n",
    "from scipy import stats\n",
    "from sklearn.linear_model import LinearRegression\n",
    "from fireTS.models import NARX\n",
    "seed_value = 2020\n",
    "random.seed(seed_value)\n",
    "np.random.seed(seed_value)\n",
    "tf.random.set_seed(seed_value)\n",
    "from sklearn.preprocessing import QuantileTransformer \n",
    "normalizer = QuantileTransformer(output_distribution='normal')"
   ]
  },
  {
   "cell_type": "markdown",
   "metadata": {},
   "source": [
    "Initialising some utility functions, extracting data from LOBster data, calculation of cumulative returns over the month\n",
    "==="
   ]
  },
  {
   "cell_type": "code",
   "execution_count": 2,
   "metadata": {},
   "outputs": [],
   "source": [
    "#utils functions\n",
    "def midPrice(lob_data):\n",
    "    a=lob_data['AP1'].values.tolist()\n",
    "    b=lob_data['BP1'].values.tolist()\n",
    "    m=np.zeros(len(a))\n",
    "    for i in range(len(a)):\n",
    "        m[i]=(a[i]+b[i])/2\n",
    "    return m\n",
    "def upDown(m):\n",
    "    u_d=np.zeros(len(a))\n",
    "    for i in range(1,len(a)):\n",
    "        if m[i-1]>m[i]:#scende il prezzo\n",
    "            u_d[i-1]=-1\n",
    "        elif m[i-1]<m[i]:#sale il prezzo\n",
    "            u_d[i-1]=1\n",
    "        else:\n",
    "            u_d[i-1]=0\n",
    "    return u_d\n",
    "\n",
    "def ret(m):\n",
    "    r=np.zeros(len(m))\n",
    "    for i in range(1,len(m)):\n",
    "        r[i]=m[i-1]-m[i]\n",
    "    return r\n",
    "\n",
    "def deltaT(m):\n",
    "    N=0\n",
    "    d=np.zeros(len(m))\n",
    "    for i in range(1,len(m)):\n",
    "        d[i]=m[i-1]-m[i]\n",
    "        if [i]!=0:\n",
    "            N+=1\n",
    "    return int((2.34*10**7)/N)\n",
    "\n",
    "def doHk(deltT,k):\n",
    "    hk=np.zeros(k)\n",
    "    for i in range(k):\n",
    "        hk[i]=np.int16((1/5)*i*deltT)\n",
    "    return hk\n",
    "\n",
    "def retHk(m,hk):\n",
    "    ret=np.zeros(100)\n",
    "    for i,k in zip(range(len(m)),hk):\n",
    "        ret[i]=m[i+k]-m[i]\n",
    "    return ret\n",
    "\n",
    "def OF_1(ld):\n",
    "    of=np.zeros((len(ld),6))\n",
    "    for i,ii in zip(range(1,12,2),range(0,6,2)): #giro sui prezzi ask e volumi ask di conseguenza\n",
    "        for j in range(1,len(ld)): #giro sulle righe\n",
    "            #ask\n",
    "            if ld[j][i-1]>ld[j-1][i-1]: #p_t>p_t-1\n",
    "                of[j-1][ii]=-1*ld[j][i]\n",
    "            elif ld[j][i-1]<ld[j-1][i-1]: #p_t<p_t-1\n",
    "                of[j-1][ii]=ld[j][i]\n",
    "            elif ld[j][i-1]==ld[j-1][i-1]: #p_t=p_t-1\n",
    "                of[j-1][ii]=ld[j][i]-ld[j-1][i]\n",
    "    for w,ww in zip(range(3,12,4),range(1,7,2)):\n",
    "        for jj in range(1,len(ld)):    \n",
    "            #bid\n",
    "            if ld[jj][w-1]>ld[jj-1][w-1]: #p_t>p_t-1\n",
    "                of[jj-1][ww]=ld[jj][w]\n",
    "            elif ld[jj][w-1]<ld[jj-1][w-1]: #p_t<p_t-1\n",
    "                of[jj-1][ww]=-1*ld[jj][w]\n",
    "            elif ld[jj][w-1]==ld[jj-1][w-1]: #p_t=p_t-1\n",
    "                of[jj-1][ww]=ld[jj][w]-ld[jj-1][w]\n",
    "    return of\n",
    "    \n",
    "from scipy import stats\n",
    "def taglia_e_cuci(v):\n",
    "    hi=np.quantile(v,0.0005)\n",
    "    lo=np.quantile(v, 0.9995)\n",
    "    b=np.clip(v, hi,lo)\n",
    "    return b"
   ]
  },
  {
   "cell_type": "code",
   "execution_count": 3,
   "metadata": {},
   "outputs": [],
   "source": [
    "msg_files = glob(\"BYND/*message*.csv\")\n",
    "lob_files = glob(\"BYND/*order*.csv\")\n",
    "d0 = datetime(2018,4,2)"
   ]
  },
  {
   "cell_type": "code",
   "execution_count": 4,
   "metadata": {},
   "outputs": [
    {
     "name": "stdout",
     "output_type": "stream",
     "text": [
      "13.98 million observations\n"
     ]
    }
   ],
   "source": [
    "dfs = []\n",
    "for day, file in enumerate(np.sort(msg_files)[:]):\n",
    "    te = pd.read_csv(file, header=None, low_memory=False)\n",
    "    te['Day'] = d0 + BDay(day)\n",
    "    dfs.append(te)\n",
    "df_msg = pd.concat(dfs)\n",
    "\n",
    "print(\"{0:0.2f} million observations\".format(len(df_msg)/10**6))\n",
    "df_msg.columns = ['Time', 'Event', 'ID', 'Size', 'Price', 'Direction', '?', 'Day']\n",
    "df_msg = df_msg.drop(['?'], axis=1)\n",
    "df_msg['Execution'] = np.where(df_msg['Event'].isin([4,5]), 1, 0)\n",
    "# 4: Execution of a visible limit order\n",
    "# 5: Execution of a hidden limit order"
   ]
  },
  {
   "cell_type": "code",
   "execution_count": 5,
   "metadata": {},
   "outputs": [
    {
     "name": "stdout",
     "output_type": "stream",
     "text": [
      "3.02 million observations\n"
     ]
    }
   ],
   "source": [
    "df_msg_exe=df_msg[df_msg['Execution']==1]\n",
    "print(\"{0:0.2f} million observations\".format(len(df_msg_exe)/10**6))"
   ]
  },
  {
   "cell_type": "code",
   "execution_count": 6,
   "metadata": {},
   "outputs": [
    {
     "name": "stdout",
     "output_type": "stream",
     "text": [
      "13.98 million observations\n"
     ]
    }
   ],
   "source": [
    "\n",
    "dfs = []\n",
    "for file in np.sort(lob_files)[:]:\n",
    "    te = pd.read_csv(file, header=None)\n",
    "    dfs.append(te)\n",
    "df_lob  = pd.concat(dfs)\n",
    "cols = np.ravel([['AP%d'%level, 'AS%d'%level, 'BP%d'%level, 'BS%d'%level] for level in [1,2,3]])\n",
    "df_lob.columns = cols\n",
    "print(\"{0:0.2f} million observations\".format(len(df_lob)/10**6))"
   ]
  },
  {
   "cell_type": "code",
   "execution_count": 7,
   "metadata": {},
   "outputs": [
    {
     "data": {
      "text/html": [
       "<div>\n",
       "<style scoped>\n",
       "    .dataframe tbody tr th:only-of-type {\n",
       "        vertical-align: middle;\n",
       "    }\n",
       "\n",
       "    .dataframe tbody tr th {\n",
       "        vertical-align: top;\n",
       "    }\n",
       "\n",
       "    .dataframe thead th {\n",
       "        text-align: right;\n",
       "    }\n",
       "</style>\n",
       "<table border=\"1\" class=\"dataframe\">\n",
       "  <thead>\n",
       "    <tr style=\"text-align: right;\">\n",
       "      <th></th>\n",
       "      <th>AP1</th>\n",
       "      <th>AS1</th>\n",
       "      <th>BP1</th>\n",
       "      <th>BS1</th>\n",
       "      <th>AP2</th>\n",
       "      <th>AS2</th>\n",
       "      <th>BP2</th>\n",
       "      <th>BS2</th>\n",
       "      <th>AP3</th>\n",
       "      <th>AS3</th>\n",
       "      <th>BP3</th>\n",
       "      <th>BS3</th>\n",
       "    </tr>\n",
       "  </thead>\n",
       "  <tbody>\n",
       "    <tr>\n",
       "      <th>16</th>\n",
       "      <td>762500</td>\n",
       "      <td>51</td>\n",
       "      <td>762000</td>\n",
       "      <td>350</td>\n",
       "      <td>763000</td>\n",
       "      <td>51</td>\n",
       "      <td>761500</td>\n",
       "      <td>297</td>\n",
       "      <td>763500</td>\n",
       "      <td>1</td>\n",
       "      <td>761000</td>\n",
       "      <td>1046</td>\n",
       "    </tr>\n",
       "    <tr>\n",
       "      <th>17</th>\n",
       "      <td>762500</td>\n",
       "      <td>1</td>\n",
       "      <td>762000</td>\n",
       "      <td>350</td>\n",
       "      <td>763000</td>\n",
       "      <td>51</td>\n",
       "      <td>761500</td>\n",
       "      <td>297</td>\n",
       "      <td>763500</td>\n",
       "      <td>1</td>\n",
       "      <td>761000</td>\n",
       "      <td>1046</td>\n",
       "    </tr>\n",
       "    <tr>\n",
       "      <th>18</th>\n",
       "      <td>763000</td>\n",
       "      <td>51</td>\n",
       "      <td>762000</td>\n",
       "      <td>350</td>\n",
       "      <td>763500</td>\n",
       "      <td>1</td>\n",
       "      <td>761500</td>\n",
       "      <td>297</td>\n",
       "      <td>763600</td>\n",
       "      <td>1</td>\n",
       "      <td>761000</td>\n",
       "      <td>1046</td>\n",
       "    </tr>\n",
       "    <tr>\n",
       "      <th>22</th>\n",
       "      <td>762400</td>\n",
       "      <td>10</td>\n",
       "      <td>762000</td>\n",
       "      <td>350</td>\n",
       "      <td>763000</td>\n",
       "      <td>51</td>\n",
       "      <td>761500</td>\n",
       "      <td>297</td>\n",
       "      <td>763500</td>\n",
       "      <td>1</td>\n",
       "      <td>761000</td>\n",
       "      <td>1046</td>\n",
       "    </tr>\n",
       "    <tr>\n",
       "      <th>23</th>\n",
       "      <td>762400</td>\n",
       "      <td>10</td>\n",
       "      <td>762000</td>\n",
       "      <td>150</td>\n",
       "      <td>763000</td>\n",
       "      <td>51</td>\n",
       "      <td>761500</td>\n",
       "      <td>297</td>\n",
       "      <td>763500</td>\n",
       "      <td>1</td>\n",
       "      <td>761000</td>\n",
       "      <td>1046</td>\n",
       "    </tr>\n",
       "  </tbody>\n",
       "</table>\n",
       "</div>"
      ],
      "text/plain": [
       "       AP1  AS1     BP1  BS1     AP2  AS2     BP2  BS2     AP3  AS3     BP3  \\\n",
       "16  762500   51  762000  350  763000   51  761500  297  763500    1  761000   \n",
       "17  762500    1  762000  350  763000   51  761500  297  763500    1  761000   \n",
       "18  763000   51  762000  350  763500    1  761500  297  763600    1  761000   \n",
       "22  762400   10  762000  350  763000   51  761500  297  763500    1  761000   \n",
       "23  762400   10  762000  150  763000   51  761500  297  763500    1  761000   \n",
       "\n",
       "     BS3  \n",
       "16  1046  \n",
       "17  1046  \n",
       "18  1046  \n",
       "22  1046  \n",
       "23  1046  "
      ]
     },
     "execution_count": 7,
     "metadata": {},
     "output_type": "execute_result"
    }
   ],
   "source": [
    "df_lob.reset_index(inplace=True)\n",
    "df_msg.reset_index(inplace=True)\n",
    "df = pd.concat([df_msg, df_lob], axis=1)\n",
    "df = df[df['Execution']==1]\n",
    "df.dropna(inplace=True)\n",
    "lob_data=df[cols]\n",
    "lob_data.head()"
   ]
  },
  {
   "cell_type": "code",
   "execution_count": 8,
   "metadata": {},
   "outputs": [
    {
     "data": {
      "image/png": "[encoded data removed]",
      "text/plain": [
       "<Figure size 432x288 with 1 Axes>"
      ]
     },
     "metadata": {
      "needs_background": "light"
     },
     "output_type": "display_data"
    }
   ],
   "source": [
    "ld=lob_data.values.tolist()\n",
    "aa=OF_1(ld) #fa Order Flow\n",
    "bCols=np.ravel([['aOF_%d'%level, 'bOF_%d'%level] for level in [1,2,3]])\n",
    "of_data=pd.DataFrame(aa, columns=bCols)\n",
    "m=pd.DataFrame(midPrice(lob_data),columns=['m'])\n",
    "m['r']=m['m'].pct_change()#diff()#calcola le differenze di midprice ogni 10 eventi ->differenze secondo il vettore h_K\n",
    "m['rCum']=m['r'].cumsum()\n",
    "of_data['r']=m['rCum']#*100\n",
    "of_data.dropna(inplace=True)\n",
    "of_data.plot()\n",
    "plt.title('cumRets')\n",
    "plt.show()"
   ]
  },
  {
   "cell_type": "markdown",
   "metadata": {},
   "source": [
    "Prepares the dataset: cuts at 0.5% the tails, and splits data in the requested formats\n",
    "==="
   ]
  },
  {
   "cell_type": "code",
   "execution_count": 9,
   "metadata": {},
   "outputs": [],
   "source": [
    "offlo=of_data.apply(lambda x: taglia_e_cuci(x))"
   ]
  },
  {
   "cell_type": "code",
   "execution_count": 10,
   "metadata": {},
   "outputs": [],
   "source": [
    "def prepare_x(data):\n",
    "    df1 = data[:, :6]\n",
    "    return np.array(df1)\n",
    "\n",
    "def get_label(data):\n",
    "    lob = data[:, -1:]\n",
    "    return lob\n",
    "\n",
    "def data_classification(X, Y, T):\n",
    "    [N, D] = X.shape\n",
    "    df = np.array(X)\n",
    "    dY = np.array(Y)\n",
    "    dataY = dY[T - 1:N]\n",
    "    dataX = np.zeros((N - T + 1, T, D))\n",
    "    for i in range(T, N + 1):\n",
    "        dataX[i - T] = df[i - T:i, :]\n",
    "    return dataX.reshape(-1,100,6,1), dataY\n",
    "\n",
    "def prepare_x_y(data, k, T):\n",
    "    x = prepare_x(data)\n",
    "    y = get_label(data)\n",
    "    x, y = data_classification(x, y, T=T)\n",
    "    #y = y[:,k]\n",
    "    #y = np_utils.to_categorical(y, 3)\n",
    "    return x, y"
   ]
  },
  {
   "cell_type": "code",
   "execution_count": 11,
   "metadata": {},
   "outputs": [],
   "source": [
    "vali_weight=0.05"
   ]
  },
  {
   "cell_type": "code",
   "execution_count": 12,
   "metadata": {},
   "outputs": [
    {
     "data": {
      "text/plain": [
       "((10000, 1), (10000, 100, 6, 1), (10000, 1))"
      ]
     },
     "execution_count": 12,
     "metadata": {},
     "output_type": "execute_result"
    }
   ],
   "source": [
    "#fa dataset\n",
    "y=offlo['r'].to_numpy()\n",
    "idx=10000\n",
    "horiz=1\n",
    "T=100\n",
    "r=np.empty((idx,horiz))\n",
    "med=np.empty((idx,horiz))\n",
    "h=[ 22]#, 44, 89, 133, 178, 223, 267, 312, 356, 401]\n",
    "\n",
    "for i in range(idx): #righe\n",
    "    for ii,iii in zip(range(horiz),h): #colonne, steps\n",
    "        r[i,ii]=y[i+iii]-y[i]\n",
    "        med[i][ii]=np.mean(y[:i+iii])\n",
    "\n",
    "X=offlo[['aOF_1','bOF_1','aOF_2','bOF_2','aOF_3','bOF_3']][:1000000]\n",
    "\n",
    "x=X.to_numpy()\n",
    "dataX=x.reshape(-1,100,6,1)\n",
    "erre=r\n",
    "r.shape, dataX.shape, med.shape"
   ]
  },
  {
   "cell_type": "code",
   "execution_count": 13,
   "metadata": {},
   "outputs": [
    {
     "name": "stdout",
     "output_type": "stream",
     "text": [
      "(9000, 100, 6, 1) (9000, 1)\n",
      "(999, 100, 6, 1) (999, 1)\n",
      "(1, 100, 6, 1) (1, 1)\n"
     ]
    }
   ],
   "source": [
    "#fa supervised dataset: train, val e test\n",
    "l=len(dataX)\n",
    "a=int(9000)\n",
    "b=int( 999)\n",
    "x_vecc_train=dataX[:a]\n",
    "\n",
    "mu=x_vecc_train.mean()\n",
    "sd=x_vecc_train.std()\n",
    "stdize=lambda x: x/sd\n",
    "\n",
    "\n",
    "x_vecc_train=dataX[:a]/sd\n",
    "r_train     =r[:a]\n",
    "x_vecc_val  =dataX[a:a+b]/sd\n",
    "r_val       =r[a:a+b]\n",
    "x_vecc_test =dataX[a+b:a+b+1]/sd\n",
    "r_test      =r[a+b:a+b+1]\n",
    "\n",
    "\n",
    "print(x_vecc_train.shape, r_train.shape)\n",
    "print(x_vecc_val.shape,   r_val.shape)\n",
    "print(x_vecc_test.shape,  r_test.shape)\n"
   ]
  },
  {
   "cell_type": "markdown",
   "metadata": {},
   "source": [
    "CNN/LSTM\n",
    "==="
   ]
  },
  {
   "cell_type": "code",
   "execution_count": 14,
   "metadata": {},
   "outputs": [
    {
     "name": "stdout",
     "output_type": "stream",
     "text": [
      "Model: \"model\"\n",
      "__________________________________________________________________________________________________\n",
      " Layer (type)                   Output Shape         Param #     Connected to                     \n",
      "==================================================================================================\n",
      " input_1 (InputLayer)           [(None, 100, 6, 1)]  0           []                               \n",
      "                                                                                                  \n",
      " conv2d (Conv2D)                (None, 100, 3, 32)   96          ['input_1[0][0]']                \n",
      "                                                                                                  \n",
      " leaky_re_lu (LeakyReLU)        (None, 100, 3, 32)   0           ['conv2d[0][0]']                 \n",
      "                                                                                                  \n",
      " conv2d_1 (Conv2D)              (None, 100, 3, 32)   4128        ['leaky_re_lu[0][0]']            \n",
      "                                                                                                  \n",
      " leaky_re_lu_1 (LeakyReLU)      (None, 100, 3, 32)   0           ['conv2d_1[0][0]']               \n",
      "                                                                                                  \n",
      " conv2d_2 (Conv2D)              (None, 100, 3, 32)   4128        ['leaky_re_lu_1[0][0]']          \n",
      "                                                                                                  \n",
      " leaky_re_lu_2 (LeakyReLU)      (None, 100, 3, 32)   0           ['conv2d_2[0][0]']               \n",
      "                                                                                                  \n",
      " conv2d_3 (Conv2D)              (None, 100, 1, 16)   5136        ['leaky_re_lu_2[0][0]']          \n",
      "                                                                                                  \n",
      " leaky_re_lu_3 (LeakyReLU)      (None, 100, 1, 16)   0           ['conv2d_3[0][0]']               \n",
      "                                                                                                  \n",
      " conv2d_4 (Conv2D)              (None, 100, 1, 64)   1088        ['leaky_re_lu_3[0][0]']          \n",
      "                                                                                                  \n",
      " conv2d_6 (Conv2D)              (None, 100, 1, 64)   1088        ['leaky_re_lu_3[0][0]']          \n",
      "                                                                                                  \n",
      " leaky_re_lu_4 (LeakyReLU)      (None, 100, 1, 64)   0           ['conv2d_4[0][0]']               \n",
      "                                                                                                  \n",
      " leaky_re_lu_6 (LeakyReLU)      (None, 100, 1, 64)   0           ['conv2d_6[0][0]']               \n",
      "                                                                                                  \n",
      " max_pooling2d (MaxPooling2D)   (None, 100, 1, 16)   0           ['leaky_re_lu_3[0][0]']          \n",
      "                                                                                                  \n",
      " conv2d_5 (Conv2D)              (None, 100, 1, 64)   12352       ['leaky_re_lu_4[0][0]']          \n",
      "                                                                                                  \n",
      " conv2d_7 (Conv2D)              (None, 100, 1, 64)   20544       ['leaky_re_lu_6[0][0]']          \n",
      "                                                                                                  \n",
      " conv2d_8 (Conv2D)              (None, 100, 1, 64)   1088        ['max_pooling2d[0][0]']          \n",
      "                                                                                                  \n",
      " leaky_re_lu_5 (LeakyReLU)      (None, 100, 1, 64)   0           ['conv2d_5[0][0]']               \n",
      "                                                                                                  \n",
      " leaky_re_lu_7 (LeakyReLU)      (None, 100, 1, 64)   0           ['conv2d_7[0][0]']               \n",
      "                                                                                                  \n",
      " leaky_re_lu_8 (LeakyReLU)      (None, 100, 1, 64)   0           ['conv2d_8[0][0]']               \n",
      "                                                                                                  \n",
      " concatenate (Concatenate)      (None, 100, 1, 192)  0           ['leaky_re_lu_5[0][0]',          \n",
      "                                                                  'leaky_re_lu_7[0][0]',          \n",
      "                                                                  'leaky_re_lu_8[0][0]']          \n",
      "                                                                                                  \n",
      " reshape (Reshape)              (None, 100, 192)     0           ['concatenate[0][0]']            \n",
      "                                                                                                  \n",
      " dropout (Dropout)              (None, 100, 192)     0           ['reshape[0][0]']                \n",
      "                                                                                                  \n",
      " lstm (LSTM)                    (None, 64)           65792       ['dropout[0][0]']                \n",
      "                                                                                                  \n",
      " dense (Dense)                  (None, 1)            65          ['lstm[0][0]']                   \n",
      "                                                                                                  \n",
      "==================================================================================================\n",
      "Total params: 115,505\n",
      "Trainable params: 115,505\n",
      "Non-trainable params: 0\n",
      "__________________________________________________________________________________________________\n"
     ]
    }
   ],
   "source": [
    "#architettura della rete\n",
    "def create_nn(T, NF,number_of_lstm):\n",
    "\n",
    "    input_lmd = tf.keras.Input(shape=(T, NF, 1))\n",
    "\n",
    "    conv_first1 = Conv2D(32, kernel_size=(1, 2), strides=(1, 2))(input_lmd)\n",
    "    conv_first1 = keras.layers.LeakyReLU(alpha=0.01)(conv_first1)\n",
    "    conv_first1 = Conv2D(32, (4, 1), padding='same')(conv_first1)\n",
    "    conv_first1 = keras.layers.LeakyReLU(alpha=0.01)(conv_first1)\n",
    "    conv_first1 = Conv2D(32, (4, 1), padding='same')(conv_first1)\n",
    "    conv_first1 = keras.layers.LeakyReLU(alpha=0.01)(conv_first1)\n",
    "    #\n",
    "    layer_x = layers.Conv2D(filters=16, kernel_size=(10,1),strides=(1,10), padding='same')(conv_first1)\n",
    "    layer_x = layers.LeakyReLU(alpha=0.01)(layer_x)\n",
    "    # inception\n",
    "    convsecond_1 = Conv2D(64, (1, 1), padding='same', strides=(1,1))(layer_x)\n",
    "    convsecond_1 = keras.layers.LeakyReLU(alpha=0.01)(convsecond_1)\n",
    "    convsecond_1 = Conv2D(64, (3, 1), padding='same', strides=(1,1))(convsecond_1)\n",
    "    convsecond_1 = keras.layers.LeakyReLU(alpha=0.01)(convsecond_1)\n",
    "\n",
    "    convsecond_2 = Conv2D(64, (1, 1), padding='same', strides=(1,1))(layer_x)\n",
    "    convsecond_2 = keras.layers.LeakyReLU(alpha=0.01)(convsecond_2)\n",
    "    convsecond_2 = Conv2D(64, (5, 1), padding='same', strides=(1,1))(convsecond_2)\n",
    "    convsecond_2 = keras.layers.LeakyReLU(alpha=0.01)(convsecond_2)\n",
    "\n",
    "    convsecond_3 = MaxPooling2D((3, 1), strides=(1, 1), padding='same')(layer_x)\n",
    "    convsecond_3 = Conv2D(64, (1, 1), padding='same', strides=(1,1))(convsecond_3)\n",
    "    convsecond_3 = keras.layers.LeakyReLU(alpha=0.01)(convsecond_3)\n",
    "    \n",
    "    convsecond_output = keras.layers.concatenate([convsecond_1, convsecond_2, convsecond_3], axis=3)\n",
    "    conv_reshape = Reshape((int(convsecond_output.shape[1]), int(convsecond_output.shape[3])))(convsecond_output)\n",
    "    conv_reshape = keras.layers.Dropout(0.7, noise_shape=(None, 1, int(conv_reshape.shape[2])))(conv_reshape, training=True)\n",
    "\n",
    "    #  LSTM layer\n",
    "    conv_lstm = LSTM(number_of_lstm)(conv_reshape)\n",
    "    # output layer\n",
    "    out = Dense(horiz, activation='leaky_relu')(conv_lstm)\n",
    "    model = Model(inputs=input_lmd, outputs=out)\n",
    "    adam = keras.optimizers.Adam(learning_rate=0.0001)\n",
    "    model.compile(optimizer=adam, loss='mse')#, metrics=['accuracy']\n",
    "\n",
    "    return model\n",
    "  \n",
    "deeplob = create_nn(100, 6, 64)\n",
    "\n",
    "deeplob.summary()\n",
    "checkpoint_filepath = './model_tensorflow2/weights'\n"
   ]
  },
  {
   "cell_type": "code",
   "execution_count": 15,
   "metadata": {},
   "outputs": [],
   "source": [
    "callback=tf.keras.callbacks.EarlyStopping(\n",
    "    monitor='val_loss',\n",
    "    min_delta=0,\n",
    "    patience=5,\n",
    "    verbose=1,\n",
    "    mode='auto',\n",
    "    baseline=None,\n",
    "    restore_best_weights=False\n",
    ")\n",
    "saving = tf.keras.callbacks.ModelCheckpoint(\n",
    "    filepath=checkpoint_filepath,\n",
    "    save_weights_only=True,\n",
    "    monitor='val_loss',\n",
    "    mode='auto',\n",
    "    save_best_only=True)"
   ]
  },
  {
   "cell_type": "code",
   "execution_count": 16,
   "metadata": {},
   "outputs": [
    {
     "name": "stdout",
     "output_type": "stream",
     "text": [
      "Epoch 1/50\n",
      "36/36 [==============================] - 9s 221ms/step - loss: 2.0840e-04 - val_loss: 1.4588e-04\n",
      "Epoch 2/50\n",
      "36/36 [==============================] - 8s 209ms/step - loss: 4.6812e-05 - val_loss: 6.2891e-05\n",
      "Epoch 3/50\n",
      "36/36 [==============================] - 8s 211ms/step - loss: 3.9378e-05 - val_loss: 4.2228e-05\n",
      "Epoch 4/50\n",
      "36/36 [==============================] - 8s 216ms/step - loss: 2.4101e-05 - val_loss: 2.7934e-05\n",
      "Epoch 5/50\n",
      "36/36 [==============================] - 8s 215ms/step - loss: 1.7464e-05 - val_loss: 2.9028e-05\n",
      "Epoch 6/50\n",
      "36/36 [==============================] - 8s 214ms/step - loss: 1.2991e-05 - val_loss: 1.9790e-05\n",
      "Epoch 7/50\n",
      "36/36 [==============================] - 8s 213ms/step - loss: 1.0891e-05 - val_loss: 1.5985e-05\n",
      "Epoch 8/50\n",
      "36/36 [==============================] - 8s 213ms/step - loss: 8.9671e-06 - val_loss: 1.2938e-05\n",
      "Epoch 9/50\n",
      "36/36 [==============================] - 8s 212ms/step - loss: 8.4134e-06 - val_loss: 1.4207e-05\n",
      "Epoch 10/50\n",
      "36/36 [==============================] - 8s 214ms/step - loss: 8.4286e-06 - val_loss: 8.0608e-06\n",
      "Epoch 11/50\n",
      "36/36 [==============================] - 8s 213ms/step - loss: 5.8751e-06 - val_loss: 8.5464e-06\n",
      "Epoch 12/50\n",
      "36/36 [==============================] - 8s 213ms/step - loss: 5.9405e-06 - val_loss: 6.1744e-06\n",
      "Epoch 13/50\n",
      "36/36 [==============================] - 8s 214ms/step - loss: 5.0533e-06 - val_loss: 6.9487e-06\n",
      "Epoch 14/50\n",
      "36/36 [==============================] - 8s 214ms/step - loss: 4.3300e-06 - val_loss: 5.0169e-06\n",
      "Epoch 15/50\n",
      "36/36 [==============================] - 8s 216ms/step - loss: 4.2870e-06 - val_loss: 5.0213e-06\n",
      "Epoch 16/50\n",
      "36/36 [==============================] - 8s 215ms/step - loss: 3.7408e-06 - val_loss: 4.9800e-06\n",
      "Epoch 17/50\n",
      "36/36 [==============================] - 8s 215ms/step - loss: 3.7284e-06 - val_loss: 4.1986e-06\n",
      "Epoch 18/50\n",
      "36/36 [==============================] - 8s 212ms/step - loss: 4.4298e-06 - val_loss: 4.9679e-06\n",
      "Epoch 19/50\n",
      "36/36 [==============================] - 8s 212ms/step - loss: 3.3570e-06 - val_loss: 4.6845e-06\n",
      "Epoch 20/50\n",
      "36/36 [==============================] - 8s 213ms/step - loss: 2.8576e-06 - val_loss: 4.3348e-06\n",
      "Epoch 21/50\n",
      "36/36 [==============================] - 8s 216ms/step - loss: 2.9940e-06 - val_loss: 4.2178e-06\n",
      "Epoch 22/50\n",
      "36/36 [==============================] - 8s 216ms/step - loss: 2.9349e-06 - val_loss: 3.6544e-06\n",
      "Epoch 23/50\n",
      "36/36 [==============================] - 8s 224ms/step - loss: 2.6660e-06 - val_loss: 2.6713e-06\n",
      "Epoch 24/50\n",
      "36/36 [==============================] - 8s 214ms/step - loss: 2.4591e-06 - val_loss: 2.5483e-06\n",
      "Epoch 25/50\n",
      "36/36 [==============================] - 8s 215ms/step - loss: 2.4753e-06 - val_loss: 3.6582e-06\n",
      "Epoch 26/50\n",
      "36/36 [==============================] - 8s 215ms/step - loss: 2.3866e-06 - val_loss: 2.3691e-06\n",
      "Epoch 27/50\n",
      "36/36 [==============================] - 8s 215ms/step - loss: 2.2047e-06 - val_loss: 1.8852e-06\n",
      "Epoch 28/50\n",
      "36/36 [==============================] - 8s 216ms/step - loss: 2.2929e-06 - val_loss: 2.5466e-06\n",
      "Epoch 29/50\n",
      "36/36 [==============================] - 8s 214ms/step - loss: 2.1480e-06 - val_loss: 2.2953e-06\n",
      "Epoch 30/50\n",
      "36/36 [==============================] - 8s 215ms/step - loss: 2.0862e-06 - val_loss: 2.3755e-06\n",
      "Epoch 31/50\n",
      "36/36 [==============================] - 8s 213ms/step - loss: 2.0777e-06 - val_loss: 2.2537e-06\n",
      "Epoch 32/50\n",
      "36/36 [==============================] - 8s 214ms/step - loss: 2.0965e-06 - val_loss: 1.8341e-06\n",
      "Epoch 33/50\n",
      "36/36 [==============================] - 8s 216ms/step - loss: 2.0185e-06 - val_loss: 1.6836e-06\n",
      "Epoch 34/50\n",
      "36/36 [==============================] - 8s 214ms/step - loss: 2.0364e-06 - val_loss: 1.9762e-06\n",
      "Epoch 35/50\n",
      "36/36 [==============================] - 8s 216ms/step - loss: 1.8710e-06 - val_loss: 2.1683e-06\n",
      "Epoch 36/50\n",
      "36/36 [==============================] - 8s 216ms/step - loss: 1.9236e-06 - val_loss: 1.8788e-06\n",
      "Epoch 37/50\n",
      "36/36 [==============================] - 8s 217ms/step - loss: 1.9721e-06 - val_loss: 1.9241e-06\n",
      "Epoch 38/50\n",
      "36/36 [==============================] - 8s 218ms/step - loss: 2.0332e-06 - val_loss: 1.9942e-06\n",
      "Epoch 38: early stopping\n"
     ]
    }
   ],
   "source": [
    "simple=deeplob.fit(x_vecc_train, r_train, validation_data=(x_vecc_val, r_val),  epochs=50, batch_size=250,callbacks=[callback,saving])"
   ]
  },
  {
   "cell_type": "code",
   "execution_count": 17,
   "metadata": {},
   "outputs": [
    {
     "data": {
      "image/png": "[encoded data removed]",
      "text/plain": [
       "<Figure size 432x288 with 1 Axes>"
      ]
     },
     "metadata": {
      "needs_background": "light"
     },
     "output_type": "display_data"
    }
   ],
   "source": [
    "plt.plot(simple.history['loss'], label='train loss')\n",
    "plt.plot(simple.history['val_loss'], label='val loss')\n",
    "plt.legend()\n",
    "plt.title('Losses');"
   ]
  },
  {
   "cell_type": "code",
   "execution_count": 18,
   "metadata": {},
   "outputs": [
    {
     "name": "stdout",
     "output_type": "stream",
     "text": [
      "1/1 [==============================] - 0s 328ms/step\n"
     ]
    }
   ],
   "source": [
    "Ptest = deeplob.predict(x_vecc_test)"
   ]
  },
  {
   "cell_type": "code",
   "execution_count": 19,
   "metadata": {},
   "outputs": [],
   "source": [
    "true=r_test\n",
    "fcst=Ptest\n",
    "u=np.array([np.mean(r[-22:])]).flatten()\n",
    "num=((true-fcst))**2\n",
    "den=((true-np.mean(med[-1:])))**2\n",
    "r2OutS_modello=((den-num)/den)"
   ]
  },
  {
   "cell_type": "code",
   "execution_count": 20,
   "metadata": {},
   "outputs": [
    {
     "data": {
      "text/plain": [
       "array([[0.8765146]])"
      ]
     },
     "execution_count": 20,
     "metadata": {},
     "output_type": "execute_result"
    }
   ],
   "source": [
    "r2OutS_modello"
   ]
  },
  {
   "cell_type": "markdown",
   "metadata": {},
   "source": [
    "LSTM\n",
    "==="
   ]
  },
  {
   "cell_type": "code",
   "execution_count": 21,
   "metadata": {},
   "outputs": [
    {
     "name": "stdout",
     "output_type": "stream",
     "text": [
      "Epoch 1/50\n",
      "36/36 [==============================] - 16s 373ms/step - loss: 1.8961e-04 - val_loss: 4.8765e-05\n",
      "Epoch 2/50\n",
      "36/36 [==============================] - 15s 408ms/step - loss: 2.5935e-05 - val_loss: 2.2090e-05\n",
      "Epoch 3/50\n",
      "36/36 [==============================] - 15s 424ms/step - loss: 1.6884e-05 - val_loss: 1.5215e-05\n",
      "Epoch 4/50\n",
      "36/36 [==============================] - 15s 421ms/step - loss: 1.4064e-05 - val_loss: 1.6515e-05\n",
      "Epoch 5/50\n",
      "36/36 [==============================] - 15s 424ms/step - loss: 1.2384e-05 - val_loss: 1.3898e-05\n",
      "Epoch 6/50\n",
      "36/36 [==============================] - 15s 419ms/step - loss: 1.1220e-05 - val_loss: 1.3942e-05\n",
      "Epoch 7/50\n",
      "36/36 [==============================] - 15s 424ms/step - loss: 1.0392e-05 - val_loss: 1.3605e-05\n",
      "Epoch 8/50\n",
      "36/36 [==============================] - 15s 420ms/step - loss: 9.5179e-06 - val_loss: 1.1487e-05\n",
      "Epoch 9/50\n",
      "36/36 [==============================] - 15s 426ms/step - loss: 9.2527e-06 - val_loss: 1.0995e-05\n",
      "Epoch 10/50\n",
      "36/36 [==============================] - 15s 420ms/step - loss: 8.6244e-06 - val_loss: 1.0510e-05\n",
      "Epoch 11/50\n",
      "36/36 [==============================] - 15s 424ms/step - loss: 8.6960e-06 - val_loss: 1.0420e-05\n",
      "Epoch 12/50\n",
      "36/36 [==============================] - 15s 426ms/step - loss: 7.4779e-06 - val_loss: 8.7725e-06\n",
      "Epoch 13/50\n",
      "36/36 [==============================] - 15s 424ms/step - loss: 7.0465e-06 - val_loss: 8.5261e-06\n",
      "Epoch 14/50\n",
      "36/36 [==============================] - 15s 421ms/step - loss: 6.8824e-06 - val_loss: 9.1545e-06\n",
      "Epoch 15/50\n",
      "36/36 [==============================] - 15s 416ms/step - loss: 6.6858e-06 - val_loss: 8.8423e-06\n",
      "Epoch 16/50\n",
      "36/36 [==============================] - 15s 415ms/step - loss: 6.4840e-06 - val_loss: 7.2835e-06\n",
      "Epoch 17/50\n",
      "36/36 [==============================] - 15s 413ms/step - loss: 6.1031e-06 - val_loss: 6.9331e-06\n",
      "Epoch 18/50\n",
      "36/36 [==============================] - 15s 411ms/step - loss: 5.7136e-06 - val_loss: 6.9767e-06\n",
      "Epoch 19/50\n",
      "36/36 [==============================] - 15s 411ms/step - loss: 5.6020e-06 - val_loss: 7.0690e-06\n",
      "Epoch 20/50\n",
      "36/36 [==============================] - 15s 413ms/step - loss: 5.2963e-06 - val_loss: 6.5881e-06\n",
      "Epoch 21/50\n",
      "36/36 [==============================] - 15s 411ms/step - loss: 5.0313e-06 - val_loss: 5.8093e-06\n",
      "Epoch 22/50\n",
      "36/36 [==============================] - 15s 410ms/step - loss: 4.7280e-06 - val_loss: 5.9501e-06\n",
      "Epoch 23/50\n",
      "36/36 [==============================] - 15s 411ms/step - loss: 4.7329e-06 - val_loss: 5.5039e-06\n",
      "Epoch 24/50\n",
      "36/36 [==============================] - 15s 409ms/step - loss: 4.4967e-06 - val_loss: 5.6774e-06\n",
      "Epoch 25/50\n",
      "36/36 [==============================] - 15s 407ms/step - loss: 4.3309e-06 - val_loss: 4.8251e-06\n",
      "Epoch 26/50\n",
      "36/36 [==============================] - 15s 406ms/step - loss: 4.3818e-06 - val_loss: 4.6691e-06\n",
      "Epoch 27/50\n",
      "36/36 [==============================] - 14s 403ms/step - loss: 4.0848e-06 - val_loss: 4.6721e-06\n",
      "Epoch 28/50\n",
      "36/36 [==============================] - 14s 403ms/step - loss: 4.0200e-06 - val_loss: 5.1210e-06\n",
      "Epoch 29/50\n",
      "36/36 [==============================] - 14s 403ms/step - loss: 3.8481e-06 - val_loss: 4.8770e-06\n",
      "Epoch 30/50\n",
      "36/36 [==============================] - 15s 404ms/step - loss: 3.7830e-06 - val_loss: 4.7483e-06\n",
      "Epoch 31/50\n",
      "36/36 [==============================] - 14s 401ms/step - loss: 3.7480e-06 - val_loss: 4.0359e-06\n",
      "Epoch 32/50\n",
      "36/36 [==============================] - 14s 401ms/step - loss: 3.7169e-06 - val_loss: 4.0469e-06\n",
      "Epoch 33/50\n",
      "36/36 [==============================] - 14s 401ms/step - loss: 3.5125e-06 - val_loss: 3.9125e-06\n",
      "Epoch 34/50\n",
      "36/36 [==============================] - 14s 402ms/step - loss: 3.4892e-06 - val_loss: 4.7046e-06\n",
      "Epoch 35/50\n",
      "36/36 [==============================] - 14s 399ms/step - loss: 3.6040e-06 - val_loss: 4.1110e-06\n",
      "Epoch 36/50\n",
      "36/36 [==============================] - 15s 404ms/step - loss: 3.2595e-06 - val_loss: 3.9765e-06\n",
      "Epoch 37/50\n",
      "36/36 [==============================] - 15s 403ms/step - loss: 3.1620e-06 - val_loss: 3.4065e-06\n",
      "Epoch 38/50\n",
      "36/36 [==============================] - 15s 404ms/step - loss: 3.1862e-06 - val_loss: 3.8180e-06\n",
      "Epoch 39/50\n",
      "36/36 [==============================] - 15s 404ms/step - loss: 3.1980e-06 - val_loss: 3.4675e-06\n",
      "Epoch 40/50\n",
      "36/36 [==============================] - 15s 404ms/step - loss: 3.0273e-06 - val_loss: 3.8346e-06\n",
      "Epoch 41/50\n",
      "36/36 [==============================] - 14s 403ms/step - loss: 2.9937e-06 - val_loss: 3.1714e-06\n",
      "Epoch 42/50\n",
      "36/36 [==============================] - 14s 402ms/step - loss: 2.9394e-06 - val_loss: 3.2992e-06\n",
      "Epoch 43/50\n",
      "36/36 [==============================] - 14s 401ms/step - loss: 2.8906e-06 - val_loss: 3.3429e-06\n",
      "Epoch 44/50\n",
      "36/36 [==============================] - 14s 400ms/step - loss: 2.8545e-06 - val_loss: 3.2208e-06\n",
      "Epoch 45/50\n",
      "36/36 [==============================] - 14s 400ms/step - loss: 2.7780e-06 - val_loss: 3.0769e-06\n",
      "Epoch 46/50\n",
      "36/36 [==============================] - 14s 399ms/step - loss: 2.6980e-06 - val_loss: 3.4775e-06\n",
      "Epoch 47/50\n",
      "36/36 [==============================] - 14s 401ms/step - loss: 2.6975e-06 - val_loss: 2.8080e-06\n",
      "Epoch 48/50\n",
      "36/36 [==============================] - 14s 400ms/step - loss: 2.6373e-06 - val_loss: 3.0537e-06\n",
      "Epoch 49/50\n",
      "36/36 [==============================] - 14s 399ms/step - loss: 2.5817e-06 - val_loss: 3.1721e-06\n",
      "Epoch 50/50\n",
      "36/36 [==============================] - 14s 398ms/step - loss: 2.6486e-06 - val_loss: 2.8963e-06\n"
     ]
    }
   ],
   "source": [
    "#architettura della rete\n",
    "num_units = 64\n",
    "activation_function = 'leaky_relu'\n",
    "adam = keras.optimizers.Adam(learning_rate=0.0001)\n",
    "loss_function = 'mse'\n",
    "batch_size = 250\n",
    "num_epochs = 50\n",
    "i = Input(shape=(100, 6))\n",
    "x = LSTM(64, return_sequences=True)(i)\n",
    "x = keras.layers.LeakyReLU(alpha=0.01)(x)\n",
    "x = LSTM(64, return_sequences=True)(x)\n",
    "x = keras.layers.LeakyReLU(alpha=0.01)(x)\n",
    "x = LSTM(64, return_sequences=True)(x)\n",
    "x = keras.layers.LeakyReLU(alpha=0.01)(x)\n",
    "x = keras.layers.Dropout(0.7)(x, training=True)\n",
    "#x = LSTM(64, return_sequences=True)(x)\n",
    "x = GlobalMaxPooling1D()(x)\n",
    "x = Dense(horiz, activation='leaky_relu')(x)\n",
    "\n",
    "\n",
    "model = Model(i, x)\n",
    "\n",
    "\n",
    "callback=tf.keras.callbacks.EarlyStopping(\n",
    "    monitor='val_loss',\n",
    "    min_delta=0,\n",
    "    patience=5,\n",
    "    verbose=1,\n",
    "    mode='auto',\n",
    "    baseline=None,\n",
    "    restore_best_weights=False\n",
    ")\n",
    "\n",
    "model.compile(optimizer = adam, loss = loss_function)\n",
    "\n",
    "lstmMSFT=model.fit(x_vecc_train, r_train, batch_size = batch_size, epochs = num_epochs,validation_data=(x_vecc_val, r_val),callbacks=[callback])"
   ]
  },
  {
   "cell_type": "code",
   "execution_count": 22,
   "metadata": {},
   "outputs": [
    {
     "data": {
      "image/png": "[encoded data removed]",
      "text/plain": [
       "<Figure size 432x288 with 1 Axes>"
      ]
     },
     "metadata": {
      "needs_background": "light"
     },
     "output_type": "display_data"
    }
   ],
   "source": [
    "plt.plot(lstmMSFT.history['loss'], label='train loss')\n",
    "plt.plot(lstmMSFT.history['val_loss'], label='test loss')\n",
    "plt.legend()\n",
    "plt.show()"
   ]
  },
  {
   "cell_type": "code",
   "execution_count": 23,
   "metadata": {},
   "outputs": [
    {
     "name": "stdout",
     "output_type": "stream",
     "text": [
      "1/1 [==============================] - 1s 679ms/step\n"
     ]
    }
   ],
   "source": [
    "PtestLSTM = model.predict(x_vecc_test)"
   ]
  },
  {
   "cell_type": "code",
   "execution_count": 24,
   "metadata": {},
   "outputs": [
    {
     "data": {
      "text/plain": [
       "array([[-1.35527354]])"
      ]
     },
     "execution_count": 24,
     "metadata": {},
     "output_type": "execute_result"
    }
   ],
   "source": [
    "trueLSTM=r_test\n",
    "fcstLSTM=PtestLSTM\n",
    "u=np.array([np.mean(r[-22:])]).flatten()\n",
    "num=(true-fcstLSTM)**2\n",
    "den=(true-np.mean(med[-1:]))**2#trueLSTM-umed[0]erre[0][-22:].flatten()\n",
    "r2OutSLSTM=((den-num)/den)\n",
    "r2OutSLSTM"
   ]
  },
  {
   "cell_type": "markdown",
   "metadata": {},
   "source": [
    "ARX-REGRESSION\n",
    "==="
   ]
  },
  {
   "cell_type": "code",
   "execution_count": 28,
   "metadata": {},
   "outputs": [
    {
     "data": {
      "text/plain": [
       "(array([0.11690346, 0.11691384, 0.11685727, 0.11679067, 0.11674423,\n",
       "        0.11671286, 0.11673324, 0.11674024, 0.11673334, 0.11674108,\n",
       "        0.11674549, 0.11675651, 0.11673854, 0.11672763, 0.11682813,\n",
       "        0.11670423, 0.11665927, 0.11665537, 0.11670553, 0.11664753,\n",
       "        0.11664862, 0.11669985, 0.1167393 ]),\n",
       " array([0.11693092, 0.11693092, 0.11693092, 0.1168139 , 0.11657983,\n",
       "        0.1165213 , 0.1163457 , 0.1163457 , 0.11681406, 0.11681406,\n",
       "        0.11681406, 0.11681406, 0.11681406, 0.11611185, 0.11611185,\n",
       "        0.11687311, 0.11611243, 0.11611243, 0.11611243, 0.11640522,\n",
       "        0.11611251, 0.1159954 , 0.11605396]))"
      ]
     },
     "execution_count": 28,
     "metadata": {},
     "output_type": "execute_result"
    }
   ],
   "source": [
    "offRed=offlo[:100000]\n",
    "y=                                                  offRed['r'][:-22].to_numpy()\n",
    "x=    offRed[['aOF_1','bOF_1','aOF_2','bOF_2','aOF_3','bOF_3']][:-22].to_numpy()\n",
    "xFcst=offRed[['aOF_1','bOF_1','aOF_2','bOF_2','aOF_3','bOF_3']][-22:].to_numpy()\n",
    "yFcst=                                              offRed['r'][-23:].to_numpy()\n",
    "\n",
    "mdl = NARX(LinearRegression(), auto_order=1, exog_order=[100,100,100,100,100,100])\n",
    "mdl.fit(x,y)\n",
    "\n",
    "y_forecast = mdl.forecast(x, y, step=23, X_future=xFcst)\n",
    "y_forecast,yFcst"
   ]
  },
  {
   "cell_type": "code",
   "execution_count": 29,
   "metadata": {},
   "outputs": [
    {
     "data": {
      "text/plain": [
       "0.9999619929861135"
      ]
     },
     "execution_count": 29,
     "metadata": {},
     "output_type": "execute_result"
    }
   ],
   "source": [
    "fore22=y_forecast[0]-y_forecast[-1]\n",
    "vero22=yFcst[0]-yFcst[-1]\n",
    "veroBar=np.mean(yFcst)\n",
    "num=(vero22-fore22)**2\n",
    "den=(vero22-veroBar)**2\n",
    "r2OutSARX=((den-num)/den)\n",
    "r2OutSARX"
   ]
  },
  {
   "cell_type": "code",
   "execution_count": 31,
   "metadata": {},
   "outputs": [
    {
     "data": {
      "image/png": "[encoded data removed]",
      "text/plain": [
       "<Figure size 720x360 with 1 Axes>"
      ]
     },
     "metadata": {
      "needs_background": "light"
     },
     "output_type": "display_data"
    }
   ],
   "source": [
    "dict={'ARX':0.9999619929861135,'LSTM':-1.35527354,'CNN/LSTM':0.8765146}\n",
    "r2OutSARX=0.9999619929861135\n",
    "r2OutSLSTM=-1.35527354\n",
    "r2OutS_modello=0.8765146\n",
    "topl=pd.DataFrame([dict])\n",
    "dd=np.zeros(3)\n",
    "toplot=[r2OutSARX,\n",
    "        r2OutSLSTM,\n",
    "        r2OutS_modello]\n",
    "for i in range(1,3):\n",
    "    dd[i]=1/(toplot[i-1]-toplot[i])\n",
    "plt.figure(figsize=(10,5))\n",
    "plt.plot(toplot,'o-',label='estim. performance')\n",
    "plt.annotate('ARX=0.9%'     , (0.05,0.9))\n",
    "plt.annotate('LSTM=-1.35%'    ,(0.85,-1.))\n",
    "plt.annotate('CNN/LSTM=0.87%',(1.6,0.82))\n",
    "plt.ylabel('$R^2_{OS}(\\%)=1- (MSE_{estim} / MSE_{bench})$')\n",
    "plt.xlabel('models')\n",
    "plt.grid(True)\n",
    "plt.legend(loc='lower right')\n",
    "plt.savefig(\"MSFT_res.pdf\")\n",
    "plt.show()"
   ]
  }
 ],
 "metadata": {
  "kernelspec": {
   "display_name": "Python 3.9.12 ('base')",
   "language": "python",
   "name": "python3"
  },
  "language_info": {
   "codemirror_mode": {
    "name": "ipython",
    "version": 3
   },
   "file_extension": ".py",
   "mimetype": "text/x-python",
   "name": "python",
   "nbconvert_exporter": "python",
   "pygments_lexer": "ipython3",
   "version": "3.9.12"
  },
  "orig_nbformat": 4,
  "vscode": {
   "interpreter": {
    "hash": "597e2b791014bf3f975e304e1e72922cb6b9245e0453d34e2c818a7120fc527f"
   }
  }
 },
 "nbformat": 4,
 "nbformat_minor": 2
}
