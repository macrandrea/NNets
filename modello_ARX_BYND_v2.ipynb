{
 "cells": [
  {
   "cell_type": "code",
   "execution_count": 26,
   "metadata": {},
   "outputs": [],
   "source": [
    "#imports\n",
    "import pandas as pd\n",
    "import numpy  as np\n",
    "import matplotlib.pyplot as plt\n",
    "from statsmodels.tsa.stattools import adfuller\n",
    "from scipy import stats\n",
    "from sklearn.linear_model import LinearRegression\n",
    "from fireTS.models import NARX\n",
    "from sklearn.preprocessing import QuantileTransformer \n",
    "from sklearn.metrics import mean_squared_error as mse\n",
    "normalizer = QuantileTransformer(output_distribution='normal')\n"
   ]
  },
  {
   "cell_type": "code",
   "execution_count": 27,
   "metadata": {},
   "outputs": [],
   "source": [
    "#utils functions\n",
    "def midPrice(lob_data):\n",
    "    a=lob_data['AP1'].values.tolist()\n",
    "    b=lob_data['BP1'].values.tolist()\n",
    "    m=np.zeros(len(a))\n",
    "    for i in range(len(a)):\n",
    "        m[i]=(a[i]+b[i])/2\n",
    "    return m\n",
    "def upDown(m):\n",
    "    u_d=np.zeros(len(a))\n",
    "    for i in range(1,len(a)):\n",
    "        if m[i-1]>m[i]:#scende il prezzo\n",
    "            u_d[i-1]=-1\n",
    "        elif m[i-1]<m[i]:#sale il prezzo\n",
    "            u_d[i-1]=1\n",
    "        else:\n",
    "            u_d[i-1]=0\n",
    "    return u_d\n",
    "\n",
    "def ret(m):\n",
    "    r=np.zeros(len(m))\n",
    "    for i in range(1,len(m)):\n",
    "        r[i]=m[i-1]-m[i]\n",
    "    return r\n",
    "\n",
    "def deltaT(m):\n",
    "    N=0\n",
    "    d=np.zeros(len(m))\n",
    "    for i in range(1,len(m)):\n",
    "        d[i]=m[i-1]-m[i]\n",
    "        if [i]!=0:\n",
    "            N+=1\n",
    "    return int((2.34*10**7)/N)\n",
    "\n",
    "def doHk(deltT,k):\n",
    "    hk=np.zeros(k)\n",
    "    for i in range(k):\n",
    "        hk[i]=np.int16((1/5)*i*deltT)\n",
    "    return hk\n",
    "\n",
    "def retHk(m,hk):\n",
    "    ret=np.zeros(100)\n",
    "    for i,k in zip(range(len(m)),hk):\n",
    "        ret[i]=m[i+k]-m[i]\n",
    "    return ret\n",
    "\n",
    "def OF_1(ld):\n",
    "    of=np.zeros((len(ld),6))\n",
    "    for i,ii in zip(range(1,12,2),range(0,6,2)): #giro sui prezzi ask e volumi ask di conseguenza\n",
    "        for j in range(1,len(ld)): #giro sulle righe\n",
    "            #ask\n",
    "            if ld[j][i-1]>ld[j-1][i-1]: #p_t>p_t-1\n",
    "                of[j-1][ii]=-1*ld[j][i]\n",
    "            elif ld[j][i-1]<ld[j-1][i-1]: #p_t<p_t-1\n",
    "                of[j-1][ii]=ld[j][i]\n",
    "            elif ld[j][i-1]==ld[j-1][i-1]: #p_t=p_t-1\n",
    "                of[j-1][ii]=ld[j][i]-ld[j-1][i]\n",
    "    for w,ww in zip(range(3,12,4),range(1,7,2)):\n",
    "        for jj in range(1,len(ld)):    \n",
    "            #bid\n",
    "            if ld[jj][w-1]>ld[jj-1][w-1]: #p_t>p_t-1\n",
    "                of[jj-1][ww]=ld[jj][w]\n",
    "            elif ld[jj][w-1]<ld[jj-1][w-1]: #p_t<p_t-1\n",
    "                of[jj-1][ww]=-1*ld[jj][w]\n",
    "            elif ld[jj][w-1]==ld[jj-1][w-1]: #p_t=p_t-1\n",
    "                of[jj-1][ww]=ld[jj][w]-ld[jj-1][w]\n",
    "    return of\n",
    "\n",
    "def taglia_e_cuci(v):\n",
    "    hi=np.quantile(v,0.005)\n",
    "    lo=np.quantile(v, 0.995)\n",
    "    b=np.clip(v, hi,lo)\n",
    "    z=normalizer.fit_transform((b.values.reshape(-1,1))).flatten().tolist()\n",
    "    return z"
   ]
  },
  {
   "cell_type": "code",
   "execution_count": 28,
   "metadata": {},
   "outputs": [
    {
     "data": {
      "image/png": "[encoded data removed]",
      "text/plain": [
       "<Figure size 432x288 with 1 Axes>"
      ]
     },
     "metadata": {
      "needs_background": "light"
     },
     "output_type": "display_data"
    }
   ],
   "source": [
    "#load data e fa midprice/diff cum\n",
    "lob_data=pd.read_csv('/Users/macri/Desktop/PROJECT/out_Nuovo.csv') #out_1 out_Nuovo\n",
    "lob_data.reset_index(drop=True,inplace=True)\n",
    "lob_data.drop(['Unnamed: 0'], axis=1,inplace=True)\n",
    "C= int(len(lob_data)*1/4)\n",
    "b=lob_data.iloc[ :1000006].copy()\n",
    "ld=b.values.tolist()\n",
    "lob_data=b\n",
    "ld=lob_data.values.tolist()\n",
    "aa=OF_1(ld) #fa Order Flow\n",
    "bCols=np.ravel([['aOF_%d'%level, 'bOF_%d'%level] for level in [1,2,3]])\n",
    "of_data=pd.DataFrame(aa, columns=bCols)\n",
    "m=pd.DataFrame(midPrice(lob_data),columns=['m'])#.plot()\n",
    "m['r']=m['m'].pct_change()#diff()#calcola le differenze di midprice ogni 10 eventi ->differenze secondo il vettore h_K\n",
    "m['rCum']=m['r'].cumsum()\n",
    "of_data['r']=m['rCum']#*100\n",
    "of_data.dropna(inplace=True)\n",
    "of_data.plot()\n",
    "plt.title('cumRets')\n",
    "plt.show()"
   ]
  },
  {
   "cell_type": "code",
   "execution_count": 29,
   "metadata": {},
   "outputs": [],
   "source": [
    "offlo=of_data.apply(lambda x: taglia_e_cuci(x))"
   ]
  },
  {
   "cell_type": "code",
   "execution_count": 30,
   "metadata": {},
   "outputs": [],
   "source": [
    "#fa dataset\n",
    "#y=offlo['r'].to_numpy()\n",
    "#idx=10000\n",
    "#horiz=1\n",
    "#r=np.empty((idx,horiz))\n",
    "#med=np.empty((idx,horiz))\n",
    "#h=[ 22]#, 44, 89, 133, 178, 223, 267, 312, 356, 401]\n",
    "#\n",
    "#for i in range(idx): #righe\n",
    "#    for ii,iii in zip(range(horiz),h): #colonne, steps\n",
    "#        r[i,ii]=y[i+iii]-y[i]\n",
    "#        med[i][ii]=np.mean(y[:i+iii])\n",
    "#\n",
    "#x_vec=offlo[['aOF_1','bOF_1','aOF_2','bOF_2','aOF_3','bOF_3']][:10000]\n",
    "#x=x_vec.to_numpy()\n",
    "#x_vecc=x.reshape(-1, 6)\n",
    "#erre=r\n",
    "#\n",
    "#r.shape, x_vecc.shape, med.shape"
   ]
  },
  {
   "cell_type": "code",
   "execution_count": 39,
   "metadata": {},
   "outputs": [
    {
     "data": {
      "text/plain": [
       "(array([-0.11510065, -0.11295439, -0.11181908, -0.11056835, -0.11054062,\n",
       "        -0.10711029, -0.10385204, -0.10755237, -0.10632529, -0.10622337,\n",
       "        -0.10712318]),\n",
       " array([-0.1194546 , -0.11833676, -0.11777799, -0.11777799, -0.11777799,\n",
       "        -0.11777799, -0.11777799, -0.11693959, -0.11693959, -0.11693959,\n",
       "        -0.11693959]))"
      ]
     },
     "execution_count": 39,
     "metadata": {},
     "output_type": "execute_result"
    }
   ],
   "source": [
    "\n",
    "\n",
    "y=                                                  offlo['r'][:-10].to_numpy()\n",
    "x=    offlo[['aOF_1','bOF_1','aOF_2','bOF_2','aOF_3','bOF_3']][:-10].to_numpy()\n",
    "xFcst=offlo[['aOF_1','bOF_1','aOF_2','bOF_2','aOF_3','bOF_3']][-10:].to_numpy()\n",
    "yFcst=                                              offlo['r'][-11:].to_numpy()\n",
    "\n",
    "mdl = NARX(LinearRegression(), auto_order=1, exog_order=[100,100,100,100,100,100])\n",
    "mdl.fit(x,y)\n",
    "y_forecast = mdl.forecast(x, y, step=11, X_future=xFcst)\n",
    "y_forecast,yFcst"
   ]
  },
  {
   "cell_type": "code",
   "execution_count": 40,
   "metadata": {},
   "outputs": [
    {
     "data": {
      "text/plain": [
       "[-0.11767633456221879,\n",
       " -0.11767633456221879,\n",
       " -0.11767633456221879,\n",
       " -0.11767633456221879,\n",
       " -0.11767633456221879,\n",
       " -0.11767633456221879,\n",
       " -0.11767633456221879,\n",
       " -0.11767633456221879,\n",
       " -0.11767633456221879,\n",
       " -0.11767633456221879,\n",
       " -0.11767633456221879]"
      ]
     },
     "execution_count": 40,
     "metadata": {},
     "output_type": "execute_result"
    }
   ],
   "source": [
    "rBar=[offlo['r'][-11:].mean()]*len(y_forecast)\n",
    "rBar"
   ]
  },
  {
   "cell_type": "code",
   "execution_count": 44,
   "metadata": {},
   "outputs": [
    {
     "data": {
      "text/plain": [
       "array([-4.99479043e+00, -6.54206289e+01, -3.43509760e+03, -5.02890291e+03,\n",
       "       -5.06765743e+03, -1.10111926e+04, -1.87654129e+04, -1.61346531e+02,\n",
       "       -2.06563505e+02, -2.10568931e+02, -1.76530831e+02])"
      ]
     },
     "execution_count": 44,
     "metadata": {},
     "output_type": "execute_result"
    }
   ],
   "source": [
    "num=(yFcst-y_forecast)**2\n",
    "den=(yFcst-rBar)**2\n",
    "r2OutS=((den-num)/den)#/100#+0.1\n",
    "r2OutS"
   ]
  },
  {
   "cell_type": "code",
   "execution_count": 45,
   "metadata": {},
   "outputs": [
    {
     "data": {
      "text/plain": [
       "-4.994790432767664"
      ]
     },
     "execution_count": 45,
     "metadata": {},
     "output_type": "execute_result"
    }
   ],
   "source": [
    "r2OutS[0]"
   ]
  },
  {
   "cell_type": "code",
   "execution_count": 34,
   "metadata": {},
   "outputs": [
    {
     "ename": "NameError",
     "evalue": "name 'STOP' is not defined",
     "output_type": "error",
     "traceback": [
      "\u001b[1;31m---------------------------------------------------------------------------\u001b[0m",
      "\u001b[1;31mNameError\u001b[0m                                 Traceback (most recent call last)",
      "\u001b[1;32mc:\\Users\\macri\\Desktop\\PROJECT\\modello_ARX_BYND_v2.ipynb Cella 9\u001b[0m in \u001b[0;36m<cell line: 1>\u001b[1;34m()\u001b[0m\n\u001b[1;32m----> <a href='vscode-notebook-cell:/c%3A/Users/macri/Desktop/PROJECT/modello_ARX_BYND_v2.ipynb#X51sZmlsZQ%3D%3D?line=0'>1</a>\u001b[0m STOP\n",
      "\u001b[1;31mNameError\u001b[0m: name 'STOP' is not defined"
     ]
    }
   ],
   "source": [
    "STOP"
   ]
  },
  {
   "cell_type": "code",
   "execution_count": null,
   "metadata": {},
   "outputs": [],
   "source": [
    "#(mse(yFcst,rBar)-mse(y_pred= y_forecast,y_true=yFcst))/mse(yFcst,rBar)"
   ]
  },
  {
   "cell_type": "code",
   "execution_count": null,
   "metadata": {},
   "outputs": [
    {
     "data": {
      "text/plain": [
       "array([-1.15353618e+09, -1.01149574e+09])"
      ]
     },
     "execution_count": 18,
     "metadata": {},
     "output_type": "execute_result"
    }
   ],
   "source": [
    "#num=(yFcst-y_forecast.flatten())**2\n",
    "#den=(yFcst-rBar)**2\n",
    "#r2OutS=((den-num)/den)#+0.1\n",
    "#r2OutS\n",
    "#plt.plot(r2OutS)\n",
    "#plt.ylabel('R2OS(%)')\n",
    "#plt.xlabel('time');"
   ]
  },
  {
   "cell_type": "code",
   "execution_count": null,
   "metadata": {},
   "outputs": [
    {
     "data": {
      "text/plain": [
       "array([], dtype=float64)"
      ]
     },
     "execution_count": 19,
     "metadata": {},
     "output_type": "execute_result"
    }
   ],
   "source": [
    "1-(yFcst[:-1]-y_forecast[:-1])**2/(yFcst[:-1]-rBar[:-1])**2"
   ]
  },
  {
   "cell_type": "code",
   "execution_count": null,
   "metadata": {},
   "outputs": [
    {
     "data": {
      "text/plain": [
       "-1153536183.2246096"
      ]
     },
     "execution_count": 20,
     "metadata": {},
     "output_type": "execute_result"
    }
   ],
   "source": [
    "r2OutS[0]"
   ]
  },
  {
   "cell_type": "code",
   "execution_count": null,
   "metadata": {},
   "outputs": [
    {
     "name": "stdout",
     "output_type": "stream",
     "text": [
      "Help on function ylabel in module matplotlib.pyplot:\n",
      "\n",
      "ylabel(ylabel, fontdict=None, labelpad=None, *, loc=None, **kwargs)\n",
      "    Set the label for the y-axis.\n",
      "    \n",
      "    Parameters\n",
      "    ----------\n",
      "    ylabel : str\n",
      "        The label text.\n",
      "    \n",
      "    labelpad : float, default: :rc:`axes.labelpad`\n",
      "        Spacing in points from the Axes bounding box including ticks\n",
      "        and tick labels.  If None, the previous value is left as is.\n",
      "    \n",
      "    loc : {'bottom', 'center', 'top'}, default: :rc:`yaxis.labellocation`\n",
      "        The label position. This is a high-level alternative for passing\n",
      "        parameters *y* and *horizontalalignment*.\n",
      "    \n",
      "    Other Parameters\n",
      "    ----------------\n",
      "    **kwargs : `.Text` properties\n",
      "        `.Text` properties control the appearance of the label.\n",
      "    \n",
      "    See Also\n",
      "    --------\n",
      "    text : Documents the properties supported by `.Text`.\n",
      "\n"
     ]
    }
   ],
   "source": [
    "help(plt.ylabel)"
   ]
  },
  {
   "cell_type": "code",
   "execution_count": null,
   "metadata": {},
   "outputs": [],
   "source": []
  },
  {
   "cell_type": "code",
   "execution_count": null,
   "metadata": {},
   "outputs": [],
   "source": []
  },
  {
   "cell_type": "code",
   "execution_count": null,
   "metadata": {},
   "outputs": [],
   "source": []
  },
  {
   "cell_type": "code",
   "execution_count": null,
   "metadata": {},
   "outputs": [],
   "source": []
  },
  {
   "cell_type": "code",
   "execution_count": null,
   "metadata": {},
   "outputs": [],
   "source": []
  },
  {
   "cell_type": "code",
   "execution_count": null,
   "metadata": {},
   "outputs": [],
   "source": []
  },
  {
   "cell_type": "code",
   "execution_count": null,
   "metadata": {},
   "outputs": [],
   "source": []
  },
  {
   "cell_type": "code",
   "execution_count": null,
   "metadata": {},
   "outputs": [],
   "source": []
  },
  {
   "cell_type": "code",
   "execution_count": null,
   "metadata": {},
   "outputs": [],
   "source": []
  },
  {
   "cell_type": "code",
   "execution_count": null,
   "metadata": {},
   "outputs": [
    {
     "ename": "NameError",
     "evalue": "name 'STOP' is not defined",
     "output_type": "error",
     "traceback": [
      "\u001b[1;31m---------------------------------------------------------------------------\u001b[0m",
      "\u001b[1;31mNameError\u001b[0m                                 Traceback (most recent call last)",
      "\u001b[1;32mc:\\Users\\macri\\Desktop\\PROJECT\\modello_ARX_BYND_v2.ipynb Cella 21\u001b[0m in \u001b[0;36m<cell line: 1>\u001b[1;34m()\u001b[0m\n\u001b[1;32m----> <a href='vscode-notebook-cell:/c%3A/Users/macri/Desktop/PROJECT/modello_ARX_BYND_v2.ipynb#X26sZmlsZQ%3D%3D?line=0'>1</a>\u001b[0m STOP\n",
      "\u001b[1;31mNameError\u001b[0m: name 'STOP' is not defined"
     ]
    }
   ],
   "source": [
    "STOP"
   ]
  },
  {
   "cell_type": "code",
   "execution_count": null,
   "metadata": {},
   "outputs": [],
   "source": [
    "y=of_data['r'][:-1].to_numpy()\n",
    "x=of_data[['aOF_1','bOF_1','aOF_2','bOF_2','aOF_3','bOF_3']][:-1].to_numpy()\n",
    "fcstX=of_data[['aOF_1','bOF_1','aOF_2','bOF_2','aOF_3','bOF_3']][-1:].to_numpy()\n",
    "fcstY=of_data['r'][-1:].to_numpy()"
   ]
  },
  {
   "cell_type": "code",
   "execution_count": null,
   "metadata": {},
   "outputs": [
    {
     "data": {
      "text/plain": [
       "((10000, 10), (10000, 100, 6, 1), (10000, 10))"
      ]
     },
     "execution_count": 22,
     "metadata": {},
     "output_type": "execute_result"
    }
   ],
   "source": [
    "#fa dataset\n",
    "y=offlo['r'].to_numpy()\n",
    "idx=10000\n",
    "r=np.empty((idx,10))\n",
    "med=np.empty((idx,10))\n",
    "h=[ 22, 44, 89, 133, 178, 223, 267, 312, 356, 401]\n",
    "\n",
    "for i in range(idx): #righe\n",
    "    for ii,iii in zip(range(10),h): #colonne, steps\n",
    "        r[i,ii]=y[i+iii]-y[i]\n",
    "        med[i][ii]=np.mean(y[:i+iii])\n",
    "\n",
    "x_vec=offlo[['aOF_1','bOF_1','aOF_2','bOF_2','aOF_3','bOF_3']][:1000000]\n",
    "x=x_vec.to_numpy()\n",
    "x_vecc=x.reshape(-1,100, 6,1)\n",
    "erre=r\n",
    "r.shape, x_vecc.shape,med.shape"
   ]
  },
  {
   "cell_type": "code",
   "execution_count": null,
   "metadata": {},
   "outputs": [
    {
     "data": {
      "text/plain": [
       "(array([[    0.,     0.,     0.,     0.,     0.,     0.],\n",
       "        [    0.,     0.,     0.,     0.,     0.,     0.],\n",
       "        [    0.,     0.,     0.,     0.,     0.,     0.],\n",
       "        ...,\n",
       "        [  -56.,   -63.,   -63.,     0.,   -10.,     0.],\n",
       "        [  227., -1523.,  1523.,  -200.,     0., -1032.],\n",
       "        [    0.,  -300.,  -300.,     0.,     0.,     0.]]),\n",
       " array([[ 0.00000000e+00,  0.00000000e+00,  3.31473399e-04, ...,\n",
       "          0.00000000e+00,  5.52455665e-05,  0.00000000e+00],\n",
       "        [-5.52577775e-05,  0.00000000e+00,  0.00000000e+00, ...,\n",
       "          0.00000000e+00,  0.00000000e+00,  0.00000000e+00],\n",
       "        [-2.76304156e-04,  0.00000000e+00,  0.00000000e+00, ...,\n",
       "          5.52516714e-05, -5.52425146e-05, -1.65727544e-04],\n",
       "        ...,\n",
       "        [-5.56792873e-05, -5.56297285e-05,  1.11259457e-04, ...,\n",
       "          5.56297285e-05,  0.00000000e+00,  0.00000000e+00],\n",
       "        [ 5.56916908e-05,  5.56916908e-05,  1.66938771e-04, ...,\n",
       "          5.56916908e-05,  4.64846343e-08,  2.22673768e-04],\n",
       "        [ 5.56823877e-05,  0.00000000e+00,  5.56173526e-05, ...,\n",
       "         -5.56266340e-05, -5.56483027e-05,  0.00000000e+00]]))"
      ]
     },
     "execution_count": 65,
     "metadata": {},
     "output_type": "execute_result"
    }
   ],
   "source": [
    "y=r[:-1]\n",
    "x=of_data[['aOF_1','bOF_1','aOF_2','bOF_2','aOF_3','bOF_3']][:-1].to_numpy()\n",
    "x,y"
   ]
  },
  {
   "cell_type": "code",
   "execution_count": null,
   "metadata": {},
   "outputs": [
    {
     "data": {
      "text/plain": [
       "(1048573, 6)"
      ]
     },
     "execution_count": 48,
     "metadata": {},
     "output_type": "execute_result"
    }
   ],
   "source": [
    "np.shape(x.tolist())"
   ]
  },
  {
   "cell_type": "code",
   "execution_count": null,
   "metadata": {},
   "outputs": [
    {
     "data": {
      "text/plain": [
       "(array([-5.94043881e-06,  5.48016691e-07]),\n",
       " array([-5.29857468e-05,  0.00000000e+00]))"
      ]
     },
     "execution_count": 13,
     "metadata": {},
     "output_type": "execute_result"
    }
   ],
   "source": [
    "y_forecast,offlo['r'][-2:].to_numpy()"
   ]
  },
  {
   "cell_type": "code",
   "execution_count": null,
   "metadata": {},
   "outputs": [
    {
     "data": {
      "text/plain": [
       "array([  2.24406899,   3.46515327,  -8.75540185,   1.16629821,\n",
       "        -1.73914955, -10.69055004,   4.81453644,  -8.48074988,\n",
       "         0.70843367,   6.8323677 ])"
      ]
     },
     "execution_count": 61,
     "metadata": {},
     "output_type": "execute_result"
    }
   ],
   "source": [
    "import numpy as np\n",
    "from sklearn.linear_model import LinearRegression\n",
    "from fireTS.models import NARX\n",
    "\n",
    "x = np.random.randn(700, 6)\n",
    "y = np.random.randn(700)\n",
    "mdl = NARX(LinearRegression(), auto_order=2, exog_order=[100,100,100,100,100,100])\n",
    "mdl.fit(x, y)\n",
    "y_forecast = mdl.forecast(x, y, step=10, X_future=np.random.randn(9, 1))\n",
    "y_forecast"
   ]
  },
  {
   "cell_type": "code",
   "execution_count": null,
   "metadata": {},
   "outputs": [],
   "source": [
    "\n",
    "\n",
    "x = np.random.randn(100, 1)\n",
    "y = np.random.randn(100)\n",
    "mdl = NARX(LinearRegression(), auto_order=100, exog_order=[x.shape[0],x.shape[1]])\n",
    "mdl.fit(x, y)\n",
    "y_forecast = mdl.forecast(x, y, step=10, X_future=fcstX)#np.random.randn(9, 1)"
   ]
  },
  {
   "cell_type": "code",
   "execution_count": null,
   "metadata": {},
   "outputs": [
    {
     "data": {
      "text/plain": [
       "array([ 0.00880151,  0.00172813,  0.19054729,  0.05610188,  0.05027233,\n",
       "       -0.12335959, -0.11656302, -0.04960743, -0.03683528, -0.12095047])"
      ]
     },
     "execution_count": 4,
     "metadata": {},
     "output_type": "execute_result"
    }
   ],
   "source": [
    "y_forecast"
   ]
  }
 ],
 "metadata": {
  "kernelspec": {
   "display_name": "Python 3.9.12 ('base')",
   "language": "python",
   "name": "python3"
  },
  "language_info": {
   "codemirror_mode": {
    "name": "ipython",
    "version": 3
   },
   "file_extension": ".py",
   "mimetype": "text/x-python",
   "name": "python",
   "nbconvert_exporter": "python",
   "pygments_lexer": "ipython3",
   "version": "3.9.12"
  },
  "orig_nbformat": 4,
  "vscode": {
   "interpreter": {
    "hash": "597e2b791014bf3f975e304e1e72922cb6b9245e0453d34e2c818a7120fc527f"
   }
  }
 },
 "nbformat": 4,
 "nbformat_minor": 2
}
