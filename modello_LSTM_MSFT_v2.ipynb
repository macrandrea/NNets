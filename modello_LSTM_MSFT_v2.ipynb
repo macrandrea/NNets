{
 "cells": [
  {
   "cell_type": "code",
   "execution_count": 1,
   "metadata": {},
   "outputs": [],
   "source": [
    "#imports\n",
    "import pandas as pd\n",
    "import numpy  as np\n",
    "import matplotlib.pyplot as plt\n",
    "import tensorflow as tf\n",
    "import keras\n",
    "from scipy import stats\n",
    "from keras import Sequential\n",
    "from keras import Input, layers\n",
    "from keras.models import Model\n",
    "from keras.layers import Flatten, Dense, Dropout, Activation, Input, LSTM, Reshape, Conv2D, MaxPooling2D, LeakyReLU, GlobalMaxPooling1D\n",
    "from keras.optimizers import Adam\n",
    "from keras.utils import np_utils\n",
    "import random\n",
    "from sklearn.metrics import mean_squared_error as mse\n",
    "seed_value = 2020\n",
    "random.seed(seed_value)\n",
    "np.random.seed(seed_value)\n",
    "tf.random.set_seed(seed_value)\n",
    "from sklearn.preprocessing import QuantileTransformer \n",
    "normalizer = QuantileTransformer(output_distribution='normal')"
   ]
  },
  {
   "cell_type": "code",
   "execution_count": 2,
   "metadata": {},
   "outputs": [],
   "source": [
    "#utils functions\n",
    "def midPrice(lob_data):\n",
    "    a=lob_data['AP1'].values.tolist()\n",
    "    b=lob_data['BP1'].values.tolist()\n",
    "    m=np.zeros(len(a))\n",
    "    for i in range(len(a)):\n",
    "        m[i]=(a[i]+b[i])/2\n",
    "    return m\n",
    "def upDown(m):\n",
    "    u_d=np.zeros(len(a))\n",
    "    for i in range(1,len(a)):\n",
    "        if m[i-1]>m[i]:#scende il prezzo\n",
    "            u_d[i-1]=-1\n",
    "        elif m[i-1]<m[i]:#sale il prezzo\n",
    "            u_d[i-1]=1\n",
    "        else:\n",
    "            u_d[i-1]=0\n",
    "    return u_d\n",
    "\n",
    "def ret(m):\n",
    "    r=np.zeros(len(m))\n",
    "    for i in range(1,len(m)):\n",
    "        r[i]=m[i-1]-m[i]\n",
    "    return r\n",
    "\n",
    "def deltaT(m):\n",
    "    N=0\n",
    "    d=np.zeros(len(m))\n",
    "    for i in range(1,len(m)):\n",
    "        d[i]=m[i-1]-m[i]\n",
    "        if [i]!=0:\n",
    "            N+=1\n",
    "    return int((2.34*10**7)/N)\n",
    "\n",
    "def doHk(deltT,k):\n",
    "    hk=np.zeros(k)\n",
    "    for i in range(k):\n",
    "        hk[i]=np.int16((1/5)*i*deltT)\n",
    "    return hk\n",
    "\n",
    "def retHk(m,hk):\n",
    "    ret=np.zeros(100)\n",
    "    for i,k in zip(range(len(m)),hk):\n",
    "        ret[i]=m[i+k]-m[i]\n",
    "    return ret\n",
    "\n",
    "def OF_1(ld):\n",
    "    of=np.zeros((len(ld),6))\n",
    "    for i,ii in zip(range(1,12,2),range(0,6,2)): #giro sui prezzi ask e volumi ask di conseguenza\n",
    "        for j in range(1,len(ld)): #giro sulle righe\n",
    "            #ask\n",
    "            if ld[j][i-1]>ld[j-1][i-1]: #p_t>p_t-1\n",
    "                of[j-1][ii]=-1*ld[j][i]\n",
    "            elif ld[j][i-1]<ld[j-1][i-1]: #p_t<p_t-1\n",
    "                of[j-1][ii]=ld[j][i]\n",
    "            elif ld[j][i-1]==ld[j-1][i-1]: #p_t=p_t-1\n",
    "                of[j-1][ii]=ld[j][i]-ld[j-1][i]\n",
    "    for w,ww in zip(range(3,12,4),range(1,7,2)):\n",
    "        for jj in range(1,len(ld)):    \n",
    "            #bid\n",
    "            if ld[jj][w-1]>ld[jj-1][w-1]: #p_t>p_t-1\n",
    "                of[jj-1][ww]=ld[jj][w]\n",
    "            elif ld[jj][w-1]<ld[jj-1][w-1]: #p_t<p_t-1\n",
    "                of[jj-1][ww]=-1*ld[jj][w]\n",
    "            elif ld[jj][w-1]==ld[jj-1][w-1]: #p_t=p_t-1\n",
    "                of[jj-1][ww]=ld[jj][w]-ld[jj-1][w]\n",
    "    return of\n",
    "    \n",
    "from scipy import stats\n",
    "def taglia_e_cuci(v):\n",
    "    hi=np.quantile(v,0.005)\n",
    "    lo=np.quantile(v, 0.995)\n",
    "    b=np.clip(v, hi,lo)\n",
    "    z=normalizer.fit_transform((b.values.reshape(-1,1))).flatten().tolist()\n",
    "    return b\n",
    "\n",
    "def MSEbmk(r):\n",
    "    rBar=np.mean(r)\n",
    "    h=[ 22, 44, 89, 133, 178, 223, 267, 312, 356, 401]\n",
    "    emq=np.empty(len(h))\n",
    "    for i,ii in zip(range(1,len(r)),h):\n",
    "        emq[i]=((rBar-r[0,ii])/rBar)**2#*(1/(len(r)-1))\n",
    "    return emq"
   ]
  },
  {
   "cell_type": "code",
   "execution_count": 3,
   "metadata": {},
   "outputs": [
    {
     "data": {
      "image/png": "[encoded data removed]",
      "text/plain": [
       "<Figure size 432x288 with 1 Axes>"
      ]
     },
     "metadata": {
      "needs_background": "light"
     },
     "output_type": "display_data"
    }
   ],
   "source": [
    "#load data e fa midprice/diff cum\n",
    "lob_data=pd.read_csv('/Users/macri/Desktop/out_1.csv') #out_1 out_Nuovo\n",
    "lob_data.reset_index(drop=True,inplace=True)\n",
    "lob_data.drop(['index'], axis=1,inplace=True)\n",
    "C= int(len(lob_data))\n",
    "b=lob_data.iloc[ :C].copy()\n",
    "ld=b.values.tolist()\n",
    "lob_data=b\n",
    "ld=lob_data.values.tolist()\n",
    "aa=OF_1(ld) #fa Order Flow\n",
    "bCols=np.ravel([['aOF_%d'%level, 'bOF_%d'%level] for level in [1,2,3]])\n",
    "of_data=pd.DataFrame(aa, columns=bCols)\n",
    "m=pd.DataFrame(midPrice(lob_data),columns=['m'])#.plot()\n",
    "m['r']=m['m'].pct_change()#diff()#calcola le differenze di midprice ogni 10 eventi ->differenze secondo il vettore h_K\n",
    "m['rCum']=m['r'].cumsum()\n",
    "of_data['r']=m['rCum']#*100\n",
    "of_data.dropna(inplace=True)\n",
    "of_data.plot()\n",
    "plt.title('cumRets')\n",
    "plt.show()"
   ]
  },
  {
   "cell_type": "code",
   "execution_count": 4,
   "metadata": {},
   "outputs": [],
   "source": [
    "offlo=of_data.apply(lambda x: taglia_e_cuci(x))"
   ]
  },
  {
   "cell_type": "code",
   "execution_count": 5,
   "metadata": {},
   "outputs": [
    {
     "data": {
      "text/plain": [
       "((10000, 1), (10000, 100, 6, 1), (10000, 1))"
      ]
     },
     "execution_count": 5,
     "metadata": {},
     "output_type": "execute_result"
    }
   ],
   "source": [
    "#fa dataset\n",
    "y=offlo['r'].to_numpy()\n",
    "idx=10000\n",
    "horiz=1\n",
    "r=np.empty((idx,horiz))\n",
    "med=np.empty((idx,horiz))\n",
    "h=[ 22]#, 44, 89, 133, 178, 223, 267, 312, 356, 401]\n",
    "\n",
    "for i in range(idx): #righe\n",
    "    for ii,iii in zip(range(horiz),h): #colonne, steps\n",
    "        r[i,ii]=y[i+iii]-y[i]\n",
    "        med[i][ii]=np.mean(y[:i+iii])\n",
    "\n",
    "x_vec=offlo[['aOF_1','bOF_1','aOF_2','bOF_2','aOF_3','bOF_3']][:1000000]\n",
    "x=x_vec.to_numpy()\n",
    "x_vecc=x.reshape(-1,100, 6)\n",
    "erre=r\n",
    "\n",
    "r.shape, x_vecc.shape, med.shape"
   ]
  },
  {
   "cell_type": "code",
   "execution_count": 6,
   "metadata": {},
   "outputs": [
    {
     "name": "stdout",
     "output_type": "stream",
     "text": [
      "(9000, 100, 6, 1) (9000, 1)\n",
      "(999, 100, 6, 1) (999, 1)\n",
      "(1, 100, 6, 1) (1, 1)\n"
     ]
    }
   ],
   "source": [
    "#fa supervised dataset: train, val e test\n",
    "#l=len(x_vecc)\n",
    "#a=int(9000)\n",
    "#b=int(999)\n",
    "#x_vecc_train=x_vecc[:a]\n",
    "#r_train     =r[:a]\n",
    "#x_vecc_val  =x_vecc[a:a+b]\n",
    "#r_val       =r[a:a+b]\n",
    "#x_vecc_test =x_vecc[a+b:a+b+1]\n",
    "#r_test      =r[a+b:a+b+1]\n",
    "#print(x_vecc_train.shape, r_train.shape)\n",
    "#print(x_vecc_val.shape,   r_val.shape)\n",
    "#print(x_vecc_test.shape,  r_test.shape)\n",
    "#\n",
    "#fa supervised dataset: train, val e test\n",
    "l=len(x_vecc)\n",
    "a=int(9000)\n",
    "b=int(999)\n",
    "x_vecc_train=x_vecc[:a]\n",
    "\n",
    "mu=x_vecc_train.mean()\n",
    "sd=x_vecc_train.std()\n",
    "stdize=lambda x: x/sd\n",
    "\n",
    "\n",
    "x_vecc_train=x_vecc[:a]/sd\n",
    "r_train     =r[:a]\n",
    "x_vecc_val  =x_vecc[a:a+b]/sd\n",
    "r_val       =r[a:a+b]\n",
    "x_vecc_test =x_vecc[a+b:a+b+1]/sd\n",
    "r_test      =r[a+b:a+b+1]\n",
    "\n",
    "#fflo=of_data.apply(lambda x: (x-x.mean())/x.std())\n",
    "print(x_vecc_train.shape, r_train.shape)\n",
    "print(x_vecc_val.shape,   r_val.shape)\n",
    "print(x_vecc_test.shape,  r_test.shape)\n"
   ]
  },
  {
   "cell_type": "code",
   "execution_count": 7,
   "metadata": {},
   "outputs": [
    {
     "name": "stdout",
     "output_type": "stream",
     "text": [
      "Epoch 1/50\n",
      "36/36 [==============================] - 11s 245ms/step - loss: 0.0021 - val_loss: 1.8536e-04\n",
      "Epoch 2/50\n",
      "36/36 [==============================] - 11s 307ms/step - loss: 1.7429e-04 - val_loss: 1.0346e-04\n",
      "Epoch 3/50\n",
      "36/36 [==============================] - 11s 301ms/step - loss: 9.1131e-05 - val_loss: 7.1864e-05\n",
      "Epoch 4/50\n",
      "36/36 [==============================] - 11s 298ms/step - loss: 7.6398e-05 - val_loss: 6.8818e-05\n",
      "Epoch 5/50\n",
      "36/36 [==============================] - 13s 351ms/step - loss: 7.0705e-05 - val_loss: 7.0787e-05\n",
      "Epoch 6/50\n",
      "36/36 [==============================] - 14s 393ms/step - loss: 6.6808e-05 - val_loss: 6.4292e-05\n",
      "Epoch 7/50\n",
      "36/36 [==============================] - 14s 381ms/step - loss: 6.3355e-05 - val_loss: 5.4688e-05\n",
      "Epoch 8/50\n",
      "36/36 [==============================] - 14s 385ms/step - loss: 5.8902e-05 - val_loss: 5.2238e-05\n",
      "Epoch 9/50\n",
      "36/36 [==============================] - 16s 436ms/step - loss: 5.6230e-05 - val_loss: 4.7325e-05\n",
      "Epoch 10/50\n",
      "36/36 [==============================] - 15s 408ms/step - loss: 5.3584e-05 - val_loss: 5.0108e-05\n",
      "Epoch 11/50\n",
      "36/36 [==============================] - 14s 403ms/step - loss: 5.0869e-05 - val_loss: 4.3039e-05\n",
      "Epoch 12/50\n",
      "36/36 [==============================] - 12s 328ms/step - loss: 4.9671e-05 - val_loss: 4.4011e-05\n",
      "Epoch 13/50\n",
      "36/36 [==============================] - 10s 289ms/step - loss: 4.6702e-05 - val_loss: 4.0960e-05\n",
      "Epoch 14/50\n",
      "36/36 [==============================] - 10s 286ms/step - loss: 4.3970e-05 - val_loss: 3.9682e-05\n",
      "Epoch 15/50\n",
      "36/36 [==============================] - 10s 283ms/step - loss: 4.4382e-05 - val_loss: 3.6944e-05\n",
      "Epoch 16/50\n",
      "36/36 [==============================] - 10s 287ms/step - loss: 4.1804e-05 - val_loss: 3.8150e-05\n",
      "Epoch 17/50\n",
      "36/36 [==============================] - 10s 282ms/step - loss: 3.9897e-05 - val_loss: 3.6974e-05\n",
      "Epoch 18/50\n",
      "36/36 [==============================] - 9s 246ms/step - loss: 3.8943e-05 - val_loss: 3.3947e-05\n",
      "Epoch 19/50\n",
      "36/36 [==============================] - 9s 255ms/step - loss: 3.8009e-05 - val_loss: 3.5699e-05\n",
      "Epoch 20/50\n",
      "36/36 [==============================] - 10s 274ms/step - loss: 3.6773e-05 - val_loss: 3.4165e-05\n",
      "Epoch 21/50\n",
      "36/36 [==============================] - 10s 275ms/step - loss: 3.5582e-05 - val_loss: 3.4458e-05\n",
      "Epoch 21: early stopping\n"
     ]
    }
   ],
   "source": [
    "#architettura della rete\n",
    "num_units = 64\n",
    "activation_function = 'leaky_relu'\n",
    "adam = keras.optimizers.Adam(learning_rate=0.0001)\n",
    "loss_function = 'mse'\n",
    "batch_size = 250\n",
    "num_epochs = 50\n",
    "i = Input(shape=(100, 6))\n",
    "x = LSTM(64, return_sequences=True)(i)\n",
    "x = keras.layers.LeakyReLU(alpha=0.01)(x)\n",
    "x = LSTM(64, return_sequences=True)(x)\n",
    "x = keras.layers.LeakyReLU(alpha=0.01)(x)\n",
    "x = keras.layers.Dropout(0.5)(x, training=True)\n",
    "#x = LSTM(64, return_sequences=True)(x)\n",
    "x = GlobalMaxPooling1D()(x)\n",
    "x = Dense(1, activation='leaky_relu')(x)\n",
    "\n",
    "\n",
    "model = Model(i, x)\n",
    "\n",
    "\n",
    "callback=tf.keras.callbacks.EarlyStopping(\n",
    "    monitor='val_loss',\n",
    "    min_delta=0,\n",
    "    patience=3,\n",
    "    verbose=1,\n",
    "    mode='auto',\n",
    "    baseline=None,\n",
    "    restore_best_weights=False\n",
    ")\n",
    "\n",
    "model.compile(optimizer = adam, loss = loss_function)\n",
    "\n",
    "r=model.fit(x_vecc_train, r_train, batch_size = batch_size, epochs = num_epochs,validation_data=(x_vecc_val, r_val),callbacks=[callback])"
   ]
  },
  {
   "cell_type": "code",
   "execution_count": 16,
   "metadata": {},
   "outputs": [
    {
     "data": {
      "image/png": "[encoded data removed]",
      "text/plain": [
       "<Figure size 432x288 with 1 Axes>"
      ]
     },
     "metadata": {
      "needs_background": "light"
     },
     "output_type": "display_data"
    }
   ],
   "source": [
    "plt.plot(r.history['loss'], label='train loss')\n",
    "plt.plot(r.history['val_loss'], label='test loss')\n",
    "plt.legend()\n",
    "plt.show()"
   ]
  },
  {
   "cell_type": "code",
   "execution_count": 17,
   "metadata": {},
   "outputs": [
    {
     "name": "stdout",
     "output_type": "stream",
     "text": [
      "282/282 [==============================] - 4s 13ms/step\n",
      "1/1 [==============================] - 0s 17ms/step\n"
     ]
    }
   ],
   "source": [
    "Ptrain= model.predict(x_vecc_train)\n",
    "Ptest = model.predict(x_vecc_test)\n"
   ]
  },
  {
   "cell_type": "code",
   "execution_count": 10,
   "metadata": {},
   "outputs": [],
   "source": [
    "#erre=np.hstack(r_test,r_train,r_train)"
   ]
  },
  {
   "cell_type": "code",
   "execution_count": 18,
   "metadata": {},
   "outputs": [
    {
     "data": {
      "image/png": "[encoded data removed]",
      "text/plain": [
       "<Figure size 432x288 with 1 Axes>"
      ]
     },
     "metadata": {
      "needs_background": "light"
     },
     "output_type": "display_data"
    }
   ],
   "source": [
    "true=r_test#normalizer.inverse_transform(r_test.reshape(-1,1)).flatten()\n",
    "fcst=Ptest#normalizer.inverse_transform(Ptest.reshape(-1,1)).flatten()\n",
    "#u=np.array([np.mean(true)]*10).flatten()\n",
    "num=(true-fcst)**2\n",
    "den=(erre[0][-1:].flatten()-med[0])**2\n",
    "r2OutS=((den-num)/den)/100+0.1\n",
    "plt.plot(r2OutS[0])\n",
    "plt.ylabel('R2OS(%)')\n",
    "plt.xlabel('time');"
   ]
  },
  {
   "cell_type": "code",
   "execution_count": 12,
   "metadata": {},
   "outputs": [
    {
     "data": {
      "text/plain": [
       "(array([[0.00066824]]), array([[0.01593022]], dtype=float32))"
      ]
     },
     "execution_count": 12,
     "metadata": {},
     "output_type": "execute_result"
    }
   ],
   "source": [
    "true,fcst"
   ]
  },
  {
   "cell_type": "code",
   "execution_count": 21,
   "metadata": {},
   "outputs": [
    {
     "data": {
      "text/plain": [
       "array([[-31.1348207]])"
      ]
     },
     "execution_count": 21,
     "metadata": {},
     "output_type": "execute_result"
    }
   ],
   "source": [
    "r2OutS*100#+0.1 #array([[-0.21134821]])"
   ]
  },
  {
   "cell_type": "code",
   "execution_count": 14,
   "metadata": {},
   "outputs": [
    {
     "data": {
      "text/plain": [
       "array([[0.00066824]])"
      ]
     },
     "execution_count": 14,
     "metadata": {},
     "output_type": "execute_result"
    }
   ],
   "source": [
    "erre[-1:]"
   ]
  },
  {
   "cell_type": "code",
   "execution_count": 15,
   "metadata": {},
   "outputs": [
    {
     "ename": "NameError",
     "evalue": "name 'STOP' is not defined",
     "output_type": "error",
     "traceback": [
      "\u001b[1;31m---------------------------------------------------------------------------\u001b[0m",
      "\u001b[1;31mNameError\u001b[0m                                 Traceback (most recent call last)",
      "\u001b[1;32mc:\\Users\\macri\\Desktop\\PROJECT\\modello_LSTM_MSFT_v2.ipynb Cella 15\u001b[0m in \u001b[0;36m<cell line: 1>\u001b[1;34m()\u001b[0m\n\u001b[1;32m----> <a href='vscode-notebook-cell:/c%3A/Users/macri/Desktop/PROJECT/modello_LSTM_MSFT_v2.ipynb#X65sZmlsZQ%3D%3D?line=0'>1</a>\u001b[0m STOP\n",
      "\u001b[1;31mNameError\u001b[0m: name 'STOP' is not defined"
     ]
    }
   ],
   "source": [
    "STOP"
   ]
  },
  {
   "cell_type": "code",
   "execution_count": null,
   "metadata": {},
   "outputs": [
    {
     "ename": "ValueError",
     "evalue": "y_true and y_pred have different number of output (1!=10)",
     "output_type": "error",
     "traceback": [
      "\u001b[1;31m---------------------------------------------------------------------------\u001b[0m",
      "\u001b[1;31mValueError\u001b[0m                                Traceback (most recent call last)",
      "\u001b[1;32mc:\\Users\\macri\\Desktop\\PROJECT\\modello_LSTM_MSFT_v2.ipynb Cella 14\u001b[0m in \u001b[0;36m<cell line: 6>\u001b[1;34m()\u001b[0m\n\u001b[0;32m      <a href='vscode-notebook-cell:/c%3A/Users/macri/Desktop/PROJECT/modello_LSTM_MSFT_v2.ipynb#X20sZmlsZQ%3D%3D?line=3'>4</a>\u001b[0m         ms[i]\u001b[39m=\u001b[39mmse(y_true[:i\u001b[39m+\u001b[39m\u001b[39m1\u001b[39m],y_pred[:i\u001b[39m+\u001b[39m\u001b[39m1\u001b[39m])\n\u001b[0;32m      <a href='vscode-notebook-cell:/c%3A/Users/macri/Desktop/PROJECT/modello_LSTM_MSFT_v2.ipynb#X20sZmlsZQ%3D%3D?line=4'>5</a>\u001b[0m     \u001b[39mreturn\u001b[39;00m ms\n\u001b[1;32m----> <a href='vscode-notebook-cell:/c%3A/Users/macri/Desktop/PROJECT/modello_LSTM_MSFT_v2.ipynb#X20sZmlsZQ%3D%3D?line=5'>6</a>\u001b[0m r2os\u001b[39m=\u001b[39m\u001b[39m1\u001b[39m\u001b[39m-\u001b[39mcalcola_mse(true,fcst)\u001b[39m/\u001b[39mnp\u001b[39m.\u001b[39mabs((true\u001b[39m-\u001b[39mu))\u001b[39m*\u001b[39m\u001b[39m*\u001b[39m\u001b[39m2\u001b[39m\n\u001b[0;32m      <a href='vscode-notebook-cell:/c%3A/Users/macri/Desktop/PROJECT/modello_LSTM_MSFT_v2.ipynb#X20sZmlsZQ%3D%3D?line=6'>7</a>\u001b[0m r2osVero\u001b[39m=\u001b[39mpd\u001b[39m.\u001b[39mDataFrame(r2os\u001b[39m.\u001b[39mflatten()\u001b[39m/\u001b[39m\u001b[39m100\u001b[39m,columns\u001b[39m=\u001b[39m[\u001b[39m'\u001b[39m\u001b[39mr2\u001b[39m\u001b[39m'\u001b[39m])\n\u001b[0;32m      <a href='vscode-notebook-cell:/c%3A/Users/macri/Desktop/PROJECT/modello_LSTM_MSFT_v2.ipynb#X20sZmlsZQ%3D%3D?line=7'>8</a>\u001b[0m r2osVero[:\u001b[39m3\u001b[39m]\u001b[39m.\u001b[39mplot()\n",
      "\u001b[1;32mc:\\Users\\macri\\Desktop\\PROJECT\\modello_LSTM_MSFT_v2.ipynb Cella 14\u001b[0m in \u001b[0;36mcalcola_mse\u001b[1;34m(y_true, y_pred)\u001b[0m\n\u001b[0;32m      <a href='vscode-notebook-cell:/c%3A/Users/macri/Desktop/PROJECT/modello_LSTM_MSFT_v2.ipynb#X20sZmlsZQ%3D%3D?line=1'>2</a>\u001b[0m ms\u001b[39m=\u001b[39mnp\u001b[39m.\u001b[39mzeros(\u001b[39m10\u001b[39m)\n\u001b[0;32m      <a href='vscode-notebook-cell:/c%3A/Users/macri/Desktop/PROJECT/modello_LSTM_MSFT_v2.ipynb#X20sZmlsZQ%3D%3D?line=2'>3</a>\u001b[0m \u001b[39mfor\u001b[39;00m i \u001b[39min\u001b[39;00m \u001b[39mrange\u001b[39m(\u001b[39m10\u001b[39m):\n\u001b[1;32m----> <a href='vscode-notebook-cell:/c%3A/Users/macri/Desktop/PROJECT/modello_LSTM_MSFT_v2.ipynb#X20sZmlsZQ%3D%3D?line=3'>4</a>\u001b[0m     ms[i]\u001b[39m=\u001b[39mmse(y_true[:i\u001b[39m+\u001b[39;49m\u001b[39m1\u001b[39;49m],y_pred[:i\u001b[39m+\u001b[39;49m\u001b[39m1\u001b[39;49m])\n\u001b[0;32m      <a href='vscode-notebook-cell:/c%3A/Users/macri/Desktop/PROJECT/modello_LSTM_MSFT_v2.ipynb#X20sZmlsZQ%3D%3D?line=4'>5</a>\u001b[0m \u001b[39mreturn\u001b[39;00m ms\n",
      "File \u001b[1;32mc:\\Users\\macri\\anaconda3\\lib\\site-packages\\sklearn\\metrics\\_regression.py:442\u001b[0m, in \u001b[0;36mmean_squared_error\u001b[1;34m(y_true, y_pred, sample_weight, multioutput, squared)\u001b[0m\n\u001b[0;32m    382\u001b[0m \u001b[39mdef\u001b[39;00m \u001b[39mmean_squared_error\u001b[39m(\n\u001b[0;32m    383\u001b[0m     y_true, y_pred, \u001b[39m*\u001b[39m, sample_weight\u001b[39m=\u001b[39m\u001b[39mNone\u001b[39;00m, multioutput\u001b[39m=\u001b[39m\u001b[39m\"\u001b[39m\u001b[39muniform_average\u001b[39m\u001b[39m\"\u001b[39m, squared\u001b[39m=\u001b[39m\u001b[39mTrue\u001b[39;00m\n\u001b[0;32m    384\u001b[0m ):\n\u001b[0;32m    385\u001b[0m     \u001b[39m\"\"\"Mean squared error regression loss.\u001b[39;00m\n\u001b[0;32m    386\u001b[0m \n\u001b[0;32m    387\u001b[0m \u001b[39m    Read more in the :ref:`User Guide <mean_squared_error>`.\u001b[39;00m\n\u001b[1;32m   (...)\u001b[0m\n\u001b[0;32m    440\u001b[0m \u001b[39m    0.825...\u001b[39;00m\n\u001b[0;32m    441\u001b[0m \u001b[39m    \"\"\"\u001b[39;00m\n\u001b[1;32m--> 442\u001b[0m     y_type, y_true, y_pred, multioutput \u001b[39m=\u001b[39m _check_reg_targets(\n\u001b[0;32m    443\u001b[0m         y_true, y_pred, multioutput\n\u001b[0;32m    444\u001b[0m     )\n\u001b[0;32m    445\u001b[0m     check_consistent_length(y_true, y_pred, sample_weight)\n\u001b[0;32m    446\u001b[0m     output_errors \u001b[39m=\u001b[39m np\u001b[39m.\u001b[39maverage((y_true \u001b[39m-\u001b[39m y_pred) \u001b[39m*\u001b[39m\u001b[39m*\u001b[39m \u001b[39m2\u001b[39m, axis\u001b[39m=\u001b[39m\u001b[39m0\u001b[39m, weights\u001b[39m=\u001b[39msample_weight)\n",
      "File \u001b[1;32mc:\\Users\\macri\\anaconda3\\lib\\site-packages\\sklearn\\metrics\\_regression.py:111\u001b[0m, in \u001b[0;36m_check_reg_targets\u001b[1;34m(y_true, y_pred, multioutput, dtype)\u001b[0m\n\u001b[0;32m    108\u001b[0m     y_pred \u001b[39m=\u001b[39m y_pred\u001b[39m.\u001b[39mreshape((\u001b[39m-\u001b[39m\u001b[39m1\u001b[39m, \u001b[39m1\u001b[39m))\n\u001b[0;32m    110\u001b[0m \u001b[39mif\u001b[39;00m y_true\u001b[39m.\u001b[39mshape[\u001b[39m1\u001b[39m] \u001b[39m!=\u001b[39m y_pred\u001b[39m.\u001b[39mshape[\u001b[39m1\u001b[39m]:\n\u001b[1;32m--> 111\u001b[0m     \u001b[39mraise\u001b[39;00m \u001b[39mValueError\u001b[39;00m(\n\u001b[0;32m    112\u001b[0m         \u001b[39m\"\u001b[39m\u001b[39my_true and y_pred have different number of output (\u001b[39m\u001b[39m{0}\u001b[39;00m\u001b[39m!=\u001b[39m\u001b[39m{1}\u001b[39;00m\u001b[39m)\u001b[39m\u001b[39m\"\u001b[39m\u001b[39m.\u001b[39mformat(\n\u001b[0;32m    113\u001b[0m             y_true\u001b[39m.\u001b[39mshape[\u001b[39m1\u001b[39m], y_pred\u001b[39m.\u001b[39mshape[\u001b[39m1\u001b[39m]\n\u001b[0;32m    114\u001b[0m         )\n\u001b[0;32m    115\u001b[0m     )\n\u001b[0;32m    117\u001b[0m n_outputs \u001b[39m=\u001b[39m y_true\u001b[39m.\u001b[39mshape[\u001b[39m1\u001b[39m]\n\u001b[0;32m    118\u001b[0m allowed_multioutput_str \u001b[39m=\u001b[39m (\u001b[39m\"\u001b[39m\u001b[39mraw_values\u001b[39m\u001b[39m\"\u001b[39m, \u001b[39m\"\u001b[39m\u001b[39muniform_average\u001b[39m\u001b[39m\"\u001b[39m, \u001b[39m\"\u001b[39m\u001b[39mvariance_weighted\u001b[39m\u001b[39m\"\u001b[39m)\n",
      "\u001b[1;31mValueError\u001b[0m: y_true and y_pred have different number of output (1!=10)"
     ]
    }
   ],
   "source": [
    "def calcola_mse(y_true,y_pred):\n",
    "    ms=np.zeros(10)\n",
    "    for i in range(10):\n",
    "        ms[i]=mse(y_true[:i+1],y_pred[:i+1])\n",
    "    return ms\n",
    "r2os=1-calcola_mse(true,fcst)/np.abs((true-u))**2\n",
    "r2osVero=pd.DataFrame(r2os.flatten()/100,columns=['r2'])\n",
    "r2osVero[:3].plot();\n"
   ]
  },
  {
   "cell_type": "code",
   "execution_count": null,
   "metadata": {},
   "outputs": [],
   "source": [
    "#r2os=1-mse(true,fcst)/np.abs((r_test-u))**2\n",
    "#r2osVero=pd.DataFrame(r2os.flatten(),columns=['r2'])"
   ]
  },
  {
   "cell_type": "code",
   "execution_count": null,
   "metadata": {},
   "outputs": [
    {
     "data": {
      "image/png": "[encoded data removed]",
      "text/plain": [
       "<Figure size 432x288 with 1 Axes>"
      ]
     },
     "metadata": {
      "needs_background": "light"
     },
     "output_type": "display_data"
    }
   ],
   "source": [
    "#r2osVero.plot();"
   ]
  },
  {
   "cell_type": "code",
   "execution_count": null,
   "metadata": {},
   "outputs": [
    {
     "data": {
      "image/png": "[encoded data removed]",
      "text/plain": [
       "<Figure size 432x288 with 1 Axes>"
      ]
     },
     "metadata": {
      "needs_background": "light"
     },
     "output_type": "display_data"
    }
   ],
   "source": [
    "#plt.plot(r2osVero.flatten()[:5]*100);"
   ]
  },
  {
   "cell_type": "code",
   "execution_count": null,
   "metadata": {},
   "outputs": [
    {
     "data": {
      "text/plain": [
       "0.08454189981073391"
      ]
     },
     "execution_count": 51,
     "metadata": {},
     "output_type": "execute_result"
    }
   ],
   "source": [
    "#mse(true,fcst)/mse(true,u)/100"
   ]
  },
  {
   "cell_type": "code",
   "execution_count": null,
   "metadata": {},
   "outputs": [
    {
     "data": {
      "text/plain": [
       "array([[-0.00129964],\n",
       "       [-0.0013108 ],\n",
       "       [-0.00133328],\n",
       "       [-0.00135325],\n",
       "       [-0.00137768],\n",
       "       [-0.0014031 ],\n",
       "       [-0.00142484],\n",
       "       [-0.00144567],\n",
       "       [-0.0014644 ],\n",
       "       [-0.00148314]])"
      ]
     },
     "execution_count": 43,
     "metadata": {},
     "output_type": "execute_result"
    }
   ],
   "source": [
    "#normalizer.inverse_transform(med[a+b:a+b+1].reshape(-1,1))\n"
   ]
  },
  {
   "cell_type": "code",
   "execution_count": null,
   "metadata": {},
   "outputs": [
    {
     "data": {
      "text/plain": [
       "array([[0.99999798, 0.99999751, 0.99999584, 0.99999528, 0.99999592,\n",
       "        0.99999644, 0.99999615, 0.99999584, 0.99999588, 0.99999582]])"
      ]
     },
     "execution_count": 31,
     "metadata": {},
     "output_type": "execute_result"
    }
   ],
   "source": [
    "#def calcola_mse(y_true,y_pred):\n",
    "#    ms=np.zeros(10)\n",
    "#    for i in range(10):\n",
    "#        ms[i]=mse(y_true[0][:i+1],y_pred[0][:i+1])\n",
    "#    return ms\n",
    "#num=calcola_mse(r_test,Ptest)\n",
    "#\n",
    "#\n",
    "#1-num/np.abs((r_test-med[a+b:a+b+1]))**2"
   ]
  },
  {
   "cell_type": "code",
   "execution_count": null,
   "metadata": {},
   "outputs": [],
   "source": [
    "#from sklearn.metrics import mean_squared_error as me\n",
    "#def calcola_mse(y_true,y_pred):\n",
    "#    ms=np.zeros(10)\n",
    "#    for i in range(10):\n",
    "#        ms[i]=me(y_true[0][:i+1],y_pred[0][:i+1])\n",
    "#    return ms\n",
    "#num=calcola_mse(r_test,Ptest)\n",
    "#den=calcola_mse(r_test,m)\n",
    "#r2LSTMSFT=1-(den/num)\n",
    "#r2LSTMSFT.flatten()\n",
    "#plt.plot(r2LSTMSFT);"
   ]
  },
  {
   "cell_type": "code",
   "execution_count": null,
   "metadata": {},
   "outputs": [],
   "source": [
    "#from sklearn.metrics import mean_squared_error as me\n",
    "#def calcola_mse(y_true,y_pred):\n",
    "#    ms=np.zeros(10)\n",
    "#    for i in range(10):\n",
    "#        ms[i]=me(y_true[0][:i+1],y_pred[0][:i+1])\n",
    "#    return ms\n",
    "#num=calcola_mse(r_test,Ptest)"
   ]
  },
  {
   "cell_type": "code",
   "execution_count": null,
   "metadata": {},
   "outputs": [],
   "source": [
    "#1-num/np.abs((r_test-med[a+b:a+b+1]))**2/10\n",
    "#\n",
    "#r2os=1-num/np.abs((r_test-med[a+b:a+b+1]))**2/10\n",
    "#rqua=pd.DataFrame(r2os.flatten(),columns=['r2'])"
   ]
  },
  {
   "cell_type": "code",
   "execution_count": null,
   "metadata": {},
   "outputs": [],
   "source": [
    "#mmmm=med[a+b:a+b+1].flatten()\n",
    "#rrrr=r_test.flatten()"
   ]
  },
  {
   "cell_type": "code",
   "execution_count": null,
   "metadata": {},
   "outputs": [],
   "source": [
    "#(rrrr[0]-mmmm[0])**2/22"
   ]
  },
  {
   "cell_type": "code",
   "execution_count": null,
   "metadata": {},
   "outputs": [],
   "source": [
    "#np.abs(rrrr[0]-mmmm[0])"
   ]
  },
  {
   "cell_type": "code",
   "execution_count": null,
   "metadata": {},
   "outputs": [],
   "source": [
    "#r2oss=[]#np.empty(10)\n",
    "#for i,ii in zip(range(10),h):\n",
    "#    r2oss.append(np.abs((rrrr[i]-mmmm[i])))\n",
    "#r2oss"
   ]
  },
  {
   "cell_type": "code",
   "execution_count": null,
   "metadata": {},
   "outputs": [],
   "source": [
    "#num/r2oss"
   ]
  },
  {
   "cell_type": "code",
   "execution_count": null,
   "metadata": {},
   "outputs": [],
   "source": [
    "#rqua.pct_change()"
   ]
  },
  {
   "cell_type": "code",
   "execution_count": null,
   "metadata": {},
   "outputs": [],
   "source": [
    "#np.mean(r_test)"
   ]
  },
  {
   "cell_type": "code",
   "execution_count": null,
   "metadata": {},
   "outputs": [],
   "source": [
    "#def calcola_mse1(y_true,y_pred):\n",
    "#    ms=np.zeros(10)\n",
    "#    for i in range(10):\n",
    "#        ms[i]=y_true[:i+1]-y_pred[:i+1]\n",
    "#    return ms"
   ]
  },
  {
   "cell_type": "code",
   "execution_count": null,
   "metadata": {},
   "outputs": [],
   "source": [
    "#rr=[np.mean(r_test[:22])]*10\n",
    "#rbar=np.array(rr)\n",
    "#rbarr=rbar.reshape(1,10)"
   ]
  },
  {
   "cell_type": "code",
   "execution_count": null,
   "metadata": {},
   "outputs": [],
   "source": [
    "#np.mean(r_test[:44])"
   ]
  },
  {
   "cell_type": "code",
   "execution_count": null,
   "metadata": {},
   "outputs": [],
   "source": [
    "\n",
    "#r2os=num/np.abs((r_test-m[a+b:a+b+1]))**2\n",
    "#rqua=pd.DataFrame(r2os.flatten(),columns=['r2'])"
   ]
  },
  {
   "cell_type": "code",
   "execution_count": null,
   "metadata": {},
   "outputs": [
    {
     "data": {
      "text/plain": [
       "array([[0.02352666, 0.03466294, 0.04089188, 0.03362436, 0.00812196,\n",
       "        0.01027818, 0.03986261, 0.03363091, 0.02520861, 0.02521092]])"
      ]
     },
     "execution_count": 28,
     "metadata": {},
     "output_type": "execute_result"
    }
   ],
   "source": [
    "#r_test"
   ]
  },
  {
   "cell_type": "code",
   "execution_count": null,
   "metadata": {},
   "outputs": [
    {
     "ename": "NameError",
     "evalue": "name 'rqua' is not defined",
     "output_type": "error",
     "traceback": [
      "\u001b[1;31m---------------------------------------------------------------------------\u001b[0m",
      "\u001b[1;31mNameError\u001b[0m                                 Traceback (most recent call last)",
      "\u001b[1;32mc:\\Users\\macri\\Desktop\\PROJECT\\modello_LSTM_MSFT_v2.ipynb Cella 29\u001b[0m in \u001b[0;36m<cell line: 1>\u001b[1;34m()\u001b[0m\n\u001b[1;32m----> <a href='vscode-notebook-cell:/c%3A/Users/macri/Desktop/PROJECT/modello_LSTM_MSFT_v2.ipynb#X43sZmlsZQ%3D%3D?line=0'>1</a>\u001b[0m rqua\n",
      "\u001b[1;31mNameError\u001b[0m: name 'rqua' is not defined"
     ]
    }
   ],
   "source": [
    "#"
   ]
  },
  {
   "cell_type": "code",
   "execution_count": null,
   "metadata": {},
   "outputs": [
    {
     "data": {
      "text/html": [
       "<div>\n",
       "<style scoped>\n",
       "    .dataframe tbody tr th:only-of-type {\n",
       "        vertical-align: middle;\n",
       "    }\n",
       "\n",
       "    .dataframe tbody tr th {\n",
       "        vertical-align: top;\n",
       "    }\n",
       "\n",
       "    .dataframe thead th {\n",
       "        text-align: right;\n",
       "    }\n",
       "</style>\n",
       "<table border=\"1\" class=\"dataframe\">\n",
       "  <thead>\n",
       "    <tr style=\"text-align: right;\">\n",
       "      <th></th>\n",
       "      <th>r2</th>\n",
       "    </tr>\n",
       "  </thead>\n",
       "  <tbody>\n",
       "    <tr>\n",
       "      <th>0</th>\n",
       "      <td>0.367025</td>\n",
       "    </tr>\n",
       "    <tr>\n",
       "      <th>1</th>\n",
       "      <td>0.541543</td>\n",
       "    </tr>\n",
       "    <tr>\n",
       "      <th>2</th>\n",
       "      <td>0.667238</td>\n",
       "    </tr>\n",
       "    <tr>\n",
       "      <th>3</th>\n",
       "      <td>0.515501</td>\n",
       "    </tr>\n",
       "    <tr>\n",
       "      <th>4</th>\n",
       "      <td>0.130159</td>\n",
       "    </tr>\n",
       "    <tr>\n",
       "      <th>5</th>\n",
       "      <td>0.160504</td>\n",
       "    </tr>\n",
       "    <tr>\n",
       "      <th>6</th>\n",
       "      <td>0.640032</td>\n",
       "    </tr>\n",
       "    <tr>\n",
       "      <th>7</th>\n",
       "      <td>0.508892</td>\n",
       "    </tr>\n",
       "    <tr>\n",
       "      <th>8</th>\n",
       "      <td>0.384440</td>\n",
       "    </tr>\n",
       "    <tr>\n",
       "      <th>9</th>\n",
       "      <td>0.383253</td>\n",
       "    </tr>\n",
       "  </tbody>\n",
       "</table>\n",
       "</div>"
      ],
      "text/plain": [
       "         r2\n",
       "0  0.367025\n",
       "1  0.541543\n",
       "2  0.667238\n",
       "3  0.515501\n",
       "4  0.130159\n",
       "5  0.160504\n",
       "6  0.640032\n",
       "7  0.508892\n",
       "8  0.384440\n",
       "9  0.383253"
      ]
     },
     "execution_count": 130,
     "metadata": {},
     "output_type": "execute_result"
    }
   ],
   "source": [
    "#rqua"
   ]
  },
  {
   "cell_type": "code",
   "execution_count": null,
   "metadata": {},
   "outputs": [
    {
     "data": {
      "image/png": "[encoded data removed]",
      "text/plain": [
       "<Figure size 432x288 with 1 Axes>"
      ]
     },
     "metadata": {
      "needs_background": "light"
     },
     "output_type": "display_data"
    }
   ],
   "source": [
    "#plt.plot(r2os.flatten());"
   ]
  },
  {
   "cell_type": "code",
   "execution_count": null,
   "metadata": {},
   "outputs": [
    {
     "data": {
      "text/plain": [
       "4.157332652398157e-06"
      ]
     },
     "execution_count": 93,
     "metadata": {},
     "output_type": "execute_result"
    }
   ],
   "source": [
    "#mse(r_test,m[a+b:a+b+1])"
   ]
  },
  {
   "cell_type": "code",
   "execution_count": null,
   "metadata": {},
   "outputs": [
    {
     "data": {
      "text/plain": [
       "array([-0.00106693, -0.001079  , -0.00110332, -0.00112477, -0.00115045,\n",
       "       -0.00117676, -0.00119976, -0.00122245, -0.00124592, -0.00126979])"
      ]
     },
     "execution_count": 96,
     "metadata": {},
     "output_type": "execute_result"
    }
   ],
   "source": [
    "#m[a+b:a+b+1].flatten()"
   ]
  },
  {
   "cell_type": "code",
   "execution_count": null,
   "metadata": {},
   "outputs": [
    {
     "data": {
      "image/png": "[encoded data removed]",
      "text/plain": [
       "<Figure size 432x288 with 1 Axes>"
      ]
     },
     "metadata": {
      "needs_background": "light"
     },
     "output_type": "display_data"
    }
   ],
   "source": [
    "#plt.plot(r_test.flatten(),label=\"reale\")\n",
    "#plt.plot(m[a+b:a+b+1].flatten(),label=\"media\")\n",
    "#plt.legend();"
   ]
  },
  {
   "cell_type": "code",
   "execution_count": null,
   "metadata": {},
   "outputs": [
    {
     "ename": "ValueError",
     "evalue": "setting an array element with a sequence.",
     "output_type": "error",
     "traceback": [
      "\u001b[1;31m---------------------------------------------------------------------------\u001b[0m",
      "\u001b[1;31mTypeError\u001b[0m                                 Traceback (most recent call last)",
      "\u001b[1;31mTypeError\u001b[0m: only size-1 arrays can be converted to Python scalars",
      "\nThe above exception was the direct cause of the following exception:\n",
      "\u001b[1;31mValueError\u001b[0m                                Traceback (most recent call last)",
      "\u001b[1;32mc:\\Users\\macri\\Desktop\\PROJECT\\modello_LSTM_MSFT_v2.ipynb Cella 21\u001b[0m in \u001b[0;36m<cell line: 1>\u001b[1;34m()\u001b[0m\n\u001b[1;32m----> <a href='vscode-notebook-cell:/c%3A/Users/macri/Desktop/PROJECT/modello_LSTM_MSFT_v2.ipynb#X26sZmlsZQ%3D%3D?line=0'>1</a>\u001b[0m calcola_mse1(r_test\u001b[39m.\u001b[39;49mflatten(),rbarr\u001b[39m.\u001b[39;49mflatten())\n",
      "\u001b[1;32mc:\\Users\\macri\\Desktop\\PROJECT\\modello_LSTM_MSFT_v2.ipynb Cella 21\u001b[0m in \u001b[0;36mcalcola_mse1\u001b[1;34m(y_true, y_pred)\u001b[0m\n\u001b[0;32m      <a href='vscode-notebook-cell:/c%3A/Users/macri/Desktop/PROJECT/modello_LSTM_MSFT_v2.ipynb#X26sZmlsZQ%3D%3D?line=1'>2</a>\u001b[0m ms\u001b[39m=\u001b[39mnp\u001b[39m.\u001b[39mzeros(\u001b[39m10\u001b[39m)\n\u001b[0;32m      <a href='vscode-notebook-cell:/c%3A/Users/macri/Desktop/PROJECT/modello_LSTM_MSFT_v2.ipynb#X26sZmlsZQ%3D%3D?line=2'>3</a>\u001b[0m \u001b[39mfor\u001b[39;00m i \u001b[39min\u001b[39;00m \u001b[39mrange\u001b[39m(\u001b[39m10\u001b[39m):\n\u001b[1;32m----> <a href='vscode-notebook-cell:/c%3A/Users/macri/Desktop/PROJECT/modello_LSTM_MSFT_v2.ipynb#X26sZmlsZQ%3D%3D?line=3'>4</a>\u001b[0m     ms[i]\u001b[39m=\u001b[39my_true[:i\u001b[39m+\u001b[39m\u001b[39m1\u001b[39m]\u001b[39m-\u001b[39my_pred[:i\u001b[39m+\u001b[39m\u001b[39m1\u001b[39m]\n\u001b[0;32m      <a href='vscode-notebook-cell:/c%3A/Users/macri/Desktop/PROJECT/modello_LSTM_MSFT_v2.ipynb#X26sZmlsZQ%3D%3D?line=4'>5</a>\u001b[0m \u001b[39mreturn\u001b[39;00m ms\n",
      "\u001b[1;31mValueError\u001b[0m: setting an array element with a sequence."
     ]
    }
   ],
   "source": [
    "calcola_mse1(r_test.flatten(),rbarr.flatten())"
   ]
  },
  {
   "cell_type": "code",
   "execution_count": null,
   "metadata": {},
   "outputs": [],
   "source": [
    "def MSEbmk(r):\n",
    "    rBar=np.mean(r)\n",
    "    h=[ 22, 44, 89, 133, 178, 223, 267, 312, 356, 401]\n",
    "    emq=np.empty(len(h))\n",
    "    for i,ii in zip(range(len(r)),range(10)):\n",
    "        emq[i]=((r[0,ii]-rBar)/rBar)**2#*(1/(len(r)-1))\n",
    "    return emq"
   ]
  },
  {
   "cell_type": "code",
   "execution_count": null,
   "metadata": {},
   "outputs": [
    {
     "data": {
      "text/plain": [
       "array([9.44661130e-04, 3.70184735e-05, 1.69378158e-04, 1.93044901e-04,\n",
       "       1.67980224e-04, 1.50480534e-04, 1.61771484e-04, 2.47300725e-04,\n",
       "       2.60427691e-04, 3.05833888e-04])"
      ]
     },
     "execution_count": 27,
     "metadata": {},
     "output_type": "execute_result"
    }
   ],
   "source": [
    "num/MSEbmk(r_test)"
   ]
  },
  {
   "cell_type": "code",
   "execution_count": null,
   "metadata": {},
   "outputs": [
    {
     "data": {
      "text/plain": [
       "array([ -5.78618626, -22.51323528,  -2.70050502,  -2.17765061,\n",
       "        -2.10908353,  -2.16453434,  -1.57268381,  -0.83071732,\n",
       "        -0.54665271,  -0.24322155])"
      ]
     },
     "execution_count": 11,
     "metadata": {},
     "output_type": "execute_result"
    }
   ],
   "source": [
    "r2LSTMSFT#/MSEbmk(of_data['r'])/100"
   ]
  },
  {
   "cell_type": "code",
   "execution_count": null,
   "metadata": {},
   "outputs": [
    {
     "data": {
      "text/plain": [
       "(array([3.98523448e-05, 3.70171032e-05, 1.69349474e-04, 1.93007642e-04,\n",
       "        1.67952011e-04, 1.50457893e-04, 1.61745318e-04, 2.47239582e-04,\n",
       "        2.60359886e-04, 3.05740382e-04]),\n",
       " array([0.00027045, 0.00087039, 0.00062668, 0.00061331, 0.00052218,\n",
       "        0.00047613, 0.00041612, 0.00045263, 0.00040269, 0.0003801 ]))"
      ]
     },
     "execution_count": 12,
     "metadata": {},
     "output_type": "execute_result"
    }
   ],
   "source": [
    "num, den"
   ]
  }
 ],
 "metadata": {
  "kernelspec": {
   "display_name": "Python 3.9.12 ('base')",
   "language": "python",
   "name": "python3"
  },
  "language_info": {
   "codemirror_mode": {
    "name": "ipython",
    "version": 3
   },
   "file_extension": ".py",
   "mimetype": "text/x-python",
   "name": "python",
   "nbconvert_exporter": "python",
   "pygments_lexer": "ipython3",
   "version": "3.9.12"
  },
  "orig_nbformat": 4,
  "vscode": {
   "interpreter": {
    "hash": "597e2b791014bf3f975e304e1e72922cb6b9245e0453d34e2c818a7120fc527f"
   }
  }
 },
 "nbformat": 4,
 "nbformat_minor": 2
}
