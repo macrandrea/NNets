{
 "cells": [
  {
   "cell_type": "markdown",
   "metadata": {},
   "source": [
    "Extracting returns signals from Microsoft's LOB for OB data for April 2018\n",
    "==="
   ]
  },
  {
   "cell_type": "code",
   "execution_count": 1,
   "metadata": {},
   "outputs": [],
   "source": [
    "import os\n",
    "import pandas as pd\n",
    "import numpy  as np\n",
    "import matplotlib.pyplot as plt\n",
    "from pandas.tseries.offsets import *\n",
    "import statsmodels.formula.api as smf\n",
    "from glob import glob\n",
    "from datetime import datetime\n",
    "import tensorflow as tf\n",
    "import keras\n",
    "from keras import Input, layers\n",
    "from keras.models import Model\n",
    "from keras.layers import Flatten, Dense, Dropout, Activation, Input, LSTM, Reshape, Conv2D, MaxPooling2D, LeakyReLU, GlobalMaxPooling1D\n",
    "from keras.optimizers import Adam\n",
    "from keras.utils import np_utils\n",
    "import random\n",
    "from sklearn.metrics import mean_squared_error as mse\n",
    "from scipy import stats\n",
    "from sklearn.linear_model import LinearRegression\n",
    "from fireTS.models import NARX\n",
    "seed_value = 2020\n",
    "random.seed(seed_value)\n",
    "np.random.seed(seed_value)\n",
    "tf.random.set_seed(seed_value)\n",
    "from sklearn.preprocessing import QuantileTransformer \n",
    "normalizer = QuantileTransformer(output_distribution='normal')"
   ]
  },
  {
   "cell_type": "markdown",
   "metadata": {},
   "source": [
    "Initialising some utility functions, extracting data from LOBster data, calculation of cumulative returns over the month\n",
    "==="
   ]
  },
  {
   "cell_type": "code",
   "execution_count": 2,
   "metadata": {},
   "outputs": [],
   "source": [
    "#utils functions\n",
    "def midPrice(lob_data):\n",
    "    a=lob_data['AP1'].values.tolist()\n",
    "    b=lob_data['BP1'].values.tolist()\n",
    "    m=np.zeros(len(a))\n",
    "    for i in range(len(a)):\n",
    "        m[i]=(a[i]+b[i])/2\n",
    "    return m\n",
    "def upDown(m):\n",
    "    u_d=np.zeros(len(a))\n",
    "    for i in range(1,len(a)):\n",
    "        if m[i-1]>m[i]:#scende il prezzo\n",
    "            u_d[i-1]=-1\n",
    "        elif m[i-1]<m[i]:#sale il prezzo\n",
    "            u_d[i-1]=1\n",
    "        else:\n",
    "            u_d[i-1]=0\n",
    "    return u_d\n",
    "\n",
    "def ret(m):\n",
    "    r=np.zeros(len(m))\n",
    "    for i in range(1,len(m)):\n",
    "        r[i]=m[i-1]-m[i]\n",
    "    return r\n",
    "\n",
    "def deltaT(m):\n",
    "    N=0\n",
    "    d=np.zeros(len(m))\n",
    "    for i in range(1,len(m)):\n",
    "        d[i]=m[i-1]-m[i]\n",
    "        if [i]!=0:\n",
    "            N+=1\n",
    "    return int((2.34*10**7)/N)\n",
    "\n",
    "def doHk(deltT,k):\n",
    "    hk=np.zeros(k)\n",
    "    for i in range(k):\n",
    "        hk[i]=np.int16((1/5)*i*deltT)\n",
    "    return hk\n",
    "\n",
    "def retHk(m,hk):\n",
    "    ret=np.zeros(100)\n",
    "    for i,k in zip(range(len(m)),hk):\n",
    "        ret[i]=m[i+k]-m[i]\n",
    "    return ret\n",
    "\n",
    "def OF_1(ld):\n",
    "    of=np.zeros((len(ld),6))\n",
    "    for i,ii in zip(range(1,12,2),range(0,6,2)): #giro sui prezzi ask e volumi ask di conseguenza\n",
    "        for j in range(1,len(ld)): #giro sulle righe\n",
    "            #ask\n",
    "            if ld[j][i-1]>ld[j-1][i-1]: #p_t>p_t-1\n",
    "                of[j-1][ii]=-1*ld[j][i]\n",
    "            elif ld[j][i-1]<ld[j-1][i-1]: #p_t<p_t-1\n",
    "                of[j-1][ii]=ld[j][i]\n",
    "            elif ld[j][i-1]==ld[j-1][i-1]: #p_t=p_t-1\n",
    "                of[j-1][ii]=ld[j][i]-ld[j-1][i]\n",
    "    for w,ww in zip(range(3,12,4),range(1,7,2)):\n",
    "        for jj in range(1,len(ld)):    \n",
    "            #bid\n",
    "            if ld[jj][w-1]>ld[jj-1][w-1]: #p_t>p_t-1\n",
    "                of[jj-1][ww]=ld[jj][w]\n",
    "            elif ld[jj][w-1]<ld[jj-1][w-1]: #p_t<p_t-1\n",
    "                of[jj-1][ww]=-1*ld[jj][w]\n",
    "            elif ld[jj][w-1]==ld[jj-1][w-1]: #p_t=p_t-1\n",
    "                of[jj-1][ww]=ld[jj][w]-ld[jj-1][w]\n",
    "    return of\n",
    "    \n",
    "from scipy import stats\n",
    "def taglia_e_cuci(v):\n",
    "    hi=np.quantile(v,0.005)\n",
    "    lo=np.quantile(v, 0.995)\n",
    "    b=np.clip(v, hi,lo)\n",
    "    return b"
   ]
  },
  {
   "cell_type": "code",
   "execution_count": 3,
   "metadata": {},
   "outputs": [],
   "source": [
    "lob_data=pd.read_csv('/Users/macri/Desktop/MSFT_OF.csv')\n",
    "lob_data.drop(['idx'], axis=1,inplace=True)\n",
    "lob_data.reset_index(drop=True,inplace=True)"
   ]
  },
  {
   "cell_type": "code",
   "execution_count": 4,
   "metadata": {},
   "outputs": [],
   "source": [
    "C= int(len(lob_data)*0.06)\n",
    "b=lob_data.iloc[ :C].copy()\n",
    "ld=b.values.tolist()\n",
    "lob_data=b\n",
    "ld=lob_data.values.tolist()\n",
    "aa=OF_1(ld) #fa Order Flow\n",
    "bCols=np.ravel([['aOF_%d'%level, 'bOF_%d'%level] for level in [1,2,3]])\n",
    "of_data=pd.DataFrame(aa, columns=bCols)\n",
    "m=pd.DataFrame(midPrice(lob_data),columns=['m'])\n"
   ]
  },
  {
   "cell_type": "code",
   "execution_count": 5,
   "metadata": {},
   "outputs": [
    {
     "data": {
      "image/png": "[encoded data removed]",
      "text/plain": [
       "<Figure size 432x288 with 1 Axes>"
      ]
     },
     "metadata": {
      "needs_background": "light"
     },
     "output_type": "display_data"
    }
   ],
   "source": [
    "m['r']=(m['m']/10**4).pct_change()\n",
    "m['rCum']=m['r']#.cumprod()-1\n",
    "of_data  ['r']= m['rCum']#.diff()# (1 + m['r']).cumprod() - 1#m['rCum']\n",
    "of_data.fillna(0).copy()\n",
    "of_data.plot()\n",
    "plt.title('cumRets e OF')\n",
    "plt.show()"
   ]
  },
  {
   "cell_type": "code",
   "execution_count": 6,
   "metadata": {},
   "outputs": [
    {
     "data": {
      "image/png": "[encoded data removed]",
      "text/plain": [
       "<Figure size 432x288 with 1 Axes>"
      ]
     },
     "metadata": {
      "needs_background": "light"
     },
     "output_type": "display_data"
    },
    {
     "data": {
      "image/png": "[encoded data removed]",
      "text/plain": [
       "<Figure size 432x288 with 1 Axes>"
      ]
     },
     "metadata": {
      "needs_background": "light"
     },
     "output_type": "display_data"
    }
   ],
   "source": [
    "rr=(of_data['r'])/of_data['r'].std()\n",
    "of_data['r'].plot()\n",
    "plt.show()\n",
    "of_data['r'].hist(bins=30)\n",
    "plt.show()"
   ]
  },
  {
   "cell_type": "markdown",
   "metadata": {},
   "source": [
    "Prepares the dataset: cuts at 0.5% the tails, and splits data in the requested formats\n",
    "==="
   ]
  },
  {
   "cell_type": "code",
   "execution_count": 7,
   "metadata": {},
   "outputs": [],
   "source": [
    "offlo=of_data.apply(lambda x: taglia_e_cuci(x))\n",
    "offlo=offlo.fillna(0)"
   ]
  },
  {
   "cell_type": "code",
   "execution_count": 8,
   "metadata": {},
   "outputs": [],
   "source": [
    "def prepare_x_y(data, lag, dimension):\n",
    "    data = data\n",
    "    shape = data.shape\n",
    "    X = np.zeros((shape[0]-lag, lag, dimension))\n",
    "    Y = np.zeros((shape[0]-lag))\n",
    "    for i in range(shape[0]-lag):\n",
    "        X[i] = data[i:i+lag, :dimension] # take the variables' columns as features\n",
    "        Y[i] = data[i+lag, -1:] # take the last column as dep var\n",
    "    X = X.reshape(X.shape[0], lag, dimension, 1)\n",
    "    Y = Y.reshape(Y.shape[0])\n",
    "    return X,Y"
   ]
  },
  {
   "cell_type": "code",
   "execution_count": 9,
   "metadata": {},
   "outputs": [
    {
     "name": "stderr",
     "output_type": "stream",
     "text": [
      "C:\\Users\\macri\\AppData\\Local\\Temp\\ipykernel_17896\\1098276775.py:23: SettingWithCopyWarning: \n",
      "A value is trying to be set on a copy of a slice from a DataFrame.\n",
      "Try using .loc[row_indexer,col_indexer] = value instead\n",
      "\n",
      "See the caveats in the documentation: https://pandas.pydata.org/pandas-docs/stable/user_guide/indexing.html#returning-a-view-versus-a-copy\n",
      "  n_train.loc[:,x_var] = (n_train.loc[:,x_var]-mu)  / sd\n",
      "C:\\Users\\macri\\AppData\\Local\\Temp\\ipykernel_17896\\1098276775.py:24: SettingWithCopyWarning: \n",
      "A value is trying to be set on a copy of a slice from a DataFrame.\n",
      "Try using .loc[row_indexer,col_indexer] = value instead\n",
      "\n",
      "See the caveats in the documentation: https://pandas.pydata.org/pandas-docs/stable/user_guide/indexing.html#returning-a-view-versus-a-copy\n",
      "  n_vali .loc[:,x_var] = (n_vali .loc[:,x_var]-mu)  / sd\n",
      "C:\\Users\\macri\\AppData\\Local\\Temp\\ipykernel_17896\\1098276775.py:25: SettingWithCopyWarning: \n",
      "A value is trying to be set on a copy of a slice from a DataFrame.\n",
      "Try using .loc[row_indexer,col_indexer] = value instead\n",
      "\n",
      "See the caveats in the documentation: https://pandas.pydata.org/pandas-docs/stable/user_guide/indexing.html#returning-a-view-versus-a-copy\n",
      "  n_test .loc[:,x_var] = (n_test .loc[:,x_var]-mu)  / sd#.loc[:,x_var] = (n_test .loc[:,x_var]-mu)  / sd\n",
      "C:\\Users\\macri\\AppData\\Local\\Temp\\ipykernel_17896\\1098276775.py:23: SettingWithCopyWarning: \n",
      "A value is trying to be set on a copy of a slice from a DataFrame.\n",
      "Try using .loc[row_indexer,col_indexer] = value instead\n",
      "\n",
      "See the caveats in the documentation: https://pandas.pydata.org/pandas-docs/stable/user_guide/indexing.html#returning-a-view-versus-a-copy\n",
      "  n_train.loc[:,x_var] = (n_train.loc[:,x_var]-mu)  / sd\n",
      "C:\\Users\\macri\\AppData\\Local\\Temp\\ipykernel_17896\\1098276775.py:24: SettingWithCopyWarning: \n",
      "A value is trying to be set on a copy of a slice from a DataFrame.\n",
      "Try using .loc[row_indexer,col_indexer] = value instead\n",
      "\n",
      "See the caveats in the documentation: https://pandas.pydata.org/pandas-docs/stable/user_guide/indexing.html#returning-a-view-versus-a-copy\n",
      "  n_vali .loc[:,x_var] = (n_vali .loc[:,x_var]-mu)  / sd\n",
      "C:\\Users\\macri\\AppData\\Local\\Temp\\ipykernel_17896\\1098276775.py:25: SettingWithCopyWarning: \n",
      "A value is trying to be set on a copy of a slice from a DataFrame.\n",
      "Try using .loc[row_indexer,col_indexer] = value instead\n",
      "\n",
      "See the caveats in the documentation: https://pandas.pydata.org/pandas-docs/stable/user_guide/indexing.html#returning-a-view-versus-a-copy\n",
      "  n_test .loc[:,x_var] = (n_test .loc[:,x_var]-mu)  / sd#.loc[:,x_var] = (n_test .loc[:,x_var]-mu)  / sd\n",
      "C:\\Users\\macri\\AppData\\Local\\Temp\\ipykernel_17896\\1098276775.py:23: SettingWithCopyWarning: \n",
      "A value is trying to be set on a copy of a slice from a DataFrame.\n",
      "Try using .loc[row_indexer,col_indexer] = value instead\n",
      "\n",
      "See the caveats in the documentation: https://pandas.pydata.org/pandas-docs/stable/user_guide/indexing.html#returning-a-view-versus-a-copy\n",
      "  n_train.loc[:,x_var] = (n_train.loc[:,x_var]-mu)  / sd\n",
      "C:\\Users\\macri\\AppData\\Local\\Temp\\ipykernel_17896\\1098276775.py:24: SettingWithCopyWarning: \n",
      "A value is trying to be set on a copy of a slice from a DataFrame.\n",
      "Try using .loc[row_indexer,col_indexer] = value instead\n",
      "\n",
      "See the caveats in the documentation: https://pandas.pydata.org/pandas-docs/stable/user_guide/indexing.html#returning-a-view-versus-a-copy\n",
      "  n_vali .loc[:,x_var] = (n_vali .loc[:,x_var]-mu)  / sd\n",
      "C:\\Users\\macri\\AppData\\Local\\Temp\\ipykernel_17896\\1098276775.py:25: SettingWithCopyWarning: \n",
      "A value is trying to be set on a copy of a slice from a DataFrame.\n",
      "Try using .loc[row_indexer,col_indexer] = value instead\n",
      "\n",
      "See the caveats in the documentation: https://pandas.pydata.org/pandas-docs/stable/user_guide/indexing.html#returning-a-view-versus-a-copy\n",
      "  n_test .loc[:,x_var] = (n_test .loc[:,x_var]-mu)  / sd#.loc[:,x_var] = (n_test .loc[:,x_var]-mu)  / sd\n",
      "C:\\Users\\macri\\AppData\\Local\\Temp\\ipykernel_17896\\1098276775.py:23: SettingWithCopyWarning: \n",
      "A value is trying to be set on a copy of a slice from a DataFrame.\n",
      "Try using .loc[row_indexer,col_indexer] = value instead\n",
      "\n",
      "See the caveats in the documentation: https://pandas.pydata.org/pandas-docs/stable/user_guide/indexing.html#returning-a-view-versus-a-copy\n",
      "  n_train.loc[:,x_var] = (n_train.loc[:,x_var]-mu)  / sd\n",
      "C:\\Users\\macri\\AppData\\Local\\Temp\\ipykernel_17896\\1098276775.py:24: SettingWithCopyWarning: \n",
      "A value is trying to be set on a copy of a slice from a DataFrame.\n",
      "Try using .loc[row_indexer,col_indexer] = value instead\n",
      "\n",
      "See the caveats in the documentation: https://pandas.pydata.org/pandas-docs/stable/user_guide/indexing.html#returning-a-view-versus-a-copy\n",
      "  n_vali .loc[:,x_var] = (n_vali .loc[:,x_var]-mu)  / sd\n",
      "C:\\Users\\macri\\AppData\\Local\\Temp\\ipykernel_17896\\1098276775.py:25: SettingWithCopyWarning: \n",
      "A value is trying to be set on a copy of a slice from a DataFrame.\n",
      "Try using .loc[row_indexer,col_indexer] = value instead\n",
      "\n",
      "See the caveats in the documentation: https://pandas.pydata.org/pandas-docs/stable/user_guide/indexing.html#returning-a-view-versus-a-copy\n",
      "  n_test .loc[:,x_var] = (n_test .loc[:,x_var]-mu)  / sd#.loc[:,x_var] = (n_test .loc[:,x_var]-mu)  / sd\n",
      "C:\\Users\\macri\\AppData\\Local\\Temp\\ipykernel_17896\\1098276775.py:23: SettingWithCopyWarning: \n",
      "A value is trying to be set on a copy of a slice from a DataFrame.\n",
      "Try using .loc[row_indexer,col_indexer] = value instead\n",
      "\n",
      "See the caveats in the documentation: https://pandas.pydata.org/pandas-docs/stable/user_guide/indexing.html#returning-a-view-versus-a-copy\n",
      "  n_train.loc[:,x_var] = (n_train.loc[:,x_var]-mu)  / sd\n",
      "C:\\Users\\macri\\AppData\\Local\\Temp\\ipykernel_17896\\1098276775.py:24: SettingWithCopyWarning: \n",
      "A value is trying to be set on a copy of a slice from a DataFrame.\n",
      "Try using .loc[row_indexer,col_indexer] = value instead\n",
      "\n",
      "See the caveats in the documentation: https://pandas.pydata.org/pandas-docs/stable/user_guide/indexing.html#returning-a-view-versus-a-copy\n",
      "  n_vali .loc[:,x_var] = (n_vali .loc[:,x_var]-mu)  / sd\n",
      "C:\\Users\\macri\\AppData\\Local\\Temp\\ipykernel_17896\\1098276775.py:25: SettingWithCopyWarning: \n",
      "A value is trying to be set on a copy of a slice from a DataFrame.\n",
      "Try using .loc[row_indexer,col_indexer] = value instead\n",
      "\n",
      "See the caveats in the documentation: https://pandas.pydata.org/pandas-docs/stable/user_guide/indexing.html#returning-a-view-versus-a-copy\n",
      "  n_test .loc[:,x_var] = (n_test .loc[:,x_var]-mu)  / sd#.loc[:,x_var] = (n_test .loc[:,x_var]-mu)  / sd\n",
      "C:\\Users\\macri\\AppData\\Local\\Temp\\ipykernel_17896\\1098276775.py:23: SettingWithCopyWarning: \n",
      "A value is trying to be set on a copy of a slice from a DataFrame.\n",
      "Try using .loc[row_indexer,col_indexer] = value instead\n",
      "\n",
      "See the caveats in the documentation: https://pandas.pydata.org/pandas-docs/stable/user_guide/indexing.html#returning-a-view-versus-a-copy\n",
      "  n_train.loc[:,x_var] = (n_train.loc[:,x_var]-mu)  / sd\n",
      "C:\\Users\\macri\\AppData\\Local\\Temp\\ipykernel_17896\\1098276775.py:24: SettingWithCopyWarning: \n",
      "A value is trying to be set on a copy of a slice from a DataFrame.\n",
      "Try using .loc[row_indexer,col_indexer] = value instead\n",
      "\n",
      "See the caveats in the documentation: https://pandas.pydata.org/pandas-docs/stable/user_guide/indexing.html#returning-a-view-versus-a-copy\n",
      "  n_vali .loc[:,x_var] = (n_vali .loc[:,x_var]-mu)  / sd\n",
      "C:\\Users\\macri\\AppData\\Local\\Temp\\ipykernel_17896\\1098276775.py:25: SettingWithCopyWarning: \n",
      "A value is trying to be set on a copy of a slice from a DataFrame.\n",
      "Try using .loc[row_indexer,col_indexer] = value instead\n",
      "\n",
      "See the caveats in the documentation: https://pandas.pydata.org/pandas-docs/stable/user_guide/indexing.html#returning-a-view-versus-a-copy\n",
      "  n_test .loc[:,x_var] = (n_test .loc[:,x_var]-mu)  / sd#.loc[:,x_var] = (n_test .loc[:,x_var]-mu)  / sd\n"
     ]
    },
    {
     "data": {
      "text/plain": [
       "(      aOF_1     bOF_1     aOF_2     bOF_2     aOF_3     bOF_3    r\n",
       " 0 -1.025650  0.206257 -0.010122  0.098448  0.044919  0.077185  0.0\n",
       " 1  0.099246  0.206257 -0.010122  0.098448  0.044919  0.077185  0.0\n",
       " 2  0.099246  0.206257 -0.010122  0.098448  0.044919  0.077185  0.0\n",
       " 3  0.099246  0.206257 -0.010122  0.098448  0.044919  0.077185  0.0\n",
       " 4 -0.262457  0.206257 -0.010122  0.098448  0.044919  0.077185  0.0,\n",
       "           aOF_1     bOF_1     aOF_2     bOF_2     aOF_3     bOF_3         r\n",
       " 56622 -0.262457  0.206257 -0.010122  0.098448  0.044919  0.077185  0.000000\n",
       " 56623 -1.423524  0.206257 -0.010122  0.098448 -2.428068  0.077185  0.000000\n",
       " 56624 -1.709269  1.938513 -1.730210  1.686177 -1.809822  3.632737  0.000057\n",
       " 56625 -0.262457  1.161546  0.938456  0.098448  0.044919  0.077185  0.000170\n",
       " 56626 -0.262457  0.206257 -0.010122  0.098448  0.044919  0.077185  0.000000,\n",
       "           aOF_1     bOF_1     aOF_2     bOF_2     aOF_3     bOF_3         r\n",
       " 62813  0.099246 -0.112172 -0.326315  0.098448  0.044919  0.077185  0.000000\n",
       " 62814  0.099246 -0.026196 -0.240943  0.098448  0.044919  0.077185  0.000000\n",
       " 62815  0.938397 -0.835007  1.023828 -1.428214  0.354042 -2.451547  0.000000\n",
       " 62816  1.300100 -0.516577 -0.727879  0.352892  1.673999  0.066239 -0.000057\n",
       " 62817  0.099246 -2.022748  2.203226 -2.827655  0.044919 -1.076617 -0.000057)"
      ]
     },
     "execution_count": 9,
     "metadata": {},
     "output_type": "execute_result"
    }
   ],
   "source": [
    "train_weight=0.9\n",
    "vali_weight=0.05\n",
    "\n",
    "n_train     =offlo.iloc[:int(len(of_data)*train_weight)]\n",
    "n_vali      =offlo.iloc[int(len(of_data)*train_weight):-101]#int(len(of_data)*train_weight)+int(len(of_data)*vali_weight)\n",
    "n_test      =offlo.iloc[-101:]#int(len(of_data)*train_weight)+int(len(of_data)*vali_weight)\n",
    "#n_train=taglia_e_cuci(train)\n",
    "#n_vali =taglia_e_cuci(validation)\n",
    "#n_test =taglia_e_cuci(test)\n",
    "\n",
    "\n",
    "\n",
    "#for col in train.columns:#'aOF_1',\t'bOF_1',\t'aOF_2',\t'bOF_2',\t'aOF_3',\t'bOF_3']:\n",
    "#    mu = float(train.loc[:,col].mean())\n",
    "#    sigma = float(train.loc[:,col].std())\n",
    "#    stdize_input = lambda x: (x-mu)/sigma #stats.zscore(n_train)#normalizer.fit_transform((x.values.reshape(-1,1)))##n_train: stats.zscore(n_train)\n",
    "\n",
    "x_vars=['aOF_1',\t'bOF_1',\t'aOF_2',\t'bOF_2',\t'aOF_3',\t'bOF_3']\n",
    "for x_var in x_vars:\n",
    "    sd = n_train[x_var].std()\n",
    "    mu = n_train[x_var].mean()\n",
    "    std = lambda x: (x-mu)/sd \n",
    "    n_train.loc[:,x_var] = (n_train.loc[:,x_var]-mu)  / sd\n",
    "    n_vali .loc[:,x_var] = (n_vali .loc[:,x_var]-mu)  / sd\n",
    "    n_test .loc[:,x_var] = (n_test .loc[:,x_var]-mu)  / sd#.loc[:,x_var] = (n_test .loc[:,x_var]-mu)  / sd\n",
    "\n",
    "#n_train['r'] = n_train['r'].diff().fillna(0) \n",
    "#n_vali ['r'] = n_vali ['r'].diff().fillna(0) \n",
    "#n_test ['r'] = n_test ['r'].diff().fillna(0) \n",
    "\n",
    "#std_train['r']=n_train.apply(stdize_input)\n",
    "#std_vali ['r']=n_vali .apply(stdize_input)\n",
    "#std_test ['r']=n_test .apply(stdize_input)\n",
    "#\n",
    "#std_train['spread']=y[:int(len(of_data)*train_weight)]\n",
    "#std_vali ['spread']=y[int(len(of_data)*train_weight):int(len(of_data)*train_weight)+int(len(of_data)*vali_weight)]\n",
    "#std_test ['spread']=y[int(len(of_data)*train_weight)+int(len(of_data)*vali_weight):]\n",
    "\n",
    "\n",
    "\n",
    "\n",
    "n_train.head(),n_vali.head(),n_test.head()"
   ]
  },
  {
   "cell_type": "code",
   "execution_count": 10,
   "metadata": {},
   "outputs": [
    {
     "name": "stdout",
     "output_type": "stream",
     "text": [
      "(56522, 100, 6, 1) (56522,)\n",
      "(6091, 100, 6, 1) (6091,)\n",
      "(1, 100, 6, 1) (1,)\n"
     ]
    }
   ],
   "source": [
    "trainX,trainY= prepare_x_y (n_train.to_numpy(),100,6)    #, 1   ,  100)\n",
    "valiX ,valiY= prepare_x_y  (n_vali .to_numpy(),100,6)    #, 1   ,  100)\n",
    "testX ,testY= prepare_x_y  (n_test .to_numpy(),100,6)    #, 1   ,  100)\n",
    "print(trainX.shape ,trainY.shape)\n",
    "print(valiX.shape  ,valiY .shape)\n",
    "print(testX.shape  ,testY .shape)"
   ]
  },
  {
   "cell_type": "markdown",
   "metadata": {},
   "source": [
    "CNN/LSTM\n",
    "==="
   ]
  },
  {
   "cell_type": "code",
   "execution_count": 11,
   "metadata": {},
   "outputs": [
    {
     "name": "stdout",
     "output_type": "stream",
     "text": [
      "Model: \"model\"\n",
      "__________________________________________________________________________________________________\n",
      " Layer (type)                   Output Shape         Param #     Connected to                     \n",
      "==================================================================================================\n",
      " input_1 (InputLayer)           [(None, 100, 6, 1)]  0           []                               \n",
      "                                                                                                  \n",
      " conv2d (Conv2D)                (None, 100, 3, 32)   96          ['input_1[0][0]']                \n",
      "                                                                                                  \n",
      " leaky_re_lu (LeakyReLU)        (None, 100, 3, 32)   0           ['conv2d[0][0]']                 \n",
      "                                                                                                  \n",
      " conv2d_1 (Conv2D)              (None, 100, 3, 32)   4128        ['leaky_re_lu[0][0]']            \n",
      "                                                                                                  \n",
      " leaky_re_lu_1 (LeakyReLU)      (None, 100, 3, 32)   0           ['conv2d_1[0][0]']               \n",
      "                                                                                                  \n",
      " conv2d_2 (Conv2D)              (None, 100, 3, 32)   4128        ['leaky_re_lu_1[0][0]']          \n",
      "                                                                                                  \n",
      " leaky_re_lu_2 (LeakyReLU)      (None, 100, 3, 32)   0           ['conv2d_2[0][0]']               \n",
      "                                                                                                  \n",
      " conv2d_3 (Conv2D)              (None, 100, 1, 16)   5136        ['leaky_re_lu_2[0][0]']          \n",
      "                                                                                                  \n",
      " leaky_re_lu_3 (LeakyReLU)      (None, 100, 1, 16)   0           ['conv2d_3[0][0]']               \n",
      "                                                                                                  \n",
      " conv2d_4 (Conv2D)              (None, 100, 1, 64)   1088        ['leaky_re_lu_3[0][0]']          \n",
      "                                                                                                  \n",
      " conv2d_6 (Conv2D)              (None, 100, 1, 64)   1088        ['leaky_re_lu_3[0][0]']          \n",
      "                                                                                                  \n",
      " leaky_re_lu_4 (LeakyReLU)      (None, 100, 1, 64)   0           ['conv2d_4[0][0]']               \n",
      "                                                                                                  \n",
      " leaky_re_lu_6 (LeakyReLU)      (None, 100, 1, 64)   0           ['conv2d_6[0][0]']               \n",
      "                                                                                                  \n",
      " max_pooling2d (MaxPooling2D)   (None, 100, 1, 16)   0           ['leaky_re_lu_3[0][0]']          \n",
      "                                                                                                  \n",
      " conv2d_5 (Conv2D)              (None, 100, 1, 64)   12352       ['leaky_re_lu_4[0][0]']          \n",
      "                                                                                                  \n",
      " conv2d_7 (Conv2D)              (None, 100, 1, 64)   20544       ['leaky_re_lu_6[0][0]']          \n",
      "                                                                                                  \n",
      " conv2d_8 (Conv2D)              (None, 100, 1, 64)   1088        ['max_pooling2d[0][0]']          \n",
      "                                                                                                  \n",
      " leaky_re_lu_5 (LeakyReLU)      (None, 100, 1, 64)   0           ['conv2d_5[0][0]']               \n",
      "                                                                                                  \n",
      " leaky_re_lu_7 (LeakyReLU)      (None, 100, 1, 64)   0           ['conv2d_7[0][0]']               \n",
      "                                                                                                  \n",
      " leaky_re_lu_8 (LeakyReLU)      (None, 100, 1, 64)   0           ['conv2d_8[0][0]']               \n",
      "                                                                                                  \n",
      " concatenate (Concatenate)      (None, 100, 1, 192)  0           ['leaky_re_lu_5[0][0]',          \n",
      "                                                                  'leaky_re_lu_7[0][0]',          \n",
      "                                                                  'leaky_re_lu_8[0][0]']          \n",
      "                                                                                                  \n",
      " reshape (Reshape)              (None, 100, 192)     0           ['concatenate[0][0]']            \n",
      "                                                                                                  \n",
      " dropout (Dropout)              (None, 100, 192)     0           ['reshape[0][0]']                \n",
      "                                                                                                  \n",
      " lstm (LSTM)                    (None, 64)           65792       ['dropout[0][0]']                \n",
      "                                                                                                  \n",
      " dense (Dense)                  (None, 1)            65          ['lstm[0][0]']                   \n",
      "                                                                                                  \n",
      "==================================================================================================\n",
      "Total params: 115,505\n",
      "Trainable params: 115,505\n",
      "Non-trainable params: 0\n",
      "__________________________________________________________________________________________________\n"
     ]
    }
   ],
   "source": [
    "#architettura della rete\n",
    "def create_nn(T, NF,number_of_lstm):\n",
    "\n",
    "    input_lmd = tf.keras.Input(shape=(T, NF, 1))\n",
    "\n",
    "    conv_first1 = Conv2D(32, kernel_size=(1, 2), strides=(1, 2))(input_lmd)\n",
    "    conv_first1 = keras.layers.LeakyReLU(alpha=0.01)(conv_first1)\n",
    "    conv_first1 = Conv2D(32, (4, 1), padding='same')(conv_first1)\n",
    "    conv_first1 = keras.layers.LeakyReLU(alpha=0.01)(conv_first1)\n",
    "    conv_first1 = Conv2D(32, (4, 1), padding='same')(conv_first1)\n",
    "    conv_first1 = keras.layers.LeakyReLU(alpha=0.01)(conv_first1)\n",
    "    #\n",
    "    layer_x = layers.Conv2D(filters=16, kernel_size=(10,1),strides=(1,10), padding='same')(conv_first1)\n",
    "    layer_x = layers.LeakyReLU(alpha=0.01)(layer_x)\n",
    "    # inception\n",
    "    convsecond_1 = Conv2D(64, (1, 1), padding='same', strides=(1,1))(layer_x)\n",
    "    convsecond_1 = keras.layers.LeakyReLU(alpha=0.01)(convsecond_1)\n",
    "    convsecond_1 = Conv2D(64, (3, 1), padding='same', strides=(1,1))(convsecond_1)\n",
    "    convsecond_1 = keras.layers.LeakyReLU(alpha=0.01)(convsecond_1)\n",
    "\n",
    "    convsecond_2 = Conv2D(64, (1, 1), padding='same', strides=(1,1))(layer_x)\n",
    "    convsecond_2 = keras.layers.LeakyReLU(alpha=0.01)(convsecond_2)\n",
    "    convsecond_2 = Conv2D(64, (5, 1), padding='same', strides=(1,1))(convsecond_2)\n",
    "    convsecond_2 = keras.layers.LeakyReLU(alpha=0.01)(convsecond_2)\n",
    "\n",
    "    convsecond_3 = MaxPooling2D((3, 1), strides=(1, 1), padding='same')(layer_x)\n",
    "    convsecond_3 = Conv2D(64, (1, 1), padding='same', strides=(1,1))(convsecond_3)\n",
    "    convsecond_3 = keras.layers.LeakyReLU(alpha=0.01)(convsecond_3)\n",
    "    \n",
    "    convsecond_output = keras.layers.concatenate([convsecond_1, convsecond_2, convsecond_3], axis=3)\n",
    "    conv_reshape = Reshape((int(convsecond_output.shape[1]), int(convsecond_output.shape[3])))(convsecond_output)\n",
    "    conv_reshape = keras.layers.Dropout(0.7, noise_shape=(None, 1, int(conv_reshape.shape[2])))(conv_reshape, training=True)\n",
    "\n",
    "    #  LSTM layer\n",
    "    conv_lstm = LSTM(number_of_lstm)(conv_reshape)\n",
    "    # output layer\n",
    "    out = Dense(1, activation='leaky_relu')(conv_lstm)\n",
    "    model = Model(inputs=input_lmd, outputs=out)\n",
    "    adam = keras.optimizers.Adam(learning_rate=0.0001)\n",
    "    model.compile(optimizer=adam, loss='mse')#, metrics=['accuracy']\n",
    "\n",
    "    return model\n",
    "  \n",
    "deeplob = create_nn(100, 6, 64)\n",
    "\n",
    "deeplob.summary()\n",
    "checkpoint_filepath = './model_tensorflow2/weights'\n"
   ]
  },
  {
   "cell_type": "code",
   "execution_count": 12,
   "metadata": {},
   "outputs": [],
   "source": [
    "callback=tf.keras.callbacks.EarlyStopping(\n",
    "    monitor='val_loss',\n",
    "    min_delta=0,\n",
    "    patience=5,\n",
    "    verbose=1,\n",
    "    mode='auto',\n",
    "    baseline=None,\n",
    "    restore_best_weights=False\n",
    ")\n",
    "saving = tf.keras.callbacks.ModelCheckpoint(\n",
    "    filepath=checkpoint_filepath,\n",
    "    save_weights_only=True,\n",
    "    monitor='val_loss',\n",
    "    mode='auto',\n",
    "    save_best_only=True)"
   ]
  },
  {
   "cell_type": "code",
   "execution_count": 13,
   "metadata": {},
   "outputs": [
    {
     "name": "stdout",
     "output_type": "stream",
     "text": [
      "Epoch 1/25\n",
      "114/114 [==============================] - 58s 498ms/step - loss: 9.2872e-05 - val_loss: 1.7268e-05\n",
      "Epoch 2/25\n",
      "114/114 [==============================] - 60s 528ms/step - loss: 9.7365e-06 - val_loss: 6.0310e-06\n",
      "Epoch 3/25\n",
      "114/114 [==============================] - 59s 517ms/step - loss: 3.9685e-06 - val_loss: 2.7895e-06\n",
      "Epoch 4/25\n",
      "114/114 [==============================] - 58s 510ms/step - loss: 1.9850e-06 - val_loss: 1.5301e-06\n",
      "Epoch 5/25\n",
      "114/114 [==============================] - 58s 508ms/step - loss: 1.2045e-06 - val_loss: 9.5706e-07\n",
      "Epoch 6/25\n",
      "114/114 [==============================] - 51s 451ms/step - loss: 7.3247e-07 - val_loss: 5.4943e-07\n",
      "Epoch 7/25\n",
      "114/114 [==============================] - 55s 478ms/step - loss: 4.9658e-07 - val_loss: 4.4442e-07\n",
      "Epoch 8/25\n",
      "114/114 [==============================] - 57s 500ms/step - loss: 3.3428e-07 - val_loss: 2.8568e-07\n",
      "Epoch 9/25\n",
      "114/114 [==============================] - 53s 463ms/step - loss: 2.5670e-07 - val_loss: 2.1000e-07\n",
      "Epoch 10/25\n",
      "114/114 [==============================] - 53s 468ms/step - loss: 1.9507e-07 - val_loss: 1.5561e-07\n",
      "Epoch 11/25\n",
      "114/114 [==============================] - 53s 463ms/step - loss: 1.4598e-07 - val_loss: 1.3231e-07\n",
      "Epoch 12/25\n",
      "114/114 [==============================] - 52s 460ms/step - loss: 1.1313e-07 - val_loss: 1.0174e-07\n",
      "Epoch 13/25\n",
      "114/114 [==============================] - 54s 471ms/step - loss: 9.6974e-08 - val_loss: 8.2860e-08\n",
      "Epoch 14/25\n",
      "114/114 [==============================] - 55s 483ms/step - loss: 7.6122e-08 - val_loss: 6.8606e-08\n",
      "Epoch 15/25\n",
      "114/114 [==============================] - 54s 472ms/step - loss: 6.2314e-08 - val_loss: 5.0604e-08\n",
      "Epoch 16/25\n",
      "114/114 [==============================] - 54s 476ms/step - loss: 5.2954e-08 - val_loss: 3.9497e-08\n",
      "Epoch 17/25\n",
      "114/114 [==============================] - 55s 479ms/step - loss: 4.1933e-08 - val_loss: 4.1604e-08\n",
      "Epoch 18/25\n",
      "114/114 [==============================] - 54s 470ms/step - loss: 3.6826e-08 - val_loss: 3.2833e-08\n",
      "Epoch 19/25\n",
      "114/114 [==============================] - 53s 467ms/step - loss: 3.1669e-08 - val_loss: 2.7874e-08\n",
      "Epoch 20/25\n",
      "114/114 [==============================] - 55s 479ms/step - loss: 2.8565e-08 - val_loss: 2.6990e-08\n",
      "Epoch 21/25\n",
      "114/114 [==============================] - 53s 467ms/step - loss: 2.3987e-08 - val_loss: 1.9514e-08\n",
      "Epoch 22/25\n",
      "114/114 [==============================] - 52s 457ms/step - loss: 2.2171e-08 - val_loss: 1.8906e-08\n",
      "Epoch 23/25\n",
      "114/114 [==============================] - 54s 470ms/step - loss: 1.9256e-08 - val_loss: 1.8184e-08\n",
      "Epoch 24/25\n",
      "114/114 [==============================] - 56s 492ms/step - loss: 1.8311e-08 - val_loss: 1.5269e-08\n",
      "Epoch 25/25\n",
      "114/114 [==============================] - 60s 530ms/step - loss: 1.6154e-08 - val_loss: 1.5377e-08\n"
     ]
    }
   ],
   "source": [
    "simple=deeplob.fit(trainX, trainY, validation_data=(valiX, valiY),  epochs=25, batch_size=500,callbacks=[callback,saving])"
   ]
  },
  {
   "cell_type": "code",
   "execution_count": 14,
   "metadata": {},
   "outputs": [
    {
     "data": {
      "image/png": "[encoded data removed]",
      "text/plain": [
       "<Figure size 432x288 with 1 Axes>"
      ]
     },
     "metadata": {
      "needs_background": "light"
     },
     "output_type": "display_data"
    }
   ],
   "source": [
    "plt.plot(simple.history['loss'], label='train loss')\n",
    "plt.plot(simple.history['val_loss'], label='val loss')\n",
    "plt.legend()\n",
    "plt.title('Losses');"
   ]
  },
  {
   "cell_type": "code",
   "execution_count": 15,
   "metadata": {},
   "outputs": [
    {
     "name": "stdout",
     "output_type": "stream",
     "text": [
      "1/1 [==============================] - 0s 427ms/step\n"
     ]
    }
   ],
   "source": [
    "Ptest = deeplob.predict(testX)"
   ]
  },
  {
   "cell_type": "code",
   "execution_count": 16,
   "metadata": {},
   "outputs": [
    {
     "data": {
      "text/plain": [
       "array([[0.00658995]])"
      ]
     },
     "execution_count": 16,
     "metadata": {},
     "output_type": "execute_result"
    }
   ],
   "source": [
    "u=of_data['r'].mean()\n",
    "true=testY\n",
    "fcst=Ptest\n",
    "num=((fcst-true))**2\n",
    "den=((u-true))**2\n",
    "r2OutS_modello=(1-num/den)/100\n",
    "r2OutS_modello"
   ]
  },
  {
   "cell_type": "markdown",
   "metadata": {},
   "source": [
    "LSTM\n",
    "==="
   ]
  },
  {
   "cell_type": "code",
   "execution_count": 18,
   "metadata": {},
   "outputs": [
    {
     "name": "stdout",
     "output_type": "stream",
     "text": [
      "Epoch 1/25\n",
      "114/114 [==============================] - 178s 1s/step - loss: 3.3873e-05 - val_loss: 1.5159e-05\n",
      "Epoch 2/25\n",
      "114/114 [==============================] - 189s 2s/step - loss: 1.0267e-05 - val_loss: 9.0079e-06\n",
      "Epoch 3/25\n",
      "114/114 [==============================] - 167s 1s/step - loss: 6.6607e-06 - val_loss: 7.7655e-06\n",
      "Epoch 4/25\n",
      "114/114 [==============================] - 159s 1s/step - loss: 4.9936e-06 - val_loss: 6.1643e-06\n",
      "Epoch 5/25\n",
      "114/114 [==============================] - 159s 1s/step - loss: 4.1707e-06 - val_loss: 5.3397e-06\n",
      "Epoch 6/25\n",
      "114/114 [==============================] - 184s 2s/step - loss: 3.4998e-06 - val_loss: 5.1411e-06\n",
      "Epoch 7/25\n",
      "114/114 [==============================] - 155s 1s/step - loss: 3.0558e-06 - val_loss: 4.5071e-06\n",
      "Epoch 8/25\n",
      "114/114 [==============================] - 183s 2s/step - loss: 2.6032e-06 - val_loss: 3.8808e-06\n",
      "Epoch 9/25\n",
      "114/114 [==============================] - 194s 2s/step - loss: 2.2812e-06 - val_loss: 3.2264e-06\n",
      "Epoch 10/25\n",
      "114/114 [==============================] - 153s 1s/step - loss: 2.0566e-06 - val_loss: 3.4410e-06\n",
      "Epoch 11/25\n",
      "114/114 [==============================] - 174s 2s/step - loss: 1.8100e-06 - val_loss: 3.2659e-06\n",
      "Epoch 12/25\n",
      "114/114 [==============================] - 147s 1s/step - loss: 1.6546e-06 - val_loss: 2.5191e-06\n",
      "Epoch 13/25\n",
      "114/114 [==============================] - 147s 1s/step - loss: 1.5091e-06 - val_loss: 2.8904e-06\n",
      "Epoch 14/25\n",
      "114/114 [==============================] - 153s 1s/step - loss: 1.3975e-06 - val_loss: 2.2200e-06\n",
      "Epoch 15/25\n",
      "114/114 [==============================] - 193s 2s/step - loss: 1.2572e-06 - val_loss: 2.0128e-06\n",
      "Epoch 16/25\n",
      "114/114 [==============================] - 157s 1s/step - loss: 1.2030e-06 - val_loss: 2.0254e-06\n",
      "Epoch 17/25\n",
      "114/114 [==============================] - 143s 1s/step - loss: 1.0748e-06 - val_loss: 1.9245e-06\n",
      "Epoch 18/25\n",
      "114/114 [==============================] - 140s 1s/step - loss: 9.9745e-07 - val_loss: 2.0411e-06\n",
      "Epoch 19/25\n",
      "114/114 [==============================] - 142s 1s/step - loss: 9.5180e-07 - val_loss: 1.8071e-06\n",
      "Epoch 20/25\n",
      "114/114 [==============================] - 141s 1s/step - loss: 8.6935e-07 - val_loss: 1.5863e-06\n",
      "Epoch 21/25\n",
      "114/114 [==============================] - 143s 1s/step - loss: 8.1241e-07 - val_loss: 1.7031e-06\n",
      "Epoch 22/25\n",
      "114/114 [==============================] - 139s 1s/step - loss: 7.4452e-07 - val_loss: 1.4137e-06\n",
      "Epoch 23/25\n",
      "114/114 [==============================] - 156s 1s/step - loss: 7.0933e-07 - val_loss: 1.2595e-06\n",
      "Epoch 24/25\n",
      "114/114 [==============================] - 133s 1s/step - loss: 6.6135e-07 - val_loss: 1.3758e-06\n",
      "Epoch 25/25\n",
      "114/114 [==============================] - 131s 1s/step - loss: 6.2400e-07 - val_loss: 1.3587e-06\n"
     ]
    }
   ],
   "source": [
    "#architettura della rete\n",
    "num_units = 64\n",
    "activation_function = 'leaky_relu'\n",
    "adam = keras.optimizers.Adam(learning_rate=0.0001)\n",
    "loss_function = 'mse'\n",
    "batch_size = 250\n",
    "num_epochs = 50\n",
    "i = Input(shape=(100, 6))\n",
    "x = LSTM(64, return_sequences=True)(i)\n",
    "x = keras.layers.LeakyReLU(alpha=0.01)(x)\n",
    "x = LSTM(64, return_sequences=True)(x)\n",
    "x = keras.layers.LeakyReLU(alpha=0.01)(x)\n",
    "x = LSTM(64, return_sequences=True)(x)\n",
    "x = keras.layers.LeakyReLU(alpha=0.01)(x)\n",
    "x = keras.layers.Dropout(0.7)(x, training=True)\n",
    "#x = LSTM(64, return_sequences=True)(x)\n",
    "x = GlobalMaxPooling1D()(x)\n",
    "x = Dense(1, activation='leaky_relu')(x)\n",
    "\n",
    "\n",
    "model = Model(i, x)\n",
    "\n",
    "\n",
    "callback=tf.keras.callbacks.EarlyStopping(\n",
    "    monitor='val_loss',\n",
    "    min_delta=0,\n",
    "    patience=5,\n",
    "    verbose=1,\n",
    "    mode='auto',\n",
    "    baseline=None,\n",
    "    restore_best_weights=False\n",
    ")\n",
    "\n",
    "model.compile(optimizer = adam, loss = loss_function)\n",
    "\n",
    "lstmMSFT=model.fit(trainX, trainY, validation_data=(valiX, valiY),  epochs=25, batch_size=500,callbacks=[callback,saving])"
   ]
  },
  {
   "cell_type": "code",
   "execution_count": 19,
   "metadata": {},
   "outputs": [
    {
     "data": {
      "image/png": "[encoded data removed]",
      "text/plain": [
       "<Figure size 432x288 with 1 Axes>"
      ]
     },
     "metadata": {
      "needs_background": "light"
     },
     "output_type": "display_data"
    }
   ],
   "source": [
    "plt.plot(lstmMSFT.history['loss'], label='train loss')\n",
    "plt.plot(lstmMSFT.history['val_loss'], label='test loss')\n",
    "plt.legend()\n",
    "plt.show()"
   ]
  },
  {
   "cell_type": "code",
   "execution_count": 20,
   "metadata": {},
   "outputs": [
    {
     "name": "stdout",
     "output_type": "stream",
     "text": [
      "1/1 [==============================] - 2s 2s/step\n"
     ]
    }
   ],
   "source": [
    "PtestLSTM = model.predict(testX)"
   ]
  },
  {
   "cell_type": "code",
   "execution_count": 21,
   "metadata": {},
   "outputs": [
    {
     "data": {
      "text/plain": [
       "array([[0.00600478]])"
      ]
     },
     "execution_count": 21,
     "metadata": {},
     "output_type": "execute_result"
    }
   ],
   "source": [
    "u=of_data['r'].mean()\n",
    "true=testY\n",
    "fcst=PtestLSTM\n",
    "num=((fcst-true))**2\n",
    "den=((u-true))**2\n",
    "R2LSTM=(1-num/den)/100\n",
    "R2LSTM"
   ]
  },
  {
   "cell_type": "markdown",
   "metadata": {},
   "source": [
    "ARX-REGRESSION\n",
    "==="
   ]
  },
  {
   "cell_type": "code",
   "execution_count": 22,
   "metadata": {},
   "outputs": [
    {
     "data": {
      "text/plain": [
       "(array([-0.00010102]), array([-0.00011348]))"
      ]
     },
     "execution_count": 22,
     "metadata": {},
     "output_type": "execute_result"
    }
   ],
   "source": [
    "y=                                                  (offlo['r'][:-1]).to_numpy()\n",
    "x=    offlo[['aOF_1','bOF_1','aOF_2','bOF_2','aOF_3','bOF_3']][:-1].to_numpy()\n",
    "xFcst=offlo[['aOF_1','bOF_1','aOF_2','bOF_2','aOF_3','bOF_3']][-1:].to_numpy()\n",
    "ytrue=                                              (offlo['r'][-1:]).to_numpy()\n",
    "\n",
    "\n",
    "\n",
    "X=x.reshape(-1,6)\n",
    "Y=y.reshape(-1)\n",
    "\n",
    "mdl = NARX(LinearRegression(), auto_order=1, exog_order=[1,1,1,1,1,1])\n",
    "mdl.fit(X,y)\n",
    "\n",
    "y_forecast = mdl.forecast(X,y)\n",
    "y_forecast,ytrue"
   ]
  },
  {
   "cell_type": "code",
   "execution_count": 23,
   "metadata": {},
   "outputs": [
    {
     "data": {
      "text/plain": [
       "0.7007648673007507"
      ]
     },
     "execution_count": 23,
     "metadata": {},
     "output_type": "execute_result"
    }
   ],
   "source": [
    "mdl.score(X,Y, method='r2')"
   ]
  },
  {
   "cell_type": "code",
   "execution_count": 26,
   "metadata": {},
   "outputs": [
    {
     "data": {
      "text/plain": [
       "array([0.98786081])"
      ]
     },
     "execution_count": 26,
     "metadata": {},
     "output_type": "execute_result"
    }
   ],
   "source": [
    "u=offlo['r'].mean()\n",
    "num=((y_forecast-ytrue))**2\n",
    "den=((u-ytrue))**2\n",
    "r2OutS_ARX=(1-num/den)\n",
    "r2OutS_ARX"
   ]
  },
  {
   "cell_type": "code",
   "execution_count": 25,
   "metadata": {},
   "outputs": [
    {
     "ename": "NameError",
     "evalue": "name 'r2OutSARX' is not defined",
     "output_type": "error",
     "traceback": [
      "\u001b[1;31m---------------------------------------------------------------------------\u001b[0m",
      "\u001b[1;31mNameError\u001b[0m                                 Traceback (most recent call last)",
      "\u001b[1;32mc:\\Users\\macri\\Desktop\\PROJECT\\Prende_e_trasforma_dati_MSFT_v4.ipynb Cella 30\u001b[0m in \u001b[0;36m<cell line: 4>\u001b[1;34m()\u001b[0m\n\u001b[0;32m      <a href='vscode-notebook-cell:/c%3A/Users/macri/Desktop/PROJECT/Prende_e_trasforma_dati_MSFT_v4.ipynb#X42sZmlsZQ%3D%3D?line=1'>2</a>\u001b[0m topl\u001b[39m=\u001b[39mpd\u001b[39m.\u001b[39mDataFrame([\u001b[39mdict\u001b[39m])\n\u001b[0;32m      <a href='vscode-notebook-cell:/c%3A/Users/macri/Desktop/PROJECT/Prende_e_trasforma_dati_MSFT_v4.ipynb#X42sZmlsZQ%3D%3D?line=2'>3</a>\u001b[0m dd\u001b[39m=\u001b[39mnp\u001b[39m.\u001b[39mzeros(\u001b[39m3\u001b[39m)\n\u001b[1;32m----> <a href='vscode-notebook-cell:/c%3A/Users/macri/Desktop/PROJECT/Prende_e_trasforma_dati_MSFT_v4.ipynb#X42sZmlsZQ%3D%3D?line=3'>4</a>\u001b[0m toplot\u001b[39m=\u001b[39m[r2OutSARX,\n\u001b[0;32m      <a href='vscode-notebook-cell:/c%3A/Users/macri/Desktop/PROJECT/Prende_e_trasforma_dati_MSFT_v4.ipynb#X42sZmlsZQ%3D%3D?line=4'>5</a>\u001b[0m r2OutSLSTM,\n\u001b[0;32m      <a href='vscode-notebook-cell:/c%3A/Users/macri/Desktop/PROJECT/Prende_e_trasforma_dati_MSFT_v4.ipynb#X42sZmlsZQ%3D%3D?line=5'>6</a>\u001b[0m r2OutS_modello]\n\u001b[0;32m      <a href='vscode-notebook-cell:/c%3A/Users/macri/Desktop/PROJECT/Prende_e_trasforma_dati_MSFT_v4.ipynb#X42sZmlsZQ%3D%3D?line=6'>7</a>\u001b[0m \u001b[39mfor\u001b[39;00m i \u001b[39min\u001b[39;00m \u001b[39mrange\u001b[39m(\u001b[39m1\u001b[39m,\u001b[39m3\u001b[39m):\n\u001b[0;32m      <a href='vscode-notebook-cell:/c%3A/Users/macri/Desktop/PROJECT/Prende_e_trasforma_dati_MSFT_v4.ipynb#X42sZmlsZQ%3D%3D?line=7'>8</a>\u001b[0m     dd[i]\u001b[39m=\u001b[39m\u001b[39m1\u001b[39m\u001b[39m/\u001b[39m(toplot[i\u001b[39m-\u001b[39m\u001b[39m1\u001b[39m]\u001b[39m-\u001b[39mtoplot[i])\n",
      "\u001b[1;31mNameError\u001b[0m: name 'r2OutSARX' is not defined"
     ]
    }
   ],
   "source": [
    "dict={'ARX':-1.990231485216043*10**(-5),'LSTM':-0.002501,'CNN/LSTM':-0.00033487}\n",
    "topl=pd.DataFrame([dict])\n",
    "dd=np.zeros(3)\n",
    "toplot=[r2OutSARX,\n",
    "r2OutSLSTM,\n",
    "r2OutS_modello]\n",
    "for i in range(1,3):\n",
    "    dd[i]=1/(toplot[i-1]-toplot[i])\n",
    "plt.figure(figsize=(10,5))\n",
    "plt.plot(toplot,'o-',label='estim. performance')\n",
    "plt.annotate('ARX'     , (0.07,0))\n",
    "plt.annotate('LSTM'    ,(.95,-0.0024))\n",
    "plt.annotate('CNN/LSTM',(1.75,-0.00033487))\n",
    "plt.ylabel('$R^2_{OS}(\\%)=1- (MSE_{estim} / MSE_{bench})$')\n",
    "plt.xlabel('models')\n",
    "plt.grid(True)\n",
    "plt.legend()\n",
    "plt.savefig(\"MSFT_res.pdf\")\n",
    "plt.show()"
   ]
  }
 ],
 "metadata": {
  "kernelspec": {
   "display_name": "Python 3.9.12 ('base')",
   "language": "python",
   "name": "python3"
  },
  "language_info": {
   "codemirror_mode": {
    "name": "ipython",
    "version": 3
   },
   "file_extension": ".py",
   "mimetype": "text/x-python",
   "name": "python",
   "nbconvert_exporter": "python",
   "pygments_lexer": "ipython3",
   "version": "3.9.12"
  },
  "orig_nbformat": 4,
  "vscode": {
   "interpreter": {
    "hash": "597e2b791014bf3f975e304e1e72922cb6b9245e0453d34e2c818a7120fc527f"
   }
  }
 },
 "nbformat": 4,
 "nbformat_minor": 2
}
