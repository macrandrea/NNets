{
 "cells": [
  {
   "cell_type": "code",
   "execution_count": 1,
   "metadata": {},
   "outputs": [],
   "source": [
    "#imports\n",
    "import pandas as pd\n",
    "import numpy  as np\n",
    "import matplotlib.pyplot as plt\n",
    "import tensorflow as tf\n",
    "import keras\n",
    "from keras import Input, layers\n",
    "from keras.models import Model\n",
    "from keras.layers import Flatten, Dense, Dropout, Activation, Input, LSTM, Reshape, Conv2D, MaxPooling2D, LeakyReLU\n",
    "from keras.optimizers import Adam\n",
    "from keras.utils import np_utils\n",
    "import random\n",
    "from sklearn.metrics import mean_squared_error as mse\n",
    "from scipy import stats\n",
    "from sklearn.metrics import classification_report, accuracy_score\n",
    "seed_value = 2020\n",
    "random.seed(seed_value)\n",
    "np.random.seed(seed_value)\n",
    "tf.random.set_seed(seed_value)\n",
    "from sklearn.preprocessing import QuantileTransformer \n",
    "normalizer = QuantileTransformer(output_distribution='normal')"
   ]
  },
  {
   "cell_type": "code",
   "execution_count": 2,
   "metadata": {},
   "outputs": [],
   "source": [
    "#utils functions\n",
    "def midPrice(lob_data):\n",
    "    a=lob_data['AP1'].values.tolist()\n",
    "    b=lob_data['BP1'].values.tolist()\n",
    "    m=np.zeros(len(a))\n",
    "    for i in range(len(a)):\n",
    "        m[i]=(a[i]+b[i])/2\n",
    "    return m\n",
    "def upDown(m):\n",
    "    u_d=np.zeros(len(a))\n",
    "    for i in range(1,len(a)):\n",
    "        if m[i-1]>m[i]:#scende il prezzo\n",
    "            u_d[i-1]=-1\n",
    "        elif m[i-1]<m[i]:#sale il prezzo\n",
    "            u_d[i-1]=1\n",
    "        else:\n",
    "            u_d[i-1]=0\n",
    "    return u_d\n",
    "\n",
    "def ret(m):\n",
    "    r=np.zeros(len(m))\n",
    "    for i in range(1,len(m)):\n",
    "        r[i]=m[i-1]-m[i]\n",
    "    return r\n",
    "\n",
    "def deltaT(m):\n",
    "    N=0\n",
    "    d=np.zeros(len(m))\n",
    "    for i in range(1,len(m)):\n",
    "        d[i]=m[i-1]-m[i]\n",
    "        if [i]!=0:\n",
    "            N+=1\n",
    "    return int((2.34*10**7)/N)\n",
    "\n",
    "def doHk(deltT,k):\n",
    "    hk=np.zeros(k)\n",
    "    for i in range(k):\n",
    "        hk[i]=np.int16((1/5)*i*deltT)\n",
    "    return hk\n",
    "\n",
    "def retHk(m,hk):\n",
    "    ret=np.zeros(100)\n",
    "    for i,k in zip(range(len(m)),hk):\n",
    "        ret[i]=m[i+k]-m[i]\n",
    "    return ret\n",
    "\n",
    "def OF_1(ld):\n",
    "    of=np.zeros((len(ld),6))\n",
    "    for i,ii in zip(range(1,12,2),range(0,6,2)): #giro sui prezzi ask e volumi ask di conseguenza\n",
    "        for j in range(1,len(ld)): #giro sulle righe\n",
    "            #ask\n",
    "            if ld[j][i-1]>ld[j-1][i-1]: #p_t>p_t-1\n",
    "                of[j-1][ii]=-1*ld[j][i]\n",
    "            elif ld[j][i-1]<ld[j-1][i-1]: #p_t<p_t-1\n",
    "                of[j-1][ii]=ld[j][i]\n",
    "            elif ld[j][i-1]==ld[j-1][i-1]: #p_t=p_t-1\n",
    "                of[j-1][ii]=ld[j][i]-ld[j-1][i]\n",
    "    for w,ww in zip(range(3,12,4),range(1,7,2)):\n",
    "        for jj in range(1,len(ld)):    \n",
    "            #bid\n",
    "            if ld[jj][w-1]>ld[jj-1][w-1]: #p_t>p_t-1\n",
    "                of[jj-1][ww]=ld[jj][w]\n",
    "            elif ld[jj][w-1]<ld[jj-1][w-1]: #p_t<p_t-1\n",
    "                of[jj-1][ww]=-1*ld[jj][w]\n",
    "            elif ld[jj][w-1]==ld[jj-1][w-1]: #p_t=p_t-1\n",
    "                of[jj-1][ww]=ld[jj][w]-ld[jj-1][w]\n",
    "    return of\n",
    "    \n",
    "\n",
    "def taglia_e_cuci(v):\n",
    "    hi=np.quantile(v,0.005)\n",
    "    lo=np.quantile(v, 0.995)\n",
    "    b=np.clip(v, hi,lo)\n",
    "    z=stats.zscore(v)#normalizer.fit_transform((b.values.reshape(-1,1))).flatten().tolist()\n",
    "    return b\n",
    "\n",
    "\n",
    "def baSpread(x):\n",
    "    a=x['AP1'].values.tolist()\n",
    "    b=x['BP1'].values.tolist()\n",
    "    bas=np.empty(len(x))\n",
    "    for i in range(len(a)):\n",
    "       bas[i]=(a[i]-b[i])/(a[i]+b[i])*10**4\n",
    "    return bas"
   ]
  },
  {
   "cell_type": "code",
   "execution_count": 3,
   "metadata": {},
   "outputs": [],
   "source": [
    "#load data e fa midprice/diff cum\n",
    "lob_data=pd.read_csv('/Users/macri/Desktop/out_1.csv') #out_1  PROJECT/out_Nuovo\n",
    "lob_data.reset_index(drop=True,inplace=True)\n",
    "lob_data.drop(['index'], axis=1,inplace=True)#Unnamed: 0 \n",
    "C= int(len(lob_data)*0.05)\n",
    "b=lob_data.iloc[ :C].copy()\n",
    "ld=b.values.tolist()\n",
    "lob_data=b\n",
    "ld=lob_data.values.tolist()\n",
    "aa=OF_1(ld) #fa Order Flow\n",
    "bCols=np.ravel([['aOF_%d'%level, 'bOF_%d'%level] for level in [1,2,3]])\n",
    "of_data=pd.DataFrame(aa, columns=bCols)\n",
    "\n",
    "bas=pd.DataFrame(baSpread(lob_data),columns=['bas'])\n",
    "bas['diff']=bas.diff()\n",
    "of_data.dropna(inplace=True)\n"
   ]
  },
  {
   "cell_type": "code",
   "execution_count": 4,
   "metadata": {},
   "outputs": [],
   "source": [
    "bas.dropna(inplace=True)"
   ]
  },
  {
   "cell_type": "code",
   "execution_count": 5,
   "metadata": {},
   "outputs": [],
   "source": [
    "bas.reset_index(inplace=True)"
   ]
  },
  {
   "cell_type": "code",
   "execution_count": 6,
   "metadata": {},
   "outputs": [
    {
     "data": {
      "text/plain": [
       "array([0., 0., 0., ..., 1., 0., 0.])"
      ]
     },
     "execution_count": 6,
     "metadata": {},
     "output_type": "execute_result"
    }
   ],
   "source": [
    "ba=bas['diff'].to_numpy()\n",
    "lo=np.quantile(ba, 0.005)\n",
    "hi=np.quantile(ba, 0.995)\n",
    "\n",
    "\n",
    "\n",
    "vec = np.zeros(len(of_data))\n",
    "for i in range(len(bas)-1):\n",
    "    if (bas.loc[i+1,'diff']) > hi*(bas.loc[i,'diff']):\n",
    "        vec[i] = 1\n",
    "    elif  (bas.loc[i+1,'diff']) < lo*(bas.loc[i,'diff']):\n",
    "        vec[i] = -1\n",
    "vec"
   ]
  },
  {
   "cell_type": "code",
   "execution_count": 7,
   "metadata": {},
   "outputs": [],
   "source": [
    "#train_weight=0.8\n",
    "#vali_weight=0.1\n",
    "#\n",
    "#\n",
    "#train=of_data.iloc[:int(len(of_data)*train_weight)]\n",
    "#validation=of_data.iloc[int(len(of_data)*train_weight):int(len(of_data)*train_weight)+int(len(of_data)*vali_weight)]\n",
    "#test=of_data.iloc[int(len(of_data)*train_weight)+int(len(of_data)*vali_weight):]\n",
    "#n_train=taglia_e_cuci(train)\n",
    "#n_vali =taglia_e_cuci(validation)\n",
    "#n_test =taglia_e_cuci(test)\n",
    "#\n",
    "#for col in train.columns:#'aOF_1',\t'bOF_1',\t'aOF_2',\t'bOF_2',\t'aOF_3',\t'bOF_3']:\n",
    "#    mu = 0#float(train.loc[:,col].mean())\n",
    "#    sigma = float(train.loc[:,col].std())\n",
    "#    stdize_input = lambda x: (x - mu) / sigma\n",
    "#\n",
    "#std_train=n_train.apply(stdize_input)\n",
    "#std_vali =n_vali .apply(stdize_input)\n",
    "#std_test =n_test .apply(stdize_input)\n",
    "#\n",
    "#std_train['spread']=vec[:int(len(of_data)*train_weight)]\n",
    "#std_vali ['spread']=vec[int(len(of_data)*train_weight):int(len(of_data)*train_weight)+int(len(of_data)*vali_weight)]\n",
    "#std_test ['spread']=vec[int(len(of_data)*train_weight)+int(len(of_data)*vali_weight):]\n",
    "#\n",
    "#\n",
    "#\n",
    "#std_train.head(),std_vali .head(),std_test .head()"
   ]
  },
  {
   "cell_type": "code",
   "execution_count": 8,
   "metadata": {},
   "outputs": [],
   "source": [
    "#of_data.apply(lambda x: (x-x.mean())/x.std())"
   ]
  },
  {
   "cell_type": "code",
   "execution_count": 9,
   "metadata": {},
   "outputs": [],
   "source": [
    "# define method to format the data\n",
    "#def format_data(data, lag, dimension):\n",
    "#    '''\n",
    "#    lag: the order of the VAR process, or the lookback window in the sequential model\n",
    "#    dimension: number of variables in the time series\n",
    "#    '''\n",
    "#    data = data.values\n",
    "#    shape = data.shape\n",
    "#    X = np.zeros((shape[0]-lag, lag, dimension))\n",
    "#    Y = np.zeros((shape[0]-lag, 1)) # 1 for the number of forecasting horizons\n",
    "#    for i in range(shape[0]-lag):\n",
    "#        X[i] = data[i:i+lag, :dimension] \n",
    "#        Y[i] = data[i+lag-1, -1:] \n",
    "#    X = X.reshape(X.shape[0], lag, dimension, 1)\n",
    "#    \n",
    "#    Y += 1 # relabel as 0, 1, 2\n",
    "#    \n",
    "#    Y = np_utils.to_categorical(Y.astype(int))\n",
    "#    \n",
    "#    return X,Y"
   ]
  },
  {
   "cell_type": "code",
   "execution_count": 10,
   "metadata": {},
   "outputs": [],
   "source": [
    "#trainX, trainY = format_data(std_train, 100, len(std_train.columns)-1)\n",
    "#valiX, valiY   = format_data(std_vali,  100,  len(std_vali.columns)-1)\n",
    "#testX, testY   = format_data(std_test,  100,  len(std_test.columns)-1)\n",
    "#print(trainX.shape, trainY.shape)\n",
    "#print(valiX.shape, valiY.shape )\n",
    "#print(testX.shape, testY.shape )\n"
   ]
  },
  {
   "cell_type": "code",
   "execution_count": 11,
   "metadata": {},
   "outputs": [],
   "source": [
    "def prepare_x(data):\n",
    "    df1 = data[:, :6]\n",
    "    return np.array(df1)\n",
    "\n",
    "def get_label(data):\n",
    "    lob = data[:, -1:]\n",
    "    return lob\n",
    "\n",
    "def data_classification(X, Y, T):\n",
    "    [N, D] = X.shape\n",
    "    df = np.array(X)\n",
    "    dY = np.array(Y)\n",
    "    dataY = dY[T - 1:N]\n",
    "    dataX = np.zeros((N - T + 1, T, D))\n",
    "    for i in range(T, N + 1):\n",
    "        dataX[i - T] = df[i - T:i, :]\n",
    "    return dataX.reshape(-1,100,6,1), dataY\n",
    "\n",
    "def prepare_x_y(data, k, T):\n",
    "    x = prepare_x(data)\n",
    "    y = get_label(data)\n",
    "    x, y = data_classification(x, y, T=T)\n",
    "    #y = y[:,k]\n",
    "    y = np_utils.to_categorical(y, 3)\n",
    "    return x, y"
   ]
  },
  {
   "cell_type": "code",
   "execution_count": 12,
   "metadata": {},
   "outputs": [
    {
     "data": {
      "text/plain": [
       "(      aOF_1    bOF_1    aOF_2    bOF_2    aOF_3    bOF_3  spread\n",
       " 0 -0.406798  0.05394  0.05394  0.05394  0.05394  0.05394     0.0\n",
       " 1  0.053940  0.05394  0.05394  0.05394  0.05394  0.05394     0.0\n",
       " 2  0.053940  0.05394  0.05394  0.05394  0.05394  0.05394     0.0\n",
       " 3  0.053940  0.05394  0.05394  0.05394  0.05394  0.05394     0.0\n",
       " 4 -0.094207  0.05394  0.05394  0.05394  0.05394  0.05394     0.0,\n",
       "           aOF_1     bOF_1     aOF_2     bOF_2    aOF_3     bOF_3  spread\n",
       " 47185  0.053940 -0.094207 -0.094207  0.053940  0.05394  0.053940     1.0\n",
       " 47186  0.053940 -1.023090  1.130970 -0.874943  0.05394 -1.131237     0.0\n",
       " 47187  0.686528 -0.766795 -0.766795 -0.242355  1.13097 -0.094207     1.0\n",
       " 47188  0.471715 -0.094207 -0.094207  0.053940  0.05394  0.053940     1.0\n",
       " 47189 -0.107541 -0.578649  0.686528 -0.983090  0.05394 -1.731233     0.0,\n",
       "           aOF_1     bOF_1     aOF_2     bOF_2     aOF_3     bOF_3  spread\n",
       " 49806  0.053940 -0.405316  0.513196 -0.390502  0.053940 -1.279385     0.0\n",
       " 49807  0.170976  0.093940  0.093940 -0.094207  0.652454 -0.094207     1.0\n",
       " 49808 -0.544575  0.053940  0.053940  0.053940 -1.707530  0.053940     0.0\n",
       " 49809 -0.396428  0.646528 -0.538649  0.809490 -0.334206  0.498381     1.0\n",
       " 49810  0.013940  0.053940  0.053940  0.053940  0.053940  0.053940     1.0)"
      ]
     },
     "execution_count": 12,
     "metadata": {},
     "output_type": "execute_result"
    }
   ],
   "source": [
    "train_weight=0.9\n",
    "vali_weight=0.05\n",
    "\n",
    "\n",
    "train=of_data.iloc[:int(len(of_data)*train_weight)]\n",
    "validation=of_data.iloc[int(len(of_data)*train_weight):int(len(of_data)*train_weight)+int(len(of_data)*vali_weight)]\n",
    "test=of_data.iloc[int(len(of_data)*train_weight)+int(len(of_data)*vali_weight):]\n",
    "n_train=taglia_e_cuci(train)\n",
    "n_vali =taglia_e_cuci(validation)\n",
    "n_test =taglia_e_cuci(test)\n",
    "\n",
    "for col in train.columns:#'aOF_1',\t'bOF_1',\t'aOF_2',\t'bOF_2',\t'aOF_3',\t'bOF_3']:\n",
    "    mu = float(train.loc[:,col].mean())\n",
    "    sigma = float(train.loc[:,col].std())\n",
    "    stdize_input = lambda x: (x - mu) / sigma\n",
    "\n",
    "std_train=n_train.apply(stdize_input)\n",
    "std_vali =n_vali .apply(stdize_input)\n",
    "std_test =n_test .apply(stdize_input)\n",
    "\n",
    "std_train['spread']=vec[:int(len(of_data)*train_weight)]\n",
    "std_vali ['spread']=vec[int(len(of_data)*train_weight):int(len(of_data)*train_weight)+int(len(of_data)*vali_weight)]\n",
    "std_test ['spread']=vec[int(len(of_data)*train_weight)+int(len(of_data)*vali_weight):]\n",
    "\n",
    "\n",
    "\n",
    "std_train.head(),std_vali .head(),std_test .head()"
   ]
  },
  {
   "cell_type": "code",
   "execution_count": 13,
   "metadata": {},
   "outputs": [
    {
     "name": "stdout",
     "output_type": "stream",
     "text": [
      "(47086, 100, 6, 1) (47086, 3)\n",
      "(2522, 100, 6, 1) (2522, 3)\n",
      "(2523, 100, 6, 1) (2523, 3)\n"
     ]
    }
   ],
   "source": [
    "trainX, trainY = prepare_x_y(std_train.to_numpy(), 1   ,  100)\n",
    "valiX, valiY   = prepare_x_y(std_vali .to_numpy(), 1   ,  100)\n",
    "testX, testY   = prepare_x_y(std_test .to_numpy(), 1   ,  100)\n",
    "print(trainX.shape, trainY.shape)\n",
    "print(valiX.shape, valiY.shape )\n",
    "print(testX.shape, testY.shape )\n"
   ]
  },
  {
   "cell_type": "code",
   "execution_count": 14,
   "metadata": {},
   "outputs": [
    {
     "name": "stdout",
     "output_type": "stream",
     "text": [
      "Model: \"model\"\n",
      "__________________________________________________________________________________________________\n",
      " Layer (type)                   Output Shape         Param #     Connected to                     \n",
      "==================================================================================================\n",
      " input_1 (InputLayer)           [(None, 100, 6, 1)]  0           []                               \n",
      "                                                                                                  \n",
      " conv2d (Conv2D)                (None, 100, 3, 32)   96          ['input_1[0][0]']                \n",
      "                                                                                                  \n",
      " leaky_re_lu (LeakyReLU)        (None, 100, 3, 32)   0           ['conv2d[0][0]']                 \n",
      "                                                                                                  \n",
      " conv2d_1 (Conv2D)              (None, 100, 3, 32)   4128        ['leaky_re_lu[0][0]']            \n",
      "                                                                                                  \n",
      " leaky_re_lu_1 (LeakyReLU)      (None, 100, 3, 32)   0           ['conv2d_1[0][0]']               \n",
      "                                                                                                  \n",
      " conv2d_2 (Conv2D)              (None, 100, 3, 32)   4128        ['leaky_re_lu_1[0][0]']          \n",
      "                                                                                                  \n",
      " leaky_re_lu_2 (LeakyReLU)      (None, 100, 3, 32)   0           ['conv2d_2[0][0]']               \n",
      "                                                                                                  \n",
      " conv2d_3 (Conv2D)              (None, 100, 1, 16)   5136        ['leaky_re_lu_2[0][0]']          \n",
      "                                                                                                  \n",
      " leaky_re_lu_3 (LeakyReLU)      (None, 100, 1, 16)   0           ['conv2d_3[0][0]']               \n",
      "                                                                                                  \n",
      " conv2d_4 (Conv2D)              (None, 100, 1, 64)   1088        ['leaky_re_lu_3[0][0]']          \n",
      "                                                                                                  \n",
      " conv2d_6 (Conv2D)              (None, 100, 1, 64)   1088        ['leaky_re_lu_3[0][0]']          \n",
      "                                                                                                  \n",
      " leaky_re_lu_4 (LeakyReLU)      (None, 100, 1, 64)   0           ['conv2d_4[0][0]']               \n",
      "                                                                                                  \n",
      " leaky_re_lu_6 (LeakyReLU)      (None, 100, 1, 64)   0           ['conv2d_6[0][0]']               \n",
      "                                                                                                  \n",
      " max_pooling2d (MaxPooling2D)   (None, 100, 1, 16)   0           ['leaky_re_lu_3[0][0]']          \n",
      "                                                                                                  \n",
      " conv2d_5 (Conv2D)              (None, 100, 1, 64)   12352       ['leaky_re_lu_4[0][0]']          \n",
      "                                                                                                  \n",
      " conv2d_7 (Conv2D)              (None, 100, 1, 64)   20544       ['leaky_re_lu_6[0][0]']          \n",
      "                                                                                                  \n",
      " conv2d_8 (Conv2D)              (None, 100, 1, 64)   1088        ['max_pooling2d[0][0]']          \n",
      "                                                                                                  \n",
      " leaky_re_lu_5 (LeakyReLU)      (None, 100, 1, 64)   0           ['conv2d_5[0][0]']               \n",
      "                                                                                                  \n",
      " leaky_re_lu_7 (LeakyReLU)      (None, 100, 1, 64)   0           ['conv2d_7[0][0]']               \n",
      "                                                                                                  \n",
      " leaky_re_lu_8 (LeakyReLU)      (None, 100, 1, 64)   0           ['conv2d_8[0][0]']               \n",
      "                                                                                                  \n",
      " concatenate (Concatenate)      (None, 100, 1, 192)  0           ['leaky_re_lu_5[0][0]',          \n",
      "                                                                  'leaky_re_lu_7[0][0]',          \n",
      "                                                                  'leaky_re_lu_8[0][0]']          \n",
      "                                                                                                  \n",
      " reshape (Reshape)              (None, 100, 192)     0           ['concatenate[0][0]']            \n",
      "                                                                                                  \n",
      " dropout (Dropout)              (None, 100, 192)     0           ['reshape[0][0]']                \n",
      "                                                                                                  \n",
      " lstm (LSTM)                    (None, 64)           65792       ['dropout[0][0]']                \n",
      "                                                                                                  \n",
      " dense (Dense)                  (None, 3)            195         ['lstm[0][0]']                   \n",
      "                                                                                                  \n",
      "==================================================================================================\n",
      "Total params: 115,635\n",
      "Trainable params: 115,635\n",
      "Non-trainable params: 0\n",
      "__________________________________________________________________________________________________\n"
     ]
    }
   ],
   "source": [
    "\n",
    "def create_nn(T, NF,number_of_lstm):\n",
    "\n",
    "    input_lmd = tf.keras.Input(shape=(T, NF, 1))\n",
    "\n",
    "    conv_first1 = Conv2D(32, kernel_size=(1, 2), strides=(1, 2))(input_lmd)\n",
    "    conv_first1 = keras.layers.LeakyReLU(alpha=0.01)(conv_first1)\n",
    "    conv_first1 = Conv2D(32, (4, 1), padding='same')(conv_first1)\n",
    "    conv_first1 = keras.layers.LeakyReLU(alpha=0.01)(conv_first1)\n",
    "    conv_first1 = Conv2D(32, (4, 1), padding='same')(conv_first1)\n",
    "    conv_first1 = keras.layers.LeakyReLU(alpha=0.01)(conv_first1)\n",
    "    #\n",
    "    layer_x = layers.Conv2D(filters=16, kernel_size=(10,1),strides=(1,10), padding='same')(conv_first1)\n",
    "    layer_x = layers.LeakyReLU(alpha=0.01)(layer_x)\n",
    "    # inception\n",
    "    convsecond_1 = Conv2D(64, (1, 1), padding='same', strides=(1,1))(layer_x)\n",
    "    convsecond_1 = keras.layers.LeakyReLU(alpha=0.01)(convsecond_1)\n",
    "    convsecond_1 = Conv2D(64, (3, 1), padding='same', strides=(1,1))(convsecond_1)\n",
    "    convsecond_1 = keras.layers.LeakyReLU(alpha=0.01)(convsecond_1)\n",
    "\n",
    "    convsecond_2 = Conv2D(64, (1, 1), padding='same', strides=(1,1))(layer_x)\n",
    "    convsecond_2 = keras.layers.LeakyReLU(alpha=0.01)(convsecond_2)\n",
    "    convsecond_2 = Conv2D(64, (5, 1), padding='same', strides=(1,1))(convsecond_2)\n",
    "    convsecond_2 = keras.layers.LeakyReLU(alpha=0.01)(convsecond_2)\n",
    "\n",
    "    convsecond_3 = MaxPooling2D((3, 1), strides=(1, 1), padding='same')(layer_x)\n",
    "    convsecond_3 = Conv2D(64, (1, 1), padding='same', strides=(1,1))(convsecond_3)\n",
    "    convsecond_3 = keras.layers.LeakyReLU(alpha=0.01)(convsecond_3)\n",
    "    \n",
    "    convsecond_output = keras.layers.concatenate([convsecond_1, convsecond_2, convsecond_3], axis=3)\n",
    "    conv_reshape = Reshape((int(convsecond_output.shape[1]), int(convsecond_output.shape[3])))(convsecond_output)\n",
    "    conv_reshape = keras.layers.Dropout(0.3, noise_shape=(None, 1, int(conv_reshape.shape[2])))(conv_reshape, training=True)\n",
    "\n",
    "    # build the last LSTM layer\n",
    "    conv_lstm = LSTM(number_of_lstm)(conv_reshape)\n",
    "\n",
    "    # build the output layer\n",
    "    out = Dense(3, activation='softmax')(conv_lstm)\n",
    "    model = Model(inputs=input_lmd, outputs=out)\n",
    "    adam = keras.optimizers.Adam(learning_rate=0.0001)\n",
    "    model.compile(optimizer=adam, loss='categorical_crossentropy', metrics=['accuracy'])#\n",
    "\n",
    "    return model\n",
    "\n",
    "deeplob = create_nn(100, 6, 64)\n",
    "deeplob.summary()"
   ]
  },
  {
   "cell_type": "code",
   "execution_count": 15,
   "metadata": {},
   "outputs": [],
   "source": [
    "\n",
    "#early stopping: pazienza=5 e check val_loss\n",
    "callback=tf.keras.callbacks.EarlyStopping(\n",
    "    monitor='val_loss',\n",
    "    min_delta=0,\n",
    "    patience=5,\n",
    "    verbose=1,\n",
    "    mode='auto',\n",
    "    baseline=None,\n",
    "    restore_best_weights=False\n",
    ")\n"
   ]
  },
  {
   "cell_type": "code",
   "execution_count": 16,
   "metadata": {},
   "outputs": [
    {
     "name": "stdout",
     "output_type": "stream",
     "text": [
      "Epoch 1/50\n",
      "189/189 [==============================] - 43s 217ms/step - loss: 0.9838 - accuracy: 0.5093 - val_loss: 0.9456 - val_accuracy: 0.5135\n",
      "Epoch 2/50\n",
      "189/189 [==============================] - 42s 222ms/step - loss: 0.9045 - accuracy: 0.5694 - val_loss: 0.8363 - val_accuracy: 0.6487\n",
      "Epoch 3/50\n",
      "189/189 [==============================] - 42s 222ms/step - loss: 0.8256 - accuracy: 0.6473 - val_loss: 0.8176 - val_accuracy: 0.6435\n",
      "Epoch 4/50\n",
      "189/189 [==============================] - 43s 226ms/step - loss: 0.8168 - accuracy: 0.6489 - val_loss: 0.8085 - val_accuracy: 0.6542\n",
      "Epoch 5/50\n",
      "189/189 [==============================] - 43s 227ms/step - loss: 0.8107 - accuracy: 0.6509 - val_loss: 0.7995 - val_accuracy: 0.6542\n",
      "Epoch 6/50\n",
      "189/189 [==============================] - 46s 244ms/step - loss: 0.8055 - accuracy: 0.6522 - val_loss: 0.7974 - val_accuracy: 0.6550\n",
      "Epoch 7/50\n",
      "189/189 [==============================] - 56s 297ms/step - loss: 0.8013 - accuracy: 0.6532 - val_loss: 0.7890 - val_accuracy: 0.6570\n",
      "Epoch 8/50\n",
      "189/189 [==============================] - 44s 233ms/step - loss: 0.7976 - accuracy: 0.6539 - val_loss: 0.7926 - val_accuracy: 0.6558\n",
      "Epoch 9/50\n",
      "189/189 [==============================] - 49s 260ms/step - loss: 0.7928 - accuracy: 0.6555 - val_loss: 0.7910 - val_accuracy: 0.6499\n",
      "Epoch 10/50\n",
      "189/189 [==============================] - 48s 254ms/step - loss: 0.7900 - accuracy: 0.6582 - val_loss: 0.7812 - val_accuracy: 0.6610\n",
      "Epoch 11/50\n",
      "189/189 [==============================] - 43s 228ms/step - loss: 0.7858 - accuracy: 0.6593 - val_loss: 0.7816 - val_accuracy: 0.6602\n",
      "Epoch 12/50\n",
      "189/189 [==============================] - 43s 226ms/step - loss: 0.7832 - accuracy: 0.6601 - val_loss: 0.7772 - val_accuracy: 0.6622\n",
      "Epoch 13/50\n",
      "189/189 [==============================] - 47s 247ms/step - loss: 0.7789 - accuracy: 0.6625 - val_loss: 0.7750 - val_accuracy: 0.6602\n",
      "Epoch 14/50\n",
      "189/189 [==============================] - 49s 260ms/step - loss: 0.7755 - accuracy: 0.6631 - val_loss: 0.7733 - val_accuracy: 0.6618\n",
      "Epoch 15/50\n",
      "189/189 [==============================] - 55s 290ms/step - loss: 0.7736 - accuracy: 0.6641 - val_loss: 0.7718 - val_accuracy: 0.6638\n",
      "Epoch 16/50\n",
      "189/189 [==============================] - 55s 291ms/step - loss: 0.7710 - accuracy: 0.6657 - val_loss: 0.7722 - val_accuracy: 0.6562\n",
      "Epoch 17/50\n",
      "189/189 [==============================] - 55s 291ms/step - loss: 0.7699 - accuracy: 0.6652 - val_loss: 0.7703 - val_accuracy: 0.6614\n",
      "Epoch 18/50\n",
      "189/189 [==============================] - 54s 288ms/step - loss: 0.7680 - accuracy: 0.6668 - val_loss: 0.7661 - val_accuracy: 0.6685\n",
      "Epoch 19/50\n",
      "189/189 [==============================] - 54s 288ms/step - loss: 0.7646 - accuracy: 0.6687 - val_loss: 0.7654 - val_accuracy: 0.6669\n",
      "Epoch 20/50\n",
      "189/189 [==============================] - 50s 267ms/step - loss: 0.7641 - accuracy: 0.6671 - val_loss: 0.7696 - val_accuracy: 0.6594\n",
      "Epoch 21/50\n",
      "189/189 [==============================] - 45s 238ms/step - loss: 0.7636 - accuracy: 0.6692 - val_loss: 0.7617 - val_accuracy: 0.6689\n",
      "Epoch 22/50\n",
      "189/189 [==============================] - 50s 267ms/step - loss: 0.7615 - accuracy: 0.6683 - val_loss: 0.7624 - val_accuracy: 0.6634\n",
      "Epoch 23/50\n",
      "189/189 [==============================] - 54s 286ms/step - loss: 0.7604 - accuracy: 0.6688 - val_loss: 0.7646 - val_accuracy: 0.6642\n",
      "Epoch 24/50\n",
      "189/189 [==============================] - 52s 277ms/step - loss: 0.7584 - accuracy: 0.6689 - val_loss: 0.7602 - val_accuracy: 0.6618\n",
      "Epoch 25/50\n",
      "189/189 [==============================] - 55s 292ms/step - loss: 0.7579 - accuracy: 0.6708 - val_loss: 0.7606 - val_accuracy: 0.6646\n",
      "Epoch 26/50\n",
      "189/189 [==============================] - 43s 227ms/step - loss: 0.7566 - accuracy: 0.6701 - val_loss: 0.7629 - val_accuracy: 0.6646\n",
      "Epoch 27/50\n",
      "189/189 [==============================] - 50s 267ms/step - loss: 0.7552 - accuracy: 0.6706 - val_loss: 0.7599 - val_accuracy: 0.6586\n",
      "Epoch 28/50\n",
      "189/189 [==============================] - 43s 230ms/step - loss: 0.7554 - accuracy: 0.6721 - val_loss: 0.7628 - val_accuracy: 0.6657\n",
      "Epoch 29/50\n",
      "189/189 [==============================] - 51s 269ms/step - loss: 0.7551 - accuracy: 0.6714 - val_loss: 0.7568 - val_accuracy: 0.6642\n",
      "Epoch 30/50\n",
      "189/189 [==============================] - 56s 299ms/step - loss: 0.7529 - accuracy: 0.6724 - val_loss: 0.7567 - val_accuracy: 0.6673\n",
      "Epoch 31/50\n",
      "189/189 [==============================] - 55s 291ms/step - loss: 0.7527 - accuracy: 0.6705 - val_loss: 0.7584 - val_accuracy: 0.6642\n",
      "Epoch 32/50\n",
      "189/189 [==============================] - 42s 223ms/step - loss: 0.7510 - accuracy: 0.6717 - val_loss: 0.7556 - val_accuracy: 0.6661\n",
      "Epoch 33/50\n",
      "189/189 [==============================] - 42s 221ms/step - loss: 0.7507 - accuracy: 0.6721 - val_loss: 0.7648 - val_accuracy: 0.6677\n",
      "Epoch 34/50\n",
      "189/189 [==============================] - 49s 257ms/step - loss: 0.7498 - accuracy: 0.6742 - val_loss: 0.7556 - val_accuracy: 0.6669\n",
      "Epoch 35/50\n",
      "189/189 [==============================] - 55s 292ms/step - loss: 0.7484 - accuracy: 0.6739 - val_loss: 0.7526 - val_accuracy: 0.6661\n",
      "Epoch 36/50\n",
      "189/189 [==============================] - 55s 289ms/step - loss: 0.7481 - accuracy: 0.6732 - val_loss: 0.7591 - val_accuracy: 0.6515\n",
      "Epoch 37/50\n",
      "189/189 [==============================] - 54s 284ms/step - loss: 0.7482 - accuracy: 0.6737 - val_loss: 0.7554 - val_accuracy: 0.6622\n",
      "Epoch 38/50\n",
      "189/189 [==============================] - 51s 273ms/step - loss: 0.7466 - accuracy: 0.6754 - val_loss: 0.7524 - val_accuracy: 0.6646\n",
      "Epoch 39/50\n",
      "189/189 [==============================] - 53s 279ms/step - loss: 0.7456 - accuracy: 0.6748 - val_loss: 0.7578 - val_accuracy: 0.6646\n",
      "Epoch 40/50\n",
      "189/189 [==============================] - 48s 254ms/step - loss: 0.7457 - accuracy: 0.6739 - val_loss: 0.7519 - val_accuracy: 0.6653\n",
      "Epoch 41/50\n",
      "189/189 [==============================] - 47s 248ms/step - loss: 0.7447 - accuracy: 0.6745 - val_loss: 0.7553 - val_accuracy: 0.6574\n",
      "Epoch 42/50\n",
      "189/189 [==============================] - 53s 279ms/step - loss: 0.7435 - accuracy: 0.6767 - val_loss: 0.7507 - val_accuracy: 0.6634\n",
      "Epoch 43/50\n",
      "189/189 [==============================] - 52s 277ms/step - loss: 0.7429 - accuracy: 0.6764 - val_loss: 0.7577 - val_accuracy: 0.6578\n",
      "Epoch 44/50\n",
      "189/189 [==============================] - 53s 279ms/step - loss: 0.7420 - accuracy: 0.6759 - val_loss: 0.7566 - val_accuracy: 0.6646\n",
      "Epoch 45/50\n",
      "189/189 [==============================] - 53s 282ms/step - loss: 0.7417 - accuracy: 0.6762 - val_loss: 0.7506 - val_accuracy: 0.6598\n",
      "Epoch 46/50\n",
      "189/189 [==============================] - 45s 237ms/step - loss: 0.7407 - accuracy: 0.6770 - val_loss: 0.7690 - val_accuracy: 0.6570\n",
      "Epoch 47/50\n",
      "189/189 [==============================] - 41s 218ms/step - loss: 0.7404 - accuracy: 0.6773 - val_loss: 0.7496 - val_accuracy: 0.6673\n",
      "Epoch 48/50\n",
      "189/189 [==============================] - 44s 230ms/step - loss: 0.7394 - accuracy: 0.6770 - val_loss: 0.7508 - val_accuracy: 0.6634\n",
      "Epoch 49/50\n",
      "189/189 [==============================] - 46s 245ms/step - loss: 0.7384 - accuracy: 0.6780 - val_loss: 0.7468 - val_accuracy: 0.6697\n",
      "Epoch 50/50\n",
      "189/189 [==============================] - 54s 287ms/step - loss: 0.7377 - accuracy: 0.6778 - val_loss: 0.7495 - val_accuracy: 0.6653\n"
     ]
    }
   ],
   "source": [
    "simple=deeplob.fit(trainX, trainY, validation_data=(valiX, valiY), \n",
    "            epochs=50, batch_size=250,  callbacks=[callback])#"
   ]
  },
  {
   "cell_type": "code",
   "execution_count": 17,
   "metadata": {},
   "outputs": [
    {
     "data": {
      "image/png": "[encoded data removed]",
      "text/plain": [
       "<Figure size 432x288 with 1 Axes>"
      ]
     },
     "metadata": {
      "needs_background": "light"
     },
     "output_type": "display_data"
    }
   ],
   "source": [
    "#plotta le loss\n",
    "plt.plot(simple.history['loss'], label='train loss')\n",
    "plt.plot(simple.history['val_loss'], label='val loss')\n",
    "plt.legend()\n",
    "plt.title('Losses');"
   ]
  },
  {
   "cell_type": "code",
   "execution_count": 18,
   "metadata": {},
   "outputs": [
    {
     "name": "stdout",
     "output_type": "stream",
     "text": [
      "79/79 [==============================] - 2s 20ms/step\n"
     ]
    }
   ],
   "source": [
    "pred = deeplob.predict(testX)"
   ]
  },
  {
   "cell_type": "code",
   "execution_count": 22,
   "metadata": {},
   "outputs": [
    {
     "data": {
      "text/plain": [
       "array([[0.80234015, 0.02540486, 0.17225508],\n",
       "       [0.03037884, 0.75845295, 0.21116823],\n",
       "       [0.31248793, 0.5472824 , 0.14022964],\n",
       "       ...,\n",
       "       [0.28254262, 0.493271  , 0.2241864 ],\n",
       "       [0.676809  , 0.18047965, 0.14271128],\n",
       "       [0.7049633 , 0.10571222, 0.18932448]], dtype=float32)"
      ]
     },
     "execution_count": 22,
     "metadata": {},
     "output_type": "execute_result"
    }
   ],
   "source": [
    "pred"
   ]
  },
  {
   "cell_type": "code",
   "execution_count": 25,
   "metadata": {},
   "outputs": [],
   "source": [
    "predictions=np.round(pred)"
   ]
  },
  {
   "cell_type": "code",
   "execution_count": 28,
   "metadata": {},
   "outputs": [
    {
     "name": "stdout",
     "output_type": "stream",
     "text": [
      "accuracy_score: 0.6682520808561236\n",
      "              precision    recall  f1-score   support\n",
      "\n",
      "           0     0.6698    0.8961    0.7666      1347\n",
      "           1     0.6690    0.5164    0.5829       912\n",
      "           2     0.4706    0.0303    0.0569       264\n",
      "\n",
      "    accuracy                         0.6683      2523\n",
      "   macro avg     0.6031    0.4809    0.4688      2523\n",
      "weighted avg     0.6487    0.6683    0.6259      2523\n",
      "\n"
     ]
    }
   ],
   "source": [
    "print('accuracy_score:', accuracy_score(np.argmax(testY, axis=1), np.argmax(predictions, axis=1)))\n",
    "print(classification_report(np.argmax(testY, axis=1), np.argmax(predictions, axis=1), digits=4))"
   ]
  },
  {
   "cell_type": "code",
   "execution_count": 42,
   "metadata": {},
   "outputs": [
    {
     "data": {
      "image/png": "[encoded data removed]",
      "text/plain": [
       "<Figure size 432x288 with 2 Axes>"
      ]
     },
     "metadata": {
      "needs_background": "light"
     },
     "output_type": "display_data"
    }
   ],
   "source": [
    "from sklearn.metrics import confusion_matrix, ConfusionMatrixDisplay\n",
    "cm = confusion_matrix(testY.argmax(axis=1), predictions.argmax(axis=1),normalize='all')\n",
    "disp = ConfusionMatrixDisplay(confusion_matrix=cm,display_labels=['lower','stationary','higher'])\n",
    "disp.plot()\n",
    "disp.ax_.set_title(\"Confusion Matrix CNN/LSTM\");"
   ]
  },
  {
   "cell_type": "code",
   "execution_count": null,
   "metadata": {},
   "outputs": [
    {
     "ename": "NameError",
     "evalue": "name 'STOP' is not defined",
     "output_type": "error",
     "traceback": [
      "\u001b[1;31m---------------------------------------------------------------------------\u001b[0m",
      "\u001b[1;31mNameError\u001b[0m                                 Traceback (most recent call last)",
      "\u001b[1;32mc:\\Users\\macri\\Desktop\\PROJECT\\ModelloBidAsk_MSFT_v3.ipynb Cella 21\u001b[0m in \u001b[0;36m<cell line: 1>\u001b[1;34m()\u001b[0m\n\u001b[1;32m----> <a href='vscode-notebook-cell:/c%3A/Users/macri/Desktop/PROJECT/ModelloBidAsk_MSFT_v3.ipynb#X26sZmlsZQ%3D%3D?line=0'>1</a>\u001b[0m STOP\n",
      "\u001b[1;31mNameError\u001b[0m: name 'STOP' is not defined"
     ]
    }
   ],
   "source": [
    "STOP"
   ]
  },
  {
   "cell_type": "code",
   "execution_count": null,
   "metadata": {},
   "outputs": [
    {
     "name": "stderr",
     "output_type": "stream",
     "text": [
      "No artists with labels found to put in legend.  Note that artists whose label start with an underscore are ignored when legend() is called with no argument.\n"
     ]
    },
    {
     "data": {
      "image/png": "[encoded data removed]",
      "text/plain": [
       "<Figure size 432x288 with 1 Axes>"
      ]
     },
     "metadata": {
      "needs_background": "light"
     },
     "output_type": "display_data"
    }
   ],
   "source": [
    "plt.plot(testY)\n",
    "plt.legend();"
   ]
  },
  {
   "cell_type": "code",
   "execution_count": null,
   "metadata": {},
   "outputs": [],
   "source": [
    "predi=np.round(pred)"
   ]
  },
  {
   "cell_type": "code",
   "execution_count": null,
   "metadata": {},
   "outputs": [
    {
     "ename": "NameError",
     "evalue": "name 'STOOOOOOOOOP' is not defined",
     "output_type": "error",
     "traceback": [
      "\u001b[1;31m---------------------------------------------------------------------------\u001b[0m",
      "\u001b[1;31mNameError\u001b[0m                                 Traceback (most recent call last)",
      "\u001b[1;32mc:\\Users\\macri\\Desktop\\PROJECT\\ModelloBidAsk.ipynb Cella 23\u001b[0m in \u001b[0;36m<cell line: 1>\u001b[1;34m()\u001b[0m\n\u001b[1;32m----> <a href='vscode-notebook-cell:/c%3A/Users/macri/Desktop/PROJECT/ModelloBidAsk.ipynb#X30sZmlsZQ%3D%3D?line=0'>1</a>\u001b[0m STOOOOOOOOOP\n",
      "\u001b[1;31mNameError\u001b[0m: name 'STOOOOOOOOOP' is not defined"
     ]
    }
   ],
   "source": [
    "STOOOOOOOOOP"
   ]
  },
  {
   "cell_type": "code",
   "execution_count": null,
   "metadata": {},
   "outputs": [
    {
     "data": {
      "text/plain": [
       "array([[1., 0., 0.],\n",
       "       [0., 1., 0.],\n",
       "       [0., 1., 0.],\n",
       "       ...,\n",
       "       [0., 1., 0.],\n",
       "       [0., 1., 0.],\n",
       "       [0., 1., 0.]], dtype=float32)"
      ]
     },
     "execution_count": 41,
     "metadata": {},
     "output_type": "execute_result"
    }
   ],
   "source": [
    "np.round(pred)"
   ]
  },
  {
   "cell_type": "code",
   "execution_count": null,
   "metadata": {},
   "outputs": [],
   "source": [
    "#mu=of_data[]\n",
    "\n",
    "#data=of_data.apply(lambda x: (x-x.mean())/x.std())"
   ]
  },
  {
   "cell_type": "code",
   "execution_count": null,
   "metadata": {},
   "outputs": [],
   "source": [
    "#for col in of_data['train'].columns[:-1]:"
   ]
  },
  {
   "cell_type": "code",
   "execution_count": null,
   "metadata": {},
   "outputs": [
    {
     "data": {
      "image/png": "[encoded data removed]",
      "text/plain": [
       "<Figure size 432x288 with 1 Axes>"
      ]
     },
     "metadata": {
      "needs_background": "light"
     },
     "output_type": "display_data"
    }
   ],
   "source": [
    "#ba=bas.to_numpy()\n",
    "#lo=np.quantile(ba, 0.005)# -3.2128094248855597\n",
    "#hi=np.quantile(ba, 0.995)#0.9155159458819948\n",
    "#hot=np.zeros(len(ba))\n",
    "#for i in range(len(ba)):\n",
    "#    if ba[i]<lo:\n",
    "#        hot[i]=-1\n",
    "#    elif ba[i]>hi:\n",
    "#        hot[i]=1\n",
    "#plt.plot(hot);"
   ]
  },
  {
   "cell_type": "code",
   "execution_count": null,
   "metadata": {},
   "outputs": [
    {
     "data": {
      "text/plain": [
       "numpy.ndarray"
      ]
     },
     "execution_count": 17,
     "metadata": {},
     "output_type": "execute_result"
    }
   ],
   "source": [
    "#type(hot)"
   ]
  },
  {
   "cell_type": "code",
   "execution_count": null,
   "metadata": {},
   "outputs": [
    {
     "data": {
      "text/plain": [
       "array([[1., 0., 0.],\n",
       "       [1., 0., 0.],\n",
       "       [1., 0., 0.],\n",
       "       ...,\n",
       "       [1., 0., 0.],\n",
       "       [1., 0., 0.],\n",
       "       [1., 0., 0.]], dtype=float32)"
      ]
     },
     "execution_count": 18,
     "metadata": {},
     "output_type": "execute_result"
    }
   ],
   "source": [
    "#y=np_utils.to_categorical(hot,3)\n",
    "#y"
   ]
  },
  {
   "cell_type": "code",
   "execution_count": null,
   "metadata": {},
   "outputs": [
    {
     "data": {
      "text/plain": [
       "array([[0., 1., 0.],\n",
       "       [0., 1., 0.],\n",
       "       [0., 1., 0.],\n",
       "       ...,\n",
       "       [0., 1., 0.],\n",
       "       [0., 1., 0.],\n",
       "       [0., 1., 0.]], dtype=float32)"
      ]
     },
     "execution_count": 19,
     "metadata": {},
     "output_type": "execute_result"
    }
   ],
   "source": [
    "#hot+=1\n",
    "#y=np_utils.to_categorical(hot,3)\n",
    "#y"
   ]
  },
  {
   "cell_type": "code",
   "execution_count": null,
   "metadata": {},
   "outputs": [],
   "source": []
  },
  {
   "cell_type": "code",
   "execution_count": null,
   "metadata": {},
   "outputs": [],
   "source": [
    "#of_data.apply(lambda x: (x-x.mean())/x.std())"
   ]
  },
  {
   "cell_type": "code",
   "execution_count": null,
   "metadata": {},
   "outputs": [],
   "source": [
    "#def prepare_x(data):\n",
    "#    df1 = data[:6, :]\n",
    "#    return np.array(df1)\n",
    "#\n",
    "#def get_label(data):\n",
    "#    lob = data[-1:, :]\n",
    "#    return lob\n",
    "#\n",
    "#def data_classification(X, Y, T):\n",
    "#    [N, D] = X.shape\n",
    "#    df = np.array(X)\n",
    "#    dY = np.array(Y)\n",
    "#    dataY = dY[T - 1:N]\n",
    "#    dataX = np.zeros((N - T + 1, T, D))\n",
    "#    for i in range(T, N + 1):\n",
    "#        dataX[i - T] = df[i - T:i, :]\n",
    "#    return dataX.reshape(dataX.shape + (1,)), dataY\n",
    "#\n",
    "#def prepare_x_y(data, k, T):\n",
    "#    x = prepare_x(data)\n",
    "#    y = get_label(data)\n",
    "#    x, y = data_classification(x, y, T=T)\n",
    "#    y = y[:,k] - 1\n",
    "#    y = np_utils.to_categorical(y, 3)\n",
    "#    return x, y"
   ]
  },
  {
   "cell_type": "code",
   "execution_count": null,
   "metadata": {},
   "outputs": [],
   "source": [
    "#hot += 1\n",
    "#of_data['spread']=hot\n"
   ]
  },
  {
   "cell_type": "code",
   "execution_count": null,
   "metadata": {},
   "outputs": [
    {
     "ename": "KeyError",
     "evalue": "\"['bas'] not found in axis\"",
     "output_type": "error",
     "traceback": [
      "\u001b[1;31m---------------------------------------------------------------------------\u001b[0m",
      "\u001b[1;31mKeyError\u001b[0m                                  Traceback (most recent call last)",
      "\u001b[1;32mc:\\Users\\macri\\Desktop\\PROJECT\\ModelloBidAsk.ipynb Cella 26\u001b[0m in \u001b[0;36m<cell line: 1>\u001b[1;34m()\u001b[0m\n\u001b[1;32m----> <a href='vscode-notebook-cell:/c%3A/Users/macri/Desktop/PROJECT/ModelloBidAsk.ipynb#X15sZmlsZQ%3D%3D?line=0'>1</a>\u001b[0m data\u001b[39m=\u001b[39mof_data\u001b[39m.\u001b[39;49mdrop([\u001b[39m'\u001b[39;49m\u001b[39mbas\u001b[39;49m\u001b[39m'\u001b[39;49m],axis\u001b[39m=\u001b[39;49m\u001b[39m1\u001b[39;49m)\n",
      "File \u001b[1;32mc:\\Users\\macri\\anaconda3\\lib\\site-packages\\pandas\\util\\_decorators.py:311\u001b[0m, in \u001b[0;36mdeprecate_nonkeyword_arguments.<locals>.decorate.<locals>.wrapper\u001b[1;34m(*args, **kwargs)\u001b[0m\n\u001b[0;32m    305\u001b[0m \u001b[39mif\u001b[39;00m \u001b[39mlen\u001b[39m(args) \u001b[39m>\u001b[39m num_allow_args:\n\u001b[0;32m    306\u001b[0m     warnings\u001b[39m.\u001b[39mwarn(\n\u001b[0;32m    307\u001b[0m         msg\u001b[39m.\u001b[39mformat(arguments\u001b[39m=\u001b[39marguments),\n\u001b[0;32m    308\u001b[0m         \u001b[39mFutureWarning\u001b[39;00m,\n\u001b[0;32m    309\u001b[0m         stacklevel\u001b[39m=\u001b[39mstacklevel,\n\u001b[0;32m    310\u001b[0m     )\n\u001b[1;32m--> 311\u001b[0m \u001b[39mreturn\u001b[39;00m func(\u001b[39m*\u001b[39margs, \u001b[39m*\u001b[39m\u001b[39m*\u001b[39mkwargs)\n",
      "File \u001b[1;32mc:\\Users\\macri\\anaconda3\\lib\\site-packages\\pandas\\core\\frame.py:4954\u001b[0m, in \u001b[0;36mDataFrame.drop\u001b[1;34m(self, labels, axis, index, columns, level, inplace, errors)\u001b[0m\n\u001b[0;32m   4806\u001b[0m \u001b[39m@deprecate_nonkeyword_arguments\u001b[39m(version\u001b[39m=\u001b[39m\u001b[39mNone\u001b[39;00m, allowed_args\u001b[39m=\u001b[39m[\u001b[39m\"\u001b[39m\u001b[39mself\u001b[39m\u001b[39m\"\u001b[39m, \u001b[39m\"\u001b[39m\u001b[39mlabels\u001b[39m\u001b[39m\"\u001b[39m])\n\u001b[0;32m   4807\u001b[0m \u001b[39mdef\u001b[39;00m \u001b[39mdrop\u001b[39m(\n\u001b[0;32m   4808\u001b[0m     \u001b[39mself\u001b[39m,\n\u001b[1;32m   (...)\u001b[0m\n\u001b[0;32m   4815\u001b[0m     errors: \u001b[39mstr\u001b[39m \u001b[39m=\u001b[39m \u001b[39m\"\u001b[39m\u001b[39mraise\u001b[39m\u001b[39m\"\u001b[39m,\n\u001b[0;32m   4816\u001b[0m ):\n\u001b[0;32m   4817\u001b[0m     \u001b[39m\"\"\"\u001b[39;00m\n\u001b[0;32m   4818\u001b[0m \u001b[39m    Drop specified labels from rows or columns.\u001b[39;00m\n\u001b[0;32m   4819\u001b[0m \n\u001b[1;32m   (...)\u001b[0m\n\u001b[0;32m   4952\u001b[0m \u001b[39m            weight  1.0     0.8\u001b[39;00m\n\u001b[0;32m   4953\u001b[0m \u001b[39m    \"\"\"\u001b[39;00m\n\u001b[1;32m-> 4954\u001b[0m     \u001b[39mreturn\u001b[39;00m \u001b[39msuper\u001b[39;49m()\u001b[39m.\u001b[39;49mdrop(\n\u001b[0;32m   4955\u001b[0m         labels\u001b[39m=\u001b[39;49mlabels,\n\u001b[0;32m   4956\u001b[0m         axis\u001b[39m=\u001b[39;49maxis,\n\u001b[0;32m   4957\u001b[0m         index\u001b[39m=\u001b[39;49mindex,\n\u001b[0;32m   4958\u001b[0m         columns\u001b[39m=\u001b[39;49mcolumns,\n\u001b[0;32m   4959\u001b[0m         level\u001b[39m=\u001b[39;49mlevel,\n\u001b[0;32m   4960\u001b[0m         inplace\u001b[39m=\u001b[39;49minplace,\n\u001b[0;32m   4961\u001b[0m         errors\u001b[39m=\u001b[39;49merrors,\n\u001b[0;32m   4962\u001b[0m     )\n",
      "File \u001b[1;32mc:\\Users\\macri\\anaconda3\\lib\\site-packages\\pandas\\core\\generic.py:4267\u001b[0m, in \u001b[0;36mNDFrame.drop\u001b[1;34m(self, labels, axis, index, columns, level, inplace, errors)\u001b[0m\n\u001b[0;32m   4265\u001b[0m \u001b[39mfor\u001b[39;00m axis, labels \u001b[39min\u001b[39;00m axes\u001b[39m.\u001b[39mitems():\n\u001b[0;32m   4266\u001b[0m     \u001b[39mif\u001b[39;00m labels \u001b[39mis\u001b[39;00m \u001b[39mnot\u001b[39;00m \u001b[39mNone\u001b[39;00m:\n\u001b[1;32m-> 4267\u001b[0m         obj \u001b[39m=\u001b[39m obj\u001b[39m.\u001b[39;49m_drop_axis(labels, axis, level\u001b[39m=\u001b[39;49mlevel, errors\u001b[39m=\u001b[39;49merrors)\n\u001b[0;32m   4269\u001b[0m \u001b[39mif\u001b[39;00m inplace:\n\u001b[0;32m   4270\u001b[0m     \u001b[39mself\u001b[39m\u001b[39m.\u001b[39m_update_inplace(obj)\n",
      "File \u001b[1;32mc:\\Users\\macri\\anaconda3\\lib\\site-packages\\pandas\\core\\generic.py:4311\u001b[0m, in \u001b[0;36mNDFrame._drop_axis\u001b[1;34m(self, labels, axis, level, errors, consolidate, only_slice)\u001b[0m\n\u001b[0;32m   4309\u001b[0m         new_axis \u001b[39m=\u001b[39m axis\u001b[39m.\u001b[39mdrop(labels, level\u001b[39m=\u001b[39mlevel, errors\u001b[39m=\u001b[39merrors)\n\u001b[0;32m   4310\u001b[0m     \u001b[39melse\u001b[39;00m:\n\u001b[1;32m-> 4311\u001b[0m         new_axis \u001b[39m=\u001b[39m axis\u001b[39m.\u001b[39;49mdrop(labels, errors\u001b[39m=\u001b[39;49merrors)\n\u001b[0;32m   4312\u001b[0m     indexer \u001b[39m=\u001b[39m axis\u001b[39m.\u001b[39mget_indexer(new_axis)\n\u001b[0;32m   4314\u001b[0m \u001b[39m# Case for non-unique axis\u001b[39;00m\n\u001b[0;32m   4315\u001b[0m \u001b[39melse\u001b[39;00m:\n",
      "File \u001b[1;32mc:\\Users\\macri\\anaconda3\\lib\\site-packages\\pandas\\core\\indexes\\base.py:6644\u001b[0m, in \u001b[0;36mIndex.drop\u001b[1;34m(self, labels, errors)\u001b[0m\n\u001b[0;32m   6642\u001b[0m \u001b[39mif\u001b[39;00m mask\u001b[39m.\u001b[39many():\n\u001b[0;32m   6643\u001b[0m     \u001b[39mif\u001b[39;00m errors \u001b[39m!=\u001b[39m \u001b[39m\"\u001b[39m\u001b[39mignore\u001b[39m\u001b[39m\"\u001b[39m:\n\u001b[1;32m-> 6644\u001b[0m         \u001b[39mraise\u001b[39;00m \u001b[39mKeyError\u001b[39;00m(\u001b[39mf\u001b[39m\u001b[39m\"\u001b[39m\u001b[39m{\u001b[39;00m\u001b[39mlist\u001b[39m(labels[mask])\u001b[39m}\u001b[39;00m\u001b[39m not found in axis\u001b[39m\u001b[39m\"\u001b[39m)\n\u001b[0;32m   6645\u001b[0m     indexer \u001b[39m=\u001b[39m indexer[\u001b[39m~\u001b[39mmask]\n\u001b[0;32m   6646\u001b[0m \u001b[39mreturn\u001b[39;00m \u001b[39mself\u001b[39m\u001b[39m.\u001b[39mdelete(indexer)\n",
      "\u001b[1;31mKeyError\u001b[0m: \"['bas'] not found in axis\""
     ]
    }
   ],
   "source": [
    "#data=of_data.drop(['bas'],axis=1)"
   ]
  },
  {
   "cell_type": "code",
   "execution_count": null,
   "metadata": {},
   "outputs": [
    {
     "ename": "InvalidIndexError",
     "evalue": "(slice(None, 6, None), slice(None, None, None))",
     "output_type": "error",
     "traceback": [
      "\u001b[1;31m---------------------------------------------------------------------------\u001b[0m",
      "\u001b[1;31mTypeError\u001b[0m                                 Traceback (most recent call last)",
      "File \u001b[1;32mc:\\Users\\macri\\anaconda3\\lib\\site-packages\\pandas\\core\\indexes\\base.py:3621\u001b[0m, in \u001b[0;36mIndex.get_loc\u001b[1;34m(self, key, method, tolerance)\u001b[0m\n\u001b[0;32m   3620\u001b[0m \u001b[39mtry\u001b[39;00m:\n\u001b[1;32m-> 3621\u001b[0m     \u001b[39mreturn\u001b[39;00m \u001b[39mself\u001b[39;49m\u001b[39m.\u001b[39;49m_engine\u001b[39m.\u001b[39;49mget_loc(casted_key)\n\u001b[0;32m   3622\u001b[0m \u001b[39mexcept\u001b[39;00m \u001b[39mKeyError\u001b[39;00m \u001b[39mas\u001b[39;00m err:\n",
      "File \u001b[1;32mc:\\Users\\macri\\anaconda3\\lib\\site-packages\\pandas\\_libs\\index.pyx:136\u001b[0m, in \u001b[0;36mpandas._libs.index.IndexEngine.get_loc\u001b[1;34m()\u001b[0m\n",
      "File \u001b[1;32mc:\\Users\\macri\\anaconda3\\lib\\site-packages\\pandas\\_libs\\index.pyx:142\u001b[0m, in \u001b[0;36mpandas._libs.index.IndexEngine.get_loc\u001b[1;34m()\u001b[0m\n",
      "\u001b[1;31mTypeError\u001b[0m: '(slice(None, 6, None), slice(None, None, None))' is an invalid key",
      "\nDuring handling of the above exception, another exception occurred:\n",
      "\u001b[1;31mInvalidIndexError\u001b[0m                         Traceback (most recent call last)",
      "\u001b[1;32mc:\\Users\\macri\\Desktop\\PROJECT\\ModelloBidAsk.ipynb Cella 13\u001b[0m in \u001b[0;36m<cell line: 1>\u001b[1;34m()\u001b[0m\n\u001b[1;32m----> <a href='vscode-notebook-cell:/c%3A/Users/macri/Desktop/PROJECT/ModelloBidAsk.ipynb#X40sZmlsZQ%3D%3D?line=0'>1</a>\u001b[0m prepare_x_y(data,\u001b[39m1\u001b[39;49m,\u001b[39m100\u001b[39;49m)\n",
      "\u001b[1;32mc:\\Users\\macri\\Desktop\\PROJECT\\ModelloBidAsk.ipynb Cella 13\u001b[0m in \u001b[0;36mprepare_x_y\u001b[1;34m(data, k, T)\u001b[0m\n\u001b[0;32m     <a href='vscode-notebook-cell:/c%3A/Users/macri/Desktop/PROJECT/ModelloBidAsk.ipynb#X40sZmlsZQ%3D%3D?line=18'>19</a>\u001b[0m \u001b[39mdef\u001b[39;00m \u001b[39mprepare_x_y\u001b[39m(data, k, T):\n\u001b[1;32m---> <a href='vscode-notebook-cell:/c%3A/Users/macri/Desktop/PROJECT/ModelloBidAsk.ipynb#X40sZmlsZQ%3D%3D?line=19'>20</a>\u001b[0m     x \u001b[39m=\u001b[39m prepare_x(data)\n\u001b[0;32m     <a href='vscode-notebook-cell:/c%3A/Users/macri/Desktop/PROJECT/ModelloBidAsk.ipynb#X40sZmlsZQ%3D%3D?line=20'>21</a>\u001b[0m     y \u001b[39m=\u001b[39m get_label(data)\n\u001b[0;32m     <a href='vscode-notebook-cell:/c%3A/Users/macri/Desktop/PROJECT/ModelloBidAsk.ipynb#X40sZmlsZQ%3D%3D?line=21'>22</a>\u001b[0m     x, y \u001b[39m=\u001b[39m data_classification(x, y, T\u001b[39m=\u001b[39mT)\n",
      "\u001b[1;32mc:\\Users\\macri\\Desktop\\PROJECT\\ModelloBidAsk.ipynb Cella 13\u001b[0m in \u001b[0;36mprepare_x\u001b[1;34m(data)\u001b[0m\n\u001b[0;32m      <a href='vscode-notebook-cell:/c%3A/Users/macri/Desktop/PROJECT/ModelloBidAsk.ipynb#X40sZmlsZQ%3D%3D?line=0'>1</a>\u001b[0m \u001b[39mdef\u001b[39;00m \u001b[39mprepare_x\u001b[39m(data):\n\u001b[1;32m----> <a href='vscode-notebook-cell:/c%3A/Users/macri/Desktop/PROJECT/ModelloBidAsk.ipynb#X40sZmlsZQ%3D%3D?line=1'>2</a>\u001b[0m     df1 \u001b[39m=\u001b[39m data[:\u001b[39m6\u001b[39;49m, :]\n\u001b[0;32m      <a href='vscode-notebook-cell:/c%3A/Users/macri/Desktop/PROJECT/ModelloBidAsk.ipynb#X40sZmlsZQ%3D%3D?line=2'>3</a>\u001b[0m     \u001b[39mreturn\u001b[39;00m np\u001b[39m.\u001b[39marray(df1)\n",
      "File \u001b[1;32mc:\\Users\\macri\\anaconda3\\lib\\site-packages\\pandas\\core\\frame.py:3505\u001b[0m, in \u001b[0;36mDataFrame.__getitem__\u001b[1;34m(self, key)\u001b[0m\n\u001b[0;32m   3503\u001b[0m \u001b[39mif\u001b[39;00m \u001b[39mself\u001b[39m\u001b[39m.\u001b[39mcolumns\u001b[39m.\u001b[39mnlevels \u001b[39m>\u001b[39m \u001b[39m1\u001b[39m:\n\u001b[0;32m   3504\u001b[0m     \u001b[39mreturn\u001b[39;00m \u001b[39mself\u001b[39m\u001b[39m.\u001b[39m_getitem_multilevel(key)\n\u001b[1;32m-> 3505\u001b[0m indexer \u001b[39m=\u001b[39m \u001b[39mself\u001b[39;49m\u001b[39m.\u001b[39;49mcolumns\u001b[39m.\u001b[39;49mget_loc(key)\n\u001b[0;32m   3506\u001b[0m \u001b[39mif\u001b[39;00m is_integer(indexer):\n\u001b[0;32m   3507\u001b[0m     indexer \u001b[39m=\u001b[39m [indexer]\n",
      "File \u001b[1;32mc:\\Users\\macri\\anaconda3\\lib\\site-packages\\pandas\\core\\indexes\\base.py:3628\u001b[0m, in \u001b[0;36mIndex.get_loc\u001b[1;34m(self, key, method, tolerance)\u001b[0m\n\u001b[0;32m   3623\u001b[0m         \u001b[39mraise\u001b[39;00m \u001b[39mKeyError\u001b[39;00m(key) \u001b[39mfrom\u001b[39;00m \u001b[39merr\u001b[39;00m\n\u001b[0;32m   3624\u001b[0m     \u001b[39mexcept\u001b[39;00m \u001b[39mTypeError\u001b[39;00m:\n\u001b[0;32m   3625\u001b[0m         \u001b[39m# If we have a listlike key, _check_indexing_error will raise\u001b[39;00m\n\u001b[0;32m   3626\u001b[0m         \u001b[39m#  InvalidIndexError. Otherwise we fall through and re-raise\u001b[39;00m\n\u001b[0;32m   3627\u001b[0m         \u001b[39m#  the TypeError.\u001b[39;00m\n\u001b[1;32m-> 3628\u001b[0m         \u001b[39mself\u001b[39;49m\u001b[39m.\u001b[39;49m_check_indexing_error(key)\n\u001b[0;32m   3629\u001b[0m         \u001b[39mraise\u001b[39;00m\n\u001b[0;32m   3631\u001b[0m \u001b[39m# GH#42269\u001b[39;00m\n",
      "File \u001b[1;32mc:\\Users\\macri\\anaconda3\\lib\\site-packages\\pandas\\core\\indexes\\base.py:5637\u001b[0m, in \u001b[0;36mIndex._check_indexing_error\u001b[1;34m(self, key)\u001b[0m\n\u001b[0;32m   5633\u001b[0m \u001b[39mdef\u001b[39;00m \u001b[39m_check_indexing_error\u001b[39m(\u001b[39mself\u001b[39m, key):\n\u001b[0;32m   5634\u001b[0m     \u001b[39mif\u001b[39;00m \u001b[39mnot\u001b[39;00m is_scalar(key):\n\u001b[0;32m   5635\u001b[0m         \u001b[39m# if key is not a scalar, directly raise an error (the code below\u001b[39;00m\n\u001b[0;32m   5636\u001b[0m         \u001b[39m# would convert to numpy arrays and raise later any way) - GH29926\u001b[39;00m\n\u001b[1;32m-> 5637\u001b[0m         \u001b[39mraise\u001b[39;00m InvalidIndexError(key)\n",
      "\u001b[1;31mInvalidIndexError\u001b[0m: (slice(None, 6, None), slice(None, None, None))"
     ]
    }
   ],
   "source": [
    "#prepare_x_y(data,1,100)"
   ]
  },
  {
   "cell_type": "code",
   "execution_count": null,
   "metadata": {},
   "outputs": [
    {
     "data": {
      "text/plain": [
       "((10000, 3), (10000, 100, 6, 1))"
      ]
     },
     "execution_count": 9,
     "metadata": {},
     "output_type": "execute_result"
    }
   ],
   "source": [
    "##hot += 1 #0=lo,1=stable,#2=hi\n",
    "#y=np_utils.to_categorical(hot[:10000],3)\n",
    "#offlo=of_data.apply(lambda x: (x-x.mean())/x.std())\n",
    "#x_vec=offlo[['aOF_1','bOF_1','aOF_2','bOF_2','aOF_3','bOF_3']][:1000000]\n",
    "#x=x_vec.to_numpy()\n",
    "#x_vecc=x.reshape(-1,100, 6,1)\n",
    "#y.shape, x_vecc.shape"
   ]
  },
  {
   "cell_type": "code",
   "execution_count": null,
   "metadata": {},
   "outputs": [
    {
     "data": {
      "text/plain": [
       "array([[0., 1., 0.],\n",
       "       [0., 1., 0.],\n",
       "       [0., 1., 0.],\n",
       "       ...,\n",
       "       [0., 1., 0.],\n",
       "       [0., 1., 0.],\n",
       "       [0., 1., 0.]], dtype=float32)"
      ]
     },
     "execution_count": 19,
     "metadata": {},
     "output_type": "execute_result"
    }
   ],
   "source": [
    "#y\n"
   ]
  },
  {
   "cell_type": "code",
   "execution_count": null,
   "metadata": {},
   "outputs": [
    {
     "name": "stdout",
     "output_type": "stream",
     "text": [
      "(9900, 100, 6, 1) (9900, 3)\n",
      "(99, 100, 6, 1) (99, 3)\n",
      "(1, 100, 6, 1) (1, 3)\n"
     ]
    }
   ],
   "source": [
    "##fa supervised dataset: train, val e test\n",
    "#l=len(x_vecc)\n",
    "#a=int(9900)\n",
    "#b=int(99)\n",
    "#sd= np.std(x_vecc[:a])\n",
    "#x_vecc_train=x_vecc[:a]\n",
    "#r_train     =y[:a]\n",
    "#x_vecc_val  =x_vecc[a:a+b]\n",
    "#r_val       =y[a:a+b]\n",
    "#x_vecc_test =x_vecc[a+b:a+b+1]\n",
    "#r_test      =y[a+b:a+b+1]\n",
    "#print(x_vecc_train.shape, r_train.shape)\n",
    "#print(x_vecc_val.shape,   r_val.shape)\n",
    "#print(x_vecc_test.shape,  r_test.shape)"
   ]
  },
  {
   "cell_type": "code",
   "execution_count": null,
   "metadata": {},
   "outputs": [
    {
     "data": {
      "text/plain": [
       "array([[0., 1., 0.]], dtype=float32)"
      ]
     },
     "execution_count": 11,
     "metadata": {},
     "output_type": "execute_result"
    }
   ],
   "source": [
    "#r_test"
   ]
  },
  {
   "cell_type": "code",
   "execution_count": null,
   "metadata": {},
   "outputs": [
    {
     "name": "stdout",
     "output_type": "stream",
     "text": [
      "Model: \"model\"\n",
      "__________________________________________________________________________________________________\n",
      " Layer (type)                   Output Shape         Param #     Connected to                     \n",
      "==================================================================================================\n",
      " input_1 (InputLayer)           [(None, 100, 6, 1)]  0           []                               \n",
      "                                                                                                  \n",
      " conv2d (Conv2D)                (None, 100, 3, 32)   96          ['input_1[0][0]']                \n",
      "                                                                                                  \n",
      " leaky_re_lu (LeakyReLU)        (None, 100, 3, 32)   0           ['conv2d[0][0]']                 \n",
      "                                                                                                  \n",
      " conv2d_1 (Conv2D)              (None, 100, 3, 32)   4128        ['leaky_re_lu[0][0]']            \n",
      "                                                                                                  \n",
      " leaky_re_lu_1 (LeakyReLU)      (None, 100, 3, 32)   0           ['conv2d_1[0][0]']               \n",
      "                                                                                                  \n",
      " conv2d_2 (Conv2D)              (None, 100, 3, 32)   4128        ['leaky_re_lu_1[0][0]']          \n",
      "                                                                                                  \n",
      " leaky_re_lu_2 (LeakyReLU)      (None, 100, 3, 32)   0           ['conv2d_2[0][0]']               \n",
      "                                                                                                  \n",
      " conv2d_3 (Conv2D)              (None, 100, 1, 16)   5136        ['leaky_re_lu_2[0][0]']          \n",
      "                                                                                                  \n",
      " leaky_re_lu_3 (LeakyReLU)      (None, 100, 1, 16)   0           ['conv2d_3[0][0]']               \n",
      "                                                                                                  \n",
      " conv2d_4 (Conv2D)              (None, 100, 1, 64)   1088        ['leaky_re_lu_3[0][0]']          \n",
      "                                                                                                  \n",
      " conv2d_6 (Conv2D)              (None, 100, 1, 64)   1088        ['leaky_re_lu_3[0][0]']          \n",
      "                                                                                                  \n",
      " leaky_re_lu_4 (LeakyReLU)      (None, 100, 1, 64)   0           ['conv2d_4[0][0]']               \n",
      "                                                                                                  \n",
      " leaky_re_lu_6 (LeakyReLU)      (None, 100, 1, 64)   0           ['conv2d_6[0][0]']               \n",
      "                                                                                                  \n",
      " max_pooling2d (MaxPooling2D)   (None, 100, 1, 16)   0           ['leaky_re_lu_3[0][0]']          \n",
      "                                                                                                  \n",
      " conv2d_5 (Conv2D)              (None, 100, 1, 64)   12352       ['leaky_re_lu_4[0][0]']          \n",
      "                                                                                                  \n",
      " conv2d_7 (Conv2D)              (None, 100, 1, 64)   20544       ['leaky_re_lu_6[0][0]']          \n",
      "                                                                                                  \n",
      " conv2d_8 (Conv2D)              (None, 100, 1, 64)   1088        ['max_pooling2d[0][0]']          \n",
      "                                                                                                  \n",
      " leaky_re_lu_5 (LeakyReLU)      (None, 100, 1, 64)   0           ['conv2d_5[0][0]']               \n",
      "                                                                                                  \n",
      " leaky_re_lu_7 (LeakyReLU)      (None, 100, 1, 64)   0           ['conv2d_7[0][0]']               \n",
      "                                                                                                  \n",
      " leaky_re_lu_8 (LeakyReLU)      (None, 100, 1, 64)   0           ['conv2d_8[0][0]']               \n",
      "                                                                                                  \n",
      " concatenate (Concatenate)      (None, 100, 1, 192)  0           ['leaky_re_lu_5[0][0]',          \n",
      "                                                                  'leaky_re_lu_7[0][0]',          \n",
      "                                                                  'leaky_re_lu_8[0][0]']          \n",
      "                                                                                                  \n",
      " reshape (Reshape)              (None, 100, 192)     0           ['concatenate[0][0]']            \n",
      "                                                                                                  \n",
      " dropout (Dropout)              (None, 100, 192)     0           ['reshape[0][0]']                \n",
      "                                                                                                  \n",
      " lstm (LSTM)                    (None, 64)           65792       ['dropout[0][0]']                \n",
      "                                                                                                  \n",
      " dense (Dense)                  (None, 3)            195         ['lstm[0][0]']                   \n",
      "                                                                                                  \n",
      "==================================================================================================\n",
      "Total params: 115,635\n",
      "Trainable params: 115,635\n",
      "Non-trainable params: 0\n",
      "__________________________________________________________________________________________________\n"
     ]
    },
    {
     "name": "stderr",
     "output_type": "stream",
     "text": [
      "c:\\Users\\macri\\anaconda3\\lib\\site-packages\\keras\\optimizers\\optimizer_v2\\adam.py:114: UserWarning: The `lr` argument is deprecated, use `learning_rate` instead.\n",
      "  super().__init__(name, **kwargs)\n"
     ]
    }
   ],
   "source": [
    "#def create_nn(T, NF,number_of_lstm):\n",
    "#\n",
    "#    input_lmd = tf.keras.Input(shape=(T, NF, 1))\n",
    "#\n",
    "#    conv_first1 = Conv2D(32, kernel_size=(1, 2), strides=(1, 2))(input_lmd)\n",
    "#    conv_first1 = keras.layers.LeakyReLU(alpha=0.01)(conv_first1)\n",
    "#    conv_first1 = Conv2D(32, (4, 1), padding='same')(conv_first1)\n",
    "#    conv_first1 = keras.layers.LeakyReLU(alpha=0.01)(conv_first1)\n",
    "#    conv_first1 = Conv2D(32, (4, 1), padding='same')(conv_first1)\n",
    "#    conv_first1 = keras.layers.LeakyReLU(alpha=0.01)(conv_first1)\n",
    "#    #\n",
    "#    layer_x = layers.Conv2D(filters=16, kernel_size=(10,1),strides=(1,10), padding='same')(conv_first1)\n",
    "#    layer_x = layers.LeakyReLU(alpha=0.01)(layer_x)\n",
    "#    # inception\n",
    "#    convsecond_1 = Conv2D(64, (1, 1), padding='same', strides=(1,1))(layer_x)\n",
    "#    convsecond_1 = keras.layers.LeakyReLU(alpha=0.01)(convsecond_1)\n",
    "#    convsecond_1 = Conv2D(64, (3, 1), padding='same', strides=(1,1))(convsecond_1)\n",
    "#    convsecond_1 = keras.layers.LeakyReLU(alpha=0.01)(convsecond_1)\n",
    "#\n",
    "#    convsecond_2 = Conv2D(64, (1, 1), padding='same', strides=(1,1))(layer_x)\n",
    "#    convsecond_2 = keras.layers.LeakyReLU(alpha=0.01)(convsecond_2)\n",
    "#    convsecond_2 = Conv2D(64, (5, 1), padding='same', strides=(1,1))(convsecond_2)\n",
    "#    convsecond_2 = keras.layers.LeakyReLU(alpha=0.01)(convsecond_2)\n",
    "#\n",
    "#    convsecond_3 = MaxPooling2D((3, 1), strides=(1, 1), padding='same')(layer_x)\n",
    "#    convsecond_3 = Conv2D(64, (1, 1), padding='same', strides=(1,1))(convsecond_3)\n",
    "#    convsecond_3 = keras.layers.LeakyReLU(alpha=0.01)(convsecond_3)\n",
    "#    \n",
    "#    convsecond_output = keras.layers.concatenate([convsecond_1, convsecond_2, convsecond_3], axis=3)\n",
    "#    conv_reshape = Reshape((int(convsecond_output.shape[1]), int(convsecond_output.shape[3])))(convsecond_output)\n",
    "#    conv_reshape = keras.layers.Dropout(0.7, noise_shape=(None, 1, int(conv_reshape.shape[2])))(conv_reshape, training=True)\n",
    "#\n",
    "#    # build the last LSTM layer\n",
    "#    conv_lstm = LSTM(number_of_lstm)(conv_reshape)\n",
    "#\n",
    "#    # build the output layer\n",
    "#    out = Dense(3, activation='softmax')(conv_lstm)\n",
    "#    model = Model(inputs=input_lmd, outputs=out)\n",
    "#    adam = keras.optimizers.Adam(lr=0.0001)\n",
    "#    model.compile(optimizer=adam, loss='categorical_crossentropy', metrics=['accuracy'])#\n",
    "#\n",
    "#    return model\n",
    "#\n",
    "#deeplob = create_nn(100, 6, 64)\n",
    "#deeplob.summary()"
   ]
  },
  {
   "cell_type": "code",
   "execution_count": null,
   "metadata": {},
   "outputs": [],
   "source": [
    "\n",
    "#early stopping: pazienza=3 e check val_loss\n",
    "#callback=tf.keras.callbacks.EarlyStopping(\n",
    "#    monitor='val_loss',\n",
    "#    min_delta=0,\n",
    "#    patience=3,\n",
    "#    verbose=1,\n",
    "#    mode='auto',\n",
    "#    baseline=None,\n",
    "#    restore_best_weights=False\n",
    "#)\n",
    "#"
   ]
  },
  {
   "cell_type": "code",
   "execution_count": null,
   "metadata": {},
   "outputs": [
    {
     "name": "stdout",
     "output_type": "stream",
     "text": [
      "Epoch 1/10\n",
      "20/20 [==============================] - 9s 383ms/step - loss: 1.0752 - accuracy: 0.8289 - val_loss: 1.0223 - val_accuracy: 0.9798\n",
      "Epoch 2/10\n",
      "20/20 [==============================] - 7s 373ms/step - loss: 0.9731 - accuracy: 0.9988 - val_loss: 0.8356 - val_accuracy: 1.0000\n",
      "Epoch 3/10\n",
      "20/20 [==============================] - 7s 366ms/step - loss: 0.6673 - accuracy: 0.9989 - val_loss: 0.3473 - val_accuracy: 1.0000\n",
      "Epoch 4/10\n",
      "20/20 [==============================] - 7s 373ms/step - loss: 0.1588 - accuracy: 0.9989 - val_loss: 0.0349 - val_accuracy: 1.0000\n",
      "Epoch 5/10\n",
      "20/20 [==============================] - 8s 380ms/step - loss: 0.0238 - accuracy: 0.9989 - val_loss: 0.0110 - val_accuracy: 1.0000\n",
      "Epoch 6/10\n",
      "20/20 [==============================] - 7s 375ms/step - loss: 0.0135 - accuracy: 0.9989 - val_loss: 0.0054 - val_accuracy: 1.0000\n",
      "Epoch 7/10\n",
      "20/20 [==============================] - 7s 374ms/step - loss: 0.0116 - accuracy: 0.9989 - val_loss: 0.0040 - val_accuracy: 1.0000\n",
      "Epoch 8/10\n",
      "20/20 [==============================] - 8s 377ms/step - loss: 0.0107 - accuracy: 0.9989 - val_loss: 0.0031 - val_accuracy: 1.0000\n",
      "Epoch 9/10\n",
      "20/20 [==============================] - 8s 383ms/step - loss: 0.0104 - accuracy: 0.9989 - val_loss: 0.0027 - val_accuracy: 1.0000\n",
      "Epoch 10/10\n",
      "20/20 [==============================] - 8s 387ms/step - loss: 0.0102 - accuracy: 0.9989 - val_loss: 0.0023 - val_accuracy: 1.0000\n"
     ]
    }
   ],
   "source": [
    "\n",
    "#simple=deeplob.fit(x_vecc_train, r_train, validation_data=(x_vecc_val, r_val), \n",
    "#            epochs=10, batch_size=500,  callbacks=[callback])"
   ]
  },
  {
   "cell_type": "code",
   "execution_count": null,
   "metadata": {},
   "outputs": [
    {
     "data": {
      "image/png": "[encoded data removed]",
      "text/plain": [
       "<Figure size 432x288 with 1 Axes>"
      ]
     },
     "metadata": {
      "needs_background": "light"
     },
     "output_type": "display_data"
    }
   ],
   "source": [
    "##plotta le loss\n",
    "#plt.plot(simple.history['loss'], label='train loss')\n",
    "#plt.plot(simple.history['val_loss'], label='val loss')\n",
    "#plt.legend()\n",
    "#plt.title('Losses');"
   ]
  },
  {
   "cell_type": "code",
   "execution_count": null,
   "metadata": {},
   "outputs": [
    {
     "name": "stdout",
     "output_type": "stream",
     "text": [
      "1/1 [==============================] - 0s 326ms/step\n"
     ]
    }
   ],
   "source": [
    "#deeplob.load_weights(checkpoint_filepath)\n",
    "#pred = deeplob.predict(x_vecc_test)"
   ]
  },
  {
   "cell_type": "code",
   "execution_count": null,
   "metadata": {},
   "outputs": [
    {
     "data": {
      "text/plain": [
       "array([[1.6083408e-04, 9.9878269e-01, 1.0564656e-03]], dtype=float32)"
      ]
     },
     "execution_count": 17,
     "metadata": {},
     "output_type": "execute_result"
    }
   ],
   "source": [
    "#pred"
   ]
  },
  {
   "cell_type": "code",
   "execution_count": null,
   "metadata": {},
   "outputs": [
    {
     "ename": "ValueError",
     "evalue": "Classification metrics can't handle a mix of unknown and binary targets",
     "output_type": "error",
     "traceback": [
      "\u001b[1;31m---------------------------------------------------------------------------\u001b[0m",
      "\u001b[1;31mValueError\u001b[0m                                Traceback (most recent call last)",
      "\u001b[1;32mc:\\Users\\macri\\Desktop\\PROJECT\\ModelloBidAsk.ipynb Cella 16\u001b[0m in \u001b[0;36m<cell line: 1>\u001b[1;34m()\u001b[0m\n\u001b[1;32m----> <a href='vscode-notebook-cell:/c%3A/Users/macri/Desktop/PROJECT/ModelloBidAsk.ipynb#X20sZmlsZQ%3D%3D?line=0'>1</a>\u001b[0m \u001b[39mprint\u001b[39m(\u001b[39m'\u001b[39m\u001b[39maccuracy_score:\u001b[39m\u001b[39m'\u001b[39m, accuracy_score(np\u001b[39m.\u001b[39;49margmax(x_vecc_test, axis\u001b[39m=\u001b[39;49m\u001b[39m1\u001b[39;49m), np\u001b[39m.\u001b[39;49margmax(pred, axis\u001b[39m=\u001b[39;49m\u001b[39m1\u001b[39;49m)))\n\u001b[0;32m      <a href='vscode-notebook-cell:/c%3A/Users/macri/Desktop/PROJECT/ModelloBidAsk.ipynb#X20sZmlsZQ%3D%3D?line=1'>2</a>\u001b[0m \u001b[39mprint\u001b[39m(classification_report(np\u001b[39m.\u001b[39margmax(x_vecc_test, axis\u001b[39m=\u001b[39m\u001b[39m1\u001b[39m), np\u001b[39m.\u001b[39margmax(pred, axis\u001b[39m=\u001b[39m\u001b[39m1\u001b[39m), digits\u001b[39m=\u001b[39m\u001b[39m4\u001b[39m))\n",
      "File \u001b[1;32mc:\\Users\\macri\\anaconda3\\lib\\site-packages\\sklearn\\metrics\\_classification.py:211\u001b[0m, in \u001b[0;36maccuracy_score\u001b[1;34m(y_true, y_pred, normalize, sample_weight)\u001b[0m\n\u001b[0;32m    145\u001b[0m \u001b[39m\"\"\"Accuracy classification score.\u001b[39;00m\n\u001b[0;32m    146\u001b[0m \n\u001b[0;32m    147\u001b[0m \u001b[39mIn multilabel classification, this function computes subset accuracy:\u001b[39;00m\n\u001b[1;32m   (...)\u001b[0m\n\u001b[0;32m    207\u001b[0m \u001b[39m0.5\u001b[39;00m\n\u001b[0;32m    208\u001b[0m \u001b[39m\"\"\"\u001b[39;00m\n\u001b[0;32m    210\u001b[0m \u001b[39m# Compute accuracy for each possible representation\u001b[39;00m\n\u001b[1;32m--> 211\u001b[0m y_type, y_true, y_pred \u001b[39m=\u001b[39m _check_targets(y_true, y_pred)\n\u001b[0;32m    212\u001b[0m check_consistent_length(y_true, y_pred, sample_weight)\n\u001b[0;32m    213\u001b[0m \u001b[39mif\u001b[39;00m y_type\u001b[39m.\u001b[39mstartswith(\u001b[39m\"\u001b[39m\u001b[39mmultilabel\u001b[39m\u001b[39m\"\u001b[39m):\n",
      "File \u001b[1;32mc:\\Users\\macri\\anaconda3\\lib\\site-packages\\sklearn\\metrics\\_classification.py:93\u001b[0m, in \u001b[0;36m_check_targets\u001b[1;34m(y_true, y_pred)\u001b[0m\n\u001b[0;32m     90\u001b[0m     y_type \u001b[39m=\u001b[39m {\u001b[39m\"\u001b[39m\u001b[39mmulticlass\u001b[39m\u001b[39m\"\u001b[39m}\n\u001b[0;32m     92\u001b[0m \u001b[39mif\u001b[39;00m \u001b[39mlen\u001b[39m(y_type) \u001b[39m>\u001b[39m \u001b[39m1\u001b[39m:\n\u001b[1;32m---> 93\u001b[0m     \u001b[39mraise\u001b[39;00m \u001b[39mValueError\u001b[39;00m(\n\u001b[0;32m     94\u001b[0m         \u001b[39m\"\u001b[39m\u001b[39mClassification metrics can\u001b[39m\u001b[39m'\u001b[39m\u001b[39mt handle a mix of \u001b[39m\u001b[39m{0}\u001b[39;00m\u001b[39m and \u001b[39m\u001b[39m{1}\u001b[39;00m\u001b[39m targets\u001b[39m\u001b[39m\"\u001b[39m\u001b[39m.\u001b[39mformat(\n\u001b[0;32m     95\u001b[0m             type_true, type_pred\n\u001b[0;32m     96\u001b[0m         )\n\u001b[0;32m     97\u001b[0m     )\n\u001b[0;32m     99\u001b[0m \u001b[39m# We can't have more than one value on y_type => The set is no more needed\u001b[39;00m\n\u001b[0;32m    100\u001b[0m y_type \u001b[39m=\u001b[39m y_type\u001b[39m.\u001b[39mpop()\n",
      "\u001b[1;31mValueError\u001b[0m: Classification metrics can't handle a mix of unknown and binary targets"
     ]
    }
   ],
   "source": [
    "#print('accuracy_score:', accuracy_score(np.argmax(x_vecc_test, axis=1), np.argmax(pred, axis=1)))\n",
    "#print(classification_report(np.argmax(x_vecc_test, axis=1), np.argmax(pred, axis=1), digits=4))"
   ]
  },
  {
   "cell_type": "code",
   "execution_count": null,
   "metadata": {},
   "outputs": [],
   "source": [
    "#y=np_utils.to_categorical(hot)"
   ]
  },
  {
   "cell_type": "code",
   "execution_count": null,
   "metadata": {},
   "outputs": [
    {
     "data": {
      "text/plain": [
       "array([2., 2., 2., ..., 1., 1., 1.])"
      ]
     },
     "execution_count": 13,
     "metadata": {},
     "output_type": "execute_result"
    }
   ],
   "source": [
    "hot += 1\n",
    "hot"
   ]
  },
  {
   "cell_type": "code",
   "execution_count": null,
   "metadata": {},
   "outputs": [],
   "source": [
    "#[lower,stable,higher]"
   ]
  },
  {
   "cell_type": "code",
   "execution_count": null,
   "metadata": {},
   "outputs": [
    {
     "data": {
      "text/plain": [
       "[<matplotlib.lines.Line2D at 0x20406008850>]"
      ]
     },
     "execution_count": 15,
     "metadata": {},
     "output_type": "execute_result"
    },
    {
     "data": {
      "image/png": "[encoded data removed]",
      "text/plain": [
       "<Figure size 432x288 with 1 Axes>"
      ]
     },
     "metadata": {
      "needs_background": "light"
     },
     "output_type": "display_data"
    }
   ],
   "source": [
    "plt.plot(hot)"
   ]
  },
  {
   "cell_type": "code",
   "execution_count": null,
   "metadata": {},
   "outputs": [
    {
     "data": {
      "text/plain": [
       "array([[0., 0., 1.],\n",
       "       [0., 0., 1.],\n",
       "       [0., 0., 1.],\n",
       "       ...,\n",
       "       [0., 1., 0.],\n",
       "       [0., 1., 0.],\n",
       "       [0., 1., 0.]], dtype=float32)"
      ]
     },
     "execution_count": 16,
     "metadata": {},
     "output_type": "execute_result"
    }
   ],
   "source": [
    "y=np_utils.to_categorical(hot)\n",
    "y"
   ]
  },
  {
   "cell_type": "code",
   "execution_count": null,
   "metadata": {},
   "outputs": [
    {
     "data": {
      "text/plain": [
       "[<matplotlib.lines.Line2D at 0x204045f5880>]"
      ]
     },
     "execution_count": 17,
     "metadata": {},
     "output_type": "execute_result"
    },
    {
     "data": {
      "image/png": "[encoded data removed]",
      "text/plain": [
       "<Figure size 432x288 with 1 Axes>"
      ]
     },
     "metadata": {
      "needs_background": "light"
     },
     "output_type": "display_data"
    }
   ],
   "source": [
    "plt.plot(y[-1])"
   ]
  },
  {
   "cell_type": "code",
   "execution_count": null,
   "metadata": {},
   "outputs": [
    {
     "data": {
      "text/plain": [
       "(0.00010357327809415749, 0.00043215211754544353)"
      ]
     },
     "execution_count": 18,
     "metadata": {},
     "output_type": "execute_result"
    }
   ],
   "source": [
    "np.quantile(ba, 0.01),np.quantile(ba, 0.99)"
   ]
  }
 ],
 "metadata": {
  "kernelspec": {
   "display_name": "Python 3.9.12 ('base')",
   "language": "python",
   "name": "python3"
  },
  "language_info": {
   "codemirror_mode": {
    "name": "ipython",
    "version": 3
   },
   "file_extension": ".py",
   "mimetype": "text/x-python",
   "name": "python",
   "nbconvert_exporter": "python",
   "pygments_lexer": "ipython3",
   "version": "3.9.12"
  },
  "orig_nbformat": 4,
  "vscode": {
   "interpreter": {
    "hash": "597e2b791014bf3f975e304e1e72922cb6b9245e0453d34e2c818a7120fc527f"
   }
  }
 },
 "nbformat": 4,
 "nbformat_minor": 2
}
